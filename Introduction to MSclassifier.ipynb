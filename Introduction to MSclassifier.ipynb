{
 "cells": [
  {
   "cell_type": "markdown",
   "metadata": {},
   "source": [
    "# MSclassifier: a flexible tool to create a classifier based on Mutational signatures\n",
    "\n",
    "Creating a *Neural Network* or any sort of *classifier* is a task that requires a certain expertise. However, in **MSclassifier we propose an easy to use and hands off approach to developping a classifier** based on the mutational profile of samples.\n",
    "\n",
    "In order to train MSclassifier, the **only required input** is the **path to a folder containing all vcf or maf files** of all samples we wish to classify, and **two list** containing the names of all known *positive* and *negative* samples accordingly.  \n",
    "\n",
    "If we only wish to predict samples based on a **pretrained model**, this package also allows for such functionality and does not require any lists of ground truth samples (although they can be added in order to check the performance of the model).\n",
    ". \n",
    "\n",
    "\n",
    "In this example, we use Semple's group High Grade Serous Ovarian Cancer cohort to create a classifier that predicts Homologous Recombination deficiency.\n",
    "Along the steps of this example we will explain further functionality of MSclassifier."
   ]
  },
  {
   "cell_type": "markdown",
   "metadata": {},
   "source": [
    "# Create a project\n",
    "\n",
    "In order to get started we need to load the module MSclassifier, and create a class object with essential information about our project."
   ]
  },
  {
   "cell_type": "code",
   "execution_count": 1,
   "metadata": {
    "scrolled": true
   },
   "outputs": [],
   "source": [
    "import MSclassifier\n",
    "\n",
    "path='/home/elatorre/Desktop/HGSOC datasets/HGSOC VCF filtered/'\n",
    "path_proficient = path+ 'Proficient.txt'\n",
    "path_deficient = path + 'Deficient.txt'\n",
    "\n",
    "HGSOC = MSclassifier.signature_classifier (vcf=path , \n",
    "                                          positive=path_deficient, \n",
    "                                          negative=path_proficient,\n",
    "                                          project_name='HGSOC_HR')"
   ]
  },
  {
   "cell_type": "markdown",
   "metadata": {},
   "source": [
    "We can now acces the information of our project as attributes of the HGSOC, the newly created MSclassifier class object:"
   ]
  },
  {
   "cell_type": "code",
   "execution_count": 2,
   "metadata": {},
   "outputs": [
    {
     "data": {
      "text/plain": [
       "\" Project HGSOC_HR will use the following features to train a model: ['SBS96', 'ID83', 'DBS78']\""
      ]
     },
     "execution_count": 2,
     "metadata": {},
     "output_type": "execute_result"
    }
   ],
   "source": [
    "f' Project {HGSOC.project_name} will use the following features to train a model: {HGSOC.feature_list}'"
   ]
  },
  {
   "cell_type": "markdown",
   "metadata": {},
   "source": [
    "## Load vcf files\n",
    "\n",
    "We can now load the vcf files by using the method **.load()**. This function calls SigProfilerMatrixGeneratorFunc to load .vcf files and prepare them for extraction."
   ]
  },
  {
   "cell_type": "code",
   "execution_count": 3,
   "metadata": {
    "scrolled": true
   },
   "outputs": [
    {
     "name": "stdout",
     "output_type": "stream",
     "text": [
      "The given input files do not appear to be in the correct vcf format. Skipping this file:  Proficient.txt\n",
      "The given input files do not appear to be in the correct vcf format. Skipping this file:  Deficient.txt\n",
      "Starting matrix generation for SNVs and DINUCs...Completed! Elapsed time: 90.8 seconds.\n",
      "Starting matrix generation for INDELs...Completed! Elapsed time: 42.83 seconds.\n",
      "Matrices generated for 188 samples with 0 errors. Total of 3303977 SNVs, 23360 DINUCs, and 313090 INDELs were successfully analyzed.\n"
     ]
    }
   ],
   "source": [
    "HGSOC.load_vcf()"
   ]
  },
  {
   "cell_type": "markdown",
   "metadata": {},
   "source": [
    ".load() also creates a dataset with all the information about the inputed vcf files and ground truth samples. This dataset is stored as a .data attribute."
   ]
  },
  {
   "cell_type": "code",
   "execution_count": 4,
   "metadata": {
    "scrolled": false
   },
   "outputs": [
    {
     "data": {
      "text/html": [
       "<div>\n",
       "<style scoped>\n",
       "    .dataframe tbody tr th:only-of-type {\n",
       "        vertical-align: middle;\n",
       "    }\n",
       "\n",
       "    .dataframe tbody tr th {\n",
       "        vertical-align: top;\n",
       "    }\n",
       "\n",
       "    .dataframe thead th {\n",
       "        text-align: right;\n",
       "    }\n",
       "</style>\n",
       "<table border=\"1\" class=\"dataframe\">\n",
       "  <thead>\n",
       "    <tr style=\"text-align: right;\">\n",
       "      <th></th>\n",
       "      <th>sample</th>\n",
       "      <th>class</th>\n",
       "      <th>Sample type</th>\n",
       "      <th>training</th>\n",
       "    </tr>\n",
       "  </thead>\n",
       "  <tbody>\n",
       "    <tr>\n",
       "      <th>0</th>\n",
       "      <td>AOCS_084</td>\n",
       "      <td>-1.0</td>\n",
       "      <td>Proficient</td>\n",
       "      <td>0.0</td>\n",
       "    </tr>\n",
       "    <tr>\n",
       "      <th>1</th>\n",
       "      <td>AOCS_159</td>\n",
       "      <td>-1.0</td>\n",
       "      <td>Proficient</td>\n",
       "      <td>0.0</td>\n",
       "    </tr>\n",
       "    <tr>\n",
       "      <th>2</th>\n",
       "      <td>DO29146</td>\n",
       "      <td>0.0</td>\n",
       "      <td>Unknown</td>\n",
       "      <td>0.0</td>\n",
       "    </tr>\n",
       "    <tr>\n",
       "      <th>3</th>\n",
       "      <td>SHGSOC050</td>\n",
       "      <td>-1.0</td>\n",
       "      <td>Proficient</td>\n",
       "      <td>0.0</td>\n",
       "    </tr>\n",
       "    <tr>\n",
       "      <th>4</th>\n",
       "      <td>SHGSOC022</td>\n",
       "      <td>1.0</td>\n",
       "      <td>Deficient</td>\n",
       "      <td>0.0</td>\n",
       "    </tr>\n",
       "    <tr>\n",
       "      <th>...</th>\n",
       "      <td>...</td>\n",
       "      <td>...</td>\n",
       "      <td>...</td>\n",
       "      <td>...</td>\n",
       "    </tr>\n",
       "    <tr>\n",
       "      <th>181</th>\n",
       "      <td>SHGSOC001</td>\n",
       "      <td>1.0</td>\n",
       "      <td>Deficient</td>\n",
       "      <td>0.0</td>\n",
       "    </tr>\n",
       "    <tr>\n",
       "      <th>182</th>\n",
       "      <td>DO30650</td>\n",
       "      <td>0.0</td>\n",
       "      <td>Unknown</td>\n",
       "      <td>0.0</td>\n",
       "    </tr>\n",
       "    <tr>\n",
       "      <th>183</th>\n",
       "      <td>AOCS_168</td>\n",
       "      <td>0.0</td>\n",
       "      <td>Unknown</td>\n",
       "      <td>0.0</td>\n",
       "    </tr>\n",
       "    <tr>\n",
       "      <th>184</th>\n",
       "      <td>DO28412</td>\n",
       "      <td>-1.0</td>\n",
       "      <td>Proficient</td>\n",
       "      <td>0.0</td>\n",
       "    </tr>\n",
       "    <tr>\n",
       "      <th>185</th>\n",
       "      <td>SHGSOC032</td>\n",
       "      <td>0.0</td>\n",
       "      <td>Unknown</td>\n",
       "      <td>0.0</td>\n",
       "    </tr>\n",
       "  </tbody>\n",
       "</table>\n",
       "<p>186 rows × 4 columns</p>\n",
       "</div>"
      ],
      "text/plain": [
       "        sample  class Sample type  training\n",
       "0     AOCS_084   -1.0  Proficient       0.0\n",
       "1     AOCS_159   -1.0  Proficient       0.0\n",
       "2      DO29146    0.0     Unknown       0.0\n",
       "3    SHGSOC050   -1.0  Proficient       0.0\n",
       "4    SHGSOC022    1.0   Deficient       0.0\n",
       "..         ...    ...         ...       ...\n",
       "181  SHGSOC001    1.0   Deficient       0.0\n",
       "182    DO30650    0.0     Unknown       0.0\n",
       "183   AOCS_168    0.0     Unknown       0.0\n",
       "184    DO28412   -1.0  Proficient       0.0\n",
       "185  SHGSOC032    0.0     Unknown       0.0\n",
       "\n",
       "[186 rows x 4 columns]"
      ]
     },
     "execution_count": 4,
     "metadata": {},
     "output_type": "execute_result"
    }
   ],
   "source": [
    "HGSOC.data"
   ]
  },
  {
   "cell_type": "markdown",
   "metadata": {},
   "source": [
    "# Training a model\n",
    "\n",
    "## Extracting *de novo* signatures\n",
    "If we wish to train a new model, the first step is to train a new set of mutational signatures for each feature in our feature_list. \n",
    "\n",
    "We use the method **.signature_train()** to first split our dataset into a training and test set, and extract *de novo* signatures on the training set setusing SigProfiler extractor. "
   ]
  },
  {
   "cell_type": "code",
   "execution_count": 5,
   "metadata": {},
   "outputs": [
    {
     "name": "stdout",
     "output_type": "stream",
     "text": [
      "\n",
      "************** Reported Current Memory Use: 0.25 GB *****************\n",
      "\n",
      "Normalization Cutoff is : 13195\n",
      "Extracting signature 1 for mutation type 96\n",
      "process 1 continues please wait... \n",
      "process 1 continues please wait... \n",
      "process 1 continues please wait... \n",
      "execution time: 0 seconds \n",
      "process 1 continues please wait... \n",
      "process 1 continues please wait... \n",
      "process 1 continues please wait... \n",
      "\n",
      "execution time: 0 seconds \n",
      "process 1 continues please wait... \n",
      "execution time: 0 seconds \n",
      "execution time: 0 seconds \n",
      "execution time: 0 seconds \n",
      "process 1 continues please wait... \n",
      "execution time: 0 seconds \n",
      "execution time: 0 seconds \n",
      "execution time: 0 seconds \n",
      "\n",
      "\n",
      "\n",
      "\n",
      "\n",
      "\n",
      "\n",
      "Time taken to collect 8 iterations for 1 signatures is 0.37 seconds\n",
      "Optimization time is 0.05347132682800293 seconds\n",
      "The reconstruction error is 0.3272, average process stability is 1.0 and \n",
      "the minimum process stability is 1.0 for 1 signatures\n",
      "\n",
      "\n",
      "Extracting signature 2 for mutation type 96\n",
      "process 2 continues please wait... \n",
      "execution time: 1 seconds \n",
      "\n",
      "process 2 continues please wait... \n",
      "execution time: 1 seconds \n",
      "\n",
      "process 2 continues please wait... \n",
      "execution time: 1 seconds \n",
      "\n",
      "process 2 continues please wait... \n",
      "execution time: 1 seconds \n",
      "\n",
      "process 2 continues please wait... \n",
      "execution time: 1 seconds \n",
      "\n",
      "process 2 continues please wait... \n",
      "execution time: 1 seconds \n",
      "\n",
      "process 2 continues please wait... \n",
      "execution time: 1 seconds \n",
      "\n",
      "process 2 continues please wait... \n",
      "execution time: 1 seconds \n",
      "\n",
      "Time taken to collect 8 iterations for 2 signatures is 1.47 seconds\n",
      "Optimization time is 0.05709052085876465 seconds\n",
      "The reconstruction error is 0.2605, average process stability is 0.99 and \n",
      "the minimum process stability is 0.99 for 2 signatures\n",
      "\n",
      "\n",
      "Extracting signature 3 for mutation type 96\n",
      "process 3 continues please wait... \n",
      "execution time: 1 seconds \n",
      "\n",
      "process 3 continues please wait... \n",
      "execution time: 2 seconds \n",
      "\n",
      "process 3 continues please wait... \n",
      "execution time: 2 seconds \n",
      "\n",
      "process 3 continues please wait... \n",
      "execution time: 2 seconds \n",
      "\n",
      "process 3 continues please wait... \n",
      "execution time: 2 seconds \n",
      "\n",
      "process 3 continues please wait... \n",
      "execution time: 2 seconds \n",
      "\n",
      "process 3 continues please wait... \n",
      "execution time: 2 seconds \n",
      "\n",
      "process 3 continues please wait... \n",
      "execution time: 3 seconds \n",
      "\n",
      "Time taken to collect 8 iterations for 3 signatures is 2.89 seconds\n",
      "Optimization time is 0.13892579078674316 seconds\n",
      "The reconstruction error is 0.2014, average process stability is 0.92 and \n",
      "the minimum process stability is 0.82 for 3 signatures\n",
      "\n",
      "\n",
      "Extracting signature 4 for mutation type 96\n",
      "process 4 continues please wait... \n",
      "execution time: 4 seconds \n",
      "\n",
      "process 4 continues please wait... \n",
      "execution time: 4 seconds \n",
      "\n",
      "process 4 continues please wait... \n",
      "execution time: 5 seconds \n",
      "\n",
      "process 4 continues please wait... \n",
      "execution time: 5 seconds \n",
      "\n",
      "process 4 continues please wait... \n",
      "execution time: 5 seconds \n",
      "\n",
      "process 4 continues please wait... \n",
      "execution time: 5 seconds \n",
      "\n",
      "process 4 continues please wait... \n",
      "execution time: 6 seconds \n",
      "\n",
      "process 4 continues please wait... \n",
      "execution time: 7 seconds \n",
      "\n",
      "Time taken to collect 8 iterations for 4 signatures is 7.31 seconds\n",
      "Optimization time is 0.07952260971069336 seconds\n",
      "The reconstruction error is 0.1688, average process stability is 0.67 and \n",
      "the minimum process stability is 0.02 for 4 signatures\n",
      "\n",
      "\n",
      "Extracting signature 5 for mutation type 96\n",
      "process 5 continues please wait... \n",
      "execution time: 5 seconds \n",
      "\n",
      "process 5 continues please wait... \n",
      "execution time: 5 seconds \n",
      "\n",
      "process 5 continues please wait... \n",
      "execution time: 5 seconds \n",
      "\n",
      "process 5 continues please wait... \n",
      "execution time: 5 seconds \n",
      "\n",
      "process 5 continues please wait... \n",
      "execution time: 5 seconds \n",
      "\n",
      "process 5 continues please wait... \n",
      "execution time: 6 seconds \n",
      "\n",
      "process 5 continues please wait... \n",
      "execution time: 7 seconds \n",
      "\n",
      "process 5 continues please wait... \n",
      "execution time: 8 seconds \n",
      "\n",
      "Time taken to collect 8 iterations for 5 signatures is 7.7 seconds\n",
      "Optimization time is 0.07840633392333984 seconds\n",
      "The reconstruction error is 0.168, average process stability is 0.56 and \n",
      "the minimum process stability is 0.09 for 5 signatures\n",
      "\n",
      "\n",
      "\n",
      "\n",
      " \n",
      "Your Job Is Successfully Completed! Thank You For Using SigProfiler Extractor.\n",
      " \n",
      "\n",
      "************** Reported Current Memory Use: 0.26 GB *****************\n",
      "\n",
      "Normalization Cutoff is : 9307\n",
      "Extracting signature 1 for mutation type 96\n",
      "process 1 continues please wait... \n",
      "process 1 continues please wait... \n",
      "execution time: 0 seconds \n",
      "process 1 continues please wait... \n",
      "process 1 continues please wait... \n",
      "process 1 continues please wait... \n",
      "\n",
      "execution time: 0 seconds \n",
      "execution time: 0 seconds \n",
      "\n",
      "\n",
      "execution time: 0 seconds \n",
      "process 1 continues please wait... \n",
      "execution time: 1 seconds \n",
      "\n",
      "execution time: 0 seconds \n",
      "\n",
      "process 1 continues please wait... \n",
      "\n",
      "execution time: 1 seconds \n",
      "\n",
      "process 1 continues please wait... \n",
      "execution time: 1 seconds \n",
      "\n",
      "Time taken to collect 8 iterations for 1 signatures is 0.69 seconds\n",
      "Optimization time is 0.12776589393615723 seconds\n",
      "The reconstruction error is 0.2338, average process stability is 1.0 and \n",
      "the minimum process stability is 1.0 for 1 signatures\n",
      "\n",
      "\n",
      "Extracting signature 2 for mutation type 96\n",
      "process 2 continues please wait... \n",
      "execution time: 1 seconds \n",
      "\n",
      "process 2 continues please wait... \n",
      "execution time: 1 seconds \n",
      "\n",
      "process 2 continues please wait... \n",
      "execution time: 2 seconds \n",
      "\n",
      "process 2 continues please wait... \n",
      "execution time: 2 seconds \n",
      "\n",
      "process 2 continues please wait... \n",
      "execution time: 2 seconds \n",
      "\n",
      "process 2 continues please wait... \n",
      "execution time: 2 seconds \n",
      "\n",
      "process 2 continues please wait... \n",
      "execution time: 2 seconds \n",
      "\n",
      "process 2 continues please wait... \n",
      "execution time: 2 seconds \n",
      "\n",
      "Time taken to collect 8 iterations for 2 signatures is 2.18 seconds\n",
      "Optimization time is 0.06256103515625 seconds\n",
      "The reconstruction error is 0.1649, average process stability is 0.99 and \n",
      "the minimum process stability is 0.99 for 2 signatures\n",
      "\n",
      "\n",
      "Extracting signature 3 for mutation type 96\n",
      "process 3 continues please wait... \n",
      "execution time: 2 seconds \n",
      "\n",
      "process 3 continues please wait... \n",
      "execution time: 3 seconds \n",
      "\n",
      "process 3 continues please wait... \n",
      "execution time: 3 seconds \n",
      "\n",
      "process 3 continues please wait... \n",
      "execution time: 4 seconds \n",
      "\n",
      "process 3 continues please wait... \n",
      "execution time: 4 seconds \n",
      "\n",
      "process 3 continues please wait... \n",
      "execution time: 4 seconds \n",
      "\n",
      "process 3 continues please wait... \n",
      "execution time: 4 seconds \n",
      "\n",
      "process 3 continues please wait... \n",
      "execution time: 5 seconds \n",
      "\n",
      "Time taken to collect 8 iterations for 3 signatures is 5.21 seconds\n",
      "Optimization time is 0.13505268096923828 seconds\n",
      "The reconstruction error is 0.14, average process stability is 0.94 and \n",
      "the minimum process stability is 0.89 for 3 signatures\n",
      "\n",
      "\n",
      "Extracting signature 4 for mutation type 96\n",
      "process 4 continues please wait... \n",
      "execution time: 2 seconds \n",
      "\n",
      "process 4 continues please wait... \n",
      "execution time: 3 seconds \n",
      "\n",
      "process 4 continues please wait... \n",
      "execution time: 4 seconds \n",
      "\n",
      "process 4 continues please wait... \n",
      "execution time: 5 seconds \n",
      "\n",
      "process 4 continues please wait... \n",
      "execution time: 5 seconds \n",
      "\n",
      "process 4 continues please wait... \n",
      "execution time: 5 seconds \n",
      "\n",
      "process 4 continues please wait... \n",
      "execution time: 5 seconds \n",
      "\n",
      "process 4 continues please wait... \n",
      "execution time: 6 seconds \n",
      "\n",
      "Time taken to collect 8 iterations for 4 signatures is 5.89 seconds\n",
      "Optimization time is 0.12651753425598145 seconds\n",
      "The reconstruction error is 0.1181, average process stability is 0.84 and \n",
      "the minimum process stability is 0.59 for 4 signatures\n",
      "\n",
      "\n",
      "Extracting signature 5 for mutation type 96\n",
      "process 5 continues please wait... \n",
      "execution time: 6 seconds \n",
      "\n",
      "process 5 continues please wait... \n",
      "execution time: 7 seconds \n",
      "\n",
      "process 5 continues please wait... \n",
      "execution time: 7 seconds \n",
      "\n",
      "process 5 continues please wait... \n",
      "execution time: 8 seconds \n",
      "\n",
      "process 5 continues please wait... \n",
      "execution time: 9 seconds \n",
      "\n",
      "process 5 continues please wait... \n",
      "execution time: 9 seconds \n",
      "\n",
      "process 5 continues please wait... \n",
      "execution time: 11 seconds \n",
      "\n",
      "process 5 continues please wait... \n",
      "execution time: 12 seconds \n",
      "\n",
      "Time taken to collect 8 iterations for 5 signatures is 11.91 seconds\n",
      "Optimization time is 0.06664371490478516 seconds\n",
      "The reconstruction error is 0.091, average process stability is 0.64 and \n",
      "the minimum process stability is 0.07 for 5 signatures\n",
      "\n",
      "\n"
     ]
    },
    {
     "name": "stdout",
     "output_type": "stream",
     "text": [
      "\n",
      "\n",
      " \n",
      "Your Job Is Successfully Completed! Thank You For Using SigProfiler Extractor.\n",
      " \n",
      "\n",
      "************** Reported Current Memory Use: 0.26 GB *****************\n",
      "\n",
      "Normalization Cutoff is : 1038\n",
      "Extracting signature 1 for mutation type INDEL\n",
      "process 1 continues please wait... \n",
      "execution time: 0 seconds \n",
      "\n",
      "process 1 continues please wait... \n",
      "process 1 continues please wait... \n",
      "execution time: 0 seconds \n",
      "execution time: 0 seconds \n",
      "\n",
      "process 1 continues please wait... \n",
      "\n",
      "process 1 continues please wait... \n",
      "execution time: 0 seconds \n",
      "\n",
      "execution time: 0 seconds \n",
      "process 1 continues please wait... \n",
      "\n",
      "execution time: 0 seconds \n",
      "\n",
      "process 1 continues please wait... \n",
      "execution time: 0 seconds \n",
      "\n",
      "process 1 continues please wait... \n",
      "execution time: 1 seconds \n",
      "\n",
      "Time taken to collect 8 iterations for 1 signatures is 0.74 seconds\n",
      "Optimization time is 0.13062238693237305 seconds\n",
      "The reconstruction error is 0.5311, average process stability is 1.0 and \n",
      "the minimum process stability is 1.0 for 1 signatures\n",
      "\n",
      "\n",
      "Extracting signature 2 for mutation type INDEL\n",
      "process 2 continues please wait... \n",
      "execution time: 1 seconds \n",
      "process 2 continues please wait... \n",
      "\n",
      "execution time: 1 seconds \n",
      "\n",
      "process 2 continues please wait... \n",
      "execution time: 1 seconds \n",
      "\n",
      "process 2 continues please wait... \n",
      "execution time: 1 seconds \n",
      "\n",
      "process 2 continues please wait... \n",
      "execution time: 1 seconds \n",
      "\n",
      "process 2 continues please wait... \n",
      "execution time: 1 seconds \n",
      "\n",
      "process 2 continues please wait... \n",
      "execution time: 1 seconds \n",
      "\n",
      "process 2 continues please wait... \n",
      "execution time: 1 seconds \n",
      "\n",
      "Time taken to collect 8 iterations for 2 signatures is 1.32 seconds\n",
      "Optimization time is 0.10309672355651855 seconds\n",
      "The reconstruction error is 0.3631, average process stability is 0.98 and \n",
      "the minimum process stability is 0.98 for 2 signatures\n",
      "\n",
      "\n",
      "Extracting signature 3 for mutation type INDEL\n",
      "process 3 continues please wait... \n",
      "execution time: 1 seconds \n",
      "\n",
      "process 3 continues please wait... \n",
      "execution time: 1 seconds \n",
      "process 3 continues please wait... \n",
      "execution time: 1 seconds \n",
      "\n",
      "\n",
      "process 3 continues please wait... \n",
      "execution time: 2 seconds \n",
      "\n",
      "process 3 continues please wait... \n",
      "execution time: 2 seconds \n",
      "\n",
      "process 3 continues please wait... \n",
      "execution time: 2 seconds \n",
      "\n",
      "process 3 continues please wait... \n",
      "execution time: 2 seconds \n",
      "\n",
      "process 3 continues please wait... \n",
      "execution time: 3 seconds \n",
      "\n",
      "Time taken to collect 8 iterations for 3 signatures is 2.71 seconds\n",
      "Optimization time is 0.07050132751464844 seconds\n",
      "The reconstruction error is 0.2464, average process stability is 0.62 and \n",
      "the minimum process stability is 0.44 for 3 signatures\n",
      "\n",
      "\n",
      "Extracting signature 4 for mutation type INDEL\n",
      "process 4 continues please wait... \n",
      "execution time: 2 seconds \n",
      "\n",
      "process 4 continues please wait... \n",
      "execution time: 2 seconds \n",
      "\n",
      "process 4 continues please wait... \n",
      "execution time: 3 seconds \n",
      "\n",
      "process 4 continues please wait... \n",
      "execution time: 3 seconds \n",
      "\n",
      "process 4 continues please wait... \n",
      "execution time: 3 seconds \n",
      "\n",
      "process 4 continues please wait... \n",
      "execution time: 3 seconds \n",
      "\n",
      "process 4 continues please wait... \n",
      "execution time: 3 seconds \n",
      "\n",
      "process 4 continues please wait... \n",
      "execution time: 3 seconds \n",
      "\n",
      "Time taken to collect 8 iterations for 4 signatures is 3.31 seconds\n",
      "Optimization time is 0.09959745407104492 seconds\n",
      "The reconstruction error is 0.1815, average process stability is 0.64 and \n",
      "the minimum process stability is 0.3 for 4 signatures\n",
      "\n",
      "\n",
      "Extracting signature 5 for mutation type INDEL\n",
      "process 5 continues please wait... \n",
      "execution time: 3 seconds \n",
      "\n",
      "process 5 continues please wait... \n",
      "execution time: 3 seconds \n",
      "\n",
      "process 5 continues please wait... \n",
      "execution time: 3 seconds \n",
      "\n",
      "process 5 continues please wait... \n",
      "execution time: 3 seconds \n",
      "\n",
      "process 5 continues please wait... \n",
      "execution time: 4 seconds \n",
      "\n",
      "process 5 continues please wait... \n",
      "execution time: 4 seconds \n",
      "\n",
      "process 5 continues please wait... \n",
      "execution time: 4 seconds \n",
      "\n",
      "process 5 continues please wait... \n",
      "execution time: 5 seconds \n",
      "\n",
      "Time taken to collect 8 iterations for 5 signatures is 4.74 seconds\n",
      "Optimization time is 0.07056117057800293 seconds\n",
      "The reconstruction error is 0.1219, average process stability is 0.85 and \n",
      "the minimum process stability is 0.79 for 5 signatures\n",
      "\n",
      "\n",
      "\n",
      "\n",
      " \n",
      "Your Job Is Successfully Completed! Thank You For Using SigProfiler Extractor.\n",
      " \n",
      "\n",
      "************** Reported Current Memory Use: 0.26 GB *****************\n",
      "\n",
      "Normalization Cutoff is : 869\n",
      "Extracting signature 1 for mutation type INDEL\n",
      "process 1 continues please wait... \n",
      "process 1 continues please wait... \n",
      "execution time: 0 seconds \n",
      "execution time: 0 seconds \n",
      "\n",
      "process 1 continues please wait... \n",
      "process 1 continues please wait... \n",
      "execution time: 0 seconds \n",
      "process 1 continues please wait... \n",
      "execution time: 0 seconds \n",
      "process 1 continues please wait... \n",
      "execution time: 0 seconds \n",
      "\n",
      "process 1 continues please wait... \n",
      "\n",
      "\n",
      "process 1 continues please wait... \n",
      "execution time: 0 seconds \n",
      "\n",
      "execution time: 0 seconds \n",
      "\n",
      "\n",
      "execution time: 0 seconds \n",
      "\n",
      "Time taken to collect 8 iterations for 1 signatures is 0.47 seconds\n",
      "Optimization time is 0.07663941383361816 seconds\n",
      "The reconstruction error is 0.3824, average process stability is 1.0 and \n",
      "the minimum process stability is 1.0 for 1 signatures\n",
      "\n",
      "\n",
      "Extracting signature 2 for mutation type INDEL\n",
      "process 2 continues please wait... \n",
      "execution time: 0 seconds \n",
      "\n",
      "process 2 continues please wait... \n",
      "execution time: 1 seconds \n",
      "process 2 continues please wait... \n",
      "execution time: 1 seconds \n",
      "\n",
      "\n",
      "process 2 continues please wait... \n",
      "execution time: 1 seconds \n",
      "\n",
      "process 2 continues please wait... \n",
      "execution time: 1 seconds \n",
      "\n",
      "process 2 continues please wait... \n",
      "execution time: 1 seconds \n",
      "\n",
      "process 2 continues please wait... \n",
      "execution time: 1 seconds \n",
      "\n",
      "process 2 continues please wait... \n",
      "execution time: 1 seconds \n",
      "\n",
      "Time taken to collect 8 iterations for 2 signatures is 0.93 seconds\n",
      "Optimization time is 0.06640434265136719 seconds\n",
      "The reconstruction error is 0.2015, average process stability is 1.0 and \n",
      "the minimum process stability is 1.0 for 2 signatures\n",
      "\n",
      "\n",
      "Extracting signature 3 for mutation type INDEL\n",
      "process 3 continues please wait... \n",
      "execution time: 1 seconds \n",
      "\n",
      "process 3 continues please wait... \n",
      "execution time: 1 seconds \n",
      "process 3 continues please wait... \n",
      "execution time: 1 seconds \n",
      "\n",
      "\n",
      "process 3 continues please wait... \n",
      "execution time: 2 seconds \n",
      "\n",
      "process 3 continues please wait... \n",
      "execution time: 2 seconds \n",
      "\n",
      "process 3 continues please wait... \n",
      "execution time: 2 seconds \n",
      "\n",
      "process 3 continues please wait... \n",
      "execution time: 2 seconds \n",
      "\n",
      "process 3 continues please wait... \n",
      "execution time: 2 seconds \n",
      "\n",
      "Time taken to collect 8 iterations for 3 signatures is 2.39 seconds\n",
      "Optimization time is 0.12702488899230957 seconds\n",
      "The reconstruction error is 0.1424, average process stability is 0.95 and \n",
      "the minimum process stability is 0.88 for 3 signatures\n",
      "\n",
      "\n",
      "Extracting signature 4 for mutation type INDEL\n",
      "process 4 continues please wait... \n",
      "execution time: 1 seconds \n",
      "\n",
      "process 4 continues please wait... \n",
      "execution time: 2 seconds \n",
      "\n",
      "process 4 continues please wait... \n",
      "execution time: 2 seconds \n",
      "\n",
      "process 4 continues please wait... \n",
      "execution time: 2 seconds \n",
      "\n",
      "process 4 continues please wait... \n",
      "execution time: 2 seconds \n",
      "\n",
      "process 4 continues please wait... \n",
      "execution time: 3 seconds \n",
      "\n",
      "process 4 continues please wait... \n",
      "execution time: 3 seconds \n",
      "\n",
      "process 4 continues please wait... \n",
      "execution time: 5 seconds \n",
      "\n",
      "Time taken to collect 8 iterations for 4 signatures is 4.8 seconds\n",
      "Optimization time is 0.08244085311889648 seconds\n",
      "The reconstruction error is 0.1096, average process stability is 0.89 and \n",
      "the minimum process stability is 0.68 for 4 signatures\n",
      "\n",
      "\n",
      "Extracting signature 5 for mutation type INDEL\n",
      "process 5 continues please wait... \n",
      "execution time: 3 seconds \n",
      "\n",
      "process 5 continues please wait... \n",
      "execution time: 3 seconds \n",
      "\n",
      "process 5 continues please wait... \n",
      "execution time: 4 seconds \n",
      "\n",
      "process 5 continues please wait... \n",
      "execution time: 5 seconds \n",
      "\n",
      "process 5 continues please wait... \n",
      "execution time: 5 seconds \n",
      "\n",
      "process 5 continues please wait... \n",
      "execution time: 6 seconds \n",
      "\n",
      "process 5 continues please wait... \n",
      "execution time: 6 seconds \n",
      "\n",
      "process 5 continues please wait... \n",
      "execution time: 6 seconds \n"
     ]
    },
    {
     "name": "stdout",
     "output_type": "stream",
     "text": [
      "\n",
      "Time taken to collect 8 iterations for 5 signatures is 6.53 seconds\n",
      "Optimization time is 0.07741355895996094 seconds\n",
      "The reconstruction error is 0.1015, average process stability is 0.64 and \n",
      "the minimum process stability is -0.3 for 5 signatures\n",
      "\n",
      "\n",
      "\n",
      "\n",
      " \n",
      "Your Job Is Successfully Completed! Thank You For Using SigProfiler Extractor.\n",
      " \n",
      "\n",
      "************** Reported Current Memory Use: 0.26 GB *****************\n",
      "\n",
      "Normalization Cutoff is : 93\n",
      "Extracting signature 1 for mutation type DINUC\n",
      "process 1 continues please wait... \n",
      "process 1 continues please wait... \n",
      "process 1 continues please wait... \n",
      "process 1 continues please wait... \n",
      "process 1 continues please wait... \n",
      "execution time: 0 seconds \n",
      "execution time: 0 seconds \n",
      "execution time: 0 seconds \n",
      "\n",
      "execution time: 0 seconds \n",
      "\n",
      "\n",
      "process 1 continues please wait... \n",
      "\n",
      "execution time: 0 seconds \n",
      "process 1 continues please wait... \n",
      "\n",
      "execution time: 0 seconds \n",
      "execution time: 0 seconds \n",
      "\n",
      "\n",
      "process 1 continues please wait... \n",
      "execution time: 0 seconds \n",
      "\n",
      "Time taken to collect 8 iterations for 1 signatures is 0.37 seconds\n",
      "Optimization time is 0.12205958366394043 seconds\n",
      "The reconstruction error is 0.6085, average process stability is 1.0 and \n",
      "the minimum process stability is 1.0 for 1 signatures\n",
      "\n",
      "\n",
      "Extracting signature 2 for mutation type DINUC\n",
      "process 2 continues please wait... \n",
      "execution time: 1 seconds \n",
      "\n",
      "process 2 continues please wait... \n",
      "execution time: 1 seconds \n",
      "\n",
      "process 2 continues please wait... \n",
      "execution time: 1 seconds \n",
      "\n",
      "process 2 continues please wait... \n",
      "process 2 continues please wait... \n",
      "execution time: 1 seconds \n",
      "\n",
      "execution time: 1 seconds \n",
      "\n",
      "process 2 continues please wait... \n",
      "execution time: 1 seconds \n",
      "\n",
      "process 2 continues please wait... \n",
      "execution time: 1 seconds \n",
      "\n",
      "process 2 continues please wait... \n",
      "execution time: 1 seconds \n",
      "\n",
      "Time taken to collect 8 iterations for 2 signatures is 0.99 seconds\n",
      "Optimization time is 0.07945752143859863 seconds\n",
      "The reconstruction error is 0.4669, average process stability is 0.7 and \n",
      "the minimum process stability is 0.65 for 2 signatures\n",
      "\n",
      "\n",
      "Extracting signature 3 for mutation type DINUC\n",
      "process 3 continues please wait... \n",
      "execution time: 0 seconds \n",
      "\n",
      "process 3 continues please wait... \n",
      "process 3 continues please wait... \n",
      "execution time: 0 seconds \n",
      "\n",
      "execution time: 0 seconds \n",
      "\n",
      "process 3 continues please wait... \n",
      "execution time: 1 seconds \n",
      "\n",
      "process 3 continues please wait... \n",
      "execution time: 1 seconds \n",
      "\n",
      "process 3 continues please wait... \n",
      "execution time: 1 seconds \n",
      "\n",
      "process 3 continues please wait... \n",
      "execution time: 1 seconds \n",
      "\n",
      "process 3 continues please wait... \n",
      "execution time: 1 seconds \n",
      "\n",
      "Time taken to collect 8 iterations for 3 signatures is 1.02 seconds\n",
      "Optimization time is 0.13776922225952148 seconds\n",
      "The reconstruction error is 0.4555, average process stability is 0.41 and \n",
      "the minimum process stability is 0.32 for 3 signatures\n",
      "\n",
      "\n",
      "Extracting signature 4 for mutation type DINUC\n",
      "process 4 continues please wait... \n",
      "execution time: 1 seconds \n",
      "\n",
      "process 4 continues please wait... \n",
      "execution time: 1 seconds \n",
      "\n",
      "process 4 continues please wait... \n",
      "execution time: 1 seconds \n",
      "\n",
      "process 4 continues please wait... \n",
      "process 4 continues please wait... \n",
      "execution time: 1 seconds \n",
      "execution time: 1 seconds \n",
      "\n",
      "\n",
      "process 4 continues please wait... \n",
      "execution time: 1 seconds \n",
      "\n",
      "process 4 continues please wait... \n",
      "execution time: 1 seconds \n",
      "\n",
      "process 4 continues please wait... \n",
      "execution time: 1 seconds \n",
      "\n",
      "Time taken to collect 8 iterations for 4 signatures is 0.98 seconds\n",
      "Optimization time is 0.14276671409606934 seconds\n",
      "The reconstruction error is 0.4539, average process stability is 0.34 and \n",
      "the minimum process stability is 0.0 for 4 signatures\n",
      "\n",
      "\n",
      "Extracting signature 5 for mutation type DINUC\n",
      "process 5 continues please wait... \n",
      "execution time: 1 seconds \n",
      "\n",
      "process 5 continues please wait... \n",
      "execution time: 1 seconds \n",
      "\n",
      "process 5 continues please wait... \n",
      "execution time: 1 seconds \n",
      "\n",
      "process 5 continues please wait... \n",
      "execution time: 1 seconds \n",
      "\n",
      "process 5 continues please wait... \n",
      "execution time: 1 seconds \n",
      "\n",
      "process 5 continues please wait... \n",
      "execution time: 1 seconds \n",
      "\n",
      "process 5 continues please wait... \n",
      "execution time: 1 seconds \n",
      "\n",
      "process 5 continues please wait... \n",
      "execution time: 1 seconds \n",
      "\n",
      "Time taken to collect 8 iterations for 5 signatures is 1.31 seconds\n",
      "Optimization time is 0.07601284980773926 seconds\n",
      "The reconstruction error is 0.4487, average process stability is 0.34 and \n",
      "the minimum process stability is -0.01 for 5 signatures\n",
      "\n",
      "\n",
      "\n",
      "\n",
      " \n",
      "Your Job Is Successfully Completed! Thank You For Using SigProfiler Extractor.\n",
      " \n",
      "\n",
      "************** Reported Current Memory Use: 0.26 GB *****************\n",
      "\n",
      "Normalization Cutoff is : 143\n",
      "Extracting signature 1 for mutation type DINUC\n",
      "process 1 continues please wait... \n",
      "execution time: 0 seconds \n",
      "process 1 continues please wait... \n",
      "process 1 continues please wait... \n",
      "execution time: 0 seconds \n",
      "process 1 continues please wait... \n",
      "process 1 continues please wait... \n",
      "\n",
      "execution time: 0 seconds \n",
      "process 1 continues please wait... \n",
      "execution time: 0 seconds \n",
      "process 1 continues please wait... \n",
      "\n",
      "\n",
      "\n",
      "process 1 continues please wait... \n",
      "execution time: 0 seconds \n",
      "execution time: 0 seconds \n",
      "\n",
      "execution time: 0 seconds \n",
      "\n",
      "execution time: 0 seconds \n",
      "\n",
      "\n",
      "Time taken to collect 8 iterations for 1 signatures is 0.49 seconds\n",
      "Optimization time is 0.06141328811645508 seconds\n",
      "The reconstruction error is 0.4384, average process stability is 1.0 and \n",
      "the minimum process stability is 1.0 for 1 signatures\n",
      "\n",
      "\n",
      "Extracting signature 2 for mutation type DINUC\n",
      "process 2 continues please wait... \n",
      "execution time: 1 seconds \n",
      "\n",
      "process 2 continues please wait... \n",
      "execution time: 1 seconds \n",
      "process 2 continues please wait... \n",
      "\n",
      "execution time: 1 seconds \n",
      "\n",
      "process 2 continues please wait... \n",
      "execution time: 1 seconds \n",
      "process 2 continues please wait... \n",
      "\n",
      "execution time: 1 seconds \n",
      "\n",
      "process 2 continues please wait... \n",
      "execution time: 1 seconds \n",
      "\n",
      "process 2 continues please wait... \n",
      "execution time: 1 seconds \n",
      "\n",
      "process 2 continues please wait... \n",
      "execution time: 1 seconds \n",
      "\n",
      "Time taken to collect 8 iterations for 2 signatures is 1.43 seconds\n",
      "Optimization time is 0.12940454483032227 seconds\n",
      "The reconstruction error is 0.3882, average process stability is 0.55 and \n",
      "the minimum process stability is 0.41 for 2 signatures\n",
      "\n",
      "\n",
      "Extracting signature 3 for mutation type DINUC\n",
      "process 3 continues please wait... \n",
      "process 3 continues please wait... \n",
      "execution time: 1 seconds \n",
      "execution time: 1 seconds \n",
      "process 3 continues please wait... \n",
      "\n",
      "\n",
      "execution time: 1 seconds \n",
      "process 3 continues please wait... \n",
      "execution time: 1 seconds \n",
      "\n",
      "\n",
      "process 3 continues please wait... \n",
      "execution time: 1 seconds \n",
      "\n",
      "process 3 continues please wait... \n",
      "execution time: 1 seconds \n",
      "\n",
      "process 3 continues please wait... \n",
      "execution time: 1 seconds \n",
      "\n",
      "process 3 continues please wait... \n",
      "execution time: 1 seconds \n",
      "\n",
      "Time taken to collect 8 iterations for 3 signatures is 1.53 seconds\n",
      "Optimization time is 0.08037710189819336 seconds\n",
      "The reconstruction error is 0.366, average process stability is 0.41 and \n",
      "the minimum process stability is 0.14 for 3 signatures\n",
      "\n",
      "\n",
      "Extracting signature 4 for mutation type DINUC\n",
      "process 4 continues please wait... \n",
      "execution time: 1 seconds \n",
      "\n",
      "process 4 continues please wait... \n",
      "execution time: 1 seconds \n",
      "\n",
      "process 4 continues please wait... \n",
      "execution time: 1 seconds \n",
      "\n",
      "process 4 continues please wait... \n",
      "execution time: 1 seconds \n",
      "\n",
      "process 4 continues please wait... \n",
      "execution time: 1 seconds \n",
      "\n",
      "process 4 continues please wait... \n",
      "execution time: 2 seconds \n",
      "\n",
      "process 4 continues please wait... \n",
      "execution time: 2 seconds \n",
      "\n",
      "process 4 continues please wait... \n",
      "execution time: 2 seconds \n",
      "\n",
      "Time taken to collect 8 iterations for 4 signatures is 2.04 seconds\n",
      "Optimization time is 0.07075738906860352 seconds\n",
      "The reconstruction error is 0.356, average process stability is 0.22 and \n",
      "the minimum process stability is -0.21 for 4 signatures\n",
      "\n",
      "\n",
      "Extracting signature 5 for mutation type DINUC\n",
      "process 5 continues please wait... \n",
      "execution time: 1 seconds \n",
      "\n",
      "process 5 continues please wait... \n",
      "execution time: 1 seconds \n",
      "\n",
      "process 5 continues please wait... \n",
      "execution time: 1 seconds \n",
      "\n",
      "process 5 continues please wait... \n",
      "execution time: 1 seconds \n",
      "\n",
      "process 5 continues please wait... \n"
     ]
    },
    {
     "name": "stdout",
     "output_type": "stream",
     "text": [
      "execution time: 1 seconds \n",
      "\n",
      "process 5 continues please wait... \n",
      "execution time: 1 seconds \n",
      "\n",
      "process 5 continues please wait... \n",
      "execution time: 1 seconds \n",
      "\n",
      "process 5 continues please wait... \n",
      "execution time: 2 seconds \n",
      "\n",
      "Time taken to collect 8 iterations for 5 signatures is 2.49 seconds\n",
      "Optimization time is 0.07621574401855469 seconds\n",
      "The reconstruction error is 0.3327, average process stability is 0.24 and \n",
      "the minimum process stability is -0.06 for 5 signatures\n",
      "\n",
      "\n",
      "\n",
      "\n",
      " \n",
      "Your Job Is Successfully Completed! Thank You For Using SigProfiler Extractor.\n",
      " \n"
     ]
    }
   ],
   "source": [
    "# Since the aim is not to reconstruct all samples with high accuracy, \n",
    "# we choose a low integer, end = 5, as the limit of de novo extracted mutational signatures.\n",
    "HGSOC.signature_train(end=5)"
   ]
  },
  {
   "cell_type": "markdown",
   "metadata": {},
   "source": [
    "As mentioned, this is the first step into training our model. Therefore, we can now access the features and mutational signatures profiles used in this model as attributes of the model."
   ]
  },
  {
   "cell_type": "code",
   "execution_count": 3,
   "metadata": {},
   "outputs": [
    {
     "name": "stdout",
     "output_type": "stream",
     "text": [
      "['SBS96_pro_1', 'SBS96_pro_2', 'SBS96_pro_3', 'SBS96_pro_4', 'SBS96_pro_5', 'SBS96_pro_6', 'SBS96_def_1', 'SBS96_def_2', 'SBS96_def_3', 'SBS96_def_4', 'ID83_pro_1', 'ID83_pro_2', 'ID83_pro_3', 'ID83_pro_4', 'ID83_pro_5', 'ID83_def_1', 'ID83_def_2', 'ID83_def_3', 'ID83_def_4', 'DBS78_pro_1', 'DBS78_pro_2', 'DBS78_def_1']\n"
     ]
    },
    {
     "data": {
      "text/html": [
       "<div>\n",
       "<style scoped>\n",
       "    .dataframe tbody tr th:only-of-type {\n",
       "        vertical-align: middle;\n",
       "    }\n",
       "\n",
       "    .dataframe tbody tr th {\n",
       "        vertical-align: top;\n",
       "    }\n",
       "\n",
       "    .dataframe thead th {\n",
       "        text-align: right;\n",
       "    }\n",
       "</style>\n",
       "<table border=\"1\" class=\"dataframe\">\n",
       "  <thead>\n",
       "    <tr style=\"text-align: right;\">\n",
       "      <th></th>\n",
       "      <th>MutationsType</th>\n",
       "      <th>SBS96_pro_1</th>\n",
       "      <th>SBS96_pro_2</th>\n",
       "      <th>SBS96_pro_3</th>\n",
       "      <th>SBS96_pro_4</th>\n",
       "      <th>SBS96_pro_5</th>\n",
       "      <th>SBS96_pro_6</th>\n",
       "      <th>SBS96_def_1</th>\n",
       "      <th>SBS96_def_2</th>\n",
       "      <th>SBS96_def_3</th>\n",
       "      <th>SBS96_def_4</th>\n",
       "    </tr>\n",
       "  </thead>\n",
       "  <tbody>\n",
       "    <tr>\n",
       "      <th>0</th>\n",
       "      <td>A[C&gt;A]A</td>\n",
       "      <td>0.012891</td>\n",
       "      <td>0.014074</td>\n",
       "      <td>0.035418</td>\n",
       "      <td>0.016570</td>\n",
       "      <td>0.020621</td>\n",
       "      <td>0.022471</td>\n",
       "      <td>0.026262</td>\n",
       "      <td>0.018367</td>\n",
       "      <td>0.009627</td>\n",
       "      <td>0.012937</td>\n",
       "    </tr>\n",
       "    <tr>\n",
       "      <th>1</th>\n",
       "      <td>A[C&gt;A]C</td>\n",
       "      <td>0.008083</td>\n",
       "      <td>0.012209</td>\n",
       "      <td>0.028185</td>\n",
       "      <td>0.013828</td>\n",
       "      <td>0.008931</td>\n",
       "      <td>0.015942</td>\n",
       "      <td>0.023796</td>\n",
       "      <td>0.008670</td>\n",
       "      <td>0.008024</td>\n",
       "      <td>0.007279</td>\n",
       "    </tr>\n",
       "    <tr>\n",
       "      <th>2</th>\n",
       "      <td>A[C&gt;A]G</td>\n",
       "      <td>0.000371</td>\n",
       "      <td>0.005163</td>\n",
       "      <td>0.005273</td>\n",
       "      <td>0.003408</td>\n",
       "      <td>0.004835</td>\n",
       "      <td>0.002125</td>\n",
       "      <td>0.003194</td>\n",
       "      <td>0.003277</td>\n",
       "      <td>0.003329</td>\n",
       "      <td>0.001538</td>\n",
       "    </tr>\n",
       "    <tr>\n",
       "      <th>3</th>\n",
       "      <td>A[C&gt;A]T</td>\n",
       "      <td>0.005357</td>\n",
       "      <td>0.008736</td>\n",
       "      <td>0.030913</td>\n",
       "      <td>0.009730</td>\n",
       "      <td>0.018642</td>\n",
       "      <td>0.013256</td>\n",
       "      <td>0.021790</td>\n",
       "      <td>0.003675</td>\n",
       "      <td>0.015397</td>\n",
       "      <td>0.009522</td>\n",
       "    </tr>\n",
       "    <tr>\n",
       "      <th>4</th>\n",
       "      <td>A[C&gt;G]A</td>\n",
       "      <td>0.015892</td>\n",
       "      <td>0.004059</td>\n",
       "      <td>0.013470</td>\n",
       "      <td>0.011232</td>\n",
       "      <td>0.017217</td>\n",
       "      <td>0.003567</td>\n",
       "      <td>0.011814</td>\n",
       "      <td>0.017011</td>\n",
       "      <td>0.021471</td>\n",
       "      <td>0.009817</td>\n",
       "    </tr>\n",
       "    <tr>\n",
       "      <th>...</th>\n",
       "      <td>...</td>\n",
       "      <td>...</td>\n",
       "      <td>...</td>\n",
       "      <td>...</td>\n",
       "      <td>...</td>\n",
       "      <td>...</td>\n",
       "      <td>...</td>\n",
       "      <td>...</td>\n",
       "      <td>...</td>\n",
       "      <td>...</td>\n",
       "      <td>...</td>\n",
       "    </tr>\n",
       "    <tr>\n",
       "      <th>91</th>\n",
       "      <td>T[T&gt;C]T</td>\n",
       "      <td>0.021713</td>\n",
       "      <td>0.013618</td>\n",
       "      <td>0.008536</td>\n",
       "      <td>0.004923</td>\n",
       "      <td>0.009385</td>\n",
       "      <td>0.008414</td>\n",
       "      <td>0.011110</td>\n",
       "      <td>0.011944</td>\n",
       "      <td>0.014943</td>\n",
       "      <td>0.007514</td>\n",
       "    </tr>\n",
       "    <tr>\n",
       "      <th>92</th>\n",
       "      <td>T[T&gt;G]A</td>\n",
       "      <td>0.008381</td>\n",
       "      <td>0.002205</td>\n",
       "      <td>0.003892</td>\n",
       "      <td>0.008598</td>\n",
       "      <td>0.005978</td>\n",
       "      <td>0.001955</td>\n",
       "      <td>0.004072</td>\n",
       "      <td>0.007553</td>\n",
       "      <td>0.007493</td>\n",
       "      <td>0.003619</td>\n",
       "    </tr>\n",
       "    <tr>\n",
       "      <th>93</th>\n",
       "      <td>T[T&gt;G]C</td>\n",
       "      <td>0.007077</td>\n",
       "      <td>0.003274</td>\n",
       "      <td>0.003143</td>\n",
       "      <td>0.003449</td>\n",
       "      <td>0.001473</td>\n",
       "      <td>0.002151</td>\n",
       "      <td>0.003867</td>\n",
       "      <td>0.006168</td>\n",
       "      <td>0.005559</td>\n",
       "      <td>0.000719</td>\n",
       "    </tr>\n",
       "    <tr>\n",
       "      <th>94</th>\n",
       "      <td>T[T&gt;G]G</td>\n",
       "      <td>0.009633</td>\n",
       "      <td>0.003177</td>\n",
       "      <td>0.008037</td>\n",
       "      <td>0.004275</td>\n",
       "      <td>0.003322</td>\n",
       "      <td>0.004083</td>\n",
       "      <td>0.006366</td>\n",
       "      <td>0.008478</td>\n",
       "      <td>0.009383</td>\n",
       "      <td>0.002966</td>\n",
       "    </tr>\n",
       "    <tr>\n",
       "      <th>95</th>\n",
       "      <td>T[T&gt;G]T</td>\n",
       "      <td>0.019430</td>\n",
       "      <td>0.003329</td>\n",
       "      <td>0.006228</td>\n",
       "      <td>0.013102</td>\n",
       "      <td>0.009762</td>\n",
       "      <td>0.006878</td>\n",
       "      <td>0.006710</td>\n",
       "      <td>0.014186</td>\n",
       "      <td>0.015120</td>\n",
       "      <td>0.007615</td>\n",
       "    </tr>\n",
       "  </tbody>\n",
       "</table>\n",
       "<p>96 rows × 11 columns</p>\n",
       "</div>"
      ],
      "text/plain": [
       "   MutationsType  SBS96_pro_1  SBS96_pro_2  SBS96_pro_3  SBS96_pro_4  \\\n",
       "0        A[C>A]A     0.012891     0.014074     0.035418     0.016570   \n",
       "1        A[C>A]C     0.008083     0.012209     0.028185     0.013828   \n",
       "2        A[C>A]G     0.000371     0.005163     0.005273     0.003408   \n",
       "3        A[C>A]T     0.005357     0.008736     0.030913     0.009730   \n",
       "4        A[C>G]A     0.015892     0.004059     0.013470     0.011232   \n",
       "..           ...          ...          ...          ...          ...   \n",
       "91       T[T>C]T     0.021713     0.013618     0.008536     0.004923   \n",
       "92       T[T>G]A     0.008381     0.002205     0.003892     0.008598   \n",
       "93       T[T>G]C     0.007077     0.003274     0.003143     0.003449   \n",
       "94       T[T>G]G     0.009633     0.003177     0.008037     0.004275   \n",
       "95       T[T>G]T     0.019430     0.003329     0.006228     0.013102   \n",
       "\n",
       "    SBS96_pro_5  SBS96_pro_6  SBS96_def_1  SBS96_def_2  SBS96_def_3  \\\n",
       "0      0.020621     0.022471     0.026262     0.018367     0.009627   \n",
       "1      0.008931     0.015942     0.023796     0.008670     0.008024   \n",
       "2      0.004835     0.002125     0.003194     0.003277     0.003329   \n",
       "3      0.018642     0.013256     0.021790     0.003675     0.015397   \n",
       "4      0.017217     0.003567     0.011814     0.017011     0.021471   \n",
       "..          ...          ...          ...          ...          ...   \n",
       "91     0.009385     0.008414     0.011110     0.011944     0.014943   \n",
       "92     0.005978     0.001955     0.004072     0.007553     0.007493   \n",
       "93     0.001473     0.002151     0.003867     0.006168     0.005559   \n",
       "94     0.003322     0.004083     0.006366     0.008478     0.009383   \n",
       "95     0.009762     0.006878     0.006710     0.014186     0.015120   \n",
       "\n",
       "    SBS96_def_4  \n",
       "0      0.012937  \n",
       "1      0.007279  \n",
       "2      0.001538  \n",
       "3      0.009522  \n",
       "4      0.009817  \n",
       "..          ...  \n",
       "91     0.007514  \n",
       "92     0.003619  \n",
       "93     0.000719  \n",
       "94     0.002966  \n",
       "95     0.007615  \n",
       "\n",
       "[96 rows x 11 columns]"
      ]
     },
     "execution_count": 3,
     "metadata": {},
     "output_type": "execute_result"
    }
   ],
   "source": [
    "print(HGSOC.model.features)\n",
    "\n",
    "# each element of .model.signatures contains the signatures associated with each feature in feature_list\n",
    "HGSOC.model.signatures[0] "
   ]
  },
  {
   "cell_type": "markdown",
   "metadata": {},
   "source": [
    "## Fitting the extracted signatures on all samples\n",
    "\n",
    "These newly extracted signatures have been trained only in the training set. Therefore, he next step is to fit these signatures on all samples in the dataset. \n",
    "Again, we do so through the **.signature_fit()** method."
   ]
  },
  {
   "cell_type": "code",
   "execution_count": 6,
   "metadata": {},
   "outputs": [],
   "source": [
    "HGSOC.signature_fit()"
   ]
  },
  {
   "cell_type": "markdown",
   "metadata": {},
   "source": [
    "We can now check that our dataset has been updated."
   ]
  },
  {
   "cell_type": "code",
   "execution_count": 7,
   "metadata": {
    "scrolled": false
   },
   "outputs": [
    {
     "data": {
      "text/html": [
       "<div>\n",
       "<style scoped>\n",
       "    .dataframe tbody tr th:only-of-type {\n",
       "        vertical-align: middle;\n",
       "    }\n",
       "\n",
       "    .dataframe tbody tr th {\n",
       "        vertical-align: top;\n",
       "    }\n",
       "\n",
       "    .dataframe thead th {\n",
       "        text-align: right;\n",
       "    }\n",
       "</style>\n",
       "<table border=\"1\" class=\"dataframe\">\n",
       "  <thead>\n",
       "    <tr style=\"text-align: right;\">\n",
       "      <th></th>\n",
       "      <th>sample</th>\n",
       "      <th>class</th>\n",
       "      <th>Sample type</th>\n",
       "      <th>training</th>\n",
       "      <th>prediction</th>\n",
       "      <th>SVM prediction</th>\n",
       "      <th>SBS96_pro_1</th>\n",
       "      <th>SBS96_pro_2</th>\n",
       "      <th>SBS96_pro_3</th>\n",
       "      <th>SBS96_pro_4</th>\n",
       "      <th>...</th>\n",
       "      <th>ID83_pro_3</th>\n",
       "      <th>ID83_pro_4</th>\n",
       "      <th>ID83_pro_5</th>\n",
       "      <th>ID83_def_1</th>\n",
       "      <th>ID83_def_2</th>\n",
       "      <th>ID83_def_3</th>\n",
       "      <th>ID83_def_4</th>\n",
       "      <th>DBS78_pro_1</th>\n",
       "      <th>DBS78_pro_2</th>\n",
       "      <th>DBS78_def_1</th>\n",
       "    </tr>\n",
       "  </thead>\n",
       "  <tbody>\n",
       "    <tr>\n",
       "      <th>0</th>\n",
       "      <td>AOCS_084</td>\n",
       "      <td>-1.0</td>\n",
       "      <td>Proficient</td>\n",
       "      <td>0</td>\n",
       "      <td>-0.690888</td>\n",
       "      <td>Proficient</td>\n",
       "      <td>1.697787</td>\n",
       "      <td>1.150595</td>\n",
       "      <td>1.192019</td>\n",
       "      <td>-0.354043</td>\n",
       "      <td>...</td>\n",
       "      <td>-0.658393</td>\n",
       "      <td>-0.600821</td>\n",
       "      <td>-0.179078</td>\n",
       "      <td>-0.658393</td>\n",
       "      <td>-0.648761</td>\n",
       "      <td>-0.399734</td>\n",
       "      <td>1.225963</td>\n",
       "      <td>-0.774997</td>\n",
       "      <td>-0.636970</td>\n",
       "      <td>1.411967</td>\n",
       "    </tr>\n",
       "    <tr>\n",
       "      <th>1</th>\n",
       "      <td>AOCS_159</td>\n",
       "      <td>-1.0</td>\n",
       "      <td>Proficient</td>\n",
       "      <td>0</td>\n",
       "      <td>-1.245736</td>\n",
       "      <td>Proficient</td>\n",
       "      <td>1.127304</td>\n",
       "      <td>2.023549</td>\n",
       "      <td>0.599706</td>\n",
       "      <td>0.139680</td>\n",
       "      <td>...</td>\n",
       "      <td>-0.993338</td>\n",
       "      <td>-0.709343</td>\n",
       "      <td>0.570821</td>\n",
       "      <td>-0.934397</td>\n",
       "      <td>0.089365</td>\n",
       "      <td>-0.603553</td>\n",
       "      <td>-0.631501</td>\n",
       "      <td>-1.226645</td>\n",
       "      <td>1.222836</td>\n",
       "      <td>0.003809</td>\n",
       "    </tr>\n",
       "    <tr>\n",
       "      <th>2</th>\n",
       "      <td>DO29146</td>\n",
       "      <td>0.0</td>\n",
       "      <td>Unknown</td>\n",
       "      <td>0</td>\n",
       "      <td>-1.179443</td>\n",
       "      <td>Proficient</td>\n",
       "      <td>-0.445669</td>\n",
       "      <td>2.187945</td>\n",
       "      <td>1.232186</td>\n",
       "      <td>0.061045</td>\n",
       "      <td>...</td>\n",
       "      <td>0.069129</td>\n",
       "      <td>1.653104</td>\n",
       "      <td>-0.184718</td>\n",
       "      <td>-0.691333</td>\n",
       "      <td>-0.698727</td>\n",
       "      <td>-0.698727</td>\n",
       "      <td>-0.698727</td>\n",
       "      <td>-1.379841</td>\n",
       "      <td>0.421538</td>\n",
       "      <td>0.958303</td>\n",
       "    </tr>\n",
       "    <tr>\n",
       "      <th>3</th>\n",
       "      <td>SHGSOC050</td>\n",
       "      <td>-1.0</td>\n",
       "      <td>Proficient</td>\n",
       "      <td>1</td>\n",
       "      <td>-1.013028</td>\n",
       "      <td>Proficient</td>\n",
       "      <td>0.034584</td>\n",
       "      <td>1.149668</td>\n",
       "      <td>2.199172</td>\n",
       "      <td>-0.872373</td>\n",
       "      <td>...</td>\n",
       "      <td>0.524405</td>\n",
       "      <td>-0.745904</td>\n",
       "      <td>-0.584137</td>\n",
       "      <td>-0.758913</td>\n",
       "      <td>-0.758913</td>\n",
       "      <td>-0.758913</td>\n",
       "      <td>-0.225584</td>\n",
       "      <td>1.307106</td>\n",
       "      <td>-0.185999</td>\n",
       "      <td>-1.121106</td>\n",
       "    </tr>\n",
       "    <tr>\n",
       "      <th>4</th>\n",
       "      <td>SHGSOC022</td>\n",
       "      <td>1.0</td>\n",
       "      <td>Deficient</td>\n",
       "      <td>0</td>\n",
       "      <td>1.085344</td>\n",
       "      <td>Deficient</td>\n",
       "      <td>-0.685520</td>\n",
       "      <td>-0.685520</td>\n",
       "      <td>-0.015071</td>\n",
       "      <td>-0.685520</td>\n",
       "      <td>...</td>\n",
       "      <td>0.489635</td>\n",
       "      <td>-0.484880</td>\n",
       "      <td>-0.683908</td>\n",
       "      <td>2.129365</td>\n",
       "      <td>1.285420</td>\n",
       "      <td>-0.683908</td>\n",
       "      <td>-0.683908</td>\n",
       "      <td>-0.707107</td>\n",
       "      <td>-0.707107</td>\n",
       "      <td>1.414214</td>\n",
       "    </tr>\n",
       "    <tr>\n",
       "      <th>...</th>\n",
       "      <td>...</td>\n",
       "      <td>...</td>\n",
       "      <td>...</td>\n",
       "      <td>...</td>\n",
       "      <td>...</td>\n",
       "      <td>...</td>\n",
       "      <td>...</td>\n",
       "      <td>...</td>\n",
       "      <td>...</td>\n",
       "      <td>...</td>\n",
       "      <td>...</td>\n",
       "      <td>...</td>\n",
       "      <td>...</td>\n",
       "      <td>...</td>\n",
       "      <td>...</td>\n",
       "      <td>...</td>\n",
       "      <td>...</td>\n",
       "      <td>...</td>\n",
       "      <td>...</td>\n",
       "      <td>...</td>\n",
       "      <td>...</td>\n",
       "    </tr>\n",
       "    <tr>\n",
       "      <th>181</th>\n",
       "      <td>SHGSOC001</td>\n",
       "      <td>1.0</td>\n",
       "      <td>Deficient</td>\n",
       "      <td>1</td>\n",
       "      <td>1.216777</td>\n",
       "      <td>Deficient</td>\n",
       "      <td>-0.287690</td>\n",
       "      <td>-0.501142</td>\n",
       "      <td>-0.602954</td>\n",
       "      <td>-0.604282</td>\n",
       "      <td>...</td>\n",
       "      <td>-0.594751</td>\n",
       "      <td>-0.365527</td>\n",
       "      <td>-0.594751</td>\n",
       "      <td>0.634003</td>\n",
       "      <td>-0.081085</td>\n",
       "      <td>2.619184</td>\n",
       "      <td>-0.594751</td>\n",
       "      <td>-0.707107</td>\n",
       "      <td>-0.707107</td>\n",
       "      <td>1.414214</td>\n",
       "    </tr>\n",
       "    <tr>\n",
       "      <th>182</th>\n",
       "      <td>DO30650</td>\n",
       "      <td>0.0</td>\n",
       "      <td>Unknown</td>\n",
       "      <td>0</td>\n",
       "      <td>-1.032635</td>\n",
       "      <td>Proficient</td>\n",
       "      <td>1.049832</td>\n",
       "      <td>2.361886</td>\n",
       "      <td>0.809569</td>\n",
       "      <td>-0.700275</td>\n",
       "      <td>...</td>\n",
       "      <td>-0.777625</td>\n",
       "      <td>-0.462113</td>\n",
       "      <td>1.613345</td>\n",
       "      <td>-0.391910</td>\n",
       "      <td>-0.184605</td>\n",
       "      <td>-0.269014</td>\n",
       "      <td>-0.777625</td>\n",
       "      <td>-1.340242</td>\n",
       "      <td>1.061034</td>\n",
       "      <td>0.279209</td>\n",
       "    </tr>\n",
       "    <tr>\n",
       "      <th>183</th>\n",
       "      <td>AOCS_168</td>\n",
       "      <td>0.0</td>\n",
       "      <td>Unknown</td>\n",
       "      <td>0</td>\n",
       "      <td>0.009468</td>\n",
       "      <td>Deficient</td>\n",
       "      <td>-0.004540</td>\n",
       "      <td>0.682050</td>\n",
       "      <td>0.866545</td>\n",
       "      <td>-0.301971</td>\n",
       "      <td>...</td>\n",
       "      <td>-1.032636</td>\n",
       "      <td>-0.650992</td>\n",
       "      <td>-0.333889</td>\n",
       "      <td>1.730972</td>\n",
       "      <td>-0.768225</td>\n",
       "      <td>-1.032636</td>\n",
       "      <td>1.130214</td>\n",
       "      <td>1.354107</td>\n",
       "      <td>-0.323788</td>\n",
       "      <td>-1.030319</td>\n",
       "    </tr>\n",
       "    <tr>\n",
       "      <th>184</th>\n",
       "      <td>DO28412</td>\n",
       "      <td>-1.0</td>\n",
       "      <td>Proficient</td>\n",
       "      <td>1</td>\n",
       "      <td>-1.022459</td>\n",
       "      <td>Proficient</td>\n",
       "      <td>1.780988</td>\n",
       "      <td>1.745248</td>\n",
       "      <td>0.641153</td>\n",
       "      <td>-0.634612</td>\n",
       "      <td>...</td>\n",
       "      <td>1.070283</td>\n",
       "      <td>2.188663</td>\n",
       "      <td>-0.754452</td>\n",
       "      <td>-0.754452</td>\n",
       "      <td>-0.754452</td>\n",
       "      <td>-0.754452</td>\n",
       "      <td>0.464642</td>\n",
       "      <td>-0.707107</td>\n",
       "      <td>1.414214</td>\n",
       "      <td>-0.707107</td>\n",
       "    </tr>\n",
       "    <tr>\n",
       "      <th>185</th>\n",
       "      <td>SHGSOC032</td>\n",
       "      <td>0.0</td>\n",
       "      <td>Unknown</td>\n",
       "      <td>0</td>\n",
       "      <td>-0.113683</td>\n",
       "      <td>Proficient</td>\n",
       "      <td>-0.506194</td>\n",
       "      <td>-0.506194</td>\n",
       "      <td>2.935353</td>\n",
       "      <td>-0.506194</td>\n",
       "      <td>...</td>\n",
       "      <td>-0.314868</td>\n",
       "      <td>-0.717630</td>\n",
       "      <td>-0.727939</td>\n",
       "      <td>1.144148</td>\n",
       "      <td>0.680013</td>\n",
       "      <td>-0.727939</td>\n",
       "      <td>-0.727939</td>\n",
       "      <td>0.113124</td>\n",
       "      <td>-1.277382</td>\n",
       "      <td>1.164259</td>\n",
       "    </tr>\n",
       "  </tbody>\n",
       "</table>\n",
       "<p>186 rows × 28 columns</p>\n",
       "</div>"
      ],
      "text/plain": [
       "        sample  class Sample type  training  prediction SVM prediction  \\\n",
       "0     AOCS_084   -1.0  Proficient         0   -0.690888     Proficient   \n",
       "1     AOCS_159   -1.0  Proficient         0   -1.245736     Proficient   \n",
       "2      DO29146    0.0     Unknown         0   -1.179443     Proficient   \n",
       "3    SHGSOC050   -1.0  Proficient         1   -1.013028     Proficient   \n",
       "4    SHGSOC022    1.0   Deficient         0    1.085344      Deficient   \n",
       "..         ...    ...         ...       ...         ...            ...   \n",
       "181  SHGSOC001    1.0   Deficient         1    1.216777      Deficient   \n",
       "182    DO30650    0.0     Unknown         0   -1.032635     Proficient   \n",
       "183   AOCS_168    0.0     Unknown         0    0.009468      Deficient   \n",
       "184    DO28412   -1.0  Proficient         1   -1.022459     Proficient   \n",
       "185  SHGSOC032    0.0     Unknown         0   -0.113683     Proficient   \n",
       "\n",
       "     SBS96_pro_1  SBS96_pro_2  SBS96_pro_3  SBS96_pro_4  ...  ID83_pro_3  \\\n",
       "0       1.697787     1.150595     1.192019    -0.354043  ...   -0.658393   \n",
       "1       1.127304     2.023549     0.599706     0.139680  ...   -0.993338   \n",
       "2      -0.445669     2.187945     1.232186     0.061045  ...    0.069129   \n",
       "3       0.034584     1.149668     2.199172    -0.872373  ...    0.524405   \n",
       "4      -0.685520    -0.685520    -0.015071    -0.685520  ...    0.489635   \n",
       "..           ...          ...          ...          ...  ...         ...   \n",
       "181    -0.287690    -0.501142    -0.602954    -0.604282  ...   -0.594751   \n",
       "182     1.049832     2.361886     0.809569    -0.700275  ...   -0.777625   \n",
       "183    -0.004540     0.682050     0.866545    -0.301971  ...   -1.032636   \n",
       "184     1.780988     1.745248     0.641153    -0.634612  ...    1.070283   \n",
       "185    -0.506194    -0.506194     2.935353    -0.506194  ...   -0.314868   \n",
       "\n",
       "     ID83_pro_4  ID83_pro_5  ID83_def_1  ID83_def_2  ID83_def_3  ID83_def_4  \\\n",
       "0     -0.600821   -0.179078   -0.658393   -0.648761   -0.399734    1.225963   \n",
       "1     -0.709343    0.570821   -0.934397    0.089365   -0.603553   -0.631501   \n",
       "2      1.653104   -0.184718   -0.691333   -0.698727   -0.698727   -0.698727   \n",
       "3     -0.745904   -0.584137   -0.758913   -0.758913   -0.758913   -0.225584   \n",
       "4     -0.484880   -0.683908    2.129365    1.285420   -0.683908   -0.683908   \n",
       "..          ...         ...         ...         ...         ...         ...   \n",
       "181   -0.365527   -0.594751    0.634003   -0.081085    2.619184   -0.594751   \n",
       "182   -0.462113    1.613345   -0.391910   -0.184605   -0.269014   -0.777625   \n",
       "183   -0.650992   -0.333889    1.730972   -0.768225   -1.032636    1.130214   \n",
       "184    2.188663   -0.754452   -0.754452   -0.754452   -0.754452    0.464642   \n",
       "185   -0.717630   -0.727939    1.144148    0.680013   -0.727939   -0.727939   \n",
       "\n",
       "     DBS78_pro_1  DBS78_pro_2  DBS78_def_1  \n",
       "0      -0.774997    -0.636970     1.411967  \n",
       "1      -1.226645     1.222836     0.003809  \n",
       "2      -1.379841     0.421538     0.958303  \n",
       "3       1.307106    -0.185999    -1.121106  \n",
       "4      -0.707107    -0.707107     1.414214  \n",
       "..           ...          ...          ...  \n",
       "181    -0.707107    -0.707107     1.414214  \n",
       "182    -1.340242     1.061034     0.279209  \n",
       "183     1.354107    -0.323788    -1.030319  \n",
       "184    -0.707107     1.414214    -0.707107  \n",
       "185     0.113124    -1.277382     1.164259  \n",
       "\n",
       "[186 rows x 28 columns]"
      ]
     },
     "execution_count": 7,
     "metadata": {},
     "output_type": "execute_result"
    }
   ],
   "source": [
    "HGSOC.data"
   ]
  },
  {
   "cell_type": "markdown",
   "metadata": {},
   "source": [
    "## Training the classifier\n",
    "\n",
    "We acknowledge that *biology is rarely binary*. That is why instead of training a standard classifier, MSclassifier trains a **regression model** and looks for a **margin maximizer** that optimaly classifies samples. Effectively, MSclassifier outputs at the same time a continuous classification scale, as well as a tentative prediction. This approach allows the user to decide wether MSclassification binary classification is correct, or if a different threshold might suit the needs better. \n",
    "\n",
    "We now have the data ready for input in a regression model. The method **.model_fit()** searches in a predefined grid of possible neural networks which one returns the best result and saves it as the regressor model. Further, this method uses a standard linear SVM machine to determine the margin maximizer that will be used for classification purposes. \n",
    "\n",
    "We will explain in a later section **how to use your own regression model** of choice rather than the default one.\n"
   ]
  },
  {
   "cell_type": "code",
   "execution_count": 8,
   "metadata": {},
   "outputs": [
    {
     "name": "stdout",
     "output_type": "stream",
     "text": [
      "Best: -0.141703 using {'activation': 'logistic', 'alpha': 1e-16, 'hidden_layer_sizes': 22, 'solver': 'adam'}\n"
     ]
    }
   ],
   "source": [
    "HGSOC.model_fit()"
   ]
  },
  {
   "cell_type": "markdown",
   "metadata": {},
   "source": [
    "We can access the prediction of our model in the test set through the **.test_check()** method."
   ]
  },
  {
   "cell_type": "code",
   "execution_count": 10,
   "metadata": {
    "scrolled": false
   },
   "outputs": [
    {
     "data": {
      "application/vnd.plotly.v1+json": {
       "config": {
        "plotlyServerURL": "https://plot.ly"
       },
       "data": [
        {
         "alignmentgroup": "True",
         "boxpoints": "all",
         "customdata": [
          [
           "AOCS_084"
          ],
          [
           "AOCS_159"
          ],
          [
           "SHGSOC081"
          ],
          [
           "DO31150"
          ],
          [
           "SHGSOC008"
          ],
          [
           "AOCS_124"
          ],
          [
           "SHGSOC010"
          ],
          [
           "DO28952"
          ],
          [
           "SHGSOC020"
          ],
          [
           "SHGSOC057"
          ],
          [
           "AOCS_078"
          ],
          [
           "AOCS_077"
          ]
         ],
         "fillcolor": "rgba(255,255,255,0)",
         "hoverlabel": {
          "namelength": 0
         },
         "hoveron": "points",
         "hovertemplate": "Sample type=Proficient<br>class=%{x}<br>prediction=%{y}<br>sample=%{customdata[0]}",
         "legendgroup": "Proficient",
         "line": {
          "color": "rgba(255,255,255,0)"
         },
         "marker": {
          "color": "#636efa"
         },
         "name": "Proficient",
         "offsetgroup": "Proficient",
         "orientation": "v",
         "pointpos": 0,
         "showlegend": true,
         "type": "box",
         "x": [
          -1,
          -1,
          -1,
          -1,
          -1,
          -1,
          -1,
          -1,
          -1,
          -1,
          -1,
          -1
         ],
         "x0": " ",
         "xaxis": "x",
         "y": [
          -0.6908880903868759,
          -1.2457355036641407,
          -0.8802279618533073,
          0.4767861197562893,
          -0.7781012061943302,
          -1.0614001994836402,
          -0.8821862755648459,
          -1.1342931896843336,
          -0.41539980587439357,
          -1.0000381885524172,
          -0.75590729565285,
          -0.9237275673449015
         ],
         "y0": " ",
         "yaxis": "y"
        },
        {
         "alignmentgroup": "True",
         "boxpoints": "all",
         "customdata": [
          [
           "SHGSOC022"
          ],
          [
           "DO28521"
          ],
          [
           "SHGSOC072"
          ],
          [
           "DO30220"
          ],
          [
           "AOCS_095"
          ],
          [
           "AOCS_104"
          ],
          [
           "SHGSOC009"
          ],
          [
           "AOCS_139"
          ],
          [
           "AOCS_088"
          ],
          [
           "AOCS_108"
          ],
          [
           "AOCS_079"
          ],
          [
           "AOCS_063"
          ],
          [
           "AOCS_065"
          ]
         ],
         "fillcolor": "rgba(255,255,255,0)",
         "hoverlabel": {
          "namelength": 0
         },
         "hoveron": "points",
         "hovertemplate": "Sample type=Deficient<br>class=%{x}<br>prediction=%{y}<br>sample=%{customdata[0]}",
         "legendgroup": "Deficient",
         "line": {
          "color": "rgba(255,255,255,0)"
         },
         "marker": {
          "color": "#EF553B"
         },
         "name": "Deficient",
         "offsetgroup": "Deficient",
         "orientation": "v",
         "pointpos": 0,
         "showlegend": true,
         "type": "box",
         "x": [
          1,
          1,
          1,
          1,
          1,
          1,
          1,
          1,
          1,
          1,
          1,
          1,
          1
         ],
         "x0": " ",
         "xaxis": "x",
         "y": [
          1.085343613217792,
          0.2543487390985743,
          0.037536803609882735,
          0.7820188227726541,
          0.9860790056385393,
          0.8657438065675327,
          1.0431348268592084,
          1.05998829338939,
          0.8304972461971349,
          1.110076062214467,
          0.4091712480441193,
          0.6939727252641017,
          1.0138296548847696
         ],
         "y0": " ",
         "yaxis": "y"
        },
        {
         "line": {
          "color": "orange",
          "dash": "dash",
          "width": 3
         },
         "mode": "lines",
         "name": "Margin",
         "type": "scatter",
         "x": [
          -1.5,
          1.5
         ],
         "y": [
          -0.10618355951910166,
          -0.10618355951910166
         ]
        }
       ],
       "layout": {
        "boxmode": "group",
        "legend": {
         "title": {
          "text": "Sample type"
         },
         "tracegroupgap": 0
        },
        "margin": {
         "t": 60
        },
        "template": {
         "data": {
          "bar": [
           {
            "error_x": {
             "color": "#2a3f5f"
            },
            "error_y": {
             "color": "#2a3f5f"
            },
            "marker": {
             "line": {
              "color": "#E5ECF6",
              "width": 0.5
             }
            },
            "type": "bar"
           }
          ],
          "barpolar": [
           {
            "marker": {
             "line": {
              "color": "#E5ECF6",
              "width": 0.5
             }
            },
            "type": "barpolar"
           }
          ],
          "carpet": [
           {
            "aaxis": {
             "endlinecolor": "#2a3f5f",
             "gridcolor": "white",
             "linecolor": "white",
             "minorgridcolor": "white",
             "startlinecolor": "#2a3f5f"
            },
            "baxis": {
             "endlinecolor": "#2a3f5f",
             "gridcolor": "white",
             "linecolor": "white",
             "minorgridcolor": "white",
             "startlinecolor": "#2a3f5f"
            },
            "type": "carpet"
           }
          ],
          "choropleth": [
           {
            "colorbar": {
             "outlinewidth": 0,
             "ticks": ""
            },
            "type": "choropleth"
           }
          ],
          "contour": [
           {
            "colorbar": {
             "outlinewidth": 0,
             "ticks": ""
            },
            "colorscale": [
             [
              0,
              "#0d0887"
             ],
             [
              0.1111111111111111,
              "#46039f"
             ],
             [
              0.2222222222222222,
              "#7201a8"
             ],
             [
              0.3333333333333333,
              "#9c179e"
             ],
             [
              0.4444444444444444,
              "#bd3786"
             ],
             [
              0.5555555555555556,
              "#d8576b"
             ],
             [
              0.6666666666666666,
              "#ed7953"
             ],
             [
              0.7777777777777778,
              "#fb9f3a"
             ],
             [
              0.8888888888888888,
              "#fdca26"
             ],
             [
              1,
              "#f0f921"
             ]
            ],
            "type": "contour"
           }
          ],
          "contourcarpet": [
           {
            "colorbar": {
             "outlinewidth": 0,
             "ticks": ""
            },
            "type": "contourcarpet"
           }
          ],
          "heatmap": [
           {
            "colorbar": {
             "outlinewidth": 0,
             "ticks": ""
            },
            "colorscale": [
             [
              0,
              "#0d0887"
             ],
             [
              0.1111111111111111,
              "#46039f"
             ],
             [
              0.2222222222222222,
              "#7201a8"
             ],
             [
              0.3333333333333333,
              "#9c179e"
             ],
             [
              0.4444444444444444,
              "#bd3786"
             ],
             [
              0.5555555555555556,
              "#d8576b"
             ],
             [
              0.6666666666666666,
              "#ed7953"
             ],
             [
              0.7777777777777778,
              "#fb9f3a"
             ],
             [
              0.8888888888888888,
              "#fdca26"
             ],
             [
              1,
              "#f0f921"
             ]
            ],
            "type": "heatmap"
           }
          ],
          "heatmapgl": [
           {
            "colorbar": {
             "outlinewidth": 0,
             "ticks": ""
            },
            "colorscale": [
             [
              0,
              "#0d0887"
             ],
             [
              0.1111111111111111,
              "#46039f"
             ],
             [
              0.2222222222222222,
              "#7201a8"
             ],
             [
              0.3333333333333333,
              "#9c179e"
             ],
             [
              0.4444444444444444,
              "#bd3786"
             ],
             [
              0.5555555555555556,
              "#d8576b"
             ],
             [
              0.6666666666666666,
              "#ed7953"
             ],
             [
              0.7777777777777778,
              "#fb9f3a"
             ],
             [
              0.8888888888888888,
              "#fdca26"
             ],
             [
              1,
              "#f0f921"
             ]
            ],
            "type": "heatmapgl"
           }
          ],
          "histogram": [
           {
            "marker": {
             "colorbar": {
              "outlinewidth": 0,
              "ticks": ""
             }
            },
            "type": "histogram"
           }
          ],
          "histogram2d": [
           {
            "colorbar": {
             "outlinewidth": 0,
             "ticks": ""
            },
            "colorscale": [
             [
              0,
              "#0d0887"
             ],
             [
              0.1111111111111111,
              "#46039f"
             ],
             [
              0.2222222222222222,
              "#7201a8"
             ],
             [
              0.3333333333333333,
              "#9c179e"
             ],
             [
              0.4444444444444444,
              "#bd3786"
             ],
             [
              0.5555555555555556,
              "#d8576b"
             ],
             [
              0.6666666666666666,
              "#ed7953"
             ],
             [
              0.7777777777777778,
              "#fb9f3a"
             ],
             [
              0.8888888888888888,
              "#fdca26"
             ],
             [
              1,
              "#f0f921"
             ]
            ],
            "type": "histogram2d"
           }
          ],
          "histogram2dcontour": [
           {
            "colorbar": {
             "outlinewidth": 0,
             "ticks": ""
            },
            "colorscale": [
             [
              0,
              "#0d0887"
             ],
             [
              0.1111111111111111,
              "#46039f"
             ],
             [
              0.2222222222222222,
              "#7201a8"
             ],
             [
              0.3333333333333333,
              "#9c179e"
             ],
             [
              0.4444444444444444,
              "#bd3786"
             ],
             [
              0.5555555555555556,
              "#d8576b"
             ],
             [
              0.6666666666666666,
              "#ed7953"
             ],
             [
              0.7777777777777778,
              "#fb9f3a"
             ],
             [
              0.8888888888888888,
              "#fdca26"
             ],
             [
              1,
              "#f0f921"
             ]
            ],
            "type": "histogram2dcontour"
           }
          ],
          "mesh3d": [
           {
            "colorbar": {
             "outlinewidth": 0,
             "ticks": ""
            },
            "type": "mesh3d"
           }
          ],
          "parcoords": [
           {
            "line": {
             "colorbar": {
              "outlinewidth": 0,
              "ticks": ""
             }
            },
            "type": "parcoords"
           }
          ],
          "pie": [
           {
            "automargin": true,
            "type": "pie"
           }
          ],
          "scatter": [
           {
            "marker": {
             "colorbar": {
              "outlinewidth": 0,
              "ticks": ""
             }
            },
            "type": "scatter"
           }
          ],
          "scatter3d": [
           {
            "line": {
             "colorbar": {
              "outlinewidth": 0,
              "ticks": ""
             }
            },
            "marker": {
             "colorbar": {
              "outlinewidth": 0,
              "ticks": ""
             }
            },
            "type": "scatter3d"
           }
          ],
          "scattercarpet": [
           {
            "marker": {
             "colorbar": {
              "outlinewidth": 0,
              "ticks": ""
             }
            },
            "type": "scattercarpet"
           }
          ],
          "scattergeo": [
           {
            "marker": {
             "colorbar": {
              "outlinewidth": 0,
              "ticks": ""
             }
            },
            "type": "scattergeo"
           }
          ],
          "scattergl": [
           {
            "marker": {
             "colorbar": {
              "outlinewidth": 0,
              "ticks": ""
             }
            },
            "type": "scattergl"
           }
          ],
          "scattermapbox": [
           {
            "marker": {
             "colorbar": {
              "outlinewidth": 0,
              "ticks": ""
             }
            },
            "type": "scattermapbox"
           }
          ],
          "scatterpolar": [
           {
            "marker": {
             "colorbar": {
              "outlinewidth": 0,
              "ticks": ""
             }
            },
            "type": "scatterpolar"
           }
          ],
          "scatterpolargl": [
           {
            "marker": {
             "colorbar": {
              "outlinewidth": 0,
              "ticks": ""
             }
            },
            "type": "scatterpolargl"
           }
          ],
          "scatterternary": [
           {
            "marker": {
             "colorbar": {
              "outlinewidth": 0,
              "ticks": ""
             }
            },
            "type": "scatterternary"
           }
          ],
          "surface": [
           {
            "colorbar": {
             "outlinewidth": 0,
             "ticks": ""
            },
            "colorscale": [
             [
              0,
              "#0d0887"
             ],
             [
              0.1111111111111111,
              "#46039f"
             ],
             [
              0.2222222222222222,
              "#7201a8"
             ],
             [
              0.3333333333333333,
              "#9c179e"
             ],
             [
              0.4444444444444444,
              "#bd3786"
             ],
             [
              0.5555555555555556,
              "#d8576b"
             ],
             [
              0.6666666666666666,
              "#ed7953"
             ],
             [
              0.7777777777777778,
              "#fb9f3a"
             ],
             [
              0.8888888888888888,
              "#fdca26"
             ],
             [
              1,
              "#f0f921"
             ]
            ],
            "type": "surface"
           }
          ],
          "table": [
           {
            "cells": {
             "fill": {
              "color": "#EBF0F8"
             },
             "line": {
              "color": "white"
             }
            },
            "header": {
             "fill": {
              "color": "#C8D4E3"
             },
             "line": {
              "color": "white"
             }
            },
            "type": "table"
           }
          ]
         },
         "layout": {
          "annotationdefaults": {
           "arrowcolor": "#2a3f5f",
           "arrowhead": 0,
           "arrowwidth": 1
          },
          "coloraxis": {
           "colorbar": {
            "outlinewidth": 0,
            "ticks": ""
           }
          },
          "colorscale": {
           "diverging": [
            [
             0,
             "#8e0152"
            ],
            [
             0.1,
             "#c51b7d"
            ],
            [
             0.2,
             "#de77ae"
            ],
            [
             0.3,
             "#f1b6da"
            ],
            [
             0.4,
             "#fde0ef"
            ],
            [
             0.5,
             "#f7f7f7"
            ],
            [
             0.6,
             "#e6f5d0"
            ],
            [
             0.7,
             "#b8e186"
            ],
            [
             0.8,
             "#7fbc41"
            ],
            [
             0.9,
             "#4d9221"
            ],
            [
             1,
             "#276419"
            ]
           ],
           "sequential": [
            [
             0,
             "#0d0887"
            ],
            [
             0.1111111111111111,
             "#46039f"
            ],
            [
             0.2222222222222222,
             "#7201a8"
            ],
            [
             0.3333333333333333,
             "#9c179e"
            ],
            [
             0.4444444444444444,
             "#bd3786"
            ],
            [
             0.5555555555555556,
             "#d8576b"
            ],
            [
             0.6666666666666666,
             "#ed7953"
            ],
            [
             0.7777777777777778,
             "#fb9f3a"
            ],
            [
             0.8888888888888888,
             "#fdca26"
            ],
            [
             1,
             "#f0f921"
            ]
           ],
           "sequentialminus": [
            [
             0,
             "#0d0887"
            ],
            [
             0.1111111111111111,
             "#46039f"
            ],
            [
             0.2222222222222222,
             "#7201a8"
            ],
            [
             0.3333333333333333,
             "#9c179e"
            ],
            [
             0.4444444444444444,
             "#bd3786"
            ],
            [
             0.5555555555555556,
             "#d8576b"
            ],
            [
             0.6666666666666666,
             "#ed7953"
            ],
            [
             0.7777777777777778,
             "#fb9f3a"
            ],
            [
             0.8888888888888888,
             "#fdca26"
            ],
            [
             1,
             "#f0f921"
            ]
           ]
          },
          "colorway": [
           "#636efa",
           "#EF553B",
           "#00cc96",
           "#ab63fa",
           "#FFA15A",
           "#19d3f3",
           "#FF6692",
           "#B6E880",
           "#FF97FF",
           "#FECB52"
          ],
          "font": {
           "color": "#2a3f5f"
          },
          "geo": {
           "bgcolor": "white",
           "lakecolor": "white",
           "landcolor": "#E5ECF6",
           "showlakes": true,
           "showland": true,
           "subunitcolor": "white"
          },
          "hoverlabel": {
           "align": "left"
          },
          "hovermode": "closest",
          "mapbox": {
           "style": "light"
          },
          "paper_bgcolor": "white",
          "plot_bgcolor": "#E5ECF6",
          "polar": {
           "angularaxis": {
            "gridcolor": "white",
            "linecolor": "white",
            "ticks": ""
           },
           "bgcolor": "#E5ECF6",
           "radialaxis": {
            "gridcolor": "white",
            "linecolor": "white",
            "ticks": ""
           }
          },
          "scene": {
           "xaxis": {
            "backgroundcolor": "#E5ECF6",
            "gridcolor": "white",
            "gridwidth": 2,
            "linecolor": "white",
            "showbackground": true,
            "ticks": "",
            "zerolinecolor": "white"
           },
           "yaxis": {
            "backgroundcolor": "#E5ECF6",
            "gridcolor": "white",
            "gridwidth": 2,
            "linecolor": "white",
            "showbackground": true,
            "ticks": "",
            "zerolinecolor": "white"
           },
           "zaxis": {
            "backgroundcolor": "#E5ECF6",
            "gridcolor": "white",
            "gridwidth": 2,
            "linecolor": "white",
            "showbackground": true,
            "ticks": "",
            "zerolinecolor": "white"
           }
          },
          "shapedefaults": {
           "line": {
            "color": "#2a3f5f"
           }
          },
          "ternary": {
           "aaxis": {
            "gridcolor": "white",
            "linecolor": "white",
            "ticks": ""
           },
           "baxis": {
            "gridcolor": "white",
            "linecolor": "white",
            "ticks": ""
           },
           "bgcolor": "#E5ECF6",
           "caxis": {
            "gridcolor": "white",
            "linecolor": "white",
            "ticks": ""
           }
          },
          "title": {
           "x": 0.05
          },
          "xaxis": {
           "automargin": true,
           "gridcolor": "white",
           "linecolor": "white",
           "ticks": "",
           "title": {
            "standoff": 15
           },
           "zerolinecolor": "white",
           "zerolinewidth": 2
          },
          "yaxis": {
           "automargin": true,
           "gridcolor": "white",
           "linecolor": "white",
           "ticks": "",
           "title": {
            "standoff": 15
           },
           "zerolinecolor": "white",
           "zerolinewidth": 2
          }
         }
        },
        "xaxis": {
         "anchor": "y",
         "domain": [
          0,
          1
         ],
         "title": {
          "text": "class"
         }
        },
        "yaxis": {
         "anchor": "x",
         "domain": [
          0,
          1
         ],
         "title": {
          "text": "prediction"
         }
        }
       }
      },
      "text/html": [
       "<div>\n",
       "        \n",
       "        \n",
       "            <div id=\"65d9ee90-a1dd-472e-a7ba-d548f76655d8\" class=\"plotly-graph-div\" style=\"height:525px; width:100%;\"></div>\n",
       "            <script type=\"text/javascript\">\n",
       "                require([\"plotly\"], function(Plotly) {\n",
       "                    window.PLOTLYENV=window.PLOTLYENV || {};\n",
       "                    \n",
       "                if (document.getElementById(\"65d9ee90-a1dd-472e-a7ba-d548f76655d8\")) {\n",
       "                    Plotly.newPlot(\n",
       "                        '65d9ee90-a1dd-472e-a7ba-d548f76655d8',\n",
       "                        [{\"alignmentgroup\": \"True\", \"boxpoints\": \"all\", \"customdata\": [[\"AOCS_084\"], [\"AOCS_159\"], [\"SHGSOC081\"], [\"DO31150\"], [\"SHGSOC008\"], [\"AOCS_124\"], [\"SHGSOC010\"], [\"DO28952\"], [\"SHGSOC020\"], [\"SHGSOC057\"], [\"AOCS_078\"], [\"AOCS_077\"]], \"fillcolor\": \"rgba(255,255,255,0)\", \"hoverlabel\": {\"namelength\": 0}, \"hoveron\": \"points\", \"hovertemplate\": \"Sample type=Proficient<br>class=%{x}<br>prediction=%{y}<br>sample=%{customdata[0]}\", \"legendgroup\": \"Proficient\", \"line\": {\"color\": \"rgba(255,255,255,0)\"}, \"marker\": {\"color\": \"#636efa\"}, \"name\": \"Proficient\", \"offsetgroup\": \"Proficient\", \"orientation\": \"v\", \"pointpos\": 0, \"showlegend\": true, \"type\": \"box\", \"x\": [-1.0, -1.0, -1.0, -1.0, -1.0, -1.0, -1.0, -1.0, -1.0, -1.0, -1.0, -1.0], \"x0\": \" \", \"xaxis\": \"x\", \"y\": [-0.6908880903868759, -1.2457355036641407, -0.8802279618533073, 0.4767861197562893, -0.7781012061943302, -1.0614001994836402, -0.8821862755648459, -1.1342931896843336, -0.41539980587439357, -1.0000381885524172, -0.75590729565285, -0.9237275673449015], \"y0\": \" \", \"yaxis\": \"y\"}, {\"alignmentgroup\": \"True\", \"boxpoints\": \"all\", \"customdata\": [[\"SHGSOC022\"], [\"DO28521\"], [\"SHGSOC072\"], [\"DO30220\"], [\"AOCS_095\"], [\"AOCS_104\"], [\"SHGSOC009\"], [\"AOCS_139\"], [\"AOCS_088\"], [\"AOCS_108\"], [\"AOCS_079\"], [\"AOCS_063\"], [\"AOCS_065\"]], \"fillcolor\": \"rgba(255,255,255,0)\", \"hoverlabel\": {\"namelength\": 0}, \"hoveron\": \"points\", \"hovertemplate\": \"Sample type=Deficient<br>class=%{x}<br>prediction=%{y}<br>sample=%{customdata[0]}\", \"legendgroup\": \"Deficient\", \"line\": {\"color\": \"rgba(255,255,255,0)\"}, \"marker\": {\"color\": \"#EF553B\"}, \"name\": \"Deficient\", \"offsetgroup\": \"Deficient\", \"orientation\": \"v\", \"pointpos\": 0, \"showlegend\": true, \"type\": \"box\", \"x\": [1.0, 1.0, 1.0, 1.0, 1.0, 1.0, 1.0, 1.0, 1.0, 1.0, 1.0, 1.0, 1.0], \"x0\": \" \", \"xaxis\": \"x\", \"y\": [1.085343613217792, 0.2543487390985743, 0.037536803609882735, 0.7820188227726541, 0.9860790056385393, 0.8657438065675327, 1.0431348268592084, 1.05998829338939, 0.8304972461971349, 1.110076062214467, 0.4091712480441193, 0.6939727252641017, 1.0138296548847696], \"y0\": \" \", \"yaxis\": \"y\"}, {\"line\": {\"color\": \"orange\", \"dash\": \"dash\", \"width\": 3}, \"mode\": \"lines\", \"name\": \"Margin\", \"type\": \"scatter\", \"x\": [-1.5, 1.5], \"y\": [-0.10618355951910166, -0.10618355951910166]}],\n",
       "                        {\"boxmode\": \"group\", \"legend\": {\"title\": {\"text\": \"Sample type\"}, \"tracegroupgap\": 0}, \"margin\": {\"t\": 60}, \"template\": {\"data\": {\"bar\": [{\"error_x\": {\"color\": \"#2a3f5f\"}, \"error_y\": {\"color\": \"#2a3f5f\"}, \"marker\": {\"line\": {\"color\": \"#E5ECF6\", \"width\": 0.5}}, \"type\": \"bar\"}], \"barpolar\": [{\"marker\": {\"line\": {\"color\": \"#E5ECF6\", \"width\": 0.5}}, \"type\": \"barpolar\"}], \"carpet\": [{\"aaxis\": {\"endlinecolor\": \"#2a3f5f\", \"gridcolor\": \"white\", \"linecolor\": \"white\", \"minorgridcolor\": \"white\", \"startlinecolor\": \"#2a3f5f\"}, \"baxis\": {\"endlinecolor\": \"#2a3f5f\", \"gridcolor\": \"white\", \"linecolor\": \"white\", \"minorgridcolor\": \"white\", \"startlinecolor\": \"#2a3f5f\"}, \"type\": \"carpet\"}], \"choropleth\": [{\"colorbar\": {\"outlinewidth\": 0, \"ticks\": \"\"}, \"type\": \"choropleth\"}], \"contour\": [{\"colorbar\": {\"outlinewidth\": 0, \"ticks\": \"\"}, \"colorscale\": [[0.0, \"#0d0887\"], [0.1111111111111111, \"#46039f\"], [0.2222222222222222, \"#7201a8\"], [0.3333333333333333, \"#9c179e\"], [0.4444444444444444, \"#bd3786\"], [0.5555555555555556, \"#d8576b\"], [0.6666666666666666, \"#ed7953\"], [0.7777777777777778, \"#fb9f3a\"], [0.8888888888888888, \"#fdca26\"], [1.0, \"#f0f921\"]], \"type\": \"contour\"}], \"contourcarpet\": [{\"colorbar\": {\"outlinewidth\": 0, \"ticks\": \"\"}, \"type\": \"contourcarpet\"}], \"heatmap\": [{\"colorbar\": {\"outlinewidth\": 0, \"ticks\": \"\"}, \"colorscale\": [[0.0, \"#0d0887\"], [0.1111111111111111, \"#46039f\"], [0.2222222222222222, \"#7201a8\"], [0.3333333333333333, \"#9c179e\"], [0.4444444444444444, \"#bd3786\"], [0.5555555555555556, \"#d8576b\"], [0.6666666666666666, \"#ed7953\"], [0.7777777777777778, \"#fb9f3a\"], [0.8888888888888888, \"#fdca26\"], [1.0, \"#f0f921\"]], \"type\": \"heatmap\"}], \"heatmapgl\": [{\"colorbar\": {\"outlinewidth\": 0, \"ticks\": \"\"}, \"colorscale\": [[0.0, \"#0d0887\"], [0.1111111111111111, \"#46039f\"], [0.2222222222222222, \"#7201a8\"], [0.3333333333333333, \"#9c179e\"], [0.4444444444444444, \"#bd3786\"], [0.5555555555555556, \"#d8576b\"], [0.6666666666666666, \"#ed7953\"], [0.7777777777777778, \"#fb9f3a\"], [0.8888888888888888, \"#fdca26\"], [1.0, \"#f0f921\"]], \"type\": \"heatmapgl\"}], \"histogram\": [{\"marker\": {\"colorbar\": {\"outlinewidth\": 0, \"ticks\": \"\"}}, \"type\": \"histogram\"}], \"histogram2d\": [{\"colorbar\": {\"outlinewidth\": 0, \"ticks\": \"\"}, \"colorscale\": [[0.0, \"#0d0887\"], [0.1111111111111111, \"#46039f\"], [0.2222222222222222, \"#7201a8\"], [0.3333333333333333, \"#9c179e\"], [0.4444444444444444, \"#bd3786\"], [0.5555555555555556, \"#d8576b\"], [0.6666666666666666, \"#ed7953\"], [0.7777777777777778, \"#fb9f3a\"], [0.8888888888888888, \"#fdca26\"], [1.0, \"#f0f921\"]], \"type\": \"histogram2d\"}], \"histogram2dcontour\": [{\"colorbar\": {\"outlinewidth\": 0, \"ticks\": \"\"}, \"colorscale\": [[0.0, \"#0d0887\"], [0.1111111111111111, \"#46039f\"], [0.2222222222222222, \"#7201a8\"], [0.3333333333333333, \"#9c179e\"], [0.4444444444444444, \"#bd3786\"], [0.5555555555555556, \"#d8576b\"], [0.6666666666666666, \"#ed7953\"], [0.7777777777777778, \"#fb9f3a\"], [0.8888888888888888, \"#fdca26\"], [1.0, \"#f0f921\"]], \"type\": \"histogram2dcontour\"}], \"mesh3d\": [{\"colorbar\": {\"outlinewidth\": 0, \"ticks\": \"\"}, \"type\": \"mesh3d\"}], \"parcoords\": [{\"line\": {\"colorbar\": {\"outlinewidth\": 0, \"ticks\": \"\"}}, \"type\": \"parcoords\"}], \"pie\": [{\"automargin\": true, \"type\": \"pie\"}], \"scatter\": [{\"marker\": {\"colorbar\": {\"outlinewidth\": 0, \"ticks\": \"\"}}, \"type\": \"scatter\"}], \"scatter3d\": [{\"line\": {\"colorbar\": {\"outlinewidth\": 0, \"ticks\": \"\"}}, \"marker\": {\"colorbar\": {\"outlinewidth\": 0, \"ticks\": \"\"}}, \"type\": \"scatter3d\"}], \"scattercarpet\": [{\"marker\": {\"colorbar\": {\"outlinewidth\": 0, \"ticks\": \"\"}}, \"type\": \"scattercarpet\"}], \"scattergeo\": [{\"marker\": {\"colorbar\": {\"outlinewidth\": 0, \"ticks\": \"\"}}, \"type\": \"scattergeo\"}], \"scattergl\": [{\"marker\": {\"colorbar\": {\"outlinewidth\": 0, \"ticks\": \"\"}}, \"type\": \"scattergl\"}], \"scattermapbox\": [{\"marker\": {\"colorbar\": {\"outlinewidth\": 0, \"ticks\": \"\"}}, \"type\": \"scattermapbox\"}], \"scatterpolar\": [{\"marker\": {\"colorbar\": {\"outlinewidth\": 0, \"ticks\": \"\"}}, \"type\": \"scatterpolar\"}], \"scatterpolargl\": [{\"marker\": {\"colorbar\": {\"outlinewidth\": 0, \"ticks\": \"\"}}, \"type\": \"scatterpolargl\"}], \"scatterternary\": [{\"marker\": {\"colorbar\": {\"outlinewidth\": 0, \"ticks\": \"\"}}, \"type\": \"scatterternary\"}], \"surface\": [{\"colorbar\": {\"outlinewidth\": 0, \"ticks\": \"\"}, \"colorscale\": [[0.0, \"#0d0887\"], [0.1111111111111111, \"#46039f\"], [0.2222222222222222, \"#7201a8\"], [0.3333333333333333, \"#9c179e\"], [0.4444444444444444, \"#bd3786\"], [0.5555555555555556, \"#d8576b\"], [0.6666666666666666, \"#ed7953\"], [0.7777777777777778, \"#fb9f3a\"], [0.8888888888888888, \"#fdca26\"], [1.0, \"#f0f921\"]], \"type\": \"surface\"}], \"table\": [{\"cells\": {\"fill\": {\"color\": \"#EBF0F8\"}, \"line\": {\"color\": \"white\"}}, \"header\": {\"fill\": {\"color\": \"#C8D4E3\"}, \"line\": {\"color\": \"white\"}}, \"type\": \"table\"}]}, \"layout\": {\"annotationdefaults\": {\"arrowcolor\": \"#2a3f5f\", \"arrowhead\": 0, \"arrowwidth\": 1}, \"coloraxis\": {\"colorbar\": {\"outlinewidth\": 0, \"ticks\": \"\"}}, \"colorscale\": {\"diverging\": [[0, \"#8e0152\"], [0.1, \"#c51b7d\"], [0.2, \"#de77ae\"], [0.3, \"#f1b6da\"], [0.4, \"#fde0ef\"], [0.5, \"#f7f7f7\"], [0.6, \"#e6f5d0\"], [0.7, \"#b8e186\"], [0.8, \"#7fbc41\"], [0.9, \"#4d9221\"], [1, \"#276419\"]], \"sequential\": [[0.0, \"#0d0887\"], [0.1111111111111111, \"#46039f\"], [0.2222222222222222, \"#7201a8\"], [0.3333333333333333, \"#9c179e\"], [0.4444444444444444, \"#bd3786\"], [0.5555555555555556, \"#d8576b\"], [0.6666666666666666, \"#ed7953\"], [0.7777777777777778, \"#fb9f3a\"], [0.8888888888888888, \"#fdca26\"], [1.0, \"#f0f921\"]], \"sequentialminus\": [[0.0, \"#0d0887\"], [0.1111111111111111, \"#46039f\"], [0.2222222222222222, \"#7201a8\"], [0.3333333333333333, \"#9c179e\"], [0.4444444444444444, \"#bd3786\"], [0.5555555555555556, \"#d8576b\"], [0.6666666666666666, \"#ed7953\"], [0.7777777777777778, \"#fb9f3a\"], [0.8888888888888888, \"#fdca26\"], [1.0, \"#f0f921\"]]}, \"colorway\": [\"#636efa\", \"#EF553B\", \"#00cc96\", \"#ab63fa\", \"#FFA15A\", \"#19d3f3\", \"#FF6692\", \"#B6E880\", \"#FF97FF\", \"#FECB52\"], \"font\": {\"color\": \"#2a3f5f\"}, \"geo\": {\"bgcolor\": \"white\", \"lakecolor\": \"white\", \"landcolor\": \"#E5ECF6\", \"showlakes\": true, \"showland\": true, \"subunitcolor\": \"white\"}, \"hoverlabel\": {\"align\": \"left\"}, \"hovermode\": \"closest\", \"mapbox\": {\"style\": \"light\"}, \"paper_bgcolor\": \"white\", \"plot_bgcolor\": \"#E5ECF6\", \"polar\": {\"angularaxis\": {\"gridcolor\": \"white\", \"linecolor\": \"white\", \"ticks\": \"\"}, \"bgcolor\": \"#E5ECF6\", \"radialaxis\": {\"gridcolor\": \"white\", \"linecolor\": \"white\", \"ticks\": \"\"}}, \"scene\": {\"xaxis\": {\"backgroundcolor\": \"#E5ECF6\", \"gridcolor\": \"white\", \"gridwidth\": 2, \"linecolor\": \"white\", \"showbackground\": true, \"ticks\": \"\", \"zerolinecolor\": \"white\"}, \"yaxis\": {\"backgroundcolor\": \"#E5ECF6\", \"gridcolor\": \"white\", \"gridwidth\": 2, \"linecolor\": \"white\", \"showbackground\": true, \"ticks\": \"\", \"zerolinecolor\": \"white\"}, \"zaxis\": {\"backgroundcolor\": \"#E5ECF6\", \"gridcolor\": \"white\", \"gridwidth\": 2, \"linecolor\": \"white\", \"showbackground\": true, \"ticks\": \"\", \"zerolinecolor\": \"white\"}}, \"shapedefaults\": {\"line\": {\"color\": \"#2a3f5f\"}}, \"ternary\": {\"aaxis\": {\"gridcolor\": \"white\", \"linecolor\": \"white\", \"ticks\": \"\"}, \"baxis\": {\"gridcolor\": \"white\", \"linecolor\": \"white\", \"ticks\": \"\"}, \"bgcolor\": \"#E5ECF6\", \"caxis\": {\"gridcolor\": \"white\", \"linecolor\": \"white\", \"ticks\": \"\"}}, \"title\": {\"x\": 0.05}, \"xaxis\": {\"automargin\": true, \"gridcolor\": \"white\", \"linecolor\": \"white\", \"ticks\": \"\", \"title\": {\"standoff\": 15}, \"zerolinecolor\": \"white\", \"zerolinewidth\": 2}, \"yaxis\": {\"automargin\": true, \"gridcolor\": \"white\", \"linecolor\": \"white\", \"ticks\": \"\", \"title\": {\"standoff\": 15}, \"zerolinecolor\": \"white\", \"zerolinewidth\": 2}}}, \"xaxis\": {\"anchor\": \"y\", \"domain\": [0.0, 1.0], \"title\": {\"text\": \"class\"}}, \"yaxis\": {\"anchor\": \"x\", \"domain\": [0.0, 1.0], \"title\": {\"text\": \"prediction\"}}},\n",
       "                        {\"responsive\": true}\n",
       "                    ).then(function(){\n",
       "                            \n",
       "var gd = document.getElementById('65d9ee90-a1dd-472e-a7ba-d548f76655d8');\n",
       "var x = new MutationObserver(function (mutations, observer) {{\n",
       "        var display = window.getComputedStyle(gd).display;\n",
       "        if (!display || display === 'none') {{\n",
       "            console.log([gd, 'removed!']);\n",
       "            Plotly.purge(gd);\n",
       "            observer.disconnect();\n",
       "        }}\n",
       "}});\n",
       "\n",
       "// Listen for the removal of the full notebook cells\n",
       "var notebookContainer = gd.closest('#notebook-container');\n",
       "if (notebookContainer) {{\n",
       "    x.observe(notebookContainer, {childList: true});\n",
       "}}\n",
       "\n",
       "// Listen for the clearing of the current output cell\n",
       "var outputEl = gd.closest('.output');\n",
       "if (outputEl) {{\n",
       "    x.observe(outputEl, {childList: true});\n",
       "}}\n",
       "\n",
       "                        })\n",
       "                };\n",
       "                });\n",
       "            </script>\n",
       "        </div>"
      ]
     },
     "metadata": {},
     "output_type": "display_data"
    }
   ],
   "source": [
    "HGSOC.test_check()"
   ]
  },
  {
   "cell_type": "markdown",
   "metadata": {},
   "source": [
    "We can also view which are the features driving this model through the **.model.importances** attribute."
   ]
  },
  {
   "cell_type": "code",
   "execution_count": 11,
   "metadata": {},
   "outputs": [
    {
     "data": {
      "text/html": [
       "<div>\n",
       "<style scoped>\n",
       "    .dataframe tbody tr th:only-of-type {\n",
       "        vertical-align: middle;\n",
       "    }\n",
       "\n",
       "    .dataframe tbody tr th {\n",
       "        vertical-align: top;\n",
       "    }\n",
       "\n",
       "    .dataframe thead th {\n",
       "        text-align: right;\n",
       "    }\n",
       "</style>\n",
       "<table border=\"1\" class=\"dataframe\">\n",
       "  <thead>\n",
       "    <tr style=\"text-align: right;\">\n",
       "      <th></th>\n",
       "      <th>importance</th>\n",
       "    </tr>\n",
       "  </thead>\n",
       "  <tbody>\n",
       "    <tr>\n",
       "      <th>ID83_pro_1</th>\n",
       "      <td>0.055704</td>\n",
       "    </tr>\n",
       "    <tr>\n",
       "      <th>ID83_def_1</th>\n",
       "      <td>0.048100</td>\n",
       "    </tr>\n",
       "    <tr>\n",
       "      <th>SBS96_pro_2</th>\n",
       "      <td>0.043200</td>\n",
       "    </tr>\n",
       "    <tr>\n",
       "      <th>ID83_pro_2</th>\n",
       "      <td>0.039632</td>\n",
       "    </tr>\n",
       "    <tr>\n",
       "      <th>SBS96_pro_1</th>\n",
       "      <td>0.031938</td>\n",
       "    </tr>\n",
       "    <tr>\n",
       "      <th>SBS96_def_3</th>\n",
       "      <td>0.027352</td>\n",
       "    </tr>\n",
       "    <tr>\n",
       "      <th>ID83_def_3</th>\n",
       "      <td>0.025728</td>\n",
       "    </tr>\n",
       "    <tr>\n",
       "      <th>ID83_def_2</th>\n",
       "      <td>0.021386</td>\n",
       "    </tr>\n",
       "    <tr>\n",
       "      <th>SBS96_def_1</th>\n",
       "      <td>0.017168</td>\n",
       "    </tr>\n",
       "    <tr>\n",
       "      <th>SBS96_pro_6</th>\n",
       "      <td>0.011792</td>\n",
       "    </tr>\n",
       "    <tr>\n",
       "      <th>ID83_pro_4</th>\n",
       "      <td>0.010031</td>\n",
       "    </tr>\n",
       "    <tr>\n",
       "      <th>SBS96_def_2</th>\n",
       "      <td>0.008823</td>\n",
       "    </tr>\n",
       "    <tr>\n",
       "      <th>ID83_pro_3</th>\n",
       "      <td>0.007384</td>\n",
       "    </tr>\n",
       "    <tr>\n",
       "      <th>SBS96_pro_5</th>\n",
       "      <td>0.004877</td>\n",
       "    </tr>\n",
       "    <tr>\n",
       "      <th>SBS96_def_4</th>\n",
       "      <td>0.004825</td>\n",
       "    </tr>\n",
       "    <tr>\n",
       "      <th>SBS96_pro_3</th>\n",
       "      <td>0.003972</td>\n",
       "    </tr>\n",
       "    <tr>\n",
       "      <th>ID83_pro_5</th>\n",
       "      <td>0.003876</td>\n",
       "    </tr>\n",
       "    <tr>\n",
       "      <th>SBS96_pro_4</th>\n",
       "      <td>0.003112</td>\n",
       "    </tr>\n",
       "    <tr>\n",
       "      <th>DBS78_pro_1</th>\n",
       "      <td>0.001260</td>\n",
       "    </tr>\n",
       "    <tr>\n",
       "      <th>DBS78_pro_2</th>\n",
       "      <td>0.000508</td>\n",
       "    </tr>\n",
       "    <tr>\n",
       "      <th>ID83_def_4</th>\n",
       "      <td>0.000363</td>\n",
       "    </tr>\n",
       "    <tr>\n",
       "      <th>DBS78_def_1</th>\n",
       "      <td>-0.001623</td>\n",
       "    </tr>\n",
       "  </tbody>\n",
       "</table>\n",
       "</div>"
      ],
      "text/plain": [
       "             importance\n",
       "ID83_pro_1     0.055704\n",
       "ID83_def_1     0.048100\n",
       "SBS96_pro_2    0.043200\n",
       "ID83_pro_2     0.039632\n",
       "SBS96_pro_1    0.031938\n",
       "SBS96_def_3    0.027352\n",
       "ID83_def_3     0.025728\n",
       "ID83_def_2     0.021386\n",
       "SBS96_def_1    0.017168\n",
       "SBS96_pro_6    0.011792\n",
       "ID83_pro_4     0.010031\n",
       "SBS96_def_2    0.008823\n",
       "ID83_pro_3     0.007384\n",
       "SBS96_pro_5    0.004877\n",
       "SBS96_def_4    0.004825\n",
       "SBS96_pro_3    0.003972\n",
       "ID83_pro_5     0.003876\n",
       "SBS96_pro_4    0.003112\n",
       "DBS78_pro_1    0.001260\n",
       "DBS78_pro_2    0.000508\n",
       "ID83_def_4     0.000363\n",
       "DBS78_def_1   -0.001623"
      ]
     },
     "execution_count": 11,
     "metadata": {},
     "output_type": "execute_result"
    }
   ],
   "source": [
    "HGSOC.model.importances"
   ]
  },
  {
   "cell_type": "markdown",
   "metadata": {},
   "source": [
    "One of the parameters that we can tweek in a model are the features to be used as inputs. For example we can select only the top 5 features in terms of importance."
   ]
  },
  {
   "cell_type": "code",
   "execution_count": 16,
   "metadata": {},
   "outputs": [
    {
     "data": {
      "text/plain": [
       "['ID83_pro_1', 'ID83_def_1', 'SBS96_pro_2', 'ID83_pro_2', 'SBS96_pro_1']"
      ]
     },
     "execution_count": 16,
     "metadata": {},
     "output_type": "execute_result"
    }
   ],
   "source": [
    "top_features=[]\n",
    "for i in range(0,5):\n",
    "    top_features.append(HGSOC.model.importances.index[i])\n",
    "top_features"
   ]
  },
  {
   "cell_type": "code",
   "execution_count": 17,
   "metadata": {},
   "outputs": [
    {
     "name": "stdout",
     "output_type": "stream",
     "text": [
      "Best: -0.118920 using {'activation': 'tanh', 'alpha': 1e-16, 'hidden_layer_sizes': 5, 'solver': 'lbfgs'}\n"
     ]
    },
    {
     "data": {
      "application/vnd.plotly.v1+json": {
       "config": {
        "plotlyServerURL": "https://plot.ly"
       },
       "data": [
        {
         "alignmentgroup": "True",
         "boxpoints": "all",
         "customdata": [
          [
           "AOCS_084"
          ],
          [
           "AOCS_159"
          ],
          [
           "SHGSOC081"
          ],
          [
           "DO31150"
          ],
          [
           "SHGSOC008"
          ],
          [
           "AOCS_124"
          ],
          [
           "SHGSOC010"
          ],
          [
           "DO28952"
          ],
          [
           "SHGSOC020"
          ],
          [
           "SHGSOC057"
          ],
          [
           "AOCS_078"
          ],
          [
           "AOCS_077"
          ]
         ],
         "fillcolor": "rgba(255,255,255,0)",
         "hoverlabel": {
          "namelength": 0
         },
         "hoveron": "points",
         "hovertemplate": "Sample type=Proficient<br>class=%{x}<br>prediction=%{y}<br>sample=%{customdata[0]}",
         "legendgroup": "Proficient",
         "line": {
          "color": "rgba(255,255,255,0)"
         },
         "marker": {
          "color": "#636efa"
         },
         "name": "Proficient",
         "offsetgroup": "Proficient",
         "orientation": "v",
         "pointpos": 0,
         "showlegend": true,
         "type": "box",
         "x": [
          -1,
          -1,
          -1,
          -1,
          -1,
          -1,
          -1,
          -1,
          -1,
          -1,
          -1,
          -1
         ],
         "x0": " ",
         "xaxis": "x",
         "y": [
          -1.000235789901366,
          -1.0002358428876734,
          -0.9998385065291407,
          1.0000998274994435,
          -1.0002357892807323,
          -1.0002357898026055,
          -0.9997788841416747,
          -1.0002357940615925,
          -1.0003675115655044,
          -1.0002354068946886,
          -0.9999190709018354,
          -1.0002357898074163
         ],
         "y0": " ",
         "yaxis": "y"
        },
        {
         "alignmentgroup": "True",
         "boxpoints": "all",
         "customdata": [
          [
           "SHGSOC022"
          ],
          [
           "DO28521"
          ],
          [
           "SHGSOC072"
          ],
          [
           "DO30220"
          ],
          [
           "AOCS_095"
          ],
          [
           "AOCS_104"
          ],
          [
           "SHGSOC009"
          ],
          [
           "AOCS_139"
          ],
          [
           "AOCS_088"
          ],
          [
           "AOCS_108"
          ],
          [
           "AOCS_079"
          ],
          [
           "AOCS_063"
          ],
          [
           "AOCS_065"
          ]
         ],
         "fillcolor": "rgba(255,255,255,0)",
         "hoverlabel": {
          "namelength": 0
         },
         "hoveron": "points",
         "hovertemplate": "Sample type=Deficient<br>class=%{x}<br>prediction=%{y}<br>sample=%{customdata[0]}",
         "legendgroup": "Deficient",
         "line": {
          "color": "rgba(255,255,255,0)"
         },
         "marker": {
          "color": "#EF553B"
         },
         "name": "Deficient",
         "offsetgroup": "Deficient",
         "orientation": "v",
         "pointpos": 0,
         "showlegend": true,
         "type": "box",
         "x": [
          1,
          1,
          1,
          1,
          1,
          1,
          1,
          1,
          1,
          1,
          1,
          1,
          1
         ],
         "x0": " ",
         "xaxis": "x",
         "y": [
          1.0002271064709667,
          1.0001076968063727,
          1.000134044661259,
          1.000189426643222,
          1.0001877332056828,
          0.9999595604141357,
          1.0001912079445525,
          1.0002246602220604,
          0.9998182616487602,
          0.9999480390332596,
          -1.0006168336639052,
          0.9997482681619418,
          0.9999762193229129
         ],
         "y0": " ",
         "yaxis": "y"
        },
        {
         "line": {
          "color": "orange",
          "dash": "dash",
          "width": 3
         },
         "mode": "lines",
         "name": "Margin",
         "type": "scatter",
         "x": [
          -1.5,
          1.5
         ],
         "y": [
          0.0004275420860418634,
          0.0004275420860418634
         ]
        }
       ],
       "layout": {
        "boxmode": "group",
        "legend": {
         "title": {
          "text": "Sample type"
         },
         "tracegroupgap": 0
        },
        "margin": {
         "t": 60
        },
        "template": {
         "data": {
          "bar": [
           {
            "error_x": {
             "color": "#2a3f5f"
            },
            "error_y": {
             "color": "#2a3f5f"
            },
            "marker": {
             "line": {
              "color": "#E5ECF6",
              "width": 0.5
             }
            },
            "type": "bar"
           }
          ],
          "barpolar": [
           {
            "marker": {
             "line": {
              "color": "#E5ECF6",
              "width": 0.5
             }
            },
            "type": "barpolar"
           }
          ],
          "carpet": [
           {
            "aaxis": {
             "endlinecolor": "#2a3f5f",
             "gridcolor": "white",
             "linecolor": "white",
             "minorgridcolor": "white",
             "startlinecolor": "#2a3f5f"
            },
            "baxis": {
             "endlinecolor": "#2a3f5f",
             "gridcolor": "white",
             "linecolor": "white",
             "minorgridcolor": "white",
             "startlinecolor": "#2a3f5f"
            },
            "type": "carpet"
           }
          ],
          "choropleth": [
           {
            "colorbar": {
             "outlinewidth": 0,
             "ticks": ""
            },
            "type": "choropleth"
           }
          ],
          "contour": [
           {
            "colorbar": {
             "outlinewidth": 0,
             "ticks": ""
            },
            "colorscale": [
             [
              0,
              "#0d0887"
             ],
             [
              0.1111111111111111,
              "#46039f"
             ],
             [
              0.2222222222222222,
              "#7201a8"
             ],
             [
              0.3333333333333333,
              "#9c179e"
             ],
             [
              0.4444444444444444,
              "#bd3786"
             ],
             [
              0.5555555555555556,
              "#d8576b"
             ],
             [
              0.6666666666666666,
              "#ed7953"
             ],
             [
              0.7777777777777778,
              "#fb9f3a"
             ],
             [
              0.8888888888888888,
              "#fdca26"
             ],
             [
              1,
              "#f0f921"
             ]
            ],
            "type": "contour"
           }
          ],
          "contourcarpet": [
           {
            "colorbar": {
             "outlinewidth": 0,
             "ticks": ""
            },
            "type": "contourcarpet"
           }
          ],
          "heatmap": [
           {
            "colorbar": {
             "outlinewidth": 0,
             "ticks": ""
            },
            "colorscale": [
             [
              0,
              "#0d0887"
             ],
             [
              0.1111111111111111,
              "#46039f"
             ],
             [
              0.2222222222222222,
              "#7201a8"
             ],
             [
              0.3333333333333333,
              "#9c179e"
             ],
             [
              0.4444444444444444,
              "#bd3786"
             ],
             [
              0.5555555555555556,
              "#d8576b"
             ],
             [
              0.6666666666666666,
              "#ed7953"
             ],
             [
              0.7777777777777778,
              "#fb9f3a"
             ],
             [
              0.8888888888888888,
              "#fdca26"
             ],
             [
              1,
              "#f0f921"
             ]
            ],
            "type": "heatmap"
           }
          ],
          "heatmapgl": [
           {
            "colorbar": {
             "outlinewidth": 0,
             "ticks": ""
            },
            "colorscale": [
             [
              0,
              "#0d0887"
             ],
             [
              0.1111111111111111,
              "#46039f"
             ],
             [
              0.2222222222222222,
              "#7201a8"
             ],
             [
              0.3333333333333333,
              "#9c179e"
             ],
             [
              0.4444444444444444,
              "#bd3786"
             ],
             [
              0.5555555555555556,
              "#d8576b"
             ],
             [
              0.6666666666666666,
              "#ed7953"
             ],
             [
              0.7777777777777778,
              "#fb9f3a"
             ],
             [
              0.8888888888888888,
              "#fdca26"
             ],
             [
              1,
              "#f0f921"
             ]
            ],
            "type": "heatmapgl"
           }
          ],
          "histogram": [
           {
            "marker": {
             "colorbar": {
              "outlinewidth": 0,
              "ticks": ""
             }
            },
            "type": "histogram"
           }
          ],
          "histogram2d": [
           {
            "colorbar": {
             "outlinewidth": 0,
             "ticks": ""
            },
            "colorscale": [
             [
              0,
              "#0d0887"
             ],
             [
              0.1111111111111111,
              "#46039f"
             ],
             [
              0.2222222222222222,
              "#7201a8"
             ],
             [
              0.3333333333333333,
              "#9c179e"
             ],
             [
              0.4444444444444444,
              "#bd3786"
             ],
             [
              0.5555555555555556,
              "#d8576b"
             ],
             [
              0.6666666666666666,
              "#ed7953"
             ],
             [
              0.7777777777777778,
              "#fb9f3a"
             ],
             [
              0.8888888888888888,
              "#fdca26"
             ],
             [
              1,
              "#f0f921"
             ]
            ],
            "type": "histogram2d"
           }
          ],
          "histogram2dcontour": [
           {
            "colorbar": {
             "outlinewidth": 0,
             "ticks": ""
            },
            "colorscale": [
             [
              0,
              "#0d0887"
             ],
             [
              0.1111111111111111,
              "#46039f"
             ],
             [
              0.2222222222222222,
              "#7201a8"
             ],
             [
              0.3333333333333333,
              "#9c179e"
             ],
             [
              0.4444444444444444,
              "#bd3786"
             ],
             [
              0.5555555555555556,
              "#d8576b"
             ],
             [
              0.6666666666666666,
              "#ed7953"
             ],
             [
              0.7777777777777778,
              "#fb9f3a"
             ],
             [
              0.8888888888888888,
              "#fdca26"
             ],
             [
              1,
              "#f0f921"
             ]
            ],
            "type": "histogram2dcontour"
           }
          ],
          "mesh3d": [
           {
            "colorbar": {
             "outlinewidth": 0,
             "ticks": ""
            },
            "type": "mesh3d"
           }
          ],
          "parcoords": [
           {
            "line": {
             "colorbar": {
              "outlinewidth": 0,
              "ticks": ""
             }
            },
            "type": "parcoords"
           }
          ],
          "pie": [
           {
            "automargin": true,
            "type": "pie"
           }
          ],
          "scatter": [
           {
            "marker": {
             "colorbar": {
              "outlinewidth": 0,
              "ticks": ""
             }
            },
            "type": "scatter"
           }
          ],
          "scatter3d": [
           {
            "line": {
             "colorbar": {
              "outlinewidth": 0,
              "ticks": ""
             }
            },
            "marker": {
             "colorbar": {
              "outlinewidth": 0,
              "ticks": ""
             }
            },
            "type": "scatter3d"
           }
          ],
          "scattercarpet": [
           {
            "marker": {
             "colorbar": {
              "outlinewidth": 0,
              "ticks": ""
             }
            },
            "type": "scattercarpet"
           }
          ],
          "scattergeo": [
           {
            "marker": {
             "colorbar": {
              "outlinewidth": 0,
              "ticks": ""
             }
            },
            "type": "scattergeo"
           }
          ],
          "scattergl": [
           {
            "marker": {
             "colorbar": {
              "outlinewidth": 0,
              "ticks": ""
             }
            },
            "type": "scattergl"
           }
          ],
          "scattermapbox": [
           {
            "marker": {
             "colorbar": {
              "outlinewidth": 0,
              "ticks": ""
             }
            },
            "type": "scattermapbox"
           }
          ],
          "scatterpolar": [
           {
            "marker": {
             "colorbar": {
              "outlinewidth": 0,
              "ticks": ""
             }
            },
            "type": "scatterpolar"
           }
          ],
          "scatterpolargl": [
           {
            "marker": {
             "colorbar": {
              "outlinewidth": 0,
              "ticks": ""
             }
            },
            "type": "scatterpolargl"
           }
          ],
          "scatterternary": [
           {
            "marker": {
             "colorbar": {
              "outlinewidth": 0,
              "ticks": ""
             }
            },
            "type": "scatterternary"
           }
          ],
          "surface": [
           {
            "colorbar": {
             "outlinewidth": 0,
             "ticks": ""
            },
            "colorscale": [
             [
              0,
              "#0d0887"
             ],
             [
              0.1111111111111111,
              "#46039f"
             ],
             [
              0.2222222222222222,
              "#7201a8"
             ],
             [
              0.3333333333333333,
              "#9c179e"
             ],
             [
              0.4444444444444444,
              "#bd3786"
             ],
             [
              0.5555555555555556,
              "#d8576b"
             ],
             [
              0.6666666666666666,
              "#ed7953"
             ],
             [
              0.7777777777777778,
              "#fb9f3a"
             ],
             [
              0.8888888888888888,
              "#fdca26"
             ],
             [
              1,
              "#f0f921"
             ]
            ],
            "type": "surface"
           }
          ],
          "table": [
           {
            "cells": {
             "fill": {
              "color": "#EBF0F8"
             },
             "line": {
              "color": "white"
             }
            },
            "header": {
             "fill": {
              "color": "#C8D4E3"
             },
             "line": {
              "color": "white"
             }
            },
            "type": "table"
           }
          ]
         },
         "layout": {
          "annotationdefaults": {
           "arrowcolor": "#2a3f5f",
           "arrowhead": 0,
           "arrowwidth": 1
          },
          "coloraxis": {
           "colorbar": {
            "outlinewidth": 0,
            "ticks": ""
           }
          },
          "colorscale": {
           "diverging": [
            [
             0,
             "#8e0152"
            ],
            [
             0.1,
             "#c51b7d"
            ],
            [
             0.2,
             "#de77ae"
            ],
            [
             0.3,
             "#f1b6da"
            ],
            [
             0.4,
             "#fde0ef"
            ],
            [
             0.5,
             "#f7f7f7"
            ],
            [
             0.6,
             "#e6f5d0"
            ],
            [
             0.7,
             "#b8e186"
            ],
            [
             0.8,
             "#7fbc41"
            ],
            [
             0.9,
             "#4d9221"
            ],
            [
             1,
             "#276419"
            ]
           ],
           "sequential": [
            [
             0,
             "#0d0887"
            ],
            [
             0.1111111111111111,
             "#46039f"
            ],
            [
             0.2222222222222222,
             "#7201a8"
            ],
            [
             0.3333333333333333,
             "#9c179e"
            ],
            [
             0.4444444444444444,
             "#bd3786"
            ],
            [
             0.5555555555555556,
             "#d8576b"
            ],
            [
             0.6666666666666666,
             "#ed7953"
            ],
            [
             0.7777777777777778,
             "#fb9f3a"
            ],
            [
             0.8888888888888888,
             "#fdca26"
            ],
            [
             1,
             "#f0f921"
            ]
           ],
           "sequentialminus": [
            [
             0,
             "#0d0887"
            ],
            [
             0.1111111111111111,
             "#46039f"
            ],
            [
             0.2222222222222222,
             "#7201a8"
            ],
            [
             0.3333333333333333,
             "#9c179e"
            ],
            [
             0.4444444444444444,
             "#bd3786"
            ],
            [
             0.5555555555555556,
             "#d8576b"
            ],
            [
             0.6666666666666666,
             "#ed7953"
            ],
            [
             0.7777777777777778,
             "#fb9f3a"
            ],
            [
             0.8888888888888888,
             "#fdca26"
            ],
            [
             1,
             "#f0f921"
            ]
           ]
          },
          "colorway": [
           "#636efa",
           "#EF553B",
           "#00cc96",
           "#ab63fa",
           "#FFA15A",
           "#19d3f3",
           "#FF6692",
           "#B6E880",
           "#FF97FF",
           "#FECB52"
          ],
          "font": {
           "color": "#2a3f5f"
          },
          "geo": {
           "bgcolor": "white",
           "lakecolor": "white",
           "landcolor": "#E5ECF6",
           "showlakes": true,
           "showland": true,
           "subunitcolor": "white"
          },
          "hoverlabel": {
           "align": "left"
          },
          "hovermode": "closest",
          "mapbox": {
           "style": "light"
          },
          "paper_bgcolor": "white",
          "plot_bgcolor": "#E5ECF6",
          "polar": {
           "angularaxis": {
            "gridcolor": "white",
            "linecolor": "white",
            "ticks": ""
           },
           "bgcolor": "#E5ECF6",
           "radialaxis": {
            "gridcolor": "white",
            "linecolor": "white",
            "ticks": ""
           }
          },
          "scene": {
           "xaxis": {
            "backgroundcolor": "#E5ECF6",
            "gridcolor": "white",
            "gridwidth": 2,
            "linecolor": "white",
            "showbackground": true,
            "ticks": "",
            "zerolinecolor": "white"
           },
           "yaxis": {
            "backgroundcolor": "#E5ECF6",
            "gridcolor": "white",
            "gridwidth": 2,
            "linecolor": "white",
            "showbackground": true,
            "ticks": "",
            "zerolinecolor": "white"
           },
           "zaxis": {
            "backgroundcolor": "#E5ECF6",
            "gridcolor": "white",
            "gridwidth": 2,
            "linecolor": "white",
            "showbackground": true,
            "ticks": "",
            "zerolinecolor": "white"
           }
          },
          "shapedefaults": {
           "line": {
            "color": "#2a3f5f"
           }
          },
          "ternary": {
           "aaxis": {
            "gridcolor": "white",
            "linecolor": "white",
            "ticks": ""
           },
           "baxis": {
            "gridcolor": "white",
            "linecolor": "white",
            "ticks": ""
           },
           "bgcolor": "#E5ECF6",
           "caxis": {
            "gridcolor": "white",
            "linecolor": "white",
            "ticks": ""
           }
          },
          "title": {
           "x": 0.05
          },
          "xaxis": {
           "automargin": true,
           "gridcolor": "white",
           "linecolor": "white",
           "ticks": "",
           "title": {
            "standoff": 15
           },
           "zerolinecolor": "white",
           "zerolinewidth": 2
          },
          "yaxis": {
           "automargin": true,
           "gridcolor": "white",
           "linecolor": "white",
           "ticks": "",
           "title": {
            "standoff": 15
           },
           "zerolinecolor": "white",
           "zerolinewidth": 2
          }
         }
        },
        "xaxis": {
         "anchor": "y",
         "domain": [
          0,
          1
         ],
         "title": {
          "text": "class"
         }
        },
        "yaxis": {
         "anchor": "x",
         "domain": [
          0,
          1
         ],
         "title": {
          "text": "prediction"
         }
        }
       }
      },
      "text/html": [
       "<div>\n",
       "        \n",
       "        \n",
       "            <div id=\"effc7eab-01d3-4c69-afc9-08d101bfb01c\" class=\"plotly-graph-div\" style=\"height:525px; width:100%;\"></div>\n",
       "            <script type=\"text/javascript\">\n",
       "                require([\"plotly\"], function(Plotly) {\n",
       "                    window.PLOTLYENV=window.PLOTLYENV || {};\n",
       "                    \n",
       "                if (document.getElementById(\"effc7eab-01d3-4c69-afc9-08d101bfb01c\")) {\n",
       "                    Plotly.newPlot(\n",
       "                        'effc7eab-01d3-4c69-afc9-08d101bfb01c',\n",
       "                        [{\"alignmentgroup\": \"True\", \"boxpoints\": \"all\", \"customdata\": [[\"AOCS_084\"], [\"AOCS_159\"], [\"SHGSOC081\"], [\"DO31150\"], [\"SHGSOC008\"], [\"AOCS_124\"], [\"SHGSOC010\"], [\"DO28952\"], [\"SHGSOC020\"], [\"SHGSOC057\"], [\"AOCS_078\"], [\"AOCS_077\"]], \"fillcolor\": \"rgba(255,255,255,0)\", \"hoverlabel\": {\"namelength\": 0}, \"hoveron\": \"points\", \"hovertemplate\": \"Sample type=Proficient<br>class=%{x}<br>prediction=%{y}<br>sample=%{customdata[0]}\", \"legendgroup\": \"Proficient\", \"line\": {\"color\": \"rgba(255,255,255,0)\"}, \"marker\": {\"color\": \"#636efa\"}, \"name\": \"Proficient\", \"offsetgroup\": \"Proficient\", \"orientation\": \"v\", \"pointpos\": 0, \"showlegend\": true, \"type\": \"box\", \"x\": [-1.0, -1.0, -1.0, -1.0, -1.0, -1.0, -1.0, -1.0, -1.0, -1.0, -1.0, -1.0], \"x0\": \" \", \"xaxis\": \"x\", \"y\": [-1.000235789901366, -1.0002358428876734, -0.9998385065291407, 1.0000998274994435, -1.0002357892807323, -1.0002357898026055, -0.9997788841416747, -1.0002357940615925, -1.0003675115655044, -1.0002354068946886, -0.9999190709018354, -1.0002357898074163], \"y0\": \" \", \"yaxis\": \"y\"}, {\"alignmentgroup\": \"True\", \"boxpoints\": \"all\", \"customdata\": [[\"SHGSOC022\"], [\"DO28521\"], [\"SHGSOC072\"], [\"DO30220\"], [\"AOCS_095\"], [\"AOCS_104\"], [\"SHGSOC009\"], [\"AOCS_139\"], [\"AOCS_088\"], [\"AOCS_108\"], [\"AOCS_079\"], [\"AOCS_063\"], [\"AOCS_065\"]], \"fillcolor\": \"rgba(255,255,255,0)\", \"hoverlabel\": {\"namelength\": 0}, \"hoveron\": \"points\", \"hovertemplate\": \"Sample type=Deficient<br>class=%{x}<br>prediction=%{y}<br>sample=%{customdata[0]}\", \"legendgroup\": \"Deficient\", \"line\": {\"color\": \"rgba(255,255,255,0)\"}, \"marker\": {\"color\": \"#EF553B\"}, \"name\": \"Deficient\", \"offsetgroup\": \"Deficient\", \"orientation\": \"v\", \"pointpos\": 0, \"showlegend\": true, \"type\": \"box\", \"x\": [1.0, 1.0, 1.0, 1.0, 1.0, 1.0, 1.0, 1.0, 1.0, 1.0, 1.0, 1.0, 1.0], \"x0\": \" \", \"xaxis\": \"x\", \"y\": [1.0002271064709667, 1.0001076968063727, 1.000134044661259, 1.000189426643222, 1.0001877332056828, 0.9999595604141357, 1.0001912079445525, 1.0002246602220604, 0.9998182616487602, 0.9999480390332596, -1.0006168336639052, 0.9997482681619418, 0.9999762193229129], \"y0\": \" \", \"yaxis\": \"y\"}, {\"line\": {\"color\": \"orange\", \"dash\": \"dash\", \"width\": 3}, \"mode\": \"lines\", \"name\": \"Margin\", \"type\": \"scatter\", \"x\": [-1.5, 1.5], \"y\": [0.0004275420860418634, 0.0004275420860418634]}],\n",
       "                        {\"boxmode\": \"group\", \"legend\": {\"title\": {\"text\": \"Sample type\"}, \"tracegroupgap\": 0}, \"margin\": {\"t\": 60}, \"template\": {\"data\": {\"bar\": [{\"error_x\": {\"color\": \"#2a3f5f\"}, \"error_y\": {\"color\": \"#2a3f5f\"}, \"marker\": {\"line\": {\"color\": \"#E5ECF6\", \"width\": 0.5}}, \"type\": \"bar\"}], \"barpolar\": [{\"marker\": {\"line\": {\"color\": \"#E5ECF6\", \"width\": 0.5}}, \"type\": \"barpolar\"}], \"carpet\": [{\"aaxis\": {\"endlinecolor\": \"#2a3f5f\", \"gridcolor\": \"white\", \"linecolor\": \"white\", \"minorgridcolor\": \"white\", \"startlinecolor\": \"#2a3f5f\"}, \"baxis\": {\"endlinecolor\": \"#2a3f5f\", \"gridcolor\": \"white\", \"linecolor\": \"white\", \"minorgridcolor\": \"white\", \"startlinecolor\": \"#2a3f5f\"}, \"type\": \"carpet\"}], \"choropleth\": [{\"colorbar\": {\"outlinewidth\": 0, \"ticks\": \"\"}, \"type\": \"choropleth\"}], \"contour\": [{\"colorbar\": {\"outlinewidth\": 0, \"ticks\": \"\"}, \"colorscale\": [[0.0, \"#0d0887\"], [0.1111111111111111, \"#46039f\"], [0.2222222222222222, \"#7201a8\"], [0.3333333333333333, \"#9c179e\"], [0.4444444444444444, \"#bd3786\"], [0.5555555555555556, \"#d8576b\"], [0.6666666666666666, \"#ed7953\"], [0.7777777777777778, \"#fb9f3a\"], [0.8888888888888888, \"#fdca26\"], [1.0, \"#f0f921\"]], \"type\": \"contour\"}], \"contourcarpet\": [{\"colorbar\": {\"outlinewidth\": 0, \"ticks\": \"\"}, \"type\": \"contourcarpet\"}], \"heatmap\": [{\"colorbar\": {\"outlinewidth\": 0, \"ticks\": \"\"}, \"colorscale\": [[0.0, \"#0d0887\"], [0.1111111111111111, \"#46039f\"], [0.2222222222222222, \"#7201a8\"], [0.3333333333333333, \"#9c179e\"], [0.4444444444444444, \"#bd3786\"], [0.5555555555555556, \"#d8576b\"], [0.6666666666666666, \"#ed7953\"], [0.7777777777777778, \"#fb9f3a\"], [0.8888888888888888, \"#fdca26\"], [1.0, \"#f0f921\"]], \"type\": \"heatmap\"}], \"heatmapgl\": [{\"colorbar\": {\"outlinewidth\": 0, \"ticks\": \"\"}, \"colorscale\": [[0.0, \"#0d0887\"], [0.1111111111111111, \"#46039f\"], [0.2222222222222222, \"#7201a8\"], [0.3333333333333333, \"#9c179e\"], [0.4444444444444444, \"#bd3786\"], [0.5555555555555556, \"#d8576b\"], [0.6666666666666666, \"#ed7953\"], [0.7777777777777778, \"#fb9f3a\"], [0.8888888888888888, \"#fdca26\"], [1.0, \"#f0f921\"]], \"type\": \"heatmapgl\"}], \"histogram\": [{\"marker\": {\"colorbar\": {\"outlinewidth\": 0, \"ticks\": \"\"}}, \"type\": \"histogram\"}], \"histogram2d\": [{\"colorbar\": {\"outlinewidth\": 0, \"ticks\": \"\"}, \"colorscale\": [[0.0, \"#0d0887\"], [0.1111111111111111, \"#46039f\"], [0.2222222222222222, \"#7201a8\"], [0.3333333333333333, \"#9c179e\"], [0.4444444444444444, \"#bd3786\"], [0.5555555555555556, \"#d8576b\"], [0.6666666666666666, \"#ed7953\"], [0.7777777777777778, \"#fb9f3a\"], [0.8888888888888888, \"#fdca26\"], [1.0, \"#f0f921\"]], \"type\": \"histogram2d\"}], \"histogram2dcontour\": [{\"colorbar\": {\"outlinewidth\": 0, \"ticks\": \"\"}, \"colorscale\": [[0.0, \"#0d0887\"], [0.1111111111111111, \"#46039f\"], [0.2222222222222222, \"#7201a8\"], [0.3333333333333333, \"#9c179e\"], [0.4444444444444444, \"#bd3786\"], [0.5555555555555556, \"#d8576b\"], [0.6666666666666666, \"#ed7953\"], [0.7777777777777778, \"#fb9f3a\"], [0.8888888888888888, \"#fdca26\"], [1.0, \"#f0f921\"]], \"type\": \"histogram2dcontour\"}], \"mesh3d\": [{\"colorbar\": {\"outlinewidth\": 0, \"ticks\": \"\"}, \"type\": \"mesh3d\"}], \"parcoords\": [{\"line\": {\"colorbar\": {\"outlinewidth\": 0, \"ticks\": \"\"}}, \"type\": \"parcoords\"}], \"pie\": [{\"automargin\": true, \"type\": \"pie\"}], \"scatter\": [{\"marker\": {\"colorbar\": {\"outlinewidth\": 0, \"ticks\": \"\"}}, \"type\": \"scatter\"}], \"scatter3d\": [{\"line\": {\"colorbar\": {\"outlinewidth\": 0, \"ticks\": \"\"}}, \"marker\": {\"colorbar\": {\"outlinewidth\": 0, \"ticks\": \"\"}}, \"type\": \"scatter3d\"}], \"scattercarpet\": [{\"marker\": {\"colorbar\": {\"outlinewidth\": 0, \"ticks\": \"\"}}, \"type\": \"scattercarpet\"}], \"scattergeo\": [{\"marker\": {\"colorbar\": {\"outlinewidth\": 0, \"ticks\": \"\"}}, \"type\": \"scattergeo\"}], \"scattergl\": [{\"marker\": {\"colorbar\": {\"outlinewidth\": 0, \"ticks\": \"\"}}, \"type\": \"scattergl\"}], \"scattermapbox\": [{\"marker\": {\"colorbar\": {\"outlinewidth\": 0, \"ticks\": \"\"}}, \"type\": \"scattermapbox\"}], \"scatterpolar\": [{\"marker\": {\"colorbar\": {\"outlinewidth\": 0, \"ticks\": \"\"}}, \"type\": \"scatterpolar\"}], \"scatterpolargl\": [{\"marker\": {\"colorbar\": {\"outlinewidth\": 0, \"ticks\": \"\"}}, \"type\": \"scatterpolargl\"}], \"scatterternary\": [{\"marker\": {\"colorbar\": {\"outlinewidth\": 0, \"ticks\": \"\"}}, \"type\": \"scatterternary\"}], \"surface\": [{\"colorbar\": {\"outlinewidth\": 0, \"ticks\": \"\"}, \"colorscale\": [[0.0, \"#0d0887\"], [0.1111111111111111, \"#46039f\"], [0.2222222222222222, \"#7201a8\"], [0.3333333333333333, \"#9c179e\"], [0.4444444444444444, \"#bd3786\"], [0.5555555555555556, \"#d8576b\"], [0.6666666666666666, \"#ed7953\"], [0.7777777777777778, \"#fb9f3a\"], [0.8888888888888888, \"#fdca26\"], [1.0, \"#f0f921\"]], \"type\": \"surface\"}], \"table\": [{\"cells\": {\"fill\": {\"color\": \"#EBF0F8\"}, \"line\": {\"color\": \"white\"}}, \"header\": {\"fill\": {\"color\": \"#C8D4E3\"}, \"line\": {\"color\": \"white\"}}, \"type\": \"table\"}]}, \"layout\": {\"annotationdefaults\": {\"arrowcolor\": \"#2a3f5f\", \"arrowhead\": 0, \"arrowwidth\": 1}, \"coloraxis\": {\"colorbar\": {\"outlinewidth\": 0, \"ticks\": \"\"}}, \"colorscale\": {\"diverging\": [[0, \"#8e0152\"], [0.1, \"#c51b7d\"], [0.2, \"#de77ae\"], [0.3, \"#f1b6da\"], [0.4, \"#fde0ef\"], [0.5, \"#f7f7f7\"], [0.6, \"#e6f5d0\"], [0.7, \"#b8e186\"], [0.8, \"#7fbc41\"], [0.9, \"#4d9221\"], [1, \"#276419\"]], \"sequential\": [[0.0, \"#0d0887\"], [0.1111111111111111, \"#46039f\"], [0.2222222222222222, \"#7201a8\"], [0.3333333333333333, \"#9c179e\"], [0.4444444444444444, \"#bd3786\"], [0.5555555555555556, \"#d8576b\"], [0.6666666666666666, \"#ed7953\"], [0.7777777777777778, \"#fb9f3a\"], [0.8888888888888888, \"#fdca26\"], [1.0, \"#f0f921\"]], \"sequentialminus\": [[0.0, \"#0d0887\"], [0.1111111111111111, \"#46039f\"], [0.2222222222222222, \"#7201a8\"], [0.3333333333333333, \"#9c179e\"], [0.4444444444444444, \"#bd3786\"], [0.5555555555555556, \"#d8576b\"], [0.6666666666666666, \"#ed7953\"], [0.7777777777777778, \"#fb9f3a\"], [0.8888888888888888, \"#fdca26\"], [1.0, \"#f0f921\"]]}, \"colorway\": [\"#636efa\", \"#EF553B\", \"#00cc96\", \"#ab63fa\", \"#FFA15A\", \"#19d3f3\", \"#FF6692\", \"#B6E880\", \"#FF97FF\", \"#FECB52\"], \"font\": {\"color\": \"#2a3f5f\"}, \"geo\": {\"bgcolor\": \"white\", \"lakecolor\": \"white\", \"landcolor\": \"#E5ECF6\", \"showlakes\": true, \"showland\": true, \"subunitcolor\": \"white\"}, \"hoverlabel\": {\"align\": \"left\"}, \"hovermode\": \"closest\", \"mapbox\": {\"style\": \"light\"}, \"paper_bgcolor\": \"white\", \"plot_bgcolor\": \"#E5ECF6\", \"polar\": {\"angularaxis\": {\"gridcolor\": \"white\", \"linecolor\": \"white\", \"ticks\": \"\"}, \"bgcolor\": \"#E5ECF6\", \"radialaxis\": {\"gridcolor\": \"white\", \"linecolor\": \"white\", \"ticks\": \"\"}}, \"scene\": {\"xaxis\": {\"backgroundcolor\": \"#E5ECF6\", \"gridcolor\": \"white\", \"gridwidth\": 2, \"linecolor\": \"white\", \"showbackground\": true, \"ticks\": \"\", \"zerolinecolor\": \"white\"}, \"yaxis\": {\"backgroundcolor\": \"#E5ECF6\", \"gridcolor\": \"white\", \"gridwidth\": 2, \"linecolor\": \"white\", \"showbackground\": true, \"ticks\": \"\", \"zerolinecolor\": \"white\"}, \"zaxis\": {\"backgroundcolor\": \"#E5ECF6\", \"gridcolor\": \"white\", \"gridwidth\": 2, \"linecolor\": \"white\", \"showbackground\": true, \"ticks\": \"\", \"zerolinecolor\": \"white\"}}, \"shapedefaults\": {\"line\": {\"color\": \"#2a3f5f\"}}, \"ternary\": {\"aaxis\": {\"gridcolor\": \"white\", \"linecolor\": \"white\", \"ticks\": \"\"}, \"baxis\": {\"gridcolor\": \"white\", \"linecolor\": \"white\", \"ticks\": \"\"}, \"bgcolor\": \"#E5ECF6\", \"caxis\": {\"gridcolor\": \"white\", \"linecolor\": \"white\", \"ticks\": \"\"}}, \"title\": {\"x\": 0.05}, \"xaxis\": {\"automargin\": true, \"gridcolor\": \"white\", \"linecolor\": \"white\", \"ticks\": \"\", \"title\": {\"standoff\": 15}, \"zerolinecolor\": \"white\", \"zerolinewidth\": 2}, \"yaxis\": {\"automargin\": true, \"gridcolor\": \"white\", \"linecolor\": \"white\", \"ticks\": \"\", \"title\": {\"standoff\": 15}, \"zerolinecolor\": \"white\", \"zerolinewidth\": 2}}}, \"xaxis\": {\"anchor\": \"y\", \"domain\": [0.0, 1.0], \"title\": {\"text\": \"class\"}}, \"yaxis\": {\"anchor\": \"x\", \"domain\": [0.0, 1.0], \"title\": {\"text\": \"prediction\"}}},\n",
       "                        {\"responsive\": true}\n",
       "                    ).then(function(){\n",
       "                            \n",
       "var gd = document.getElementById('effc7eab-01d3-4c69-afc9-08d101bfb01c');\n",
       "var x = new MutationObserver(function (mutations, observer) {{\n",
       "        var display = window.getComputedStyle(gd).display;\n",
       "        if (!display || display === 'none') {{\n",
       "            console.log([gd, 'removed!']);\n",
       "            Plotly.purge(gd);\n",
       "            observer.disconnect();\n",
       "        }}\n",
       "}});\n",
       "\n",
       "// Listen for the removal of the full notebook cells\n",
       "var notebookContainer = gd.closest('#notebook-container');\n",
       "if (notebookContainer) {{\n",
       "    x.observe(notebookContainer, {childList: true});\n",
       "}}\n",
       "\n",
       "// Listen for the clearing of the current output cell\n",
       "var outputEl = gd.closest('.output');\n",
       "if (outputEl) {{\n",
       "    x.observe(outputEl, {childList: true});\n",
       "}}\n",
       "\n",
       "                        })\n",
       "                };\n",
       "                });\n",
       "            </script>\n",
       "        </div>"
      ]
     },
     "metadata": {},
     "output_type": "display_data"
    }
   ],
   "source": [
    "HGSOC.model.features=top_features\n",
    "HGSOC.model_fit()\n",
    "HGSOC.test_check()"
   ]
  },
  {
   "cell_type": "markdown",
   "metadata": {},
   "source": [
    "## Predicting samples classification\n",
    "\n",
    "Once we are happy with a chosen model we can then predict the outcome of our model in the whole dataset using the  **.model_predict()** method, and acces the **.plot** attribute."
   ]
  },
  {
   "cell_type": "code",
   "execution_count": 18,
   "metadata": {
    "scrolled": false
   },
   "outputs": [
    {
     "data": {
      "application/vnd.plotly.v1+json": {
       "config": {
        "plotlyServerURL": "https://plot.ly"
       },
       "data": [
        {
         "alignmentgroup": "True",
         "boxpoints": "all",
         "customdata": [
          [
           "AOCS_079"
          ],
          [
           "SHGSOC051"
          ],
          [
           "DO32420"
          ],
          [
           "DO32237"
          ],
          [
           "AOCS_058"
          ],
          [
           "SHGSOC059"
          ],
          [
           "AOCS_105"
          ],
          [
           "AOCS_063"
          ],
          [
           "AOCS_131"
          ],
          [
           "DO30340"
          ],
          [
           "SHGSOC001"
          ],
          [
           "AOCS_088"
          ],
          [
           "AOCS_108"
          ],
          [
           "AOCS_104"
          ],
          [
           "AOCS_065"
          ],
          [
           "AOCS_152"
          ],
          [
           "DO32391"
          ],
          [
           "AOCS_143"
          ],
          [
           "DO30970"
          ],
          [
           "AOCS_146"
          ],
          [
           "AOCS_130"
          ],
          [
           "AOCS_147"
          ],
          [
           "AOCS_153"
          ],
          [
           "DO28119"
          ],
          [
           "DO28521"
          ],
          [
           "AOCS_145"
          ],
          [
           "AOCS_171"
          ],
          [
           "SHGSOC072"
          ],
          [
           "AOCS_034"
          ],
          [
           "SHGSOC007"
          ],
          [
           "DO28089"
          ],
          [
           "AOCS_122"
          ],
          [
           "AOCS_095"
          ],
          [
           "DO30220"
          ],
          [
           "SHGSOC009"
          ],
          [
           "AOCS_086"
          ],
          [
           "DO31869"
          ],
          [
           "AOCS_149"
          ],
          [
           "SHGSOC100"
          ],
          [
           "AOCS_139"
          ],
          [
           "DO28273"
          ],
          [
           "SHGSOC022"
          ]
         ],
         "fillcolor": "rgba(255,255,255,0)",
         "hoverlabel": {
          "namelength": 0
         },
         "hoveron": "points",
         "hovertemplate": "Sample type=Deficient<br>counter=%{x}<br>prediction=%{y}<br>sample=%{customdata[0]}",
         "legendgroup": "Deficient",
         "line": {
          "color": "rgba(255,255,255,0)"
         },
         "marker": {
          "color": "#636efa",
          "size": 5
         },
         "name": "Deficient",
         "offsetgroup": "Deficient",
         "orientation": "v",
         "pointpos": 0,
         "showlegend": true,
         "type": "box",
         "x": [
          0,
          102,
          103,
          104,
          106,
          107,
          110,
          111,
          114,
          115,
          116,
          119,
          124,
          127,
          128,
          129,
          130,
          133,
          138,
          139,
          141,
          142,
          144,
          145,
          147,
          151,
          152,
          155,
          156,
          158,
          159,
          160,
          171,
          172,
          173,
          174,
          176,
          177,
          180,
          181,
          182,
          183
         ],
         "x0": " ",
         "xaxis": "x",
         "y": [
          -1.0006168336639052,
          0.9985326516442822,
          0.9996483150195914,
          0.9996536459665281,
          0.9996832494286819,
          0.9996833801129028,
          0.9997313999877967,
          0.9997482681619418,
          0.9997907000729799,
          0.9997966525764758,
          0.9997971510126267,
          0.9998182616487602,
          0.9999480390332596,
          0.9999595604141357,
          0.9999762193229129,
          0.9999891251196987,
          0.9999908491788939,
          1.0000015484170357,
          1.0000313625189619,
          1.000034848224928,
          1.0000734838347767,
          1.000074760147056,
          1.0000855882634696,
          1.0000869468932407,
          1.0001076968063727,
          1.0001172423800513,
          1.0001278663919262,
          1.000134044661259,
          1.0001359090739825,
          1.0001375774483594,
          1.000139073903715,
          1.0001465580487832,
          1.0001877332056828,
          1.000189426643222,
          1.0001912079445525,
          1.0002008468542922,
          1.0002020066088924,
          1.000203412351329,
          1.000224204660945,
          1.0002246602220604,
          1.0002257322116643,
          1.0002271064709667
         ],
         "y0": " ",
         "yaxis": "y"
        },
        {
         "alignmentgroup": "True",
         "boxpoints": "all",
         "customdata": [
          [
           "AOCS_160"
          ],
          [
           "DO29146"
          ],
          [
           "DO30650"
          ],
          [
           "AOCS_113"
          ],
          [
           "DO28823"
          ],
          [
           "SHGSOC095"
          ],
          [
           "AOCS_057"
          ],
          [
           "AOCS_111"
          ],
          [
           "SHGSOC044"
          ],
          [
           "DO29970"
          ],
          [
           "AOCS_004"
          ],
          [
           "SHGSOC098"
          ],
          [
           "SHGSOC085"
          ],
          [
           "AOCS_005"
          ],
          [
           "AOCS_090"
          ],
          [
           "AOCS_061"
          ],
          [
           "DO29980"
          ],
          [
           "DO31420"
          ],
          [
           "AOCS_092"
          ],
          [
           "AOCS_169"
          ],
          [
           "AOCS_085"
          ],
          [
           "AOCS_002"
          ],
          [
           "AOCS_123"
          ],
          [
           "SHGSOC018"
          ],
          [
           "DO30060"
          ],
          [
           "SHGSOC027"
          ],
          [
           "AOCS_157"
          ],
          [
           "AOCS_097"
          ],
          [
           "SHGSOC023"
          ],
          [
           "SHGSOC037"
          ],
          [
           "DO27978"
          ],
          [
           "SHGSOC006"
          ],
          [
           "SHGSOC002"
          ],
          [
           "DO32646"
          ],
          [
           "AOCS_132"
          ],
          [
           "AOCS_166"
          ],
          [
           "SHGSOC092"
          ],
          [
           "SHGSOC084"
          ],
          [
           "SHGSOC025"
          ],
          [
           "AOCS_116"
          ],
          [
           "AOCS_133"
          ],
          [
           "AOCS_076"
          ],
          [
           "AOCS_080"
          ],
          [
           "AOCS_075"
          ],
          [
           "AOCS_115"
          ],
          [
           "DO28763"
          ],
          [
           "AOCS_083"
          ],
          [
           "SHGSOC015"
          ],
          [
           "SHGSOC078"
          ],
          [
           "SHGSOC075"
          ],
          [
           "SHGSOC054"
          ],
          [
           "AOCS_096"
          ],
          [
           "SHGSOC074"
          ],
          [
           "DO29850"
          ],
          [
           "DO28004"
          ],
          [
           "SHGSOC012"
          ],
          [
           "AOCS_056"
          ],
          [
           "SHGSOC031"
          ],
          [
           "AOCS_168"
          ],
          [
           "DO29760"
          ],
          [
           "DO31729"
          ],
          [
           "SHGSOC043"
          ],
          [
           "AOCS_112"
          ],
          [
           "AOCS_148"
          ],
          [
           "DO30090"
          ],
          [
           "DO28233"
          ],
          [
           "AOCS_114"
          ],
          [
           "AOCS_144"
          ],
          [
           "AOCS_126"
          ],
          [
           "AOCS_158"
          ],
          [
           "AOCS_106"
          ],
          [
           "DO31769"
          ],
          [
           "SHGSOC024"
          ],
          [
           "DO29398"
          ],
          [
           "AOCS_128"
          ],
          [
           "SHGSOC032"
          ],
          [
           "DO28093"
          ],
          [
           "SHGSOC062"
          ],
          [
           "AOCS_064"
          ],
          [
           "SHGSOC016"
          ],
          [
           "AOCS_055"
          ],
          [
           "AOCS_107"
          ],
          [
           "SHGSOC048"
          ],
          [
           "AOCS_164"
          ],
          [
           "DO32596"
          ],
          [
           "SHGSOC026"
          ],
          [
           "SHGSOC042"
          ],
          [
           "SHGSOC058"
          ],
          [
           "AOCS_125"
          ],
          [
           "SHGSOC063"
          ],
          [
           "AOCS_001"
          ],
          [
           "SHGSOC087"
          ],
          [
           "AOCS_093"
          ],
          [
           "AOCS_091"
          ],
          [
           "SHGSOC102"
          ],
          [
           "SHGSOC077"
          ],
          [
           "SHGSOC038"
          ],
          [
           "SHGSOC091"
          ],
          [
           "SHGSOC086"
          ],
          [
           "DO28962"
          ],
          [
           "SHGSOC047"
          ],
          [
           "DO30750"
          ],
          [
           "SHGSOC055"
          ],
          [
           "AOCS_094"
          ]
         ],
         "fillcolor": "rgba(255,255,255,0)",
         "hoverlabel": {
          "namelength": 0
         },
         "hoveron": "points",
         "hovertemplate": "Sample type=Unknown<br>counter=%{x}<br>prediction=%{y}<br>sample=%{customdata[0]}",
         "legendgroup": "Unknown",
         "line": {
          "color": "rgba(255,255,255,0)"
         },
         "marker": {
          "color": "#EF553B",
          "size": 5
         },
         "name": "Unknown",
         "offsetgroup": "Unknown",
         "orientation": "v",
         "pointpos": 0,
         "showlegend": true,
         "type": "box",
         "x": [
          1,
          2,
          5,
          6,
          7,
          10,
          12,
          13,
          15,
          17,
          18,
          19,
          20,
          22,
          23,
          24,
          26,
          28,
          29,
          33,
          35,
          37,
          43,
          44,
          46,
          47,
          48,
          51,
          52,
          53,
          54,
          55,
          56,
          57,
          62,
          64,
          65,
          66,
          67,
          69,
          70,
          71,
          72,
          75,
          77,
          78,
          80,
          82,
          83,
          86,
          87,
          88,
          92,
          93,
          94,
          95,
          96,
          97,
          98,
          99,
          100,
          101,
          105,
          108,
          109,
          112,
          113,
          117,
          118,
          120,
          121,
          122,
          123,
          125,
          126,
          131,
          132,
          134,
          135,
          136,
          137,
          140,
          143,
          148,
          149,
          150,
          153,
          154,
          157,
          161,
          162,
          163,
          164,
          165,
          166,
          167,
          168,
          169,
          170,
          175,
          178,
          179,
          184,
          185
         ],
         "x0": " ",
         "xaxis": "x",
         "y": [
          -1.0003753258878383,
          -1.0003739890526857,
          -1.0003733406563111,
          -1.0003730041754717,
          -1.0003690532340246,
          -1.0003668916830317,
          -1.0003489180940104,
          -1.0003483307471837,
          -1.0002519908944,
          -1.0002487449326554,
          -1.0002452018264845,
          -1.0002451059500854,
          -1.000240183235898,
          -1.0002372207023156,
          -1.000236281229733,
          -1.0002359276782844,
          -1.0002358038209747,
          -1.0002357979864192,
          -1.0002357979056218,
          -1.000235790128319,
          -1.0002357899703256,
          -1.0002357898469008,
          -1.0002357897938599,
          -1.0002357897207756,
          -1.0002357897074914,
          -1.000235789664359,
          -1.0002357896365952,
          -1.0002357862051612,
          -1.0002357848611316,
          -1.0002357847203562,
          -1.0002357543088658,
          -1.0002357436440947,
          -1.0002356348408363,
          -1.0002356308277767,
          -1.0002339800656057,
          -1.0002234135035604,
          -1.0002170903229013,
          -1.000216949331052,
          -1.000208000225087,
          -1.0001766488293613,
          -1.000175365205224,
          -1.0001597213073954,
          -1.0000765315454707,
          -0.999890884809309,
          -0.9998780201131411,
          -0.999875845940669,
          -0.9998755673615377,
          -0.999812417914889,
          -0.9997878884382855,
          -0.9997374251244173,
          -0.9995938793623943,
          -0.9993121407468325,
          -0.9831602414311116,
          -0.9694872683058827,
          -0.9607605521181162,
          -0.8047638575868521,
          -0.4342491420497128,
          0.32811192957139523,
          0.9109419443948538,
          0.9187446768573057,
          0.9477601936858666,
          0.9814688691078204,
          0.9996805820894272,
          0.9996878264328979,
          0.9997092915832486,
          0.9997670562045152,
          0.9997833065556259,
          0.9998053143972437,
          0.9998063827966063,
          0.9998380179511165,
          0.9998551603223775,
          0.999876954544681,
          0.9999307584662542,
          0.9999580608975766,
          0.9999593317631018,
          0.9999926192205146,
          0.9999981377444391,
          1.0000126319412315,
          1.0000132435697875,
          1.0000133158702167,
          1.0000140226277006,
          1.0000543672022129,
          1.0000752470379557,
          1.0001126712796908,
          1.0001143976687055,
          1.0001155090441103,
          1.0001300435203873,
          1.000131755113972,
          1.000137283342154,
          1.000147730386196,
          1.0001547009626783,
          1.0001551357066187,
          1.000172939081849,
          1.000178885080004,
          1.0001804219489,
          1.0001809455680652,
          1.0001827594595212,
          1.0001830188506262,
          1.0001848270285136,
          1.0002011787379117,
          1.0002063148185665,
          1.0002182459724198,
          1.000232978701001,
          1.0003855462505473
         ],
         "y0": " ",
         "yaxis": "y"
        },
        {
         "alignmentgroup": "True",
         "boxpoints": "all",
         "customdata": [
          [
           "AOCS_109"
          ],
          [
           "DO28053"
          ],
          [
           "SHGSOC061"
          ],
          [
           "SHGSOC020"
          ],
          [
           "AOCS_163"
          ],
          [
           "AOCS_170"
          ],
          [
           "DO28289"
          ],
          [
           "AOCS_165"
          ],
          [
           "AOCS_159"
          ],
          [
           "SHGSOC019"
          ],
          [
           "DO29940"
          ],
          [
           "DO28952"
          ],
          [
           "SHGSOC082"
          ],
          [
           "SHGSOC050"
          ],
          [
           "AOCS_084"
          ],
          [
           "DO29308"
          ],
          [
           "AOCS_162"
          ],
          [
           "DO31551"
          ],
          [
           "AOCS_077"
          ],
          [
           "AOCS_124"
          ],
          [
           "AOCS_060"
          ],
          [
           "AOCS_059"
          ],
          [
           "SHGSOC008"
          ],
          [
           "SHGSOC003"
          ],
          [
           "SHGSOC057"
          ],
          [
           "DO28873"
          ],
          [
           "AOCS_161"
          ],
          [
           "DO29820"
          ],
          [
           "DO28412"
          ],
          [
           "SHGSOC017"
          ],
          [
           "AOCS_078"
          ],
          [
           "DO28024"
          ],
          [
           "AOCS_081"
          ],
          [
           "SHGSOC081"
          ],
          [
           "SHGSOC010"
          ],
          [
           "SHGSOC045"
          ],
          [
           "DO30550"
          ],
          [
           "SHGSOC093"
          ],
          [
           "SHGSOC101"
          ],
          [
           "DO31150"
          ]
         ],
         "fillcolor": "rgba(255,255,255,0)",
         "hoverlabel": {
          "namelength": 0
         },
         "hoveron": "points",
         "hovertemplate": "Sample type=Proficient<br>counter=%{x}<br>prediction=%{y}<br>sample=%{customdata[0]}",
         "legendgroup": "Proficient",
         "line": {
          "color": "rgba(255,255,255,0)"
         },
         "marker": {
          "color": "#00cc96",
          "size": 5
         },
         "name": "Proficient",
         "offsetgroup": "Proficient",
         "orientation": "v",
         "pointpos": 0,
         "showlegend": true,
         "type": "box",
         "x": [
          3,
          4,
          8,
          9,
          11,
          14,
          16,
          21,
          25,
          27,
          30,
          31,
          32,
          34,
          36,
          38,
          39,
          40,
          41,
          42,
          45,
          49,
          50,
          58,
          59,
          60,
          61,
          63,
          68,
          73,
          74,
          76,
          79,
          81,
          84,
          85,
          89,
          90,
          91,
          146
         ],
         "x0": " ",
         "xaxis": "x",
         "y": [
          -1.000373793292494,
          -1.0003736284545977,
          -1.0003680036052955,
          -1.0003675115655044,
          -1.000362441416873,
          -1.000339118761081,
          -1.0002490278601537,
          -1.0002382248217623,
          -1.0002358428876734,
          -1.000235800419458,
          -1.0002357975586544,
          -1.0002357940615925,
          -1.0002357903393775,
          -1.0002357900748398,
          -1.000235789901366,
          -1.00023578984038,
          -1.0002357898385168,
          -1.0002357898291385,
          -1.0002357898074163,
          -1.0002357898026055,
          -1.0002357897099654,
          -1.00023578932016,
          -1.0002357892807323,
          -1.000235569932008,
          -1.0002354068946886,
          -1.0002346453390203,
          -1.0002341135870696,
          -1.0002253487856192,
          -1.0002019252288539,
          -0.9999623581656648,
          -0.9999190709018354,
          -0.9998790155725638,
          -0.9998758223393617,
          -0.9998385065291407,
          -0.9997788841416747,
          -0.999762378291516,
          -0.9988311706777444,
          -0.9987932404394363,
          -0.993871157849363,
          1.0000998274994435
         ],
         "y0": " ",
         "yaxis": "y"
        },
        {
         "line": {
          "color": "orange",
          "dash": "dash",
          "width": 3
         },
         "mode": "lines",
         "name": "Margin",
         "type": "scatter",
         "x": [
          0,
          185
         ],
         "y": [
          0.0004275420860418634,
          0.0004275420860418634
         ]
        }
       ],
       "layout": {
        "boxmode": "group",
        "legend": {
         "title": {
          "text": "Sample type"
         },
         "tracegroupgap": 0
        },
        "margin": {
         "t": 60
        },
        "template": {
         "data": {
          "bar": [
           {
            "error_x": {
             "color": "#2a3f5f"
            },
            "error_y": {
             "color": "#2a3f5f"
            },
            "marker": {
             "line": {
              "color": "#E5ECF6",
              "width": 0.5
             }
            },
            "type": "bar"
           }
          ],
          "barpolar": [
           {
            "marker": {
             "line": {
              "color": "#E5ECF6",
              "width": 0.5
             }
            },
            "type": "barpolar"
           }
          ],
          "carpet": [
           {
            "aaxis": {
             "endlinecolor": "#2a3f5f",
             "gridcolor": "white",
             "linecolor": "white",
             "minorgridcolor": "white",
             "startlinecolor": "#2a3f5f"
            },
            "baxis": {
             "endlinecolor": "#2a3f5f",
             "gridcolor": "white",
             "linecolor": "white",
             "minorgridcolor": "white",
             "startlinecolor": "#2a3f5f"
            },
            "type": "carpet"
           }
          ],
          "choropleth": [
           {
            "colorbar": {
             "outlinewidth": 0,
             "ticks": ""
            },
            "type": "choropleth"
           }
          ],
          "contour": [
           {
            "colorbar": {
             "outlinewidth": 0,
             "ticks": ""
            },
            "colorscale": [
             [
              0,
              "#0d0887"
             ],
             [
              0.1111111111111111,
              "#46039f"
             ],
             [
              0.2222222222222222,
              "#7201a8"
             ],
             [
              0.3333333333333333,
              "#9c179e"
             ],
             [
              0.4444444444444444,
              "#bd3786"
             ],
             [
              0.5555555555555556,
              "#d8576b"
             ],
             [
              0.6666666666666666,
              "#ed7953"
             ],
             [
              0.7777777777777778,
              "#fb9f3a"
             ],
             [
              0.8888888888888888,
              "#fdca26"
             ],
             [
              1,
              "#f0f921"
             ]
            ],
            "type": "contour"
           }
          ],
          "contourcarpet": [
           {
            "colorbar": {
             "outlinewidth": 0,
             "ticks": ""
            },
            "type": "contourcarpet"
           }
          ],
          "heatmap": [
           {
            "colorbar": {
             "outlinewidth": 0,
             "ticks": ""
            },
            "colorscale": [
             [
              0,
              "#0d0887"
             ],
             [
              0.1111111111111111,
              "#46039f"
             ],
             [
              0.2222222222222222,
              "#7201a8"
             ],
             [
              0.3333333333333333,
              "#9c179e"
             ],
             [
              0.4444444444444444,
              "#bd3786"
             ],
             [
              0.5555555555555556,
              "#d8576b"
             ],
             [
              0.6666666666666666,
              "#ed7953"
             ],
             [
              0.7777777777777778,
              "#fb9f3a"
             ],
             [
              0.8888888888888888,
              "#fdca26"
             ],
             [
              1,
              "#f0f921"
             ]
            ],
            "type": "heatmap"
           }
          ],
          "heatmapgl": [
           {
            "colorbar": {
             "outlinewidth": 0,
             "ticks": ""
            },
            "colorscale": [
             [
              0,
              "#0d0887"
             ],
             [
              0.1111111111111111,
              "#46039f"
             ],
             [
              0.2222222222222222,
              "#7201a8"
             ],
             [
              0.3333333333333333,
              "#9c179e"
             ],
             [
              0.4444444444444444,
              "#bd3786"
             ],
             [
              0.5555555555555556,
              "#d8576b"
             ],
             [
              0.6666666666666666,
              "#ed7953"
             ],
             [
              0.7777777777777778,
              "#fb9f3a"
             ],
             [
              0.8888888888888888,
              "#fdca26"
             ],
             [
              1,
              "#f0f921"
             ]
            ],
            "type": "heatmapgl"
           }
          ],
          "histogram": [
           {
            "marker": {
             "colorbar": {
              "outlinewidth": 0,
              "ticks": ""
             }
            },
            "type": "histogram"
           }
          ],
          "histogram2d": [
           {
            "colorbar": {
             "outlinewidth": 0,
             "ticks": ""
            },
            "colorscale": [
             [
              0,
              "#0d0887"
             ],
             [
              0.1111111111111111,
              "#46039f"
             ],
             [
              0.2222222222222222,
              "#7201a8"
             ],
             [
              0.3333333333333333,
              "#9c179e"
             ],
             [
              0.4444444444444444,
              "#bd3786"
             ],
             [
              0.5555555555555556,
              "#d8576b"
             ],
             [
              0.6666666666666666,
              "#ed7953"
             ],
             [
              0.7777777777777778,
              "#fb9f3a"
             ],
             [
              0.8888888888888888,
              "#fdca26"
             ],
             [
              1,
              "#f0f921"
             ]
            ],
            "type": "histogram2d"
           }
          ],
          "histogram2dcontour": [
           {
            "colorbar": {
             "outlinewidth": 0,
             "ticks": ""
            },
            "colorscale": [
             [
              0,
              "#0d0887"
             ],
             [
              0.1111111111111111,
              "#46039f"
             ],
             [
              0.2222222222222222,
              "#7201a8"
             ],
             [
              0.3333333333333333,
              "#9c179e"
             ],
             [
              0.4444444444444444,
              "#bd3786"
             ],
             [
              0.5555555555555556,
              "#d8576b"
             ],
             [
              0.6666666666666666,
              "#ed7953"
             ],
             [
              0.7777777777777778,
              "#fb9f3a"
             ],
             [
              0.8888888888888888,
              "#fdca26"
             ],
             [
              1,
              "#f0f921"
             ]
            ],
            "type": "histogram2dcontour"
           }
          ],
          "mesh3d": [
           {
            "colorbar": {
             "outlinewidth": 0,
             "ticks": ""
            },
            "type": "mesh3d"
           }
          ],
          "parcoords": [
           {
            "line": {
             "colorbar": {
              "outlinewidth": 0,
              "ticks": ""
             }
            },
            "type": "parcoords"
           }
          ],
          "pie": [
           {
            "automargin": true,
            "type": "pie"
           }
          ],
          "scatter": [
           {
            "marker": {
             "colorbar": {
              "outlinewidth": 0,
              "ticks": ""
             }
            },
            "type": "scatter"
           }
          ],
          "scatter3d": [
           {
            "line": {
             "colorbar": {
              "outlinewidth": 0,
              "ticks": ""
             }
            },
            "marker": {
             "colorbar": {
              "outlinewidth": 0,
              "ticks": ""
             }
            },
            "type": "scatter3d"
           }
          ],
          "scattercarpet": [
           {
            "marker": {
             "colorbar": {
              "outlinewidth": 0,
              "ticks": ""
             }
            },
            "type": "scattercarpet"
           }
          ],
          "scattergeo": [
           {
            "marker": {
             "colorbar": {
              "outlinewidth": 0,
              "ticks": ""
             }
            },
            "type": "scattergeo"
           }
          ],
          "scattergl": [
           {
            "marker": {
             "colorbar": {
              "outlinewidth": 0,
              "ticks": ""
             }
            },
            "type": "scattergl"
           }
          ],
          "scattermapbox": [
           {
            "marker": {
             "colorbar": {
              "outlinewidth": 0,
              "ticks": ""
             }
            },
            "type": "scattermapbox"
           }
          ],
          "scatterpolar": [
           {
            "marker": {
             "colorbar": {
              "outlinewidth": 0,
              "ticks": ""
             }
            },
            "type": "scatterpolar"
           }
          ],
          "scatterpolargl": [
           {
            "marker": {
             "colorbar": {
              "outlinewidth": 0,
              "ticks": ""
             }
            },
            "type": "scatterpolargl"
           }
          ],
          "scatterternary": [
           {
            "marker": {
             "colorbar": {
              "outlinewidth": 0,
              "ticks": ""
             }
            },
            "type": "scatterternary"
           }
          ],
          "surface": [
           {
            "colorbar": {
             "outlinewidth": 0,
             "ticks": ""
            },
            "colorscale": [
             [
              0,
              "#0d0887"
             ],
             [
              0.1111111111111111,
              "#46039f"
             ],
             [
              0.2222222222222222,
              "#7201a8"
             ],
             [
              0.3333333333333333,
              "#9c179e"
             ],
             [
              0.4444444444444444,
              "#bd3786"
             ],
             [
              0.5555555555555556,
              "#d8576b"
             ],
             [
              0.6666666666666666,
              "#ed7953"
             ],
             [
              0.7777777777777778,
              "#fb9f3a"
             ],
             [
              0.8888888888888888,
              "#fdca26"
             ],
             [
              1,
              "#f0f921"
             ]
            ],
            "type": "surface"
           }
          ],
          "table": [
           {
            "cells": {
             "fill": {
              "color": "#EBF0F8"
             },
             "line": {
              "color": "white"
             }
            },
            "header": {
             "fill": {
              "color": "#C8D4E3"
             },
             "line": {
              "color": "white"
             }
            },
            "type": "table"
           }
          ]
         },
         "layout": {
          "annotationdefaults": {
           "arrowcolor": "#2a3f5f",
           "arrowhead": 0,
           "arrowwidth": 1
          },
          "coloraxis": {
           "colorbar": {
            "outlinewidth": 0,
            "ticks": ""
           }
          },
          "colorscale": {
           "diverging": [
            [
             0,
             "#8e0152"
            ],
            [
             0.1,
             "#c51b7d"
            ],
            [
             0.2,
             "#de77ae"
            ],
            [
             0.3,
             "#f1b6da"
            ],
            [
             0.4,
             "#fde0ef"
            ],
            [
             0.5,
             "#f7f7f7"
            ],
            [
             0.6,
             "#e6f5d0"
            ],
            [
             0.7,
             "#b8e186"
            ],
            [
             0.8,
             "#7fbc41"
            ],
            [
             0.9,
             "#4d9221"
            ],
            [
             1,
             "#276419"
            ]
           ],
           "sequential": [
            [
             0,
             "#0d0887"
            ],
            [
             0.1111111111111111,
             "#46039f"
            ],
            [
             0.2222222222222222,
             "#7201a8"
            ],
            [
             0.3333333333333333,
             "#9c179e"
            ],
            [
             0.4444444444444444,
             "#bd3786"
            ],
            [
             0.5555555555555556,
             "#d8576b"
            ],
            [
             0.6666666666666666,
             "#ed7953"
            ],
            [
             0.7777777777777778,
             "#fb9f3a"
            ],
            [
             0.8888888888888888,
             "#fdca26"
            ],
            [
             1,
             "#f0f921"
            ]
           ],
           "sequentialminus": [
            [
             0,
             "#0d0887"
            ],
            [
             0.1111111111111111,
             "#46039f"
            ],
            [
             0.2222222222222222,
             "#7201a8"
            ],
            [
             0.3333333333333333,
             "#9c179e"
            ],
            [
             0.4444444444444444,
             "#bd3786"
            ],
            [
             0.5555555555555556,
             "#d8576b"
            ],
            [
             0.6666666666666666,
             "#ed7953"
            ],
            [
             0.7777777777777778,
             "#fb9f3a"
            ],
            [
             0.8888888888888888,
             "#fdca26"
            ],
            [
             1,
             "#f0f921"
            ]
           ]
          },
          "colorway": [
           "#636efa",
           "#EF553B",
           "#00cc96",
           "#ab63fa",
           "#FFA15A",
           "#19d3f3",
           "#FF6692",
           "#B6E880",
           "#FF97FF",
           "#FECB52"
          ],
          "font": {
           "color": "#2a3f5f"
          },
          "geo": {
           "bgcolor": "white",
           "lakecolor": "white",
           "landcolor": "#E5ECF6",
           "showlakes": true,
           "showland": true,
           "subunitcolor": "white"
          },
          "hoverlabel": {
           "align": "left"
          },
          "hovermode": "closest",
          "mapbox": {
           "style": "light"
          },
          "paper_bgcolor": "white",
          "plot_bgcolor": "#E5ECF6",
          "polar": {
           "angularaxis": {
            "gridcolor": "white",
            "linecolor": "white",
            "ticks": ""
           },
           "bgcolor": "#E5ECF6",
           "radialaxis": {
            "gridcolor": "white",
            "linecolor": "white",
            "ticks": ""
           }
          },
          "scene": {
           "xaxis": {
            "backgroundcolor": "#E5ECF6",
            "gridcolor": "white",
            "gridwidth": 2,
            "linecolor": "white",
            "showbackground": true,
            "ticks": "",
            "zerolinecolor": "white"
           },
           "yaxis": {
            "backgroundcolor": "#E5ECF6",
            "gridcolor": "white",
            "gridwidth": 2,
            "linecolor": "white",
            "showbackground": true,
            "ticks": "",
            "zerolinecolor": "white"
           },
           "zaxis": {
            "backgroundcolor": "#E5ECF6",
            "gridcolor": "white",
            "gridwidth": 2,
            "linecolor": "white",
            "showbackground": true,
            "ticks": "",
            "zerolinecolor": "white"
           }
          },
          "shapedefaults": {
           "line": {
            "color": "#2a3f5f"
           }
          },
          "ternary": {
           "aaxis": {
            "gridcolor": "white",
            "linecolor": "white",
            "ticks": ""
           },
           "baxis": {
            "gridcolor": "white",
            "linecolor": "white",
            "ticks": ""
           },
           "bgcolor": "#E5ECF6",
           "caxis": {
            "gridcolor": "white",
            "linecolor": "white",
            "ticks": ""
           }
          },
          "title": {
           "x": 0.05
          },
          "xaxis": {
           "automargin": true,
           "gridcolor": "white",
           "linecolor": "white",
           "ticks": "",
           "title": {
            "standoff": 15
           },
           "zerolinecolor": "white",
           "zerolinewidth": 2
          },
          "yaxis": {
           "automargin": true,
           "gridcolor": "white",
           "linecolor": "white",
           "ticks": "",
           "title": {
            "standoff": 15
           },
           "zerolinecolor": "white",
           "zerolinewidth": 2
          }
         }
        },
        "title": {
         "text": "MSclassifier model prediction. Model accuracy: 0.975609756097561"
        },
        "xaxis": {
         "anchor": "y",
         "domain": [
          0,
          1
         ],
         "title": {
          "text": "Samples"
         }
        },
        "yaxis": {
         "anchor": "x",
         "domain": [
          0,
          1
         ],
         "title": {
          "text": "Prediction"
         }
        }
       }
      },
      "text/html": [
       "<div>\n",
       "        \n",
       "        \n",
       "            <div id=\"40c569c2-d996-4811-afbd-b9bfe5525836\" class=\"plotly-graph-div\" style=\"height:525px; width:100%;\"></div>\n",
       "            <script type=\"text/javascript\">\n",
       "                require([\"plotly\"], function(Plotly) {\n",
       "                    window.PLOTLYENV=window.PLOTLYENV || {};\n",
       "                    \n",
       "                if (document.getElementById(\"40c569c2-d996-4811-afbd-b9bfe5525836\")) {\n",
       "                    Plotly.newPlot(\n",
       "                        '40c569c2-d996-4811-afbd-b9bfe5525836',\n",
       "                        [{\"alignmentgroup\": \"True\", \"boxpoints\": \"all\", \"customdata\": [[\"AOCS_079\"], [\"SHGSOC051\"], [\"DO32420\"], [\"DO32237\"], [\"AOCS_058\"], [\"SHGSOC059\"], [\"AOCS_105\"], [\"AOCS_063\"], [\"AOCS_131\"], [\"DO30340\"], [\"SHGSOC001\"], [\"AOCS_088\"], [\"AOCS_108\"], [\"AOCS_104\"], [\"AOCS_065\"], [\"AOCS_152\"], [\"DO32391\"], [\"AOCS_143\"], [\"DO30970\"], [\"AOCS_146\"], [\"AOCS_130\"], [\"AOCS_147\"], [\"AOCS_153\"], [\"DO28119\"], [\"DO28521\"], [\"AOCS_145\"], [\"AOCS_171\"], [\"SHGSOC072\"], [\"AOCS_034\"], [\"SHGSOC007\"], [\"DO28089\"], [\"AOCS_122\"], [\"AOCS_095\"], [\"DO30220\"], [\"SHGSOC009\"], [\"AOCS_086\"], [\"DO31869\"], [\"AOCS_149\"], [\"SHGSOC100\"], [\"AOCS_139\"], [\"DO28273\"], [\"SHGSOC022\"]], \"fillcolor\": \"rgba(255,255,255,0)\", \"hoverlabel\": {\"namelength\": 0}, \"hoveron\": \"points\", \"hovertemplate\": \"Sample type=Deficient<br>counter=%{x}<br>prediction=%{y}<br>sample=%{customdata[0]}\", \"legendgroup\": \"Deficient\", \"line\": {\"color\": \"rgba(255,255,255,0)\"}, \"marker\": {\"color\": \"#636efa\", \"size\": 5}, \"name\": \"Deficient\", \"offsetgroup\": \"Deficient\", \"orientation\": \"v\", \"pointpos\": 0, \"showlegend\": true, \"type\": \"box\", \"x\": [0, 102, 103, 104, 106, 107, 110, 111, 114, 115, 116, 119, 124, 127, 128, 129, 130, 133, 138, 139, 141, 142, 144, 145, 147, 151, 152, 155, 156, 158, 159, 160, 171, 172, 173, 174, 176, 177, 180, 181, 182, 183], \"x0\": \" \", \"xaxis\": \"x\", \"y\": [-1.0006168336639052, 0.9985326516442822, 0.9996483150195914, 0.9996536459665281, 0.9996832494286819, 0.9996833801129028, 0.9997313999877967, 0.9997482681619418, 0.9997907000729799, 0.9997966525764758, 0.9997971510126267, 0.9998182616487602, 0.9999480390332596, 0.9999595604141357, 0.9999762193229129, 0.9999891251196987, 0.9999908491788939, 1.0000015484170357, 1.0000313625189619, 1.000034848224928, 1.0000734838347767, 1.000074760147056, 1.0000855882634696, 1.0000869468932407, 1.0001076968063727, 1.0001172423800513, 1.0001278663919262, 1.000134044661259, 1.0001359090739825, 1.0001375774483594, 1.000139073903715, 1.0001465580487832, 1.0001877332056828, 1.000189426643222, 1.0001912079445525, 1.0002008468542922, 1.0002020066088924, 1.000203412351329, 1.000224204660945, 1.0002246602220604, 1.0002257322116643, 1.0002271064709667], \"y0\": \" \", \"yaxis\": \"y\"}, {\"alignmentgroup\": \"True\", \"boxpoints\": \"all\", \"customdata\": [[\"AOCS_160\"], [\"DO29146\"], [\"DO30650\"], [\"AOCS_113\"], [\"DO28823\"], [\"SHGSOC095\"], [\"AOCS_057\"], [\"AOCS_111\"], [\"SHGSOC044\"], [\"DO29970\"], [\"AOCS_004\"], [\"SHGSOC098\"], [\"SHGSOC085\"], [\"AOCS_005\"], [\"AOCS_090\"], [\"AOCS_061\"], [\"DO29980\"], [\"DO31420\"], [\"AOCS_092\"], [\"AOCS_169\"], [\"AOCS_085\"], [\"AOCS_002\"], [\"AOCS_123\"], [\"SHGSOC018\"], [\"DO30060\"], [\"SHGSOC027\"], [\"AOCS_157\"], [\"AOCS_097\"], [\"SHGSOC023\"], [\"SHGSOC037\"], [\"DO27978\"], [\"SHGSOC006\"], [\"SHGSOC002\"], [\"DO32646\"], [\"AOCS_132\"], [\"AOCS_166\"], [\"SHGSOC092\"], [\"SHGSOC084\"], [\"SHGSOC025\"], [\"AOCS_116\"], [\"AOCS_133\"], [\"AOCS_076\"], [\"AOCS_080\"], [\"AOCS_075\"], [\"AOCS_115\"], [\"DO28763\"], [\"AOCS_083\"], [\"SHGSOC015\"], [\"SHGSOC078\"], [\"SHGSOC075\"], [\"SHGSOC054\"], [\"AOCS_096\"], [\"SHGSOC074\"], [\"DO29850\"], [\"DO28004\"], [\"SHGSOC012\"], [\"AOCS_056\"], [\"SHGSOC031\"], [\"AOCS_168\"], [\"DO29760\"], [\"DO31729\"], [\"SHGSOC043\"], [\"AOCS_112\"], [\"AOCS_148\"], [\"DO30090\"], [\"DO28233\"], [\"AOCS_114\"], [\"AOCS_144\"], [\"AOCS_126\"], [\"AOCS_158\"], [\"AOCS_106\"], [\"DO31769\"], [\"SHGSOC024\"], [\"DO29398\"], [\"AOCS_128\"], [\"SHGSOC032\"], [\"DO28093\"], [\"SHGSOC062\"], [\"AOCS_064\"], [\"SHGSOC016\"], [\"AOCS_055\"], [\"AOCS_107\"], [\"SHGSOC048\"], [\"AOCS_164\"], [\"DO32596\"], [\"SHGSOC026\"], [\"SHGSOC042\"], [\"SHGSOC058\"], [\"AOCS_125\"], [\"SHGSOC063\"], [\"AOCS_001\"], [\"SHGSOC087\"], [\"AOCS_093\"], [\"AOCS_091\"], [\"SHGSOC102\"], [\"SHGSOC077\"], [\"SHGSOC038\"], [\"SHGSOC091\"], [\"SHGSOC086\"], [\"DO28962\"], [\"SHGSOC047\"], [\"DO30750\"], [\"SHGSOC055\"], [\"AOCS_094\"]], \"fillcolor\": \"rgba(255,255,255,0)\", \"hoverlabel\": {\"namelength\": 0}, \"hoveron\": \"points\", \"hovertemplate\": \"Sample type=Unknown<br>counter=%{x}<br>prediction=%{y}<br>sample=%{customdata[0]}\", \"legendgroup\": \"Unknown\", \"line\": {\"color\": \"rgba(255,255,255,0)\"}, \"marker\": {\"color\": \"#EF553B\", \"size\": 5}, \"name\": \"Unknown\", \"offsetgroup\": \"Unknown\", \"orientation\": \"v\", \"pointpos\": 0, \"showlegend\": true, \"type\": \"box\", \"x\": [1, 2, 5, 6, 7, 10, 12, 13, 15, 17, 18, 19, 20, 22, 23, 24, 26, 28, 29, 33, 35, 37, 43, 44, 46, 47, 48, 51, 52, 53, 54, 55, 56, 57, 62, 64, 65, 66, 67, 69, 70, 71, 72, 75, 77, 78, 80, 82, 83, 86, 87, 88, 92, 93, 94, 95, 96, 97, 98, 99, 100, 101, 105, 108, 109, 112, 113, 117, 118, 120, 121, 122, 123, 125, 126, 131, 132, 134, 135, 136, 137, 140, 143, 148, 149, 150, 153, 154, 157, 161, 162, 163, 164, 165, 166, 167, 168, 169, 170, 175, 178, 179, 184, 185], \"x0\": \" \", \"xaxis\": \"x\", \"y\": [-1.0003753258878383, -1.0003739890526857, -1.0003733406563111, -1.0003730041754717, -1.0003690532340246, -1.0003668916830317, -1.0003489180940104, -1.0003483307471837, -1.0002519908944, -1.0002487449326554, -1.0002452018264845, -1.0002451059500854, -1.000240183235898, -1.0002372207023156, -1.000236281229733, -1.0002359276782844, -1.0002358038209747, -1.0002357979864192, -1.0002357979056218, -1.000235790128319, -1.0002357899703256, -1.0002357898469008, -1.0002357897938599, -1.0002357897207756, -1.0002357897074914, -1.000235789664359, -1.0002357896365952, -1.0002357862051612, -1.0002357848611316, -1.0002357847203562, -1.0002357543088658, -1.0002357436440947, -1.0002356348408363, -1.0002356308277767, -1.0002339800656057, -1.0002234135035604, -1.0002170903229013, -1.000216949331052, -1.000208000225087, -1.0001766488293613, -1.000175365205224, -1.0001597213073954, -1.0000765315454707, -0.999890884809309, -0.9998780201131411, -0.999875845940669, -0.9998755673615377, -0.999812417914889, -0.9997878884382855, -0.9997374251244173, -0.9995938793623943, -0.9993121407468325, -0.9831602414311116, -0.9694872683058827, -0.9607605521181162, -0.8047638575868521, -0.4342491420497128, 0.32811192957139523, 0.9109419443948538, 0.9187446768573057, 0.9477601936858666, 0.9814688691078204, 0.9996805820894272, 0.9996878264328979, 0.9997092915832486, 0.9997670562045152, 0.9997833065556259, 0.9998053143972437, 0.9998063827966063, 0.9998380179511165, 0.9998551603223775, 0.999876954544681, 0.9999307584662542, 0.9999580608975766, 0.9999593317631018, 0.9999926192205146, 0.9999981377444391, 1.0000126319412315, 1.0000132435697875, 1.0000133158702167, 1.0000140226277006, 1.0000543672022129, 1.0000752470379557, 1.0001126712796908, 1.0001143976687055, 1.0001155090441103, 1.0001300435203873, 1.000131755113972, 1.000137283342154, 1.000147730386196, 1.0001547009626783, 1.0001551357066187, 1.000172939081849, 1.000178885080004, 1.0001804219489, 1.0001809455680652, 1.0001827594595212, 1.0001830188506262, 1.0001848270285136, 1.0002011787379117, 1.0002063148185665, 1.0002182459724198, 1.000232978701001, 1.0003855462505473], \"y0\": \" \", \"yaxis\": \"y\"}, {\"alignmentgroup\": \"True\", \"boxpoints\": \"all\", \"customdata\": [[\"AOCS_109\"], [\"DO28053\"], [\"SHGSOC061\"], [\"SHGSOC020\"], [\"AOCS_163\"], [\"AOCS_170\"], [\"DO28289\"], [\"AOCS_165\"], [\"AOCS_159\"], [\"SHGSOC019\"], [\"DO29940\"], [\"DO28952\"], [\"SHGSOC082\"], [\"SHGSOC050\"], [\"AOCS_084\"], [\"DO29308\"], [\"AOCS_162\"], [\"DO31551\"], [\"AOCS_077\"], [\"AOCS_124\"], [\"AOCS_060\"], [\"AOCS_059\"], [\"SHGSOC008\"], [\"SHGSOC003\"], [\"SHGSOC057\"], [\"DO28873\"], [\"AOCS_161\"], [\"DO29820\"], [\"DO28412\"], [\"SHGSOC017\"], [\"AOCS_078\"], [\"DO28024\"], [\"AOCS_081\"], [\"SHGSOC081\"], [\"SHGSOC010\"], [\"SHGSOC045\"], [\"DO30550\"], [\"SHGSOC093\"], [\"SHGSOC101\"], [\"DO31150\"]], \"fillcolor\": \"rgba(255,255,255,0)\", \"hoverlabel\": {\"namelength\": 0}, \"hoveron\": \"points\", \"hovertemplate\": \"Sample type=Proficient<br>counter=%{x}<br>prediction=%{y}<br>sample=%{customdata[0]}\", \"legendgroup\": \"Proficient\", \"line\": {\"color\": \"rgba(255,255,255,0)\"}, \"marker\": {\"color\": \"#00cc96\", \"size\": 5}, \"name\": \"Proficient\", \"offsetgroup\": \"Proficient\", \"orientation\": \"v\", \"pointpos\": 0, \"showlegend\": true, \"type\": \"box\", \"x\": [3, 4, 8, 9, 11, 14, 16, 21, 25, 27, 30, 31, 32, 34, 36, 38, 39, 40, 41, 42, 45, 49, 50, 58, 59, 60, 61, 63, 68, 73, 74, 76, 79, 81, 84, 85, 89, 90, 91, 146], \"x0\": \" \", \"xaxis\": \"x\", \"y\": [-1.000373793292494, -1.0003736284545977, -1.0003680036052955, -1.0003675115655044, -1.000362441416873, -1.000339118761081, -1.0002490278601537, -1.0002382248217623, -1.0002358428876734, -1.000235800419458, -1.0002357975586544, -1.0002357940615925, -1.0002357903393775, -1.0002357900748398, -1.000235789901366, -1.00023578984038, -1.0002357898385168, -1.0002357898291385, -1.0002357898074163, -1.0002357898026055, -1.0002357897099654, -1.00023578932016, -1.0002357892807323, -1.000235569932008, -1.0002354068946886, -1.0002346453390203, -1.0002341135870696, -1.0002253487856192, -1.0002019252288539, -0.9999623581656648, -0.9999190709018354, -0.9998790155725638, -0.9998758223393617, -0.9998385065291407, -0.9997788841416747, -0.999762378291516, -0.9988311706777444, -0.9987932404394363, -0.993871157849363, 1.0000998274994435], \"y0\": \" \", \"yaxis\": \"y\"}, {\"line\": {\"color\": \"orange\", \"dash\": \"dash\", \"width\": 3}, \"mode\": \"lines\", \"name\": \"Margin\", \"type\": \"scatter\", \"x\": [0, 185], \"y\": [0.0004275420860418634, 0.0004275420860418634]}],\n",
       "                        {\"boxmode\": \"group\", \"legend\": {\"title\": {\"text\": \"Sample type\"}, \"tracegroupgap\": 0}, \"margin\": {\"t\": 60}, \"template\": {\"data\": {\"bar\": [{\"error_x\": {\"color\": \"#2a3f5f\"}, \"error_y\": {\"color\": \"#2a3f5f\"}, \"marker\": {\"line\": {\"color\": \"#E5ECF6\", \"width\": 0.5}}, \"type\": \"bar\"}], \"barpolar\": [{\"marker\": {\"line\": {\"color\": \"#E5ECF6\", \"width\": 0.5}}, \"type\": \"barpolar\"}], \"carpet\": [{\"aaxis\": {\"endlinecolor\": \"#2a3f5f\", \"gridcolor\": \"white\", \"linecolor\": \"white\", \"minorgridcolor\": \"white\", \"startlinecolor\": \"#2a3f5f\"}, \"baxis\": {\"endlinecolor\": \"#2a3f5f\", \"gridcolor\": \"white\", \"linecolor\": \"white\", \"minorgridcolor\": \"white\", \"startlinecolor\": \"#2a3f5f\"}, \"type\": \"carpet\"}], \"choropleth\": [{\"colorbar\": {\"outlinewidth\": 0, \"ticks\": \"\"}, \"type\": \"choropleth\"}], \"contour\": [{\"colorbar\": {\"outlinewidth\": 0, \"ticks\": \"\"}, \"colorscale\": [[0.0, \"#0d0887\"], [0.1111111111111111, \"#46039f\"], [0.2222222222222222, \"#7201a8\"], [0.3333333333333333, \"#9c179e\"], [0.4444444444444444, \"#bd3786\"], [0.5555555555555556, \"#d8576b\"], [0.6666666666666666, \"#ed7953\"], [0.7777777777777778, \"#fb9f3a\"], [0.8888888888888888, \"#fdca26\"], [1.0, \"#f0f921\"]], \"type\": \"contour\"}], \"contourcarpet\": [{\"colorbar\": {\"outlinewidth\": 0, \"ticks\": \"\"}, \"type\": \"contourcarpet\"}], \"heatmap\": [{\"colorbar\": {\"outlinewidth\": 0, \"ticks\": \"\"}, \"colorscale\": [[0.0, \"#0d0887\"], [0.1111111111111111, \"#46039f\"], [0.2222222222222222, \"#7201a8\"], [0.3333333333333333, \"#9c179e\"], [0.4444444444444444, \"#bd3786\"], [0.5555555555555556, \"#d8576b\"], [0.6666666666666666, \"#ed7953\"], [0.7777777777777778, \"#fb9f3a\"], [0.8888888888888888, \"#fdca26\"], [1.0, \"#f0f921\"]], \"type\": \"heatmap\"}], \"heatmapgl\": [{\"colorbar\": {\"outlinewidth\": 0, \"ticks\": \"\"}, \"colorscale\": [[0.0, \"#0d0887\"], [0.1111111111111111, \"#46039f\"], [0.2222222222222222, \"#7201a8\"], [0.3333333333333333, \"#9c179e\"], [0.4444444444444444, \"#bd3786\"], [0.5555555555555556, \"#d8576b\"], [0.6666666666666666, \"#ed7953\"], [0.7777777777777778, \"#fb9f3a\"], [0.8888888888888888, \"#fdca26\"], [1.0, \"#f0f921\"]], \"type\": \"heatmapgl\"}], \"histogram\": [{\"marker\": {\"colorbar\": {\"outlinewidth\": 0, \"ticks\": \"\"}}, \"type\": \"histogram\"}], \"histogram2d\": [{\"colorbar\": {\"outlinewidth\": 0, \"ticks\": \"\"}, \"colorscale\": [[0.0, \"#0d0887\"], [0.1111111111111111, \"#46039f\"], [0.2222222222222222, \"#7201a8\"], [0.3333333333333333, \"#9c179e\"], [0.4444444444444444, \"#bd3786\"], [0.5555555555555556, \"#d8576b\"], [0.6666666666666666, \"#ed7953\"], [0.7777777777777778, \"#fb9f3a\"], [0.8888888888888888, \"#fdca26\"], [1.0, \"#f0f921\"]], \"type\": \"histogram2d\"}], \"histogram2dcontour\": [{\"colorbar\": {\"outlinewidth\": 0, \"ticks\": \"\"}, \"colorscale\": [[0.0, \"#0d0887\"], [0.1111111111111111, \"#46039f\"], [0.2222222222222222, \"#7201a8\"], [0.3333333333333333, \"#9c179e\"], [0.4444444444444444, \"#bd3786\"], [0.5555555555555556, \"#d8576b\"], [0.6666666666666666, \"#ed7953\"], [0.7777777777777778, \"#fb9f3a\"], [0.8888888888888888, \"#fdca26\"], [1.0, \"#f0f921\"]], \"type\": \"histogram2dcontour\"}], \"mesh3d\": [{\"colorbar\": {\"outlinewidth\": 0, \"ticks\": \"\"}, \"type\": \"mesh3d\"}], \"parcoords\": [{\"line\": {\"colorbar\": {\"outlinewidth\": 0, \"ticks\": \"\"}}, \"type\": \"parcoords\"}], \"pie\": [{\"automargin\": true, \"type\": \"pie\"}], \"scatter\": [{\"marker\": {\"colorbar\": {\"outlinewidth\": 0, \"ticks\": \"\"}}, \"type\": \"scatter\"}], \"scatter3d\": [{\"line\": {\"colorbar\": {\"outlinewidth\": 0, \"ticks\": \"\"}}, \"marker\": {\"colorbar\": {\"outlinewidth\": 0, \"ticks\": \"\"}}, \"type\": \"scatter3d\"}], \"scattercarpet\": [{\"marker\": {\"colorbar\": {\"outlinewidth\": 0, \"ticks\": \"\"}}, \"type\": \"scattercarpet\"}], \"scattergeo\": [{\"marker\": {\"colorbar\": {\"outlinewidth\": 0, \"ticks\": \"\"}}, \"type\": \"scattergeo\"}], \"scattergl\": [{\"marker\": {\"colorbar\": {\"outlinewidth\": 0, \"ticks\": \"\"}}, \"type\": \"scattergl\"}], \"scattermapbox\": [{\"marker\": {\"colorbar\": {\"outlinewidth\": 0, \"ticks\": \"\"}}, \"type\": \"scattermapbox\"}], \"scatterpolar\": [{\"marker\": {\"colorbar\": {\"outlinewidth\": 0, \"ticks\": \"\"}}, \"type\": \"scatterpolar\"}], \"scatterpolargl\": [{\"marker\": {\"colorbar\": {\"outlinewidth\": 0, \"ticks\": \"\"}}, \"type\": \"scatterpolargl\"}], \"scatterternary\": [{\"marker\": {\"colorbar\": {\"outlinewidth\": 0, \"ticks\": \"\"}}, \"type\": \"scatterternary\"}], \"surface\": [{\"colorbar\": {\"outlinewidth\": 0, \"ticks\": \"\"}, \"colorscale\": [[0.0, \"#0d0887\"], [0.1111111111111111, \"#46039f\"], [0.2222222222222222, \"#7201a8\"], [0.3333333333333333, \"#9c179e\"], [0.4444444444444444, \"#bd3786\"], [0.5555555555555556, \"#d8576b\"], [0.6666666666666666, \"#ed7953\"], [0.7777777777777778, \"#fb9f3a\"], [0.8888888888888888, \"#fdca26\"], [1.0, \"#f0f921\"]], \"type\": \"surface\"}], \"table\": [{\"cells\": {\"fill\": {\"color\": \"#EBF0F8\"}, \"line\": {\"color\": \"white\"}}, \"header\": {\"fill\": {\"color\": \"#C8D4E3\"}, \"line\": {\"color\": \"white\"}}, \"type\": \"table\"}]}, \"layout\": {\"annotationdefaults\": {\"arrowcolor\": \"#2a3f5f\", \"arrowhead\": 0, \"arrowwidth\": 1}, \"coloraxis\": {\"colorbar\": {\"outlinewidth\": 0, \"ticks\": \"\"}}, \"colorscale\": {\"diverging\": [[0, \"#8e0152\"], [0.1, \"#c51b7d\"], [0.2, \"#de77ae\"], [0.3, \"#f1b6da\"], [0.4, \"#fde0ef\"], [0.5, \"#f7f7f7\"], [0.6, \"#e6f5d0\"], [0.7, \"#b8e186\"], [0.8, \"#7fbc41\"], [0.9, \"#4d9221\"], [1, \"#276419\"]], \"sequential\": [[0.0, \"#0d0887\"], [0.1111111111111111, \"#46039f\"], [0.2222222222222222, \"#7201a8\"], [0.3333333333333333, \"#9c179e\"], [0.4444444444444444, \"#bd3786\"], [0.5555555555555556, \"#d8576b\"], [0.6666666666666666, \"#ed7953\"], [0.7777777777777778, \"#fb9f3a\"], [0.8888888888888888, \"#fdca26\"], [1.0, \"#f0f921\"]], \"sequentialminus\": [[0.0, \"#0d0887\"], [0.1111111111111111, \"#46039f\"], [0.2222222222222222, \"#7201a8\"], [0.3333333333333333, \"#9c179e\"], [0.4444444444444444, \"#bd3786\"], [0.5555555555555556, \"#d8576b\"], [0.6666666666666666, \"#ed7953\"], [0.7777777777777778, \"#fb9f3a\"], [0.8888888888888888, \"#fdca26\"], [1.0, \"#f0f921\"]]}, \"colorway\": [\"#636efa\", \"#EF553B\", \"#00cc96\", \"#ab63fa\", \"#FFA15A\", \"#19d3f3\", \"#FF6692\", \"#B6E880\", \"#FF97FF\", \"#FECB52\"], \"font\": {\"color\": \"#2a3f5f\"}, \"geo\": {\"bgcolor\": \"white\", \"lakecolor\": \"white\", \"landcolor\": \"#E5ECF6\", \"showlakes\": true, \"showland\": true, \"subunitcolor\": \"white\"}, \"hoverlabel\": {\"align\": \"left\"}, \"hovermode\": \"closest\", \"mapbox\": {\"style\": \"light\"}, \"paper_bgcolor\": \"white\", \"plot_bgcolor\": \"#E5ECF6\", \"polar\": {\"angularaxis\": {\"gridcolor\": \"white\", \"linecolor\": \"white\", \"ticks\": \"\"}, \"bgcolor\": \"#E5ECF6\", \"radialaxis\": {\"gridcolor\": \"white\", \"linecolor\": \"white\", \"ticks\": \"\"}}, \"scene\": {\"xaxis\": {\"backgroundcolor\": \"#E5ECF6\", \"gridcolor\": \"white\", \"gridwidth\": 2, \"linecolor\": \"white\", \"showbackground\": true, \"ticks\": \"\", \"zerolinecolor\": \"white\"}, \"yaxis\": {\"backgroundcolor\": \"#E5ECF6\", \"gridcolor\": \"white\", \"gridwidth\": 2, \"linecolor\": \"white\", \"showbackground\": true, \"ticks\": \"\", \"zerolinecolor\": \"white\"}, \"zaxis\": {\"backgroundcolor\": \"#E5ECF6\", \"gridcolor\": \"white\", \"gridwidth\": 2, \"linecolor\": \"white\", \"showbackground\": true, \"ticks\": \"\", \"zerolinecolor\": \"white\"}}, \"shapedefaults\": {\"line\": {\"color\": \"#2a3f5f\"}}, \"ternary\": {\"aaxis\": {\"gridcolor\": \"white\", \"linecolor\": \"white\", \"ticks\": \"\"}, \"baxis\": {\"gridcolor\": \"white\", \"linecolor\": \"white\", \"ticks\": \"\"}, \"bgcolor\": \"#E5ECF6\", \"caxis\": {\"gridcolor\": \"white\", \"linecolor\": \"white\", \"ticks\": \"\"}}, \"title\": {\"x\": 0.05}, \"xaxis\": {\"automargin\": true, \"gridcolor\": \"white\", \"linecolor\": \"white\", \"ticks\": \"\", \"title\": {\"standoff\": 15}, \"zerolinecolor\": \"white\", \"zerolinewidth\": 2}, \"yaxis\": {\"automargin\": true, \"gridcolor\": \"white\", \"linecolor\": \"white\", \"ticks\": \"\", \"title\": {\"standoff\": 15}, \"zerolinecolor\": \"white\", \"zerolinewidth\": 2}}}, \"title\": {\"text\": \"MSclassifier model prediction. Model accuracy: 0.975609756097561\"}, \"xaxis\": {\"anchor\": \"y\", \"domain\": [0.0, 1.0], \"title\": {\"text\": \"Samples\"}}, \"yaxis\": {\"anchor\": \"x\", \"domain\": [0.0, 1.0], \"title\": {\"text\": \"Prediction\"}}},\n",
       "                        {\"responsive\": true}\n",
       "                    ).then(function(){\n",
       "                            \n",
       "var gd = document.getElementById('40c569c2-d996-4811-afbd-b9bfe5525836');\n",
       "var x = new MutationObserver(function (mutations, observer) {{\n",
       "        var display = window.getComputedStyle(gd).display;\n",
       "        if (!display || display === 'none') {{\n",
       "            console.log([gd, 'removed!']);\n",
       "            Plotly.purge(gd);\n",
       "            observer.disconnect();\n",
       "        }}\n",
       "}});\n",
       "\n",
       "// Listen for the removal of the full notebook cells\n",
       "var notebookContainer = gd.closest('#notebook-container');\n",
       "if (notebookContainer) {{\n",
       "    x.observe(notebookContainer, {childList: true});\n",
       "}}\n",
       "\n",
       "// Listen for the clearing of the current output cell\n",
       "var outputEl = gd.closest('.output');\n",
       "if (outputEl) {{\n",
       "    x.observe(outputEl, {childList: true});\n",
       "}}\n",
       "\n",
       "                        })\n",
       "                };\n",
       "                });\n",
       "            </script>\n",
       "        </div>"
      ]
     },
     "metadata": {},
     "output_type": "display_data"
    }
   ],
   "source": [
    "HGSOC.model_predict()\n",
    "HGSOC.plot.show()"
   ]
  },
  {
   "cell_type": "markdown",
   "metadata": {},
   "source": [
    "A new row has been added to the dataset, containing the binary prediction based on the margin maximizer threshold."
   ]
  },
  {
   "cell_type": "code",
   "execution_count": 19,
   "metadata": {},
   "outputs": [
    {
     "data": {
      "text/html": [
       "<div>\n",
       "<style scoped>\n",
       "    .dataframe tbody tr th:only-of-type {\n",
       "        vertical-align: middle;\n",
       "    }\n",
       "\n",
       "    .dataframe tbody tr th {\n",
       "        vertical-align: top;\n",
       "    }\n",
       "\n",
       "    .dataframe thead th {\n",
       "        text-align: right;\n",
       "    }\n",
       "</style>\n",
       "<table border=\"1\" class=\"dataframe\">\n",
       "  <thead>\n",
       "    <tr style=\"text-align: right;\">\n",
       "      <th></th>\n",
       "      <th>sample</th>\n",
       "      <th>class</th>\n",
       "      <th>Sample type</th>\n",
       "      <th>training</th>\n",
       "      <th>SBS96_pro_1</th>\n",
       "      <th>SBS96_pro_2</th>\n",
       "      <th>SBS96_pro_3</th>\n",
       "      <th>SBS96_pro_4</th>\n",
       "      <th>SBS96_pro_5</th>\n",
       "      <th>SBS96_pro_6</th>\n",
       "      <th>...</th>\n",
       "      <th>ID83_pro_5</th>\n",
       "      <th>ID83_def_1</th>\n",
       "      <th>ID83_def_2</th>\n",
       "      <th>ID83_def_3</th>\n",
       "      <th>ID83_def_4</th>\n",
       "      <th>DBS78_pro_1</th>\n",
       "      <th>DBS78_pro_2</th>\n",
       "      <th>DBS78_def_1</th>\n",
       "      <th>prediction</th>\n",
       "      <th>SVM prediction</th>\n",
       "    </tr>\n",
       "  </thead>\n",
       "  <tbody>\n",
       "    <tr>\n",
       "      <th>0</th>\n",
       "      <td>AOCS_084</td>\n",
       "      <td>-1.0</td>\n",
       "      <td>Proficient</td>\n",
       "      <td>0</td>\n",
       "      <td>1.697787</td>\n",
       "      <td>1.150595</td>\n",
       "      <td>1.192019</td>\n",
       "      <td>-0.354043</td>\n",
       "      <td>-0.160285</td>\n",
       "      <td>-1.106252</td>\n",
       "      <td>...</td>\n",
       "      <td>-0.179078</td>\n",
       "      <td>-0.658393</td>\n",
       "      <td>-0.648761</td>\n",
       "      <td>-0.399734</td>\n",
       "      <td>1.225963</td>\n",
       "      <td>-0.774997</td>\n",
       "      <td>-0.636970</td>\n",
       "      <td>1.411967</td>\n",
       "      <td>-1.000236</td>\n",
       "      <td>Proficient</td>\n",
       "    </tr>\n",
       "    <tr>\n",
       "      <th>1</th>\n",
       "      <td>AOCS_159</td>\n",
       "      <td>-1.0</td>\n",
       "      <td>Proficient</td>\n",
       "      <td>0</td>\n",
       "      <td>1.127304</td>\n",
       "      <td>2.023549</td>\n",
       "      <td>0.599706</td>\n",
       "      <td>0.139680</td>\n",
       "      <td>0.216260</td>\n",
       "      <td>-0.935028</td>\n",
       "      <td>...</td>\n",
       "      <td>0.570821</td>\n",
       "      <td>-0.934397</td>\n",
       "      <td>0.089365</td>\n",
       "      <td>-0.603553</td>\n",
       "      <td>-0.631501</td>\n",
       "      <td>-1.226645</td>\n",
       "      <td>1.222836</td>\n",
       "      <td>0.003809</td>\n",
       "      <td>-1.000236</td>\n",
       "      <td>Proficient</td>\n",
       "    </tr>\n",
       "    <tr>\n",
       "      <th>2</th>\n",
       "      <td>DO29146</td>\n",
       "      <td>0.0</td>\n",
       "      <td>Unknown</td>\n",
       "      <td>0</td>\n",
       "      <td>-0.445669</td>\n",
       "      <td>2.187945</td>\n",
       "      <td>1.232186</td>\n",
       "      <td>0.061045</td>\n",
       "      <td>0.375905</td>\n",
       "      <td>-0.664314</td>\n",
       "      <td>...</td>\n",
       "      <td>-0.184718</td>\n",
       "      <td>-0.691333</td>\n",
       "      <td>-0.698727</td>\n",
       "      <td>-0.698727</td>\n",
       "      <td>-0.698727</td>\n",
       "      <td>-1.379841</td>\n",
       "      <td>0.421538</td>\n",
       "      <td>0.958303</td>\n",
       "      <td>-1.000374</td>\n",
       "      <td>Proficient</td>\n",
       "    </tr>\n",
       "    <tr>\n",
       "      <th>3</th>\n",
       "      <td>SHGSOC050</td>\n",
       "      <td>-1.0</td>\n",
       "      <td>Proficient</td>\n",
       "      <td>1</td>\n",
       "      <td>0.034584</td>\n",
       "      <td>1.149668</td>\n",
       "      <td>2.199172</td>\n",
       "      <td>-0.872373</td>\n",
       "      <td>-0.149508</td>\n",
       "      <td>-0.563857</td>\n",
       "      <td>...</td>\n",
       "      <td>-0.584137</td>\n",
       "      <td>-0.758913</td>\n",
       "      <td>-0.758913</td>\n",
       "      <td>-0.758913</td>\n",
       "      <td>-0.225584</td>\n",
       "      <td>1.307106</td>\n",
       "      <td>-0.185999</td>\n",
       "      <td>-1.121106</td>\n",
       "      <td>-1.000236</td>\n",
       "      <td>Proficient</td>\n",
       "    </tr>\n",
       "    <tr>\n",
       "      <th>4</th>\n",
       "      <td>SHGSOC022</td>\n",
       "      <td>1.0</td>\n",
       "      <td>Deficient</td>\n",
       "      <td>0</td>\n",
       "      <td>-0.685520</td>\n",
       "      <td>-0.685520</td>\n",
       "      <td>-0.015071</td>\n",
       "      <td>-0.685520</td>\n",
       "      <td>-0.338512</td>\n",
       "      <td>-0.124855</td>\n",
       "      <td>...</td>\n",
       "      <td>-0.683908</td>\n",
       "      <td>2.129365</td>\n",
       "      <td>1.285420</td>\n",
       "      <td>-0.683908</td>\n",
       "      <td>-0.683908</td>\n",
       "      <td>-0.707107</td>\n",
       "      <td>-0.707107</td>\n",
       "      <td>1.414214</td>\n",
       "      <td>1.000227</td>\n",
       "      <td>Deficient</td>\n",
       "    </tr>\n",
       "    <tr>\n",
       "      <th>...</th>\n",
       "      <td>...</td>\n",
       "      <td>...</td>\n",
       "      <td>...</td>\n",
       "      <td>...</td>\n",
       "      <td>...</td>\n",
       "      <td>...</td>\n",
       "      <td>...</td>\n",
       "      <td>...</td>\n",
       "      <td>...</td>\n",
       "      <td>...</td>\n",
       "      <td>...</td>\n",
       "      <td>...</td>\n",
       "      <td>...</td>\n",
       "      <td>...</td>\n",
       "      <td>...</td>\n",
       "      <td>...</td>\n",
       "      <td>...</td>\n",
       "      <td>...</td>\n",
       "      <td>...</td>\n",
       "      <td>...</td>\n",
       "      <td>...</td>\n",
       "    </tr>\n",
       "    <tr>\n",
       "      <th>181</th>\n",
       "      <td>SHGSOC001</td>\n",
       "      <td>1.0</td>\n",
       "      <td>Deficient</td>\n",
       "      <td>1</td>\n",
       "      <td>-0.287690</td>\n",
       "      <td>-0.501142</td>\n",
       "      <td>-0.602954</td>\n",
       "      <td>-0.604282</td>\n",
       "      <td>-0.593936</td>\n",
       "      <td>-0.375127</td>\n",
       "      <td>...</td>\n",
       "      <td>-0.594751</td>\n",
       "      <td>0.634003</td>\n",
       "      <td>-0.081085</td>\n",
       "      <td>2.619184</td>\n",
       "      <td>-0.594751</td>\n",
       "      <td>-0.707107</td>\n",
       "      <td>-0.707107</td>\n",
       "      <td>1.414214</td>\n",
       "      <td>0.999797</td>\n",
       "      <td>Deficient</td>\n",
       "    </tr>\n",
       "    <tr>\n",
       "      <th>182</th>\n",
       "      <td>DO30650</td>\n",
       "      <td>0.0</td>\n",
       "      <td>Unknown</td>\n",
       "      <td>0</td>\n",
       "      <td>1.049832</td>\n",
       "      <td>2.361886</td>\n",
       "      <td>0.809569</td>\n",
       "      <td>-0.700275</td>\n",
       "      <td>-0.394999</td>\n",
       "      <td>-0.614754</td>\n",
       "      <td>...</td>\n",
       "      <td>1.613345</td>\n",
       "      <td>-0.391910</td>\n",
       "      <td>-0.184605</td>\n",
       "      <td>-0.269014</td>\n",
       "      <td>-0.777625</td>\n",
       "      <td>-1.340242</td>\n",
       "      <td>1.061034</td>\n",
       "      <td>0.279209</td>\n",
       "      <td>-1.000373</td>\n",
       "      <td>Proficient</td>\n",
       "    </tr>\n",
       "    <tr>\n",
       "      <th>183</th>\n",
       "      <td>AOCS_168</td>\n",
       "      <td>0.0</td>\n",
       "      <td>Unknown</td>\n",
       "      <td>0</td>\n",
       "      <td>-0.004540</td>\n",
       "      <td>0.682050</td>\n",
       "      <td>0.866545</td>\n",
       "      <td>-0.301971</td>\n",
       "      <td>-0.403636</td>\n",
       "      <td>-1.409465</td>\n",
       "      <td>...</td>\n",
       "      <td>-0.333889</td>\n",
       "      <td>1.730972</td>\n",
       "      <td>-0.768225</td>\n",
       "      <td>-1.032636</td>\n",
       "      <td>1.130214</td>\n",
       "      <td>1.354107</td>\n",
       "      <td>-0.323788</td>\n",
       "      <td>-1.030319</td>\n",
       "      <td>0.910942</td>\n",
       "      <td>Deficient</td>\n",
       "    </tr>\n",
       "    <tr>\n",
       "      <th>184</th>\n",
       "      <td>DO28412</td>\n",
       "      <td>-1.0</td>\n",
       "      <td>Proficient</td>\n",
       "      <td>1</td>\n",
       "      <td>1.780988</td>\n",
       "      <td>1.745248</td>\n",
       "      <td>0.641153</td>\n",
       "      <td>-0.634612</td>\n",
       "      <td>-0.573573</td>\n",
       "      <td>-0.809225</td>\n",
       "      <td>...</td>\n",
       "      <td>-0.754452</td>\n",
       "      <td>-0.754452</td>\n",
       "      <td>-0.754452</td>\n",
       "      <td>-0.754452</td>\n",
       "      <td>0.464642</td>\n",
       "      <td>-0.707107</td>\n",
       "      <td>1.414214</td>\n",
       "      <td>-0.707107</td>\n",
       "      <td>-1.000202</td>\n",
       "      <td>Proficient</td>\n",
       "    </tr>\n",
       "    <tr>\n",
       "      <th>185</th>\n",
       "      <td>SHGSOC032</td>\n",
       "      <td>0.0</td>\n",
       "      <td>Unknown</td>\n",
       "      <td>0</td>\n",
       "      <td>-0.506194</td>\n",
       "      <td>-0.506194</td>\n",
       "      <td>2.935353</td>\n",
       "      <td>-0.506194</td>\n",
       "      <td>-0.158912</td>\n",
       "      <td>0.105113</td>\n",
       "      <td>...</td>\n",
       "      <td>-0.727939</td>\n",
       "      <td>1.144148</td>\n",
       "      <td>0.680013</td>\n",
       "      <td>-0.727939</td>\n",
       "      <td>-0.727939</td>\n",
       "      <td>0.113124</td>\n",
       "      <td>-1.277382</td>\n",
       "      <td>1.164259</td>\n",
       "      <td>0.999993</td>\n",
       "      <td>Deficient</td>\n",
       "    </tr>\n",
       "  </tbody>\n",
       "</table>\n",
       "<p>186 rows × 28 columns</p>\n",
       "</div>"
      ],
      "text/plain": [
       "        sample  class Sample type  training  SBS96_pro_1  SBS96_pro_2  \\\n",
       "0     AOCS_084   -1.0  Proficient         0     1.697787     1.150595   \n",
       "1     AOCS_159   -1.0  Proficient         0     1.127304     2.023549   \n",
       "2      DO29146    0.0     Unknown         0    -0.445669     2.187945   \n",
       "3    SHGSOC050   -1.0  Proficient         1     0.034584     1.149668   \n",
       "4    SHGSOC022    1.0   Deficient         0    -0.685520    -0.685520   \n",
       "..         ...    ...         ...       ...          ...          ...   \n",
       "181  SHGSOC001    1.0   Deficient         1    -0.287690    -0.501142   \n",
       "182    DO30650    0.0     Unknown         0     1.049832     2.361886   \n",
       "183   AOCS_168    0.0     Unknown         0    -0.004540     0.682050   \n",
       "184    DO28412   -1.0  Proficient         1     1.780988     1.745248   \n",
       "185  SHGSOC032    0.0     Unknown         0    -0.506194    -0.506194   \n",
       "\n",
       "     SBS96_pro_3  SBS96_pro_4  SBS96_pro_5  SBS96_pro_6  ...  ID83_pro_5  \\\n",
       "0       1.192019    -0.354043    -0.160285    -1.106252  ...   -0.179078   \n",
       "1       0.599706     0.139680     0.216260    -0.935028  ...    0.570821   \n",
       "2       1.232186     0.061045     0.375905    -0.664314  ...   -0.184718   \n",
       "3       2.199172    -0.872373    -0.149508    -0.563857  ...   -0.584137   \n",
       "4      -0.015071    -0.685520    -0.338512    -0.124855  ...   -0.683908   \n",
       "..           ...          ...          ...          ...  ...         ...   \n",
       "181    -0.602954    -0.604282    -0.593936    -0.375127  ...   -0.594751   \n",
       "182     0.809569    -0.700275    -0.394999    -0.614754  ...    1.613345   \n",
       "183     0.866545    -0.301971    -0.403636    -1.409465  ...   -0.333889   \n",
       "184     0.641153    -0.634612    -0.573573    -0.809225  ...   -0.754452   \n",
       "185     2.935353    -0.506194    -0.158912     0.105113  ...   -0.727939   \n",
       "\n",
       "     ID83_def_1  ID83_def_2  ID83_def_3  ID83_def_4  DBS78_pro_1  DBS78_pro_2  \\\n",
       "0     -0.658393   -0.648761   -0.399734    1.225963    -0.774997    -0.636970   \n",
       "1     -0.934397    0.089365   -0.603553   -0.631501    -1.226645     1.222836   \n",
       "2     -0.691333   -0.698727   -0.698727   -0.698727    -1.379841     0.421538   \n",
       "3     -0.758913   -0.758913   -0.758913   -0.225584     1.307106    -0.185999   \n",
       "4      2.129365    1.285420   -0.683908   -0.683908    -0.707107    -0.707107   \n",
       "..          ...         ...         ...         ...          ...          ...   \n",
       "181    0.634003   -0.081085    2.619184   -0.594751    -0.707107    -0.707107   \n",
       "182   -0.391910   -0.184605   -0.269014   -0.777625    -1.340242     1.061034   \n",
       "183    1.730972   -0.768225   -1.032636    1.130214     1.354107    -0.323788   \n",
       "184   -0.754452   -0.754452   -0.754452    0.464642    -0.707107     1.414214   \n",
       "185    1.144148    0.680013   -0.727939   -0.727939     0.113124    -1.277382   \n",
       "\n",
       "     DBS78_def_1  prediction  SVM prediction  \n",
       "0       1.411967   -1.000236      Proficient  \n",
       "1       0.003809   -1.000236      Proficient  \n",
       "2       0.958303   -1.000374      Proficient  \n",
       "3      -1.121106   -1.000236      Proficient  \n",
       "4       1.414214    1.000227       Deficient  \n",
       "..           ...         ...             ...  \n",
       "181     1.414214    0.999797       Deficient  \n",
       "182     0.279209   -1.000373      Proficient  \n",
       "183    -1.030319    0.910942       Deficient  \n",
       "184    -0.707107   -1.000202      Proficient  \n",
       "185     1.164259    0.999993       Deficient  \n",
       "\n",
       "[186 rows x 28 columns]"
      ]
     },
     "execution_count": 19,
     "metadata": {},
     "output_type": "execute_result"
    }
   ],
   "source": [
    "HGSOC.data"
   ]
  },
  {
   "cell_type": "markdown",
   "metadata": {},
   "source": [
    "Further, since we have a binary classification, we have stored the confusion matrix of our problem in the **.confusion_matrix** attribute."
   ]
  },
  {
   "cell_type": "code",
   "execution_count": 20,
   "metadata": {
    "scrolled": false
   },
   "outputs": [
    {
     "name": "stdout",
     "output_type": "stream",
     "text": [
      "              precision    recall  f1-score   support\n",
      "\n",
      "  Proficient       0.98      0.98      0.98        42\n",
      "   Deficient       0.97      0.97      0.97        40\n",
      "\n",
      "    accuracy                           0.98        82\n",
      "   macro avg       0.98      0.98      0.98        82\n",
      "weighted avg       0.98      0.98      0.98        82\n",
      "\n"
     ]
    },
    {
     "data": {
      "text/plain": [
       "'This model has an accuracy of 0.975609756097561.'"
      ]
     },
     "execution_count": 20,
     "metadata": {},
     "output_type": "execute_result"
    }
   ],
   "source": [
    "print(HGSOC.confusion_matrix)\n",
    "f'This model has an accuracy of {HGSOC.accuracy}.'"
   ]
  },
  {
   "cell_type": "markdown",
   "metadata": {},
   "source": [
    "There is also a **ROC_curve** attribute."
   ]
  },
  {
   "cell_type": "code",
   "execution_count": 21,
   "metadata": {},
   "outputs": [
    {
     "data": {
      "application/vnd.plotly.v1+json": {
       "config": {
        "plotlyServerURL": "https://plot.ly"
       },
       "data": [
        {
         "line": {
          "color": "orange",
          "dash": "dash",
          "width": 3
         },
         "type": "scatter",
         "x": [
          0,
          1
         ],
         "y": [
          0,
          1
         ]
        },
        {
         "fill": "tonexty",
         "mode": "lines",
         "name": "ROC curve",
         "type": "scatter",
         "x": [
          0,
          0,
          0,
          0.025,
          0.025,
          1,
          1
         ],
         "y": [
          0,
          0.023809523809523808,
          0.42857142857142855,
          0.42857142857142855,
          0.9761904761904762,
          0.9761904761904762,
          1
         ]
        }
       ],
       "layout": {
        "template": {
         "data": {
          "bar": [
           {
            "error_x": {
             "color": "#2a3f5f"
            },
            "error_y": {
             "color": "#2a3f5f"
            },
            "marker": {
             "line": {
              "color": "#E5ECF6",
              "width": 0.5
             }
            },
            "type": "bar"
           }
          ],
          "barpolar": [
           {
            "marker": {
             "line": {
              "color": "#E5ECF6",
              "width": 0.5
             }
            },
            "type": "barpolar"
           }
          ],
          "carpet": [
           {
            "aaxis": {
             "endlinecolor": "#2a3f5f",
             "gridcolor": "white",
             "linecolor": "white",
             "minorgridcolor": "white",
             "startlinecolor": "#2a3f5f"
            },
            "baxis": {
             "endlinecolor": "#2a3f5f",
             "gridcolor": "white",
             "linecolor": "white",
             "minorgridcolor": "white",
             "startlinecolor": "#2a3f5f"
            },
            "type": "carpet"
           }
          ],
          "choropleth": [
           {
            "colorbar": {
             "outlinewidth": 0,
             "ticks": ""
            },
            "type": "choropleth"
           }
          ],
          "contour": [
           {
            "colorbar": {
             "outlinewidth": 0,
             "ticks": ""
            },
            "colorscale": [
             [
              0,
              "#0d0887"
             ],
             [
              0.1111111111111111,
              "#46039f"
             ],
             [
              0.2222222222222222,
              "#7201a8"
             ],
             [
              0.3333333333333333,
              "#9c179e"
             ],
             [
              0.4444444444444444,
              "#bd3786"
             ],
             [
              0.5555555555555556,
              "#d8576b"
             ],
             [
              0.6666666666666666,
              "#ed7953"
             ],
             [
              0.7777777777777778,
              "#fb9f3a"
             ],
             [
              0.8888888888888888,
              "#fdca26"
             ],
             [
              1,
              "#f0f921"
             ]
            ],
            "type": "contour"
           }
          ],
          "contourcarpet": [
           {
            "colorbar": {
             "outlinewidth": 0,
             "ticks": ""
            },
            "type": "contourcarpet"
           }
          ],
          "heatmap": [
           {
            "colorbar": {
             "outlinewidth": 0,
             "ticks": ""
            },
            "colorscale": [
             [
              0,
              "#0d0887"
             ],
             [
              0.1111111111111111,
              "#46039f"
             ],
             [
              0.2222222222222222,
              "#7201a8"
             ],
             [
              0.3333333333333333,
              "#9c179e"
             ],
             [
              0.4444444444444444,
              "#bd3786"
             ],
             [
              0.5555555555555556,
              "#d8576b"
             ],
             [
              0.6666666666666666,
              "#ed7953"
             ],
             [
              0.7777777777777778,
              "#fb9f3a"
             ],
             [
              0.8888888888888888,
              "#fdca26"
             ],
             [
              1,
              "#f0f921"
             ]
            ],
            "type": "heatmap"
           }
          ],
          "heatmapgl": [
           {
            "colorbar": {
             "outlinewidth": 0,
             "ticks": ""
            },
            "colorscale": [
             [
              0,
              "#0d0887"
             ],
             [
              0.1111111111111111,
              "#46039f"
             ],
             [
              0.2222222222222222,
              "#7201a8"
             ],
             [
              0.3333333333333333,
              "#9c179e"
             ],
             [
              0.4444444444444444,
              "#bd3786"
             ],
             [
              0.5555555555555556,
              "#d8576b"
             ],
             [
              0.6666666666666666,
              "#ed7953"
             ],
             [
              0.7777777777777778,
              "#fb9f3a"
             ],
             [
              0.8888888888888888,
              "#fdca26"
             ],
             [
              1,
              "#f0f921"
             ]
            ],
            "type": "heatmapgl"
           }
          ],
          "histogram": [
           {
            "marker": {
             "colorbar": {
              "outlinewidth": 0,
              "ticks": ""
             }
            },
            "type": "histogram"
           }
          ],
          "histogram2d": [
           {
            "colorbar": {
             "outlinewidth": 0,
             "ticks": ""
            },
            "colorscale": [
             [
              0,
              "#0d0887"
             ],
             [
              0.1111111111111111,
              "#46039f"
             ],
             [
              0.2222222222222222,
              "#7201a8"
             ],
             [
              0.3333333333333333,
              "#9c179e"
             ],
             [
              0.4444444444444444,
              "#bd3786"
             ],
             [
              0.5555555555555556,
              "#d8576b"
             ],
             [
              0.6666666666666666,
              "#ed7953"
             ],
             [
              0.7777777777777778,
              "#fb9f3a"
             ],
             [
              0.8888888888888888,
              "#fdca26"
             ],
             [
              1,
              "#f0f921"
             ]
            ],
            "type": "histogram2d"
           }
          ],
          "histogram2dcontour": [
           {
            "colorbar": {
             "outlinewidth": 0,
             "ticks": ""
            },
            "colorscale": [
             [
              0,
              "#0d0887"
             ],
             [
              0.1111111111111111,
              "#46039f"
             ],
             [
              0.2222222222222222,
              "#7201a8"
             ],
             [
              0.3333333333333333,
              "#9c179e"
             ],
             [
              0.4444444444444444,
              "#bd3786"
             ],
             [
              0.5555555555555556,
              "#d8576b"
             ],
             [
              0.6666666666666666,
              "#ed7953"
             ],
             [
              0.7777777777777778,
              "#fb9f3a"
             ],
             [
              0.8888888888888888,
              "#fdca26"
             ],
             [
              1,
              "#f0f921"
             ]
            ],
            "type": "histogram2dcontour"
           }
          ],
          "mesh3d": [
           {
            "colorbar": {
             "outlinewidth": 0,
             "ticks": ""
            },
            "type": "mesh3d"
           }
          ],
          "parcoords": [
           {
            "line": {
             "colorbar": {
              "outlinewidth": 0,
              "ticks": ""
             }
            },
            "type": "parcoords"
           }
          ],
          "pie": [
           {
            "automargin": true,
            "type": "pie"
           }
          ],
          "scatter": [
           {
            "marker": {
             "colorbar": {
              "outlinewidth": 0,
              "ticks": ""
             }
            },
            "type": "scatter"
           }
          ],
          "scatter3d": [
           {
            "line": {
             "colorbar": {
              "outlinewidth": 0,
              "ticks": ""
             }
            },
            "marker": {
             "colorbar": {
              "outlinewidth": 0,
              "ticks": ""
             }
            },
            "type": "scatter3d"
           }
          ],
          "scattercarpet": [
           {
            "marker": {
             "colorbar": {
              "outlinewidth": 0,
              "ticks": ""
             }
            },
            "type": "scattercarpet"
           }
          ],
          "scattergeo": [
           {
            "marker": {
             "colorbar": {
              "outlinewidth": 0,
              "ticks": ""
             }
            },
            "type": "scattergeo"
           }
          ],
          "scattergl": [
           {
            "marker": {
             "colorbar": {
              "outlinewidth": 0,
              "ticks": ""
             }
            },
            "type": "scattergl"
           }
          ],
          "scattermapbox": [
           {
            "marker": {
             "colorbar": {
              "outlinewidth": 0,
              "ticks": ""
             }
            },
            "type": "scattermapbox"
           }
          ],
          "scatterpolar": [
           {
            "marker": {
             "colorbar": {
              "outlinewidth": 0,
              "ticks": ""
             }
            },
            "type": "scatterpolar"
           }
          ],
          "scatterpolargl": [
           {
            "marker": {
             "colorbar": {
              "outlinewidth": 0,
              "ticks": ""
             }
            },
            "type": "scatterpolargl"
           }
          ],
          "scatterternary": [
           {
            "marker": {
             "colorbar": {
              "outlinewidth": 0,
              "ticks": ""
             }
            },
            "type": "scatterternary"
           }
          ],
          "surface": [
           {
            "colorbar": {
             "outlinewidth": 0,
             "ticks": ""
            },
            "colorscale": [
             [
              0,
              "#0d0887"
             ],
             [
              0.1111111111111111,
              "#46039f"
             ],
             [
              0.2222222222222222,
              "#7201a8"
             ],
             [
              0.3333333333333333,
              "#9c179e"
             ],
             [
              0.4444444444444444,
              "#bd3786"
             ],
             [
              0.5555555555555556,
              "#d8576b"
             ],
             [
              0.6666666666666666,
              "#ed7953"
             ],
             [
              0.7777777777777778,
              "#fb9f3a"
             ],
             [
              0.8888888888888888,
              "#fdca26"
             ],
             [
              1,
              "#f0f921"
             ]
            ],
            "type": "surface"
           }
          ],
          "table": [
           {
            "cells": {
             "fill": {
              "color": "#EBF0F8"
             },
             "line": {
              "color": "white"
             }
            },
            "header": {
             "fill": {
              "color": "#C8D4E3"
             },
             "line": {
              "color": "white"
             }
            },
            "type": "table"
           }
          ]
         },
         "layout": {
          "annotationdefaults": {
           "arrowcolor": "#2a3f5f",
           "arrowhead": 0,
           "arrowwidth": 1
          },
          "coloraxis": {
           "colorbar": {
            "outlinewidth": 0,
            "ticks": ""
           }
          },
          "colorscale": {
           "diverging": [
            [
             0,
             "#8e0152"
            ],
            [
             0.1,
             "#c51b7d"
            ],
            [
             0.2,
             "#de77ae"
            ],
            [
             0.3,
             "#f1b6da"
            ],
            [
             0.4,
             "#fde0ef"
            ],
            [
             0.5,
             "#f7f7f7"
            ],
            [
             0.6,
             "#e6f5d0"
            ],
            [
             0.7,
             "#b8e186"
            ],
            [
             0.8,
             "#7fbc41"
            ],
            [
             0.9,
             "#4d9221"
            ],
            [
             1,
             "#276419"
            ]
           ],
           "sequential": [
            [
             0,
             "#0d0887"
            ],
            [
             0.1111111111111111,
             "#46039f"
            ],
            [
             0.2222222222222222,
             "#7201a8"
            ],
            [
             0.3333333333333333,
             "#9c179e"
            ],
            [
             0.4444444444444444,
             "#bd3786"
            ],
            [
             0.5555555555555556,
             "#d8576b"
            ],
            [
             0.6666666666666666,
             "#ed7953"
            ],
            [
             0.7777777777777778,
             "#fb9f3a"
            ],
            [
             0.8888888888888888,
             "#fdca26"
            ],
            [
             1,
             "#f0f921"
            ]
           ],
           "sequentialminus": [
            [
             0,
             "#0d0887"
            ],
            [
             0.1111111111111111,
             "#46039f"
            ],
            [
             0.2222222222222222,
             "#7201a8"
            ],
            [
             0.3333333333333333,
             "#9c179e"
            ],
            [
             0.4444444444444444,
             "#bd3786"
            ],
            [
             0.5555555555555556,
             "#d8576b"
            ],
            [
             0.6666666666666666,
             "#ed7953"
            ],
            [
             0.7777777777777778,
             "#fb9f3a"
            ],
            [
             0.8888888888888888,
             "#fdca26"
            ],
            [
             1,
             "#f0f921"
            ]
           ]
          },
          "colorway": [
           "#636efa",
           "#EF553B",
           "#00cc96",
           "#ab63fa",
           "#FFA15A",
           "#19d3f3",
           "#FF6692",
           "#B6E880",
           "#FF97FF",
           "#FECB52"
          ],
          "font": {
           "color": "#2a3f5f"
          },
          "geo": {
           "bgcolor": "white",
           "lakecolor": "white",
           "landcolor": "#E5ECF6",
           "showlakes": true,
           "showland": true,
           "subunitcolor": "white"
          },
          "hoverlabel": {
           "align": "left"
          },
          "hovermode": "closest",
          "mapbox": {
           "style": "light"
          },
          "paper_bgcolor": "white",
          "plot_bgcolor": "#E5ECF6",
          "polar": {
           "angularaxis": {
            "gridcolor": "white",
            "linecolor": "white",
            "ticks": ""
           },
           "bgcolor": "#E5ECF6",
           "radialaxis": {
            "gridcolor": "white",
            "linecolor": "white",
            "ticks": ""
           }
          },
          "scene": {
           "xaxis": {
            "backgroundcolor": "#E5ECF6",
            "gridcolor": "white",
            "gridwidth": 2,
            "linecolor": "white",
            "showbackground": true,
            "ticks": "",
            "zerolinecolor": "white"
           },
           "yaxis": {
            "backgroundcolor": "#E5ECF6",
            "gridcolor": "white",
            "gridwidth": 2,
            "linecolor": "white",
            "showbackground": true,
            "ticks": "",
            "zerolinecolor": "white"
           },
           "zaxis": {
            "backgroundcolor": "#E5ECF6",
            "gridcolor": "white",
            "gridwidth": 2,
            "linecolor": "white",
            "showbackground": true,
            "ticks": "",
            "zerolinecolor": "white"
           }
          },
          "shapedefaults": {
           "line": {
            "color": "#2a3f5f"
           }
          },
          "ternary": {
           "aaxis": {
            "gridcolor": "white",
            "linecolor": "white",
            "ticks": ""
           },
           "baxis": {
            "gridcolor": "white",
            "linecolor": "white",
            "ticks": ""
           },
           "bgcolor": "#E5ECF6",
           "caxis": {
            "gridcolor": "white",
            "linecolor": "white",
            "ticks": ""
           }
          },
          "title": {
           "x": 0.05
          },
          "xaxis": {
           "automargin": true,
           "gridcolor": "white",
           "linecolor": "white",
           "ticks": "",
           "title": {
            "standoff": 15
           },
           "zerolinecolor": "white",
           "zerolinewidth": 2
          },
          "yaxis": {
           "automargin": true,
           "gridcolor": "white",
           "linecolor": "white",
           "ticks": "",
           "title": {
            "standoff": 15
           },
           "zerolinecolor": "white",
           "zerolinewidth": 2
          }
         }
        },
        "title": {
         "text": "Rreciever operating characteristic  plot. AUC= 0.9624999999999999"
        },
        "xaxis": {
         "title": {
          "text": "False positive rate"
         }
        },
        "yaxis": {
         "title": {
          "text": "True positive rate"
         }
        }
       }
      },
      "text/html": [
       "<div>\n",
       "        \n",
       "        \n",
       "            <div id=\"1879517a-942d-4b4b-b483-e7d01efe25c2\" class=\"plotly-graph-div\" style=\"height:525px; width:100%;\"></div>\n",
       "            <script type=\"text/javascript\">\n",
       "                require([\"plotly\"], function(Plotly) {\n",
       "                    window.PLOTLYENV=window.PLOTLYENV || {};\n",
       "                    \n",
       "                if (document.getElementById(\"1879517a-942d-4b4b-b483-e7d01efe25c2\")) {\n",
       "                    Plotly.newPlot(\n",
       "                        '1879517a-942d-4b4b-b483-e7d01efe25c2',\n",
       "                        [{\"line\": {\"color\": \"orange\", \"dash\": \"dash\", \"width\": 3}, \"type\": \"scatter\", \"x\": [0, 1], \"y\": [0, 1]}, {\"fill\": \"tonexty\", \"mode\": \"lines\", \"name\": \"ROC curve\", \"type\": \"scatter\", \"x\": [0.0, 0.0, 0.0, 0.025, 0.025, 1.0, 1.0], \"y\": [0.0, 0.023809523809523808, 0.42857142857142855, 0.42857142857142855, 0.9761904761904762, 0.9761904761904762, 1.0]}],\n",
       "                        {\"template\": {\"data\": {\"bar\": [{\"error_x\": {\"color\": \"#2a3f5f\"}, \"error_y\": {\"color\": \"#2a3f5f\"}, \"marker\": {\"line\": {\"color\": \"#E5ECF6\", \"width\": 0.5}}, \"type\": \"bar\"}], \"barpolar\": [{\"marker\": {\"line\": {\"color\": \"#E5ECF6\", \"width\": 0.5}}, \"type\": \"barpolar\"}], \"carpet\": [{\"aaxis\": {\"endlinecolor\": \"#2a3f5f\", \"gridcolor\": \"white\", \"linecolor\": \"white\", \"minorgridcolor\": \"white\", \"startlinecolor\": \"#2a3f5f\"}, \"baxis\": {\"endlinecolor\": \"#2a3f5f\", \"gridcolor\": \"white\", \"linecolor\": \"white\", \"minorgridcolor\": \"white\", \"startlinecolor\": \"#2a3f5f\"}, \"type\": \"carpet\"}], \"choropleth\": [{\"colorbar\": {\"outlinewidth\": 0, \"ticks\": \"\"}, \"type\": \"choropleth\"}], \"contour\": [{\"colorbar\": {\"outlinewidth\": 0, \"ticks\": \"\"}, \"colorscale\": [[0.0, \"#0d0887\"], [0.1111111111111111, \"#46039f\"], [0.2222222222222222, \"#7201a8\"], [0.3333333333333333, \"#9c179e\"], [0.4444444444444444, \"#bd3786\"], [0.5555555555555556, \"#d8576b\"], [0.6666666666666666, \"#ed7953\"], [0.7777777777777778, \"#fb9f3a\"], [0.8888888888888888, \"#fdca26\"], [1.0, \"#f0f921\"]], \"type\": \"contour\"}], \"contourcarpet\": [{\"colorbar\": {\"outlinewidth\": 0, \"ticks\": \"\"}, \"type\": \"contourcarpet\"}], \"heatmap\": [{\"colorbar\": {\"outlinewidth\": 0, \"ticks\": \"\"}, \"colorscale\": [[0.0, \"#0d0887\"], [0.1111111111111111, \"#46039f\"], [0.2222222222222222, \"#7201a8\"], [0.3333333333333333, \"#9c179e\"], [0.4444444444444444, \"#bd3786\"], [0.5555555555555556, \"#d8576b\"], [0.6666666666666666, \"#ed7953\"], [0.7777777777777778, \"#fb9f3a\"], [0.8888888888888888, \"#fdca26\"], [1.0, \"#f0f921\"]], \"type\": \"heatmap\"}], \"heatmapgl\": [{\"colorbar\": {\"outlinewidth\": 0, \"ticks\": \"\"}, \"colorscale\": [[0.0, \"#0d0887\"], [0.1111111111111111, \"#46039f\"], [0.2222222222222222, \"#7201a8\"], [0.3333333333333333, \"#9c179e\"], [0.4444444444444444, \"#bd3786\"], [0.5555555555555556, \"#d8576b\"], [0.6666666666666666, \"#ed7953\"], [0.7777777777777778, \"#fb9f3a\"], [0.8888888888888888, \"#fdca26\"], [1.0, \"#f0f921\"]], \"type\": \"heatmapgl\"}], \"histogram\": [{\"marker\": {\"colorbar\": {\"outlinewidth\": 0, \"ticks\": \"\"}}, \"type\": \"histogram\"}], \"histogram2d\": [{\"colorbar\": {\"outlinewidth\": 0, \"ticks\": \"\"}, \"colorscale\": [[0.0, \"#0d0887\"], [0.1111111111111111, \"#46039f\"], [0.2222222222222222, \"#7201a8\"], [0.3333333333333333, \"#9c179e\"], [0.4444444444444444, \"#bd3786\"], [0.5555555555555556, \"#d8576b\"], [0.6666666666666666, \"#ed7953\"], [0.7777777777777778, \"#fb9f3a\"], [0.8888888888888888, \"#fdca26\"], [1.0, \"#f0f921\"]], \"type\": \"histogram2d\"}], \"histogram2dcontour\": [{\"colorbar\": {\"outlinewidth\": 0, \"ticks\": \"\"}, \"colorscale\": [[0.0, \"#0d0887\"], [0.1111111111111111, \"#46039f\"], [0.2222222222222222, \"#7201a8\"], [0.3333333333333333, \"#9c179e\"], [0.4444444444444444, \"#bd3786\"], [0.5555555555555556, \"#d8576b\"], [0.6666666666666666, \"#ed7953\"], [0.7777777777777778, \"#fb9f3a\"], [0.8888888888888888, \"#fdca26\"], [1.0, \"#f0f921\"]], \"type\": \"histogram2dcontour\"}], \"mesh3d\": [{\"colorbar\": {\"outlinewidth\": 0, \"ticks\": \"\"}, \"type\": \"mesh3d\"}], \"parcoords\": [{\"line\": {\"colorbar\": {\"outlinewidth\": 0, \"ticks\": \"\"}}, \"type\": \"parcoords\"}], \"pie\": [{\"automargin\": true, \"type\": \"pie\"}], \"scatter\": [{\"marker\": {\"colorbar\": {\"outlinewidth\": 0, \"ticks\": \"\"}}, \"type\": \"scatter\"}], \"scatter3d\": [{\"line\": {\"colorbar\": {\"outlinewidth\": 0, \"ticks\": \"\"}}, \"marker\": {\"colorbar\": {\"outlinewidth\": 0, \"ticks\": \"\"}}, \"type\": \"scatter3d\"}], \"scattercarpet\": [{\"marker\": {\"colorbar\": {\"outlinewidth\": 0, \"ticks\": \"\"}}, \"type\": \"scattercarpet\"}], \"scattergeo\": [{\"marker\": {\"colorbar\": {\"outlinewidth\": 0, \"ticks\": \"\"}}, \"type\": \"scattergeo\"}], \"scattergl\": [{\"marker\": {\"colorbar\": {\"outlinewidth\": 0, \"ticks\": \"\"}}, \"type\": \"scattergl\"}], \"scattermapbox\": [{\"marker\": {\"colorbar\": {\"outlinewidth\": 0, \"ticks\": \"\"}}, \"type\": \"scattermapbox\"}], \"scatterpolar\": [{\"marker\": {\"colorbar\": {\"outlinewidth\": 0, \"ticks\": \"\"}}, \"type\": \"scatterpolar\"}], \"scatterpolargl\": [{\"marker\": {\"colorbar\": {\"outlinewidth\": 0, \"ticks\": \"\"}}, \"type\": \"scatterpolargl\"}], \"scatterternary\": [{\"marker\": {\"colorbar\": {\"outlinewidth\": 0, \"ticks\": \"\"}}, \"type\": \"scatterternary\"}], \"surface\": [{\"colorbar\": {\"outlinewidth\": 0, \"ticks\": \"\"}, \"colorscale\": [[0.0, \"#0d0887\"], [0.1111111111111111, \"#46039f\"], [0.2222222222222222, \"#7201a8\"], [0.3333333333333333, \"#9c179e\"], [0.4444444444444444, \"#bd3786\"], [0.5555555555555556, \"#d8576b\"], [0.6666666666666666, \"#ed7953\"], [0.7777777777777778, \"#fb9f3a\"], [0.8888888888888888, \"#fdca26\"], [1.0, \"#f0f921\"]], \"type\": \"surface\"}], \"table\": [{\"cells\": {\"fill\": {\"color\": \"#EBF0F8\"}, \"line\": {\"color\": \"white\"}}, \"header\": {\"fill\": {\"color\": \"#C8D4E3\"}, \"line\": {\"color\": \"white\"}}, \"type\": \"table\"}]}, \"layout\": {\"annotationdefaults\": {\"arrowcolor\": \"#2a3f5f\", \"arrowhead\": 0, \"arrowwidth\": 1}, \"coloraxis\": {\"colorbar\": {\"outlinewidth\": 0, \"ticks\": \"\"}}, \"colorscale\": {\"diverging\": [[0, \"#8e0152\"], [0.1, \"#c51b7d\"], [0.2, \"#de77ae\"], [0.3, \"#f1b6da\"], [0.4, \"#fde0ef\"], [0.5, \"#f7f7f7\"], [0.6, \"#e6f5d0\"], [0.7, \"#b8e186\"], [0.8, \"#7fbc41\"], [0.9, \"#4d9221\"], [1, \"#276419\"]], \"sequential\": [[0.0, \"#0d0887\"], [0.1111111111111111, \"#46039f\"], [0.2222222222222222, \"#7201a8\"], [0.3333333333333333, \"#9c179e\"], [0.4444444444444444, \"#bd3786\"], [0.5555555555555556, \"#d8576b\"], [0.6666666666666666, \"#ed7953\"], [0.7777777777777778, \"#fb9f3a\"], [0.8888888888888888, \"#fdca26\"], [1.0, \"#f0f921\"]], \"sequentialminus\": [[0.0, \"#0d0887\"], [0.1111111111111111, \"#46039f\"], [0.2222222222222222, \"#7201a8\"], [0.3333333333333333, \"#9c179e\"], [0.4444444444444444, \"#bd3786\"], [0.5555555555555556, \"#d8576b\"], [0.6666666666666666, \"#ed7953\"], [0.7777777777777778, \"#fb9f3a\"], [0.8888888888888888, \"#fdca26\"], [1.0, \"#f0f921\"]]}, \"colorway\": [\"#636efa\", \"#EF553B\", \"#00cc96\", \"#ab63fa\", \"#FFA15A\", \"#19d3f3\", \"#FF6692\", \"#B6E880\", \"#FF97FF\", \"#FECB52\"], \"font\": {\"color\": \"#2a3f5f\"}, \"geo\": {\"bgcolor\": \"white\", \"lakecolor\": \"white\", \"landcolor\": \"#E5ECF6\", \"showlakes\": true, \"showland\": true, \"subunitcolor\": \"white\"}, \"hoverlabel\": {\"align\": \"left\"}, \"hovermode\": \"closest\", \"mapbox\": {\"style\": \"light\"}, \"paper_bgcolor\": \"white\", \"plot_bgcolor\": \"#E5ECF6\", \"polar\": {\"angularaxis\": {\"gridcolor\": \"white\", \"linecolor\": \"white\", \"ticks\": \"\"}, \"bgcolor\": \"#E5ECF6\", \"radialaxis\": {\"gridcolor\": \"white\", \"linecolor\": \"white\", \"ticks\": \"\"}}, \"scene\": {\"xaxis\": {\"backgroundcolor\": \"#E5ECF6\", \"gridcolor\": \"white\", \"gridwidth\": 2, \"linecolor\": \"white\", \"showbackground\": true, \"ticks\": \"\", \"zerolinecolor\": \"white\"}, \"yaxis\": {\"backgroundcolor\": \"#E5ECF6\", \"gridcolor\": \"white\", \"gridwidth\": 2, \"linecolor\": \"white\", \"showbackground\": true, \"ticks\": \"\", \"zerolinecolor\": \"white\"}, \"zaxis\": {\"backgroundcolor\": \"#E5ECF6\", \"gridcolor\": \"white\", \"gridwidth\": 2, \"linecolor\": \"white\", \"showbackground\": true, \"ticks\": \"\", \"zerolinecolor\": \"white\"}}, \"shapedefaults\": {\"line\": {\"color\": \"#2a3f5f\"}}, \"ternary\": {\"aaxis\": {\"gridcolor\": \"white\", \"linecolor\": \"white\", \"ticks\": \"\"}, \"baxis\": {\"gridcolor\": \"white\", \"linecolor\": \"white\", \"ticks\": \"\"}, \"bgcolor\": \"#E5ECF6\", \"caxis\": {\"gridcolor\": \"white\", \"linecolor\": \"white\", \"ticks\": \"\"}}, \"title\": {\"x\": 0.05}, \"xaxis\": {\"automargin\": true, \"gridcolor\": \"white\", \"linecolor\": \"white\", \"ticks\": \"\", \"title\": {\"standoff\": 15}, \"zerolinecolor\": \"white\", \"zerolinewidth\": 2}, \"yaxis\": {\"automargin\": true, \"gridcolor\": \"white\", \"linecolor\": \"white\", \"ticks\": \"\", \"title\": {\"standoff\": 15}, \"zerolinecolor\": \"white\", \"zerolinewidth\": 2}}}, \"title\": {\"text\": \"Rreciever operating characteristic  plot. AUC= 0.9624999999999999\"}, \"xaxis\": {\"title\": {\"text\": \"False positive rate\"}}, \"yaxis\": {\"title\": {\"text\": \"True positive rate\"}}},\n",
       "                        {\"responsive\": true}\n",
       "                    ).then(function(){\n",
       "                            \n",
       "var gd = document.getElementById('1879517a-942d-4b4b-b483-e7d01efe25c2');\n",
       "var x = new MutationObserver(function (mutations, observer) {{\n",
       "        var display = window.getComputedStyle(gd).display;\n",
       "        if (!display || display === 'none') {{\n",
       "            console.log([gd, 'removed!']);\n",
       "            Plotly.purge(gd);\n",
       "            observer.disconnect();\n",
       "        }}\n",
       "}});\n",
       "\n",
       "// Listen for the removal of the full notebook cells\n",
       "var notebookContainer = gd.closest('#notebook-container');\n",
       "if (notebookContainer) {{\n",
       "    x.observe(notebookContainer, {childList: true});\n",
       "}}\n",
       "\n",
       "// Listen for the clearing of the current output cell\n",
       "var outputEl = gd.closest('.output');\n",
       "if (outputEl) {{\n",
       "    x.observe(outputEl, {childList: true});\n",
       "}}\n",
       "\n",
       "                        })\n",
       "                };\n",
       "                });\n",
       "            </script>\n",
       "        </div>"
      ]
     },
     "metadata": {},
     "output_type": "display_data"
    }
   ],
   "source": [
    "HGSOC.ROC_curve"
   ]
  },
  {
   "cell_type": "markdown",
   "metadata": {},
   "source": [
    "# Exporting the project\n",
    "\n",
    "We have added the functionality to export the model in the ouput folder within the VCF folder. These projects can be loaded via pickle."
   ]
  },
  {
   "cell_type": "code",
   "execution_count": 13,
   "metadata": {},
   "outputs": [],
   "source": [
    "HGSOC.export()\n",
    "\n",
    "import pickle\n",
    "new_load = pickle.load(open(path+'output/HGSOC_HR.p','rb'))"
   ]
  },
  {
   "cell_type": "markdown",
   "metadata": {},
   "source": [
    "# Using a trained model in a new dataset\n",
    "\n",
    "MSclassifier also allows the user to use a pretrained model and use it to classify samples in a new dataset.\n",
    "\n",
    "In this example we use HGSOC.model to predict HR deficiency in an unseen cohort."
   ]
  },
  {
   "cell_type": "code",
   "execution_count": 22,
   "metadata": {},
   "outputs": [],
   "source": [
    "# First we load the trained model\n",
    "saved_model = HGSOC.model\n",
    "\n",
    "path_unseen_cohort='/home/elatorre/Desktop/HGSOC datasets/VCF Canadian/'\n",
    "path_deficient_unseen_cohort = path_unseen_cohort + 'Deficient.txt'\n",
    "\n",
    "unseen_cohort = MSclassifier.signature_classifier (vcf=path_unseen_cohort , \n",
    "                                          positive=path_deficient_unseen_cohort,\n",
    "                                          project_name='Unseen_Cohort_HR',\n",
    "                                          model=saved_model # We use the saved model as input\n",
    "                                          )"
   ]
  },
  {
   "cell_type": "markdown",
   "metadata": {},
   "source": [
    "Notice that we only have ground truth information about HR deficient samples. This is not a problem as we do not want to train a new model.\n",
    "\n",
    "**If a model is given** at the start of a project, **MSclassifier classifier only requires the path to the vcf files** to predict their outcome given the inputed model. \n",
    "\n",
    "## Predicting the outcome on an unseen cohort with no training set\n",
    "\n",
    "In order to predict the outcome in a new cohort with no training set, we need to do the following:\n",
    "\n",
    "    - .load_vcf()\n",
    "    - .signature_fit() \n",
    "    - .model_predict() "
   ]
  },
  {
   "cell_type": "code",
   "execution_count": 23,
   "metadata": {
    "scrolled": true
   },
   "outputs": [
    {
     "name": "stdout",
     "output_type": "stream",
     "text": [
      "The given input files do not appear to be in the correct vcf format. Skipping this file:  Deficient.txt\n",
      "Starting matrix generation for SNVs and DINUCs...Completed! Elapsed time: 18.7 seconds.\n",
      "Starting matrix generation for INDELs...Completed! Elapsed time: 10.67 seconds.\n",
      "Matrices generated for 60 samples with 0 errors. Total of 569691 SNVs, 6224 DINUCs, and 50558 INDELs were successfully analyzed.\n"
     ]
    },
    {
     "data": {
      "text/plain": [
       "\" This model uses ['ID83_pro_1', 'ID83_def_1', 'SBS96_pro_2', 'ID83_pro_2', 'SBS96_pro_1'] as features \""
      ]
     },
     "execution_count": 23,
     "metadata": {},
     "output_type": "execute_result"
    }
   ],
   "source": [
    "unseen_cohort.load_vcf()\n",
    "unseen_cohort.signature_fit()\n",
    "unseen_cohort.model_predict()\n",
    "f' This model uses {unseen_cohort.model.features} as features '"
   ]
  },
  {
   "cell_type": "code",
   "execution_count": 24,
   "metadata": {
    "scrolled": false
   },
   "outputs": [
    {
     "data": {
      "application/vnd.plotly.v1+json": {
       "config": {
        "plotlyServerURL": "https://plot.ly"
       },
       "data": [
        {
         "alignmentgroup": "True",
         "boxpoints": "all",
         "customdata": [
          [
           "DG1251"
          ],
          [
           "DG1269"
          ],
          [
           "DG1249"
          ],
          [
           "DG1234"
          ],
          [
           "DG1272"
          ],
          [
           "DG1245"
          ],
          [
           "DAH227"
          ],
          [
           "DG1262"
          ],
          [
           "DAH233"
          ],
          [
           "DAH890"
          ],
          [
           "DG1271"
          ],
          [
           "DG1229"
          ],
          [
           "DG1250"
          ],
          [
           "DG1263"
          ],
          [
           "DG1275"
          ],
          [
           "DG1264"
          ],
          [
           "DAH228"
          ],
          [
           "DG1231"
          ],
          [
           "DG1259"
          ],
          [
           "DG1237"
          ],
          [
           "DG1261"
          ],
          [
           "DG1270"
          ],
          [
           "DG1238"
          ],
          [
           "DG1274"
          ],
          [
           "DAH208"
          ],
          [
           "DAH187"
          ],
          [
           "DG1266"
          ],
          [
           "DG1253"
          ],
          [
           "DG1243"
          ],
          [
           "DAH204"
          ],
          [
           "DG1235"
          ],
          [
           "DAH485"
          ],
          [
           "DG1242"
          ],
          [
           "DAH177"
          ],
          [
           "DAH183"
          ],
          [
           "DG1260"
          ],
          [
           "DG1265"
          ],
          [
           "DG1228"
          ],
          [
           "DG1256"
          ],
          [
           "DG1230"
          ],
          [
           "DG1247"
          ],
          [
           "DG1325"
          ],
          [
           "DG1252"
          ]
         ],
         "fillcolor": "rgba(255,255,255,0)",
         "hoverlabel": {
          "namelength": 0
         },
         "hoveron": "points",
         "hovertemplate": "Sample type=Unknown<br>counter=%{x}<br>prediction=%{y}<br>sample=%{customdata[0]}",
         "legendgroup": "Unknown",
         "line": {
          "color": "rgba(255,255,255,0)"
         },
         "marker": {
          "color": "#636efa",
          "size": 5
         },
         "name": "Unknown",
         "offsetgroup": "Unknown",
         "orientation": "v",
         "pointpos": 0,
         "showlegend": true,
         "type": "box",
         "x": [
          0,
          1,
          2,
          3,
          4,
          5,
          6,
          7,
          8,
          9,
          10,
          11,
          12,
          13,
          14,
          15,
          16,
          17,
          18,
          19,
          20,
          21,
          22,
          23,
          24,
          25,
          26,
          27,
          28,
          29,
          30,
          32,
          35,
          36,
          37,
          41,
          42,
          43,
          46,
          48,
          50,
          56,
          58
         ],
         "x0": " ",
         "xaxis": "x",
         "y": [
          -1.00037274670259,
          -1.0003686493473185,
          -1.0003577856538024,
          -1.0003326161263695,
          -1.0003235113309947,
          -1.0002438692360665,
          -1.000237134613254,
          -1.0002360607168854,
          -1.0002357942739695,
          -1.0002357901885122,
          -1.0002357900169483,
          -1.0002357900153476,
          -1.0002357898756398,
          -1.000235789860772,
          -1.0002357898462038,
          -1.0002357898204843,
          -1.0002357897062977,
          -1.000235789652113,
          -1.0002357885435567,
          -1.0002356010403508,
          -1.0002353079231452,
          -1.000138934850945,
          -0.9999050495498233,
          -0.9998991031308523,
          -0.99987634611175,
          -0.9998642214227499,
          -0.9997468039071794,
          0.999393826497252,
          0.9995403227705615,
          0.9996075033286435,
          0.9996274190200164,
          0.9997563872974297,
          0.9998345945481317,
          0.9999030381888955,
          0.9999295250553953,
          1.0000337018756171,
          1.0000345407326705,
          1.0000360972661246,
          1.0000554079416728,
          1.0000777711044797,
          1.0001152287872468,
          1.0001909606985648,
          1.000210946840665
         ],
         "y0": " ",
         "yaxis": "y"
        },
        {
         "alignmentgroup": "True",
         "boxpoints": "all",
         "customdata": [
          [
           "DG1277"
          ],
          [
           "DG1236"
          ],
          [
           "DG1233"
          ],
          [
           "DAH172"
          ],
          [
           "DAH184"
          ],
          [
           "DAH219"
          ],
          [
           "DAH499"
          ],
          [
           "DG1241"
          ],
          [
           "DG1276"
          ],
          [
           "DAH197"
          ],
          [
           "DG1273"
          ],
          [
           "DG1255"
          ],
          [
           "DG1254"
          ],
          [
           "DAH168"
          ],
          [
           "DAH182"
          ],
          [
           "DG1232"
          ]
         ],
         "fillcolor": "rgba(255,255,255,0)",
         "hoverlabel": {
          "namelength": 0
         },
         "hoveron": "points",
         "hovertemplate": "Sample type=Deficient<br>counter=%{x}<br>prediction=%{y}<br>sample=%{customdata[0]}",
         "legendgroup": "Deficient",
         "line": {
          "color": "rgba(255,255,255,0)"
         },
         "marker": {
          "color": "#EF553B",
          "size": 5
         },
         "name": "Deficient",
         "offsetgroup": "Deficient",
         "orientation": "v",
         "pointpos": 0,
         "showlegend": true,
         "type": "box",
         "x": [
          31,
          33,
          34,
          38,
          39,
          40,
          44,
          45,
          47,
          49,
          51,
          52,
          53,
          54,
          55,
          57
         ],
         "x0": " ",
         "xaxis": "x",
         "y": [
          0.9996783442068122,
          0.9997756487482917,
          0.9998081771109886,
          0.9999903718855352,
          1.0000093251138926,
          1.0000114648483607,
          1.0000487725732234,
          1.0000535396016166,
          1.0000692082373064,
          1.0001016178516164,
          1.0001175292500466,
          1.0001421938321464,
          1.0001731284559674,
          1.000173691366441,
          1.0001895316190115,
          1.0001979192576738
         ],
         "y0": " ",
         "yaxis": "y"
        },
        {
         "line": {
          "color": "orange",
          "dash": "dash",
          "width": 3
         },
         "mode": "lines",
         "name": "Margin",
         "type": "scatter",
         "x": [
          0,
          58
         ],
         "y": [
          0.0004275420860418634,
          0.0004275420860418634
         ]
        }
       ],
       "layout": {
        "boxmode": "group",
        "legend": {
         "title": {
          "text": "Sample type"
         },
         "tracegroupgap": 0
        },
        "margin": {
         "t": 60
        },
        "template": {
         "data": {
          "bar": [
           {
            "error_x": {
             "color": "#2a3f5f"
            },
            "error_y": {
             "color": "#2a3f5f"
            },
            "marker": {
             "line": {
              "color": "#E5ECF6",
              "width": 0.5
             }
            },
            "type": "bar"
           }
          ],
          "barpolar": [
           {
            "marker": {
             "line": {
              "color": "#E5ECF6",
              "width": 0.5
             }
            },
            "type": "barpolar"
           }
          ],
          "carpet": [
           {
            "aaxis": {
             "endlinecolor": "#2a3f5f",
             "gridcolor": "white",
             "linecolor": "white",
             "minorgridcolor": "white",
             "startlinecolor": "#2a3f5f"
            },
            "baxis": {
             "endlinecolor": "#2a3f5f",
             "gridcolor": "white",
             "linecolor": "white",
             "minorgridcolor": "white",
             "startlinecolor": "#2a3f5f"
            },
            "type": "carpet"
           }
          ],
          "choropleth": [
           {
            "colorbar": {
             "outlinewidth": 0,
             "ticks": ""
            },
            "type": "choropleth"
           }
          ],
          "contour": [
           {
            "colorbar": {
             "outlinewidth": 0,
             "ticks": ""
            },
            "colorscale": [
             [
              0,
              "#0d0887"
             ],
             [
              0.1111111111111111,
              "#46039f"
             ],
             [
              0.2222222222222222,
              "#7201a8"
             ],
             [
              0.3333333333333333,
              "#9c179e"
             ],
             [
              0.4444444444444444,
              "#bd3786"
             ],
             [
              0.5555555555555556,
              "#d8576b"
             ],
             [
              0.6666666666666666,
              "#ed7953"
             ],
             [
              0.7777777777777778,
              "#fb9f3a"
             ],
             [
              0.8888888888888888,
              "#fdca26"
             ],
             [
              1,
              "#f0f921"
             ]
            ],
            "type": "contour"
           }
          ],
          "contourcarpet": [
           {
            "colorbar": {
             "outlinewidth": 0,
             "ticks": ""
            },
            "type": "contourcarpet"
           }
          ],
          "heatmap": [
           {
            "colorbar": {
             "outlinewidth": 0,
             "ticks": ""
            },
            "colorscale": [
             [
              0,
              "#0d0887"
             ],
             [
              0.1111111111111111,
              "#46039f"
             ],
             [
              0.2222222222222222,
              "#7201a8"
             ],
             [
              0.3333333333333333,
              "#9c179e"
             ],
             [
              0.4444444444444444,
              "#bd3786"
             ],
             [
              0.5555555555555556,
              "#d8576b"
             ],
             [
              0.6666666666666666,
              "#ed7953"
             ],
             [
              0.7777777777777778,
              "#fb9f3a"
             ],
             [
              0.8888888888888888,
              "#fdca26"
             ],
             [
              1,
              "#f0f921"
             ]
            ],
            "type": "heatmap"
           }
          ],
          "heatmapgl": [
           {
            "colorbar": {
             "outlinewidth": 0,
             "ticks": ""
            },
            "colorscale": [
             [
              0,
              "#0d0887"
             ],
             [
              0.1111111111111111,
              "#46039f"
             ],
             [
              0.2222222222222222,
              "#7201a8"
             ],
             [
              0.3333333333333333,
              "#9c179e"
             ],
             [
              0.4444444444444444,
              "#bd3786"
             ],
             [
              0.5555555555555556,
              "#d8576b"
             ],
             [
              0.6666666666666666,
              "#ed7953"
             ],
             [
              0.7777777777777778,
              "#fb9f3a"
             ],
             [
              0.8888888888888888,
              "#fdca26"
             ],
             [
              1,
              "#f0f921"
             ]
            ],
            "type": "heatmapgl"
           }
          ],
          "histogram": [
           {
            "marker": {
             "colorbar": {
              "outlinewidth": 0,
              "ticks": ""
             }
            },
            "type": "histogram"
           }
          ],
          "histogram2d": [
           {
            "colorbar": {
             "outlinewidth": 0,
             "ticks": ""
            },
            "colorscale": [
             [
              0,
              "#0d0887"
             ],
             [
              0.1111111111111111,
              "#46039f"
             ],
             [
              0.2222222222222222,
              "#7201a8"
             ],
             [
              0.3333333333333333,
              "#9c179e"
             ],
             [
              0.4444444444444444,
              "#bd3786"
             ],
             [
              0.5555555555555556,
              "#d8576b"
             ],
             [
              0.6666666666666666,
              "#ed7953"
             ],
             [
              0.7777777777777778,
              "#fb9f3a"
             ],
             [
              0.8888888888888888,
              "#fdca26"
             ],
             [
              1,
              "#f0f921"
             ]
            ],
            "type": "histogram2d"
           }
          ],
          "histogram2dcontour": [
           {
            "colorbar": {
             "outlinewidth": 0,
             "ticks": ""
            },
            "colorscale": [
             [
              0,
              "#0d0887"
             ],
             [
              0.1111111111111111,
              "#46039f"
             ],
             [
              0.2222222222222222,
              "#7201a8"
             ],
             [
              0.3333333333333333,
              "#9c179e"
             ],
             [
              0.4444444444444444,
              "#bd3786"
             ],
             [
              0.5555555555555556,
              "#d8576b"
             ],
             [
              0.6666666666666666,
              "#ed7953"
             ],
             [
              0.7777777777777778,
              "#fb9f3a"
             ],
             [
              0.8888888888888888,
              "#fdca26"
             ],
             [
              1,
              "#f0f921"
             ]
            ],
            "type": "histogram2dcontour"
           }
          ],
          "mesh3d": [
           {
            "colorbar": {
             "outlinewidth": 0,
             "ticks": ""
            },
            "type": "mesh3d"
           }
          ],
          "parcoords": [
           {
            "line": {
             "colorbar": {
              "outlinewidth": 0,
              "ticks": ""
             }
            },
            "type": "parcoords"
           }
          ],
          "pie": [
           {
            "automargin": true,
            "type": "pie"
           }
          ],
          "scatter": [
           {
            "marker": {
             "colorbar": {
              "outlinewidth": 0,
              "ticks": ""
             }
            },
            "type": "scatter"
           }
          ],
          "scatter3d": [
           {
            "line": {
             "colorbar": {
              "outlinewidth": 0,
              "ticks": ""
             }
            },
            "marker": {
             "colorbar": {
              "outlinewidth": 0,
              "ticks": ""
             }
            },
            "type": "scatter3d"
           }
          ],
          "scattercarpet": [
           {
            "marker": {
             "colorbar": {
              "outlinewidth": 0,
              "ticks": ""
             }
            },
            "type": "scattercarpet"
           }
          ],
          "scattergeo": [
           {
            "marker": {
             "colorbar": {
              "outlinewidth": 0,
              "ticks": ""
             }
            },
            "type": "scattergeo"
           }
          ],
          "scattergl": [
           {
            "marker": {
             "colorbar": {
              "outlinewidth": 0,
              "ticks": ""
             }
            },
            "type": "scattergl"
           }
          ],
          "scattermapbox": [
           {
            "marker": {
             "colorbar": {
              "outlinewidth": 0,
              "ticks": ""
             }
            },
            "type": "scattermapbox"
           }
          ],
          "scatterpolar": [
           {
            "marker": {
             "colorbar": {
              "outlinewidth": 0,
              "ticks": ""
             }
            },
            "type": "scatterpolar"
           }
          ],
          "scatterpolargl": [
           {
            "marker": {
             "colorbar": {
              "outlinewidth": 0,
              "ticks": ""
             }
            },
            "type": "scatterpolargl"
           }
          ],
          "scatterternary": [
           {
            "marker": {
             "colorbar": {
              "outlinewidth": 0,
              "ticks": ""
             }
            },
            "type": "scatterternary"
           }
          ],
          "surface": [
           {
            "colorbar": {
             "outlinewidth": 0,
             "ticks": ""
            },
            "colorscale": [
             [
              0,
              "#0d0887"
             ],
             [
              0.1111111111111111,
              "#46039f"
             ],
             [
              0.2222222222222222,
              "#7201a8"
             ],
             [
              0.3333333333333333,
              "#9c179e"
             ],
             [
              0.4444444444444444,
              "#bd3786"
             ],
             [
              0.5555555555555556,
              "#d8576b"
             ],
             [
              0.6666666666666666,
              "#ed7953"
             ],
             [
              0.7777777777777778,
              "#fb9f3a"
             ],
             [
              0.8888888888888888,
              "#fdca26"
             ],
             [
              1,
              "#f0f921"
             ]
            ],
            "type": "surface"
           }
          ],
          "table": [
           {
            "cells": {
             "fill": {
              "color": "#EBF0F8"
             },
             "line": {
              "color": "white"
             }
            },
            "header": {
             "fill": {
              "color": "#C8D4E3"
             },
             "line": {
              "color": "white"
             }
            },
            "type": "table"
           }
          ]
         },
         "layout": {
          "annotationdefaults": {
           "arrowcolor": "#2a3f5f",
           "arrowhead": 0,
           "arrowwidth": 1
          },
          "coloraxis": {
           "colorbar": {
            "outlinewidth": 0,
            "ticks": ""
           }
          },
          "colorscale": {
           "diverging": [
            [
             0,
             "#8e0152"
            ],
            [
             0.1,
             "#c51b7d"
            ],
            [
             0.2,
             "#de77ae"
            ],
            [
             0.3,
             "#f1b6da"
            ],
            [
             0.4,
             "#fde0ef"
            ],
            [
             0.5,
             "#f7f7f7"
            ],
            [
             0.6,
             "#e6f5d0"
            ],
            [
             0.7,
             "#b8e186"
            ],
            [
             0.8,
             "#7fbc41"
            ],
            [
             0.9,
             "#4d9221"
            ],
            [
             1,
             "#276419"
            ]
           ],
           "sequential": [
            [
             0,
             "#0d0887"
            ],
            [
             0.1111111111111111,
             "#46039f"
            ],
            [
             0.2222222222222222,
             "#7201a8"
            ],
            [
             0.3333333333333333,
             "#9c179e"
            ],
            [
             0.4444444444444444,
             "#bd3786"
            ],
            [
             0.5555555555555556,
             "#d8576b"
            ],
            [
             0.6666666666666666,
             "#ed7953"
            ],
            [
             0.7777777777777778,
             "#fb9f3a"
            ],
            [
             0.8888888888888888,
             "#fdca26"
            ],
            [
             1,
             "#f0f921"
            ]
           ],
           "sequentialminus": [
            [
             0,
             "#0d0887"
            ],
            [
             0.1111111111111111,
             "#46039f"
            ],
            [
             0.2222222222222222,
             "#7201a8"
            ],
            [
             0.3333333333333333,
             "#9c179e"
            ],
            [
             0.4444444444444444,
             "#bd3786"
            ],
            [
             0.5555555555555556,
             "#d8576b"
            ],
            [
             0.6666666666666666,
             "#ed7953"
            ],
            [
             0.7777777777777778,
             "#fb9f3a"
            ],
            [
             0.8888888888888888,
             "#fdca26"
            ],
            [
             1,
             "#f0f921"
            ]
           ]
          },
          "colorway": [
           "#636efa",
           "#EF553B",
           "#00cc96",
           "#ab63fa",
           "#FFA15A",
           "#19d3f3",
           "#FF6692",
           "#B6E880",
           "#FF97FF",
           "#FECB52"
          ],
          "font": {
           "color": "#2a3f5f"
          },
          "geo": {
           "bgcolor": "white",
           "lakecolor": "white",
           "landcolor": "#E5ECF6",
           "showlakes": true,
           "showland": true,
           "subunitcolor": "white"
          },
          "hoverlabel": {
           "align": "left"
          },
          "hovermode": "closest",
          "mapbox": {
           "style": "light"
          },
          "paper_bgcolor": "white",
          "plot_bgcolor": "#E5ECF6",
          "polar": {
           "angularaxis": {
            "gridcolor": "white",
            "linecolor": "white",
            "ticks": ""
           },
           "bgcolor": "#E5ECF6",
           "radialaxis": {
            "gridcolor": "white",
            "linecolor": "white",
            "ticks": ""
           }
          },
          "scene": {
           "xaxis": {
            "backgroundcolor": "#E5ECF6",
            "gridcolor": "white",
            "gridwidth": 2,
            "linecolor": "white",
            "showbackground": true,
            "ticks": "",
            "zerolinecolor": "white"
           },
           "yaxis": {
            "backgroundcolor": "#E5ECF6",
            "gridcolor": "white",
            "gridwidth": 2,
            "linecolor": "white",
            "showbackground": true,
            "ticks": "",
            "zerolinecolor": "white"
           },
           "zaxis": {
            "backgroundcolor": "#E5ECF6",
            "gridcolor": "white",
            "gridwidth": 2,
            "linecolor": "white",
            "showbackground": true,
            "ticks": "",
            "zerolinecolor": "white"
           }
          },
          "shapedefaults": {
           "line": {
            "color": "#2a3f5f"
           }
          },
          "ternary": {
           "aaxis": {
            "gridcolor": "white",
            "linecolor": "white",
            "ticks": ""
           },
           "baxis": {
            "gridcolor": "white",
            "linecolor": "white",
            "ticks": ""
           },
           "bgcolor": "#E5ECF6",
           "caxis": {
            "gridcolor": "white",
            "linecolor": "white",
            "ticks": ""
           }
          },
          "title": {
           "x": 0.05
          },
          "xaxis": {
           "automargin": true,
           "gridcolor": "white",
           "linecolor": "white",
           "ticks": "",
           "title": {
            "standoff": 15
           },
           "zerolinecolor": "white",
           "zerolinewidth": 2
          },
          "yaxis": {
           "automargin": true,
           "gridcolor": "white",
           "linecolor": "white",
           "ticks": "",
           "title": {
            "standoff": 15
           },
           "zerolinecolor": "white",
           "zerolinewidth": 2
          }
         }
        },
        "title": {
         "text": "MSclassifier model prediction."
        },
        "xaxis": {
         "anchor": "y",
         "domain": [
          0,
          1
         ],
         "title": {
          "text": "Samples"
         }
        },
        "yaxis": {
         "anchor": "x",
         "domain": [
          0,
          1
         ],
         "title": {
          "text": "Prediction"
         }
        }
       }
      },
      "text/html": [
       "<div>\n",
       "        \n",
       "        \n",
       "            <div id=\"e88128b7-b5bc-403a-bf14-a12acde6a23a\" class=\"plotly-graph-div\" style=\"height:525px; width:100%;\"></div>\n",
       "            <script type=\"text/javascript\">\n",
       "                require([\"plotly\"], function(Plotly) {\n",
       "                    window.PLOTLYENV=window.PLOTLYENV || {};\n",
       "                    \n",
       "                if (document.getElementById(\"e88128b7-b5bc-403a-bf14-a12acde6a23a\")) {\n",
       "                    Plotly.newPlot(\n",
       "                        'e88128b7-b5bc-403a-bf14-a12acde6a23a',\n",
       "                        [{\"alignmentgroup\": \"True\", \"boxpoints\": \"all\", \"customdata\": [[\"DG1251\"], [\"DG1269\"], [\"DG1249\"], [\"DG1234\"], [\"DG1272\"], [\"DG1245\"], [\"DAH227\"], [\"DG1262\"], [\"DAH233\"], [\"DAH890\"], [\"DG1271\"], [\"DG1229\"], [\"DG1250\"], [\"DG1263\"], [\"DG1275\"], [\"DG1264\"], [\"DAH228\"], [\"DG1231\"], [\"DG1259\"], [\"DG1237\"], [\"DG1261\"], [\"DG1270\"], [\"DG1238\"], [\"DG1274\"], [\"DAH208\"], [\"DAH187\"], [\"DG1266\"], [\"DG1253\"], [\"DG1243\"], [\"DAH204\"], [\"DG1235\"], [\"DAH485\"], [\"DG1242\"], [\"DAH177\"], [\"DAH183\"], [\"DG1260\"], [\"DG1265\"], [\"DG1228\"], [\"DG1256\"], [\"DG1230\"], [\"DG1247\"], [\"DG1325\"], [\"DG1252\"]], \"fillcolor\": \"rgba(255,255,255,0)\", \"hoverlabel\": {\"namelength\": 0}, \"hoveron\": \"points\", \"hovertemplate\": \"Sample type=Unknown<br>counter=%{x}<br>prediction=%{y}<br>sample=%{customdata[0]}\", \"legendgroup\": \"Unknown\", \"line\": {\"color\": \"rgba(255,255,255,0)\"}, \"marker\": {\"color\": \"#636efa\", \"size\": 5}, \"name\": \"Unknown\", \"offsetgroup\": \"Unknown\", \"orientation\": \"v\", \"pointpos\": 0, \"showlegend\": true, \"type\": \"box\", \"x\": [0, 1, 2, 3, 4, 5, 6, 7, 8, 9, 10, 11, 12, 13, 14, 15, 16, 17, 18, 19, 20, 21, 22, 23, 24, 25, 26, 27, 28, 29, 30, 32, 35, 36, 37, 41, 42, 43, 46, 48, 50, 56, 58], \"x0\": \" \", \"xaxis\": \"x\", \"y\": [-1.00037274670259, -1.0003686493473185, -1.0003577856538024, -1.0003326161263695, -1.0003235113309947, -1.0002438692360665, -1.000237134613254, -1.0002360607168854, -1.0002357942739695, -1.0002357901885122, -1.0002357900169483, -1.0002357900153476, -1.0002357898756398, -1.000235789860772, -1.0002357898462038, -1.0002357898204843, -1.0002357897062977, -1.000235789652113, -1.0002357885435567, -1.0002356010403508, -1.0002353079231452, -1.000138934850945, -0.9999050495498233, -0.9998991031308523, -0.99987634611175, -0.9998642214227499, -0.9997468039071794, 0.999393826497252, 0.9995403227705615, 0.9996075033286435, 0.9996274190200164, 0.9997563872974297, 0.9998345945481317, 0.9999030381888955, 0.9999295250553953, 1.0000337018756171, 1.0000345407326705, 1.0000360972661246, 1.0000554079416728, 1.0000777711044797, 1.0001152287872468, 1.0001909606985648, 1.000210946840665], \"y0\": \" \", \"yaxis\": \"y\"}, {\"alignmentgroup\": \"True\", \"boxpoints\": \"all\", \"customdata\": [[\"DG1277\"], [\"DG1236\"], [\"DG1233\"], [\"DAH172\"], [\"DAH184\"], [\"DAH219\"], [\"DAH499\"], [\"DG1241\"], [\"DG1276\"], [\"DAH197\"], [\"DG1273\"], [\"DG1255\"], [\"DG1254\"], [\"DAH168\"], [\"DAH182\"], [\"DG1232\"]], \"fillcolor\": \"rgba(255,255,255,0)\", \"hoverlabel\": {\"namelength\": 0}, \"hoveron\": \"points\", \"hovertemplate\": \"Sample type=Deficient<br>counter=%{x}<br>prediction=%{y}<br>sample=%{customdata[0]}\", \"legendgroup\": \"Deficient\", \"line\": {\"color\": \"rgba(255,255,255,0)\"}, \"marker\": {\"color\": \"#EF553B\", \"size\": 5}, \"name\": \"Deficient\", \"offsetgroup\": \"Deficient\", \"orientation\": \"v\", \"pointpos\": 0, \"showlegend\": true, \"type\": \"box\", \"x\": [31, 33, 34, 38, 39, 40, 44, 45, 47, 49, 51, 52, 53, 54, 55, 57], \"x0\": \" \", \"xaxis\": \"x\", \"y\": [0.9996783442068122, 0.9997756487482917, 0.9998081771109886, 0.9999903718855352, 1.0000093251138926, 1.0000114648483607, 1.0000487725732234, 1.0000535396016166, 1.0000692082373064, 1.0001016178516164, 1.0001175292500466, 1.0001421938321464, 1.0001731284559674, 1.000173691366441, 1.0001895316190115, 1.0001979192576738], \"y0\": \" \", \"yaxis\": \"y\"}, {\"line\": {\"color\": \"orange\", \"dash\": \"dash\", \"width\": 3}, \"mode\": \"lines\", \"name\": \"Margin\", \"type\": \"scatter\", \"x\": [0, 58], \"y\": [0.0004275420860418634, 0.0004275420860418634]}],\n",
       "                        {\"boxmode\": \"group\", \"legend\": {\"title\": {\"text\": \"Sample type\"}, \"tracegroupgap\": 0}, \"margin\": {\"t\": 60}, \"template\": {\"data\": {\"bar\": [{\"error_x\": {\"color\": \"#2a3f5f\"}, \"error_y\": {\"color\": \"#2a3f5f\"}, \"marker\": {\"line\": {\"color\": \"#E5ECF6\", \"width\": 0.5}}, \"type\": \"bar\"}], \"barpolar\": [{\"marker\": {\"line\": {\"color\": \"#E5ECF6\", \"width\": 0.5}}, \"type\": \"barpolar\"}], \"carpet\": [{\"aaxis\": {\"endlinecolor\": \"#2a3f5f\", \"gridcolor\": \"white\", \"linecolor\": \"white\", \"minorgridcolor\": \"white\", \"startlinecolor\": \"#2a3f5f\"}, \"baxis\": {\"endlinecolor\": \"#2a3f5f\", \"gridcolor\": \"white\", \"linecolor\": \"white\", \"minorgridcolor\": \"white\", \"startlinecolor\": \"#2a3f5f\"}, \"type\": \"carpet\"}], \"choropleth\": [{\"colorbar\": {\"outlinewidth\": 0, \"ticks\": \"\"}, \"type\": \"choropleth\"}], \"contour\": [{\"colorbar\": {\"outlinewidth\": 0, \"ticks\": \"\"}, \"colorscale\": [[0.0, \"#0d0887\"], [0.1111111111111111, \"#46039f\"], [0.2222222222222222, \"#7201a8\"], [0.3333333333333333, \"#9c179e\"], [0.4444444444444444, \"#bd3786\"], [0.5555555555555556, \"#d8576b\"], [0.6666666666666666, \"#ed7953\"], [0.7777777777777778, \"#fb9f3a\"], [0.8888888888888888, \"#fdca26\"], [1.0, \"#f0f921\"]], \"type\": \"contour\"}], \"contourcarpet\": [{\"colorbar\": {\"outlinewidth\": 0, \"ticks\": \"\"}, \"type\": \"contourcarpet\"}], \"heatmap\": [{\"colorbar\": {\"outlinewidth\": 0, \"ticks\": \"\"}, \"colorscale\": [[0.0, \"#0d0887\"], [0.1111111111111111, \"#46039f\"], [0.2222222222222222, \"#7201a8\"], [0.3333333333333333, \"#9c179e\"], [0.4444444444444444, \"#bd3786\"], [0.5555555555555556, \"#d8576b\"], [0.6666666666666666, \"#ed7953\"], [0.7777777777777778, \"#fb9f3a\"], [0.8888888888888888, \"#fdca26\"], [1.0, \"#f0f921\"]], \"type\": \"heatmap\"}], \"heatmapgl\": [{\"colorbar\": {\"outlinewidth\": 0, \"ticks\": \"\"}, \"colorscale\": [[0.0, \"#0d0887\"], [0.1111111111111111, \"#46039f\"], [0.2222222222222222, \"#7201a8\"], [0.3333333333333333, \"#9c179e\"], [0.4444444444444444, \"#bd3786\"], [0.5555555555555556, \"#d8576b\"], [0.6666666666666666, \"#ed7953\"], [0.7777777777777778, \"#fb9f3a\"], [0.8888888888888888, \"#fdca26\"], [1.0, \"#f0f921\"]], \"type\": \"heatmapgl\"}], \"histogram\": [{\"marker\": {\"colorbar\": {\"outlinewidth\": 0, \"ticks\": \"\"}}, \"type\": \"histogram\"}], \"histogram2d\": [{\"colorbar\": {\"outlinewidth\": 0, \"ticks\": \"\"}, \"colorscale\": [[0.0, \"#0d0887\"], [0.1111111111111111, \"#46039f\"], [0.2222222222222222, \"#7201a8\"], [0.3333333333333333, \"#9c179e\"], [0.4444444444444444, \"#bd3786\"], [0.5555555555555556, \"#d8576b\"], [0.6666666666666666, \"#ed7953\"], [0.7777777777777778, \"#fb9f3a\"], [0.8888888888888888, \"#fdca26\"], [1.0, \"#f0f921\"]], \"type\": \"histogram2d\"}], \"histogram2dcontour\": [{\"colorbar\": {\"outlinewidth\": 0, \"ticks\": \"\"}, \"colorscale\": [[0.0, \"#0d0887\"], [0.1111111111111111, \"#46039f\"], [0.2222222222222222, \"#7201a8\"], [0.3333333333333333, \"#9c179e\"], [0.4444444444444444, \"#bd3786\"], [0.5555555555555556, \"#d8576b\"], [0.6666666666666666, \"#ed7953\"], [0.7777777777777778, \"#fb9f3a\"], [0.8888888888888888, \"#fdca26\"], [1.0, \"#f0f921\"]], \"type\": \"histogram2dcontour\"}], \"mesh3d\": [{\"colorbar\": {\"outlinewidth\": 0, \"ticks\": \"\"}, \"type\": \"mesh3d\"}], \"parcoords\": [{\"line\": {\"colorbar\": {\"outlinewidth\": 0, \"ticks\": \"\"}}, \"type\": \"parcoords\"}], \"pie\": [{\"automargin\": true, \"type\": \"pie\"}], \"scatter\": [{\"marker\": {\"colorbar\": {\"outlinewidth\": 0, \"ticks\": \"\"}}, \"type\": \"scatter\"}], \"scatter3d\": [{\"line\": {\"colorbar\": {\"outlinewidth\": 0, \"ticks\": \"\"}}, \"marker\": {\"colorbar\": {\"outlinewidth\": 0, \"ticks\": \"\"}}, \"type\": \"scatter3d\"}], \"scattercarpet\": [{\"marker\": {\"colorbar\": {\"outlinewidth\": 0, \"ticks\": \"\"}}, \"type\": \"scattercarpet\"}], \"scattergeo\": [{\"marker\": {\"colorbar\": {\"outlinewidth\": 0, \"ticks\": \"\"}}, \"type\": \"scattergeo\"}], \"scattergl\": [{\"marker\": {\"colorbar\": {\"outlinewidth\": 0, \"ticks\": \"\"}}, \"type\": \"scattergl\"}], \"scattermapbox\": [{\"marker\": {\"colorbar\": {\"outlinewidth\": 0, \"ticks\": \"\"}}, \"type\": \"scattermapbox\"}], \"scatterpolar\": [{\"marker\": {\"colorbar\": {\"outlinewidth\": 0, \"ticks\": \"\"}}, \"type\": \"scatterpolar\"}], \"scatterpolargl\": [{\"marker\": {\"colorbar\": {\"outlinewidth\": 0, \"ticks\": \"\"}}, \"type\": \"scatterpolargl\"}], \"scatterternary\": [{\"marker\": {\"colorbar\": {\"outlinewidth\": 0, \"ticks\": \"\"}}, \"type\": \"scatterternary\"}], \"surface\": [{\"colorbar\": {\"outlinewidth\": 0, \"ticks\": \"\"}, \"colorscale\": [[0.0, \"#0d0887\"], [0.1111111111111111, \"#46039f\"], [0.2222222222222222, \"#7201a8\"], [0.3333333333333333, \"#9c179e\"], [0.4444444444444444, \"#bd3786\"], [0.5555555555555556, \"#d8576b\"], [0.6666666666666666, \"#ed7953\"], [0.7777777777777778, \"#fb9f3a\"], [0.8888888888888888, \"#fdca26\"], [1.0, \"#f0f921\"]], \"type\": \"surface\"}], \"table\": [{\"cells\": {\"fill\": {\"color\": \"#EBF0F8\"}, \"line\": {\"color\": \"white\"}}, \"header\": {\"fill\": {\"color\": \"#C8D4E3\"}, \"line\": {\"color\": \"white\"}}, \"type\": \"table\"}]}, \"layout\": {\"annotationdefaults\": {\"arrowcolor\": \"#2a3f5f\", \"arrowhead\": 0, \"arrowwidth\": 1}, \"coloraxis\": {\"colorbar\": {\"outlinewidth\": 0, \"ticks\": \"\"}}, \"colorscale\": {\"diverging\": [[0, \"#8e0152\"], [0.1, \"#c51b7d\"], [0.2, \"#de77ae\"], [0.3, \"#f1b6da\"], [0.4, \"#fde0ef\"], [0.5, \"#f7f7f7\"], [0.6, \"#e6f5d0\"], [0.7, \"#b8e186\"], [0.8, \"#7fbc41\"], [0.9, \"#4d9221\"], [1, \"#276419\"]], \"sequential\": [[0.0, \"#0d0887\"], [0.1111111111111111, \"#46039f\"], [0.2222222222222222, \"#7201a8\"], [0.3333333333333333, \"#9c179e\"], [0.4444444444444444, \"#bd3786\"], [0.5555555555555556, \"#d8576b\"], [0.6666666666666666, \"#ed7953\"], [0.7777777777777778, \"#fb9f3a\"], [0.8888888888888888, \"#fdca26\"], [1.0, \"#f0f921\"]], \"sequentialminus\": [[0.0, \"#0d0887\"], [0.1111111111111111, \"#46039f\"], [0.2222222222222222, \"#7201a8\"], [0.3333333333333333, \"#9c179e\"], [0.4444444444444444, \"#bd3786\"], [0.5555555555555556, \"#d8576b\"], [0.6666666666666666, \"#ed7953\"], [0.7777777777777778, \"#fb9f3a\"], [0.8888888888888888, \"#fdca26\"], [1.0, \"#f0f921\"]]}, \"colorway\": [\"#636efa\", \"#EF553B\", \"#00cc96\", \"#ab63fa\", \"#FFA15A\", \"#19d3f3\", \"#FF6692\", \"#B6E880\", \"#FF97FF\", \"#FECB52\"], \"font\": {\"color\": \"#2a3f5f\"}, \"geo\": {\"bgcolor\": \"white\", \"lakecolor\": \"white\", \"landcolor\": \"#E5ECF6\", \"showlakes\": true, \"showland\": true, \"subunitcolor\": \"white\"}, \"hoverlabel\": {\"align\": \"left\"}, \"hovermode\": \"closest\", \"mapbox\": {\"style\": \"light\"}, \"paper_bgcolor\": \"white\", \"plot_bgcolor\": \"#E5ECF6\", \"polar\": {\"angularaxis\": {\"gridcolor\": \"white\", \"linecolor\": \"white\", \"ticks\": \"\"}, \"bgcolor\": \"#E5ECF6\", \"radialaxis\": {\"gridcolor\": \"white\", \"linecolor\": \"white\", \"ticks\": \"\"}}, \"scene\": {\"xaxis\": {\"backgroundcolor\": \"#E5ECF6\", \"gridcolor\": \"white\", \"gridwidth\": 2, \"linecolor\": \"white\", \"showbackground\": true, \"ticks\": \"\", \"zerolinecolor\": \"white\"}, \"yaxis\": {\"backgroundcolor\": \"#E5ECF6\", \"gridcolor\": \"white\", \"gridwidth\": 2, \"linecolor\": \"white\", \"showbackground\": true, \"ticks\": \"\", \"zerolinecolor\": \"white\"}, \"zaxis\": {\"backgroundcolor\": \"#E5ECF6\", \"gridcolor\": \"white\", \"gridwidth\": 2, \"linecolor\": \"white\", \"showbackground\": true, \"ticks\": \"\", \"zerolinecolor\": \"white\"}}, \"shapedefaults\": {\"line\": {\"color\": \"#2a3f5f\"}}, \"ternary\": {\"aaxis\": {\"gridcolor\": \"white\", \"linecolor\": \"white\", \"ticks\": \"\"}, \"baxis\": {\"gridcolor\": \"white\", \"linecolor\": \"white\", \"ticks\": \"\"}, \"bgcolor\": \"#E5ECF6\", \"caxis\": {\"gridcolor\": \"white\", \"linecolor\": \"white\", \"ticks\": \"\"}}, \"title\": {\"x\": 0.05}, \"xaxis\": {\"automargin\": true, \"gridcolor\": \"white\", \"linecolor\": \"white\", \"ticks\": \"\", \"title\": {\"standoff\": 15}, \"zerolinecolor\": \"white\", \"zerolinewidth\": 2}, \"yaxis\": {\"automargin\": true, \"gridcolor\": \"white\", \"linecolor\": \"white\", \"ticks\": \"\", \"title\": {\"standoff\": 15}, \"zerolinecolor\": \"white\", \"zerolinewidth\": 2}}}, \"title\": {\"text\": \"MSclassifier model prediction.\"}, \"xaxis\": {\"anchor\": \"y\", \"domain\": [0.0, 1.0], \"title\": {\"text\": \"Samples\"}}, \"yaxis\": {\"anchor\": \"x\", \"domain\": [0.0, 1.0], \"title\": {\"text\": \"Prediction\"}}},\n",
       "                        {\"responsive\": true}\n",
       "                    ).then(function(){\n",
       "                            \n",
       "var gd = document.getElementById('e88128b7-b5bc-403a-bf14-a12acde6a23a');\n",
       "var x = new MutationObserver(function (mutations, observer) {{\n",
       "        var display = window.getComputedStyle(gd).display;\n",
       "        if (!display || display === 'none') {{\n",
       "            console.log([gd, 'removed!']);\n",
       "            Plotly.purge(gd);\n",
       "            observer.disconnect();\n",
       "        }}\n",
       "}});\n",
       "\n",
       "// Listen for the removal of the full notebook cells\n",
       "var notebookContainer = gd.closest('#notebook-container');\n",
       "if (notebookContainer) {{\n",
       "    x.observe(notebookContainer, {childList: true});\n",
       "}}\n",
       "\n",
       "// Listen for the clearing of the current output cell\n",
       "var outputEl = gd.closest('.output');\n",
       "if (outputEl) {{\n",
       "    x.observe(outputEl, {childList: true});\n",
       "}}\n",
       "\n",
       "                        })\n",
       "                };\n",
       "                });\n",
       "            </script>\n",
       "        </div>"
      ]
     },
     "metadata": {},
     "output_type": "display_data"
    }
   ],
   "source": [
    "unseen_cohort.plot.show()"
   ]
  },
  {
   "cell_type": "markdown",
   "metadata": {},
   "source": [
    "As we can see, our HR predictor model has done an excellent job at predicting HR deficinecy in a completely unseen cohort by just using 5 inputs as features."
   ]
  },
  {
   "cell_type": "markdown",
   "metadata": {},
   "source": [
    "# Using your own model\n",
    "\n",
    "As mentioned, finding the right regressor model that is right for your purposes can be tricky and the neural network that MSclassifier produces might not be the right one. \n",
    "\n",
    "In this example we input a third party regressor as the classifier of the HGSOC. First, we retrieve the X_train and y_train arrays to fit the model, using the **MSclassifier.model.train_set** method. Then we fit the model and replace HGSOC.model.classifier with our new fitted model, and call the method **.model.model_fit()** to find the margin maximization.\n",
    "\n",
    "MSclassifier's .export() functionality is only retained if the third party model is an scikit-klearn model. However, MSclassifier also accepts TensorFlow models, but the model needs to be exported separately with the tensorflow .save method.\n",
    "\n",
    "\n",
    "In this example we use a keras tensorflow model."
   ]
  },
  {
   "cell_type": "code",
   "execution_count": 32,
   "metadata": {},
   "outputs": [
    {
     "name": "stdout",
     "output_type": "stream",
     "text": [
      "Model: \"sequential\"\n",
      "_________________________________________________________________\n",
      "Layer (type)                 Output Shape              Param #   \n",
      "=================================================================\n",
      "dropout (Dropout)            (None, 5)                 0         \n",
      "_________________________________________________________________\n",
      "dense (Dense)                (None, 10)                60        \n",
      "_________________________________________________________________\n",
      "dropout_1 (Dropout)          (None, 10)                0         \n",
      "_________________________________________________________________\n",
      "dense_1 (Dense)              (None, 1)                 11        \n",
      "=================================================================\n",
      "Total params: 71\n",
      "Trainable params: 71\n",
      "Non-trainable params: 0\n",
      "_________________________________________________________________\n"
     ]
    },
    {
     "data": {
      "text/plain": [
       "<tensorflow.python.keras.callbacks.History at 0x7efd70452910>"
      ]
     },
     "execution_count": 32,
     "metadata": {},
     "output_type": "execute_result"
    }
   ],
   "source": [
    "X_train, y_train = MSclassifier.model.train_set(HGSOC)\n",
    "\n",
    "from tensorflow.keras.models import Sequential\n",
    "from tensorflow.keras.layers import Dense, Dropout\n",
    "from tensorflow.keras.regularizers import l1,l2\n",
    "\n",
    "# Build a baseline regressor\n",
    "regressor = Sequential()\n",
    "regressor.add(Dropout(0.2, input_shape=(X_train.shape[1],)))\n",
    "regressor.add(Dense(units=X_train.shape[1]+5,kernel_regularizer=l2(0.01)))\n",
    "regressor.add(Dropout(0.2))\n",
    "regressor.add(Dense(units=1, activation='tanh'))\n",
    "regressor.summary()\n",
    "\n",
    "regressor.compile(optimizer='rmsprop', loss='mean_squared_error',  metrics=['mae','accuracy'])\n",
    "\n",
    "regressor.fit(X_train, y_train, validation_split=0.2, batch_size=20, epochs=90,verbose=0)"
   ]
  },
  {
   "cell_type": "markdown",
   "metadata": {},
   "source": [
    "Then we use te trained regressor as the input of the **.model_fit()** mehtod. The next steps are as usual."
   ]
  },
  {
   "cell_type": "code",
   "execution_count": 33,
   "metadata": {
    "scrolled": false
   },
   "outputs": [
    {
     "data": {
      "application/vnd.plotly.v1+json": {
       "config": {
        "plotlyServerURL": "https://plot.ly"
       },
       "data": [
        {
         "alignmentgroup": "True",
         "boxpoints": "all",
         "customdata": [
          [
           "AOCS_084"
          ],
          [
           "AOCS_159"
          ],
          [
           "SHGSOC081"
          ],
          [
           "DO31150"
          ],
          [
           "SHGSOC008"
          ],
          [
           "AOCS_124"
          ],
          [
           "SHGSOC010"
          ],
          [
           "DO28952"
          ],
          [
           "SHGSOC020"
          ],
          [
           "SHGSOC057"
          ],
          [
           "AOCS_078"
          ],
          [
           "AOCS_077"
          ]
         ],
         "fillcolor": "rgba(255,255,255,0)",
         "hoverlabel": {
          "namelength": 0
         },
         "hoveron": "points",
         "hovertemplate": "Sample type=Proficient<br>class=%{x}<br>prediction=%{y}<br>sample=%{customdata[0]}",
         "legendgroup": "Proficient",
         "line": {
          "color": "rgba(255,255,255,0)"
         },
         "marker": {
          "color": "#636efa"
         },
         "name": "Proficient",
         "offsetgroup": "Proficient",
         "orientation": "v",
         "pointpos": 0,
         "showlegend": true,
         "type": "box",
         "x": [
          -1,
          -1,
          -1,
          -1,
          -1,
          -1,
          -1,
          -1,
          -1,
          -1,
          -1,
          -1
         ],
         "x0": " ",
         "xaxis": "x",
         "y": [
          -0.9977938532829285,
          -0.9968557953834534,
          -0.4539649188518524,
          0.9731811285018921,
          -0.9994792938232422,
          -0.9998599290847778,
          -0.8751764297485352,
          -0.9987437725067139,
          -0.8410861492156982,
          -0.9996362328529358,
          -0.5296221971511841,
          -0.9987315535545349
         ],
         "y0": " ",
         "yaxis": "y"
        },
        {
         "alignmentgroup": "True",
         "boxpoints": "all",
         "customdata": [
          [
           "SHGSOC022"
          ],
          [
           "DO28521"
          ],
          [
           "SHGSOC072"
          ],
          [
           "DO30220"
          ],
          [
           "AOCS_095"
          ],
          [
           "AOCS_104"
          ],
          [
           "SHGSOC009"
          ],
          [
           "AOCS_139"
          ],
          [
           "AOCS_088"
          ],
          [
           "AOCS_108"
          ],
          [
           "AOCS_079"
          ],
          [
           "AOCS_063"
          ],
          [
           "AOCS_065"
          ]
         ],
         "fillcolor": "rgba(255,255,255,0)",
         "hoverlabel": {
          "namelength": 0
         },
         "hoveron": "points",
         "hovertemplate": "Sample type=Deficient<br>class=%{x}<br>prediction=%{y}<br>sample=%{customdata[0]}",
         "legendgroup": "Deficient",
         "line": {
          "color": "rgba(255,255,255,0)"
         },
         "marker": {
          "color": "#EF553B"
         },
         "name": "Deficient",
         "offsetgroup": "Deficient",
         "orientation": "v",
         "pointpos": 0,
         "showlegend": true,
         "type": "box",
         "x": [
          1,
          1,
          1,
          1,
          1,
          1,
          1,
          1,
          1,
          1,
          1,
          1,
          1
         ],
         "x0": " ",
         "xaxis": "x",
         "y": [
          0.9932371973991394,
          0.9052839875221252,
          0.9341985583305359,
          0.9572314620018005,
          0.9880174994468689,
          0.9581784009933472,
          0.9914476871490479,
          0.9912930727005005,
          0.9347293376922607,
          0.9622203707695007,
          0.8978903889656067,
          0.9771463871002197,
          0.9409292340278625
         ],
         "y0": " ",
         "yaxis": "y"
        },
        {
         "line": {
          "color": "orange",
          "dash": "dash",
          "width": 3
         },
         "mode": "lines",
         "name": "Margin maximization",
         "type": "scatter",
         "x": [
          -1.5,
          1.5
         ],
         "y": [
          0.22196274430192248,
          0.22196274430192248
         ]
        }
       ],
       "layout": {
        "boxmode": "group",
        "legend": {
         "title": {
          "text": "Sample type"
         },
         "tracegroupgap": 0
        },
        "margin": {
         "t": 60
        },
        "template": {
         "data": {
          "bar": [
           {
            "error_x": {
             "color": "#2a3f5f"
            },
            "error_y": {
             "color": "#2a3f5f"
            },
            "marker": {
             "line": {
              "color": "#E5ECF6",
              "width": 0.5
             }
            },
            "type": "bar"
           }
          ],
          "barpolar": [
           {
            "marker": {
             "line": {
              "color": "#E5ECF6",
              "width": 0.5
             }
            },
            "type": "barpolar"
           }
          ],
          "carpet": [
           {
            "aaxis": {
             "endlinecolor": "#2a3f5f",
             "gridcolor": "white",
             "linecolor": "white",
             "minorgridcolor": "white",
             "startlinecolor": "#2a3f5f"
            },
            "baxis": {
             "endlinecolor": "#2a3f5f",
             "gridcolor": "white",
             "linecolor": "white",
             "minorgridcolor": "white",
             "startlinecolor": "#2a3f5f"
            },
            "type": "carpet"
           }
          ],
          "choropleth": [
           {
            "colorbar": {
             "outlinewidth": 0,
             "ticks": ""
            },
            "type": "choropleth"
           }
          ],
          "contour": [
           {
            "colorbar": {
             "outlinewidth": 0,
             "ticks": ""
            },
            "colorscale": [
             [
              0,
              "#0d0887"
             ],
             [
              0.1111111111111111,
              "#46039f"
             ],
             [
              0.2222222222222222,
              "#7201a8"
             ],
             [
              0.3333333333333333,
              "#9c179e"
             ],
             [
              0.4444444444444444,
              "#bd3786"
             ],
             [
              0.5555555555555556,
              "#d8576b"
             ],
             [
              0.6666666666666666,
              "#ed7953"
             ],
             [
              0.7777777777777778,
              "#fb9f3a"
             ],
             [
              0.8888888888888888,
              "#fdca26"
             ],
             [
              1,
              "#f0f921"
             ]
            ],
            "type": "contour"
           }
          ],
          "contourcarpet": [
           {
            "colorbar": {
             "outlinewidth": 0,
             "ticks": ""
            },
            "type": "contourcarpet"
           }
          ],
          "heatmap": [
           {
            "colorbar": {
             "outlinewidth": 0,
             "ticks": ""
            },
            "colorscale": [
             [
              0,
              "#0d0887"
             ],
             [
              0.1111111111111111,
              "#46039f"
             ],
             [
              0.2222222222222222,
              "#7201a8"
             ],
             [
              0.3333333333333333,
              "#9c179e"
             ],
             [
              0.4444444444444444,
              "#bd3786"
             ],
             [
              0.5555555555555556,
              "#d8576b"
             ],
             [
              0.6666666666666666,
              "#ed7953"
             ],
             [
              0.7777777777777778,
              "#fb9f3a"
             ],
             [
              0.8888888888888888,
              "#fdca26"
             ],
             [
              1,
              "#f0f921"
             ]
            ],
            "type": "heatmap"
           }
          ],
          "heatmapgl": [
           {
            "colorbar": {
             "outlinewidth": 0,
             "ticks": ""
            },
            "colorscale": [
             [
              0,
              "#0d0887"
             ],
             [
              0.1111111111111111,
              "#46039f"
             ],
             [
              0.2222222222222222,
              "#7201a8"
             ],
             [
              0.3333333333333333,
              "#9c179e"
             ],
             [
              0.4444444444444444,
              "#bd3786"
             ],
             [
              0.5555555555555556,
              "#d8576b"
             ],
             [
              0.6666666666666666,
              "#ed7953"
             ],
             [
              0.7777777777777778,
              "#fb9f3a"
             ],
             [
              0.8888888888888888,
              "#fdca26"
             ],
             [
              1,
              "#f0f921"
             ]
            ],
            "type": "heatmapgl"
           }
          ],
          "histogram": [
           {
            "marker": {
             "colorbar": {
              "outlinewidth": 0,
              "ticks": ""
             }
            },
            "type": "histogram"
           }
          ],
          "histogram2d": [
           {
            "colorbar": {
             "outlinewidth": 0,
             "ticks": ""
            },
            "colorscale": [
             [
              0,
              "#0d0887"
             ],
             [
              0.1111111111111111,
              "#46039f"
             ],
             [
              0.2222222222222222,
              "#7201a8"
             ],
             [
              0.3333333333333333,
              "#9c179e"
             ],
             [
              0.4444444444444444,
              "#bd3786"
             ],
             [
              0.5555555555555556,
              "#d8576b"
             ],
             [
              0.6666666666666666,
              "#ed7953"
             ],
             [
              0.7777777777777778,
              "#fb9f3a"
             ],
             [
              0.8888888888888888,
              "#fdca26"
             ],
             [
              1,
              "#f0f921"
             ]
            ],
            "type": "histogram2d"
           }
          ],
          "histogram2dcontour": [
           {
            "colorbar": {
             "outlinewidth": 0,
             "ticks": ""
            },
            "colorscale": [
             [
              0,
              "#0d0887"
             ],
             [
              0.1111111111111111,
              "#46039f"
             ],
             [
              0.2222222222222222,
              "#7201a8"
             ],
             [
              0.3333333333333333,
              "#9c179e"
             ],
             [
              0.4444444444444444,
              "#bd3786"
             ],
             [
              0.5555555555555556,
              "#d8576b"
             ],
             [
              0.6666666666666666,
              "#ed7953"
             ],
             [
              0.7777777777777778,
              "#fb9f3a"
             ],
             [
              0.8888888888888888,
              "#fdca26"
             ],
             [
              1,
              "#f0f921"
             ]
            ],
            "type": "histogram2dcontour"
           }
          ],
          "mesh3d": [
           {
            "colorbar": {
             "outlinewidth": 0,
             "ticks": ""
            },
            "type": "mesh3d"
           }
          ],
          "parcoords": [
           {
            "line": {
             "colorbar": {
              "outlinewidth": 0,
              "ticks": ""
             }
            },
            "type": "parcoords"
           }
          ],
          "pie": [
           {
            "automargin": true,
            "type": "pie"
           }
          ],
          "scatter": [
           {
            "marker": {
             "colorbar": {
              "outlinewidth": 0,
              "ticks": ""
             }
            },
            "type": "scatter"
           }
          ],
          "scatter3d": [
           {
            "line": {
             "colorbar": {
              "outlinewidth": 0,
              "ticks": ""
             }
            },
            "marker": {
             "colorbar": {
              "outlinewidth": 0,
              "ticks": ""
             }
            },
            "type": "scatter3d"
           }
          ],
          "scattercarpet": [
           {
            "marker": {
             "colorbar": {
              "outlinewidth": 0,
              "ticks": ""
             }
            },
            "type": "scattercarpet"
           }
          ],
          "scattergeo": [
           {
            "marker": {
             "colorbar": {
              "outlinewidth": 0,
              "ticks": ""
             }
            },
            "type": "scattergeo"
           }
          ],
          "scattergl": [
           {
            "marker": {
             "colorbar": {
              "outlinewidth": 0,
              "ticks": ""
             }
            },
            "type": "scattergl"
           }
          ],
          "scattermapbox": [
           {
            "marker": {
             "colorbar": {
              "outlinewidth": 0,
              "ticks": ""
             }
            },
            "type": "scattermapbox"
           }
          ],
          "scatterpolar": [
           {
            "marker": {
             "colorbar": {
              "outlinewidth": 0,
              "ticks": ""
             }
            },
            "type": "scatterpolar"
           }
          ],
          "scatterpolargl": [
           {
            "marker": {
             "colorbar": {
              "outlinewidth": 0,
              "ticks": ""
             }
            },
            "type": "scatterpolargl"
           }
          ],
          "scatterternary": [
           {
            "marker": {
             "colorbar": {
              "outlinewidth": 0,
              "ticks": ""
             }
            },
            "type": "scatterternary"
           }
          ],
          "surface": [
           {
            "colorbar": {
             "outlinewidth": 0,
             "ticks": ""
            },
            "colorscale": [
             [
              0,
              "#0d0887"
             ],
             [
              0.1111111111111111,
              "#46039f"
             ],
             [
              0.2222222222222222,
              "#7201a8"
             ],
             [
              0.3333333333333333,
              "#9c179e"
             ],
             [
              0.4444444444444444,
              "#bd3786"
             ],
             [
              0.5555555555555556,
              "#d8576b"
             ],
             [
              0.6666666666666666,
              "#ed7953"
             ],
             [
              0.7777777777777778,
              "#fb9f3a"
             ],
             [
              0.8888888888888888,
              "#fdca26"
             ],
             [
              1,
              "#f0f921"
             ]
            ],
            "type": "surface"
           }
          ],
          "table": [
           {
            "cells": {
             "fill": {
              "color": "#EBF0F8"
             },
             "line": {
              "color": "white"
             }
            },
            "header": {
             "fill": {
              "color": "#C8D4E3"
             },
             "line": {
              "color": "white"
             }
            },
            "type": "table"
           }
          ]
         },
         "layout": {
          "annotationdefaults": {
           "arrowcolor": "#2a3f5f",
           "arrowhead": 0,
           "arrowwidth": 1
          },
          "coloraxis": {
           "colorbar": {
            "outlinewidth": 0,
            "ticks": ""
           }
          },
          "colorscale": {
           "diverging": [
            [
             0,
             "#8e0152"
            ],
            [
             0.1,
             "#c51b7d"
            ],
            [
             0.2,
             "#de77ae"
            ],
            [
             0.3,
             "#f1b6da"
            ],
            [
             0.4,
             "#fde0ef"
            ],
            [
             0.5,
             "#f7f7f7"
            ],
            [
             0.6,
             "#e6f5d0"
            ],
            [
             0.7,
             "#b8e186"
            ],
            [
             0.8,
             "#7fbc41"
            ],
            [
             0.9,
             "#4d9221"
            ],
            [
             1,
             "#276419"
            ]
           ],
           "sequential": [
            [
             0,
             "#0d0887"
            ],
            [
             0.1111111111111111,
             "#46039f"
            ],
            [
             0.2222222222222222,
             "#7201a8"
            ],
            [
             0.3333333333333333,
             "#9c179e"
            ],
            [
             0.4444444444444444,
             "#bd3786"
            ],
            [
             0.5555555555555556,
             "#d8576b"
            ],
            [
             0.6666666666666666,
             "#ed7953"
            ],
            [
             0.7777777777777778,
             "#fb9f3a"
            ],
            [
             0.8888888888888888,
             "#fdca26"
            ],
            [
             1,
             "#f0f921"
            ]
           ],
           "sequentialminus": [
            [
             0,
             "#0d0887"
            ],
            [
             0.1111111111111111,
             "#46039f"
            ],
            [
             0.2222222222222222,
             "#7201a8"
            ],
            [
             0.3333333333333333,
             "#9c179e"
            ],
            [
             0.4444444444444444,
             "#bd3786"
            ],
            [
             0.5555555555555556,
             "#d8576b"
            ],
            [
             0.6666666666666666,
             "#ed7953"
            ],
            [
             0.7777777777777778,
             "#fb9f3a"
            ],
            [
             0.8888888888888888,
             "#fdca26"
            ],
            [
             1,
             "#f0f921"
            ]
           ]
          },
          "colorway": [
           "#636efa",
           "#EF553B",
           "#00cc96",
           "#ab63fa",
           "#FFA15A",
           "#19d3f3",
           "#FF6692",
           "#B6E880",
           "#FF97FF",
           "#FECB52"
          ],
          "font": {
           "color": "#2a3f5f"
          },
          "geo": {
           "bgcolor": "white",
           "lakecolor": "white",
           "landcolor": "#E5ECF6",
           "showlakes": true,
           "showland": true,
           "subunitcolor": "white"
          },
          "hoverlabel": {
           "align": "left"
          },
          "hovermode": "closest",
          "mapbox": {
           "style": "light"
          },
          "paper_bgcolor": "white",
          "plot_bgcolor": "#E5ECF6",
          "polar": {
           "angularaxis": {
            "gridcolor": "white",
            "linecolor": "white",
            "ticks": ""
           },
           "bgcolor": "#E5ECF6",
           "radialaxis": {
            "gridcolor": "white",
            "linecolor": "white",
            "ticks": ""
           }
          },
          "scene": {
           "xaxis": {
            "backgroundcolor": "#E5ECF6",
            "gridcolor": "white",
            "gridwidth": 2,
            "linecolor": "white",
            "showbackground": true,
            "ticks": "",
            "zerolinecolor": "white"
           },
           "yaxis": {
            "backgroundcolor": "#E5ECF6",
            "gridcolor": "white",
            "gridwidth": 2,
            "linecolor": "white",
            "showbackground": true,
            "ticks": "",
            "zerolinecolor": "white"
           },
           "zaxis": {
            "backgroundcolor": "#E5ECF6",
            "gridcolor": "white",
            "gridwidth": 2,
            "linecolor": "white",
            "showbackground": true,
            "ticks": "",
            "zerolinecolor": "white"
           }
          },
          "shapedefaults": {
           "line": {
            "color": "#2a3f5f"
           }
          },
          "ternary": {
           "aaxis": {
            "gridcolor": "white",
            "linecolor": "white",
            "ticks": ""
           },
           "baxis": {
            "gridcolor": "white",
            "linecolor": "white",
            "ticks": ""
           },
           "bgcolor": "#E5ECF6",
           "caxis": {
            "gridcolor": "white",
            "linecolor": "white",
            "ticks": ""
           }
          },
          "title": {
           "x": 0.05
          },
          "xaxis": {
           "automargin": true,
           "gridcolor": "white",
           "linecolor": "white",
           "ticks": "",
           "title": {
            "standoff": 15
           },
           "zerolinecolor": "white",
           "zerolinewidth": 2
          },
          "yaxis": {
           "automargin": true,
           "gridcolor": "white",
           "linecolor": "white",
           "ticks": "",
           "title": {
            "standoff": 15
           },
           "zerolinecolor": "white",
           "zerolinewidth": 2
          }
         }
        },
        "xaxis": {
         "anchor": "y",
         "domain": [
          0,
          1
         ],
         "title": {
          "text": "class"
         }
        },
        "yaxis": {
         "anchor": "x",
         "domain": [
          0,
          1
         ],
         "title": {
          "text": "prediction"
         }
        }
       }
      },
      "text/html": [
       "<div>\n",
       "        \n",
       "        \n",
       "            <div id=\"9f17ca56-f09a-40e2-906b-44328749dd7c\" class=\"plotly-graph-div\" style=\"height:525px; width:100%;\"></div>\n",
       "            <script type=\"text/javascript\">\n",
       "                require([\"plotly\"], function(Plotly) {\n",
       "                    window.PLOTLYENV=window.PLOTLYENV || {};\n",
       "                    \n",
       "                if (document.getElementById(\"9f17ca56-f09a-40e2-906b-44328749dd7c\")) {\n",
       "                    Plotly.newPlot(\n",
       "                        '9f17ca56-f09a-40e2-906b-44328749dd7c',\n",
       "                        [{\"alignmentgroup\": \"True\", \"boxpoints\": \"all\", \"customdata\": [[\"AOCS_084\"], [\"AOCS_159\"], [\"SHGSOC081\"], [\"DO31150\"], [\"SHGSOC008\"], [\"AOCS_124\"], [\"SHGSOC010\"], [\"DO28952\"], [\"SHGSOC020\"], [\"SHGSOC057\"], [\"AOCS_078\"], [\"AOCS_077\"]], \"fillcolor\": \"rgba(255,255,255,0)\", \"hoverlabel\": {\"namelength\": 0}, \"hoveron\": \"points\", \"hovertemplate\": \"Sample type=Proficient<br>class=%{x}<br>prediction=%{y}<br>sample=%{customdata[0]}\", \"legendgroup\": \"Proficient\", \"line\": {\"color\": \"rgba(255,255,255,0)\"}, \"marker\": {\"color\": \"#636efa\"}, \"name\": \"Proficient\", \"offsetgroup\": \"Proficient\", \"orientation\": \"v\", \"pointpos\": 0, \"showlegend\": true, \"type\": \"box\", \"x\": [-1.0, -1.0, -1.0, -1.0, -1.0, -1.0, -1.0, -1.0, -1.0, -1.0, -1.0, -1.0], \"x0\": \" \", \"xaxis\": \"x\", \"y\": [-0.9977938532829285, -0.9968557953834534, -0.4539649188518524, 0.9731811285018921, -0.9994792938232422, -0.9998599290847778, -0.8751764297485352, -0.9987437725067139, -0.8410861492156982, -0.9996362328529358, -0.5296221971511841, -0.9987315535545349], \"y0\": \" \", \"yaxis\": \"y\"}, {\"alignmentgroup\": \"True\", \"boxpoints\": \"all\", \"customdata\": [[\"SHGSOC022\"], [\"DO28521\"], [\"SHGSOC072\"], [\"DO30220\"], [\"AOCS_095\"], [\"AOCS_104\"], [\"SHGSOC009\"], [\"AOCS_139\"], [\"AOCS_088\"], [\"AOCS_108\"], [\"AOCS_079\"], [\"AOCS_063\"], [\"AOCS_065\"]], \"fillcolor\": \"rgba(255,255,255,0)\", \"hoverlabel\": {\"namelength\": 0}, \"hoveron\": \"points\", \"hovertemplate\": \"Sample type=Deficient<br>class=%{x}<br>prediction=%{y}<br>sample=%{customdata[0]}\", \"legendgroup\": \"Deficient\", \"line\": {\"color\": \"rgba(255,255,255,0)\"}, \"marker\": {\"color\": \"#EF553B\"}, \"name\": \"Deficient\", \"offsetgroup\": \"Deficient\", \"orientation\": \"v\", \"pointpos\": 0, \"showlegend\": true, \"type\": \"box\", \"x\": [1.0, 1.0, 1.0, 1.0, 1.0, 1.0, 1.0, 1.0, 1.0, 1.0, 1.0, 1.0, 1.0], \"x0\": \" \", \"xaxis\": \"x\", \"y\": [0.9932371973991394, 0.9052839875221252, 0.9341985583305359, 0.9572314620018005, 0.9880174994468689, 0.9581784009933472, 0.9914476871490479, 0.9912930727005005, 0.9347293376922607, 0.9622203707695007, 0.8978903889656067, 0.9771463871002197, 0.9409292340278625], \"y0\": \" \", \"yaxis\": \"y\"}, {\"line\": {\"color\": \"orange\", \"dash\": \"dash\", \"width\": 3}, \"mode\": \"lines\", \"name\": \"Margin maximization\", \"type\": \"scatter\", \"x\": [-1.5, 1.5], \"y\": [0.22196274430192248, 0.22196274430192248]}],\n",
       "                        {\"boxmode\": \"group\", \"legend\": {\"title\": {\"text\": \"Sample type\"}, \"tracegroupgap\": 0}, \"margin\": {\"t\": 60}, \"template\": {\"data\": {\"bar\": [{\"error_x\": {\"color\": \"#2a3f5f\"}, \"error_y\": {\"color\": \"#2a3f5f\"}, \"marker\": {\"line\": {\"color\": \"#E5ECF6\", \"width\": 0.5}}, \"type\": \"bar\"}], \"barpolar\": [{\"marker\": {\"line\": {\"color\": \"#E5ECF6\", \"width\": 0.5}}, \"type\": \"barpolar\"}], \"carpet\": [{\"aaxis\": {\"endlinecolor\": \"#2a3f5f\", \"gridcolor\": \"white\", \"linecolor\": \"white\", \"minorgridcolor\": \"white\", \"startlinecolor\": \"#2a3f5f\"}, \"baxis\": {\"endlinecolor\": \"#2a3f5f\", \"gridcolor\": \"white\", \"linecolor\": \"white\", \"minorgridcolor\": \"white\", \"startlinecolor\": \"#2a3f5f\"}, \"type\": \"carpet\"}], \"choropleth\": [{\"colorbar\": {\"outlinewidth\": 0, \"ticks\": \"\"}, \"type\": \"choropleth\"}], \"contour\": [{\"colorbar\": {\"outlinewidth\": 0, \"ticks\": \"\"}, \"colorscale\": [[0.0, \"#0d0887\"], [0.1111111111111111, \"#46039f\"], [0.2222222222222222, \"#7201a8\"], [0.3333333333333333, \"#9c179e\"], [0.4444444444444444, \"#bd3786\"], [0.5555555555555556, \"#d8576b\"], [0.6666666666666666, \"#ed7953\"], [0.7777777777777778, \"#fb9f3a\"], [0.8888888888888888, \"#fdca26\"], [1.0, \"#f0f921\"]], \"type\": \"contour\"}], \"contourcarpet\": [{\"colorbar\": {\"outlinewidth\": 0, \"ticks\": \"\"}, \"type\": \"contourcarpet\"}], \"heatmap\": [{\"colorbar\": {\"outlinewidth\": 0, \"ticks\": \"\"}, \"colorscale\": [[0.0, \"#0d0887\"], [0.1111111111111111, \"#46039f\"], [0.2222222222222222, \"#7201a8\"], [0.3333333333333333, \"#9c179e\"], [0.4444444444444444, \"#bd3786\"], [0.5555555555555556, \"#d8576b\"], [0.6666666666666666, \"#ed7953\"], [0.7777777777777778, \"#fb9f3a\"], [0.8888888888888888, \"#fdca26\"], [1.0, \"#f0f921\"]], \"type\": \"heatmap\"}], \"heatmapgl\": [{\"colorbar\": {\"outlinewidth\": 0, \"ticks\": \"\"}, \"colorscale\": [[0.0, \"#0d0887\"], [0.1111111111111111, \"#46039f\"], [0.2222222222222222, \"#7201a8\"], [0.3333333333333333, \"#9c179e\"], [0.4444444444444444, \"#bd3786\"], [0.5555555555555556, \"#d8576b\"], [0.6666666666666666, \"#ed7953\"], [0.7777777777777778, \"#fb9f3a\"], [0.8888888888888888, \"#fdca26\"], [1.0, \"#f0f921\"]], \"type\": \"heatmapgl\"}], \"histogram\": [{\"marker\": {\"colorbar\": {\"outlinewidth\": 0, \"ticks\": \"\"}}, \"type\": \"histogram\"}], \"histogram2d\": [{\"colorbar\": {\"outlinewidth\": 0, \"ticks\": \"\"}, \"colorscale\": [[0.0, \"#0d0887\"], [0.1111111111111111, \"#46039f\"], [0.2222222222222222, \"#7201a8\"], [0.3333333333333333, \"#9c179e\"], [0.4444444444444444, \"#bd3786\"], [0.5555555555555556, \"#d8576b\"], [0.6666666666666666, \"#ed7953\"], [0.7777777777777778, \"#fb9f3a\"], [0.8888888888888888, \"#fdca26\"], [1.0, \"#f0f921\"]], \"type\": \"histogram2d\"}], \"histogram2dcontour\": [{\"colorbar\": {\"outlinewidth\": 0, \"ticks\": \"\"}, \"colorscale\": [[0.0, \"#0d0887\"], [0.1111111111111111, \"#46039f\"], [0.2222222222222222, \"#7201a8\"], [0.3333333333333333, \"#9c179e\"], [0.4444444444444444, \"#bd3786\"], [0.5555555555555556, \"#d8576b\"], [0.6666666666666666, \"#ed7953\"], [0.7777777777777778, \"#fb9f3a\"], [0.8888888888888888, \"#fdca26\"], [1.0, \"#f0f921\"]], \"type\": \"histogram2dcontour\"}], \"mesh3d\": [{\"colorbar\": {\"outlinewidth\": 0, \"ticks\": \"\"}, \"type\": \"mesh3d\"}], \"parcoords\": [{\"line\": {\"colorbar\": {\"outlinewidth\": 0, \"ticks\": \"\"}}, \"type\": \"parcoords\"}], \"pie\": [{\"automargin\": true, \"type\": \"pie\"}], \"scatter\": [{\"marker\": {\"colorbar\": {\"outlinewidth\": 0, \"ticks\": \"\"}}, \"type\": \"scatter\"}], \"scatter3d\": [{\"line\": {\"colorbar\": {\"outlinewidth\": 0, \"ticks\": \"\"}}, \"marker\": {\"colorbar\": {\"outlinewidth\": 0, \"ticks\": \"\"}}, \"type\": \"scatter3d\"}], \"scattercarpet\": [{\"marker\": {\"colorbar\": {\"outlinewidth\": 0, \"ticks\": \"\"}}, \"type\": \"scattercarpet\"}], \"scattergeo\": [{\"marker\": {\"colorbar\": {\"outlinewidth\": 0, \"ticks\": \"\"}}, \"type\": \"scattergeo\"}], \"scattergl\": [{\"marker\": {\"colorbar\": {\"outlinewidth\": 0, \"ticks\": \"\"}}, \"type\": \"scattergl\"}], \"scattermapbox\": [{\"marker\": {\"colorbar\": {\"outlinewidth\": 0, \"ticks\": \"\"}}, \"type\": \"scattermapbox\"}], \"scatterpolar\": [{\"marker\": {\"colorbar\": {\"outlinewidth\": 0, \"ticks\": \"\"}}, \"type\": \"scatterpolar\"}], \"scatterpolargl\": [{\"marker\": {\"colorbar\": {\"outlinewidth\": 0, \"ticks\": \"\"}}, \"type\": \"scatterpolargl\"}], \"scatterternary\": [{\"marker\": {\"colorbar\": {\"outlinewidth\": 0, \"ticks\": \"\"}}, \"type\": \"scatterternary\"}], \"surface\": [{\"colorbar\": {\"outlinewidth\": 0, \"ticks\": \"\"}, \"colorscale\": [[0.0, \"#0d0887\"], [0.1111111111111111, \"#46039f\"], [0.2222222222222222, \"#7201a8\"], [0.3333333333333333, \"#9c179e\"], [0.4444444444444444, \"#bd3786\"], [0.5555555555555556, \"#d8576b\"], [0.6666666666666666, \"#ed7953\"], [0.7777777777777778, \"#fb9f3a\"], [0.8888888888888888, \"#fdca26\"], [1.0, \"#f0f921\"]], \"type\": \"surface\"}], \"table\": [{\"cells\": {\"fill\": {\"color\": \"#EBF0F8\"}, \"line\": {\"color\": \"white\"}}, \"header\": {\"fill\": {\"color\": \"#C8D4E3\"}, \"line\": {\"color\": \"white\"}}, \"type\": \"table\"}]}, \"layout\": {\"annotationdefaults\": {\"arrowcolor\": \"#2a3f5f\", \"arrowhead\": 0, \"arrowwidth\": 1}, \"coloraxis\": {\"colorbar\": {\"outlinewidth\": 0, \"ticks\": \"\"}}, \"colorscale\": {\"diverging\": [[0, \"#8e0152\"], [0.1, \"#c51b7d\"], [0.2, \"#de77ae\"], [0.3, \"#f1b6da\"], [0.4, \"#fde0ef\"], [0.5, \"#f7f7f7\"], [0.6, \"#e6f5d0\"], [0.7, \"#b8e186\"], [0.8, \"#7fbc41\"], [0.9, \"#4d9221\"], [1, \"#276419\"]], \"sequential\": [[0.0, \"#0d0887\"], [0.1111111111111111, \"#46039f\"], [0.2222222222222222, \"#7201a8\"], [0.3333333333333333, \"#9c179e\"], [0.4444444444444444, \"#bd3786\"], [0.5555555555555556, \"#d8576b\"], [0.6666666666666666, \"#ed7953\"], [0.7777777777777778, \"#fb9f3a\"], [0.8888888888888888, \"#fdca26\"], [1.0, \"#f0f921\"]], \"sequentialminus\": [[0.0, \"#0d0887\"], [0.1111111111111111, \"#46039f\"], [0.2222222222222222, \"#7201a8\"], [0.3333333333333333, \"#9c179e\"], [0.4444444444444444, \"#bd3786\"], [0.5555555555555556, \"#d8576b\"], [0.6666666666666666, \"#ed7953\"], [0.7777777777777778, \"#fb9f3a\"], [0.8888888888888888, \"#fdca26\"], [1.0, \"#f0f921\"]]}, \"colorway\": [\"#636efa\", \"#EF553B\", \"#00cc96\", \"#ab63fa\", \"#FFA15A\", \"#19d3f3\", \"#FF6692\", \"#B6E880\", \"#FF97FF\", \"#FECB52\"], \"font\": {\"color\": \"#2a3f5f\"}, \"geo\": {\"bgcolor\": \"white\", \"lakecolor\": \"white\", \"landcolor\": \"#E5ECF6\", \"showlakes\": true, \"showland\": true, \"subunitcolor\": \"white\"}, \"hoverlabel\": {\"align\": \"left\"}, \"hovermode\": \"closest\", \"mapbox\": {\"style\": \"light\"}, \"paper_bgcolor\": \"white\", \"plot_bgcolor\": \"#E5ECF6\", \"polar\": {\"angularaxis\": {\"gridcolor\": \"white\", \"linecolor\": \"white\", \"ticks\": \"\"}, \"bgcolor\": \"#E5ECF6\", \"radialaxis\": {\"gridcolor\": \"white\", \"linecolor\": \"white\", \"ticks\": \"\"}}, \"scene\": {\"xaxis\": {\"backgroundcolor\": \"#E5ECF6\", \"gridcolor\": \"white\", \"gridwidth\": 2, \"linecolor\": \"white\", \"showbackground\": true, \"ticks\": \"\", \"zerolinecolor\": \"white\"}, \"yaxis\": {\"backgroundcolor\": \"#E5ECF6\", \"gridcolor\": \"white\", \"gridwidth\": 2, \"linecolor\": \"white\", \"showbackground\": true, \"ticks\": \"\", \"zerolinecolor\": \"white\"}, \"zaxis\": {\"backgroundcolor\": \"#E5ECF6\", \"gridcolor\": \"white\", \"gridwidth\": 2, \"linecolor\": \"white\", \"showbackground\": true, \"ticks\": \"\", \"zerolinecolor\": \"white\"}}, \"shapedefaults\": {\"line\": {\"color\": \"#2a3f5f\"}}, \"ternary\": {\"aaxis\": {\"gridcolor\": \"white\", \"linecolor\": \"white\", \"ticks\": \"\"}, \"baxis\": {\"gridcolor\": \"white\", \"linecolor\": \"white\", \"ticks\": \"\"}, \"bgcolor\": \"#E5ECF6\", \"caxis\": {\"gridcolor\": \"white\", \"linecolor\": \"white\", \"ticks\": \"\"}}, \"title\": {\"x\": 0.05}, \"xaxis\": {\"automargin\": true, \"gridcolor\": \"white\", \"linecolor\": \"white\", \"ticks\": \"\", \"title\": {\"standoff\": 15}, \"zerolinecolor\": \"white\", \"zerolinewidth\": 2}, \"yaxis\": {\"automargin\": true, \"gridcolor\": \"white\", \"linecolor\": \"white\", \"ticks\": \"\", \"title\": {\"standoff\": 15}, \"zerolinecolor\": \"white\", \"zerolinewidth\": 2}}}, \"xaxis\": {\"anchor\": \"y\", \"domain\": [0.0, 1.0], \"title\": {\"text\": \"class\"}}, \"yaxis\": {\"anchor\": \"x\", \"domain\": [0.0, 1.0], \"title\": {\"text\": \"prediction\"}}},\n",
       "                        {\"responsive\": true}\n",
       "                    ).then(function(){\n",
       "                            \n",
       "var gd = document.getElementById('9f17ca56-f09a-40e2-906b-44328749dd7c');\n",
       "var x = new MutationObserver(function (mutations, observer) {{\n",
       "        var display = window.getComputedStyle(gd).display;\n",
       "        if (!display || display === 'none') {{\n",
       "            console.log([gd, 'removed!']);\n",
       "            Plotly.purge(gd);\n",
       "            observer.disconnect();\n",
       "        }}\n",
       "}});\n",
       "\n",
       "// Listen for the removal of the full notebook cells\n",
       "var notebookContainer = gd.closest('#notebook-container');\n",
       "if (notebookContainer) {{\n",
       "    x.observe(notebookContainer, {childList: true});\n",
       "}}\n",
       "\n",
       "// Listen for the clearing of the current output cell\n",
       "var outputEl = gd.closest('.output');\n",
       "if (outputEl) {{\n",
       "    x.observe(outputEl, {childList: true});\n",
       "}}\n",
       "\n",
       "                        })\n",
       "                };\n",
       "                });\n",
       "            </script>\n",
       "        </div>"
      ]
     },
     "metadata": {},
     "output_type": "display_data"
    },
    {
     "data": {
      "application/vnd.plotly.v1+json": {
       "config": {
        "plotlyServerURL": "https://plot.ly"
       },
       "data": [
        {
         "alignmentgroup": "True",
         "boxpoints": "all",
         "customdata": [
          [
           "AOCS_111"
          ],
          [
           "DO27978"
          ],
          [
           "SHGSOC092"
          ],
          [
           "SHGSOC075"
          ],
          [
           "AOCS_076"
          ],
          [
           "SHGSOC006"
          ],
          [
           "DO29970"
          ],
          [
           "AOCS_002"
          ],
          [
           "AOCS_097"
          ],
          [
           "AOCS_057"
          ],
          [
           "SHGSOC037"
          ],
          [
           "DO30650"
          ],
          [
           "DO32646"
          ],
          [
           "SHGSOC018"
          ],
          [
           "SHGSOC025"
          ],
          [
           "DO28763"
          ],
          [
           "SHGSOC023"
          ],
          [
           "AOCS_123"
          ],
          [
           "DO29980"
          ],
          [
           "AOCS_085"
          ],
          [
           "SHGSOC002"
          ],
          [
           "DO30060"
          ],
          [
           "AOCS_157"
          ],
          [
           "SHGSOC085"
          ],
          [
           "AOCS_166"
          ],
          [
           "DO31420"
          ],
          [
           "AOCS_080"
          ],
          [
           "AOCS_115"
          ],
          [
           "DO28823"
          ],
          [
           "DO29146"
          ],
          [
           "SHGSOC027"
          ],
          [
           "SHGSOC084"
          ],
          [
           "AOCS_005"
          ],
          [
           "DO28004"
          ],
          [
           "SHGSOC054"
          ],
          [
           "AOCS_133"
          ],
          [
           "AOCS_061"
          ],
          [
           "SHGSOC016"
          ],
          [
           "AOCS_160"
          ],
          [
           "AOCS_092"
          ],
          [
           "SHGSOC098"
          ],
          [
           "AOCS_083"
          ],
          [
           "AOCS_096"
          ],
          [
           "DO29760"
          ],
          [
           "SHGSOC078"
          ],
          [
           "AOCS_132"
          ],
          [
           "AOCS_113"
          ],
          [
           "AOCS_169"
          ],
          [
           "SHGSOC043"
          ],
          [
           "SHGSOC048"
          ],
          [
           "DO31729"
          ],
          [
           "AOCS_004"
          ],
          [
           "AOCS_090"
          ],
          [
           "SHGSOC044"
          ],
          [
           "DO29850"
          ],
          [
           "AOCS_075"
          ],
          [
           "SHGSOC015"
          ],
          [
           "DO28233"
          ],
          [
           "AOCS_168"
          ],
          [
           "DO28093"
          ],
          [
           "SHGSOC074"
          ],
          [
           "SHGSOC012"
          ],
          [
           "SHGSOC095"
          ],
          [
           "AOCS_164"
          ],
          [
           "AOCS_055"
          ],
          [
           "AOCS_116"
          ],
          [
           "AOCS_056"
          ],
          [
           "DO30090"
          ],
          [
           "AOCS_112"
          ],
          [
           "SHGSOC024"
          ],
          [
           "AOCS_125"
          ],
          [
           "SHGSOC031"
          ],
          [
           "SHGSOC062"
          ],
          [
           "AOCS_114"
          ],
          [
           "AOCS_094"
          ],
          [
           "SHGSOC032"
          ],
          [
           "AOCS_128"
          ],
          [
           "AOCS_126"
          ],
          [
           "AOCS_144"
          ],
          [
           "SHGSOC047"
          ],
          [
           "AOCS_001"
          ],
          [
           "SHGSOC055"
          ],
          [
           "AOCS_064"
          ],
          [
           "DO29398"
          ],
          [
           "AOCS_148"
          ],
          [
           "SHGSOC042"
          ],
          [
           "DO30750"
          ],
          [
           "AOCS_091"
          ],
          [
           "AOCS_158"
          ],
          [
           "AOCS_107"
          ],
          [
           "DO32596"
          ],
          [
           "DO28962"
          ],
          [
           "SHGSOC063"
          ],
          [
           "SHGSOC038"
          ],
          [
           "SHGSOC058"
          ],
          [
           "SHGSOC087"
          ],
          [
           "SHGSOC102"
          ],
          [
           "DO31769"
          ],
          [
           "AOCS_106"
          ],
          [
           "AOCS_093"
          ],
          [
           "SHGSOC026"
          ],
          [
           "SHGSOC077"
          ],
          [
           "SHGSOC091"
          ],
          [
           "SHGSOC086"
          ]
         ],
         "fillcolor": "rgba(255,255,255,0)",
         "hoverlabel": {
          "namelength": 0
         },
         "hoveron": "points",
         "hovertemplate": "Sample type=Unknown<br>counter=%{x}<br>prediction=%{y}<br>sample=%{customdata[0]}",
         "legendgroup": "Unknown",
         "line": {
          "color": "rgba(255,255,255,0)"
         },
         "marker": {
          "color": "#636efa",
          "size": 5
         },
         "name": "Unknown",
         "offsetgroup": "Unknown",
         "orientation": "v",
         "pointpos": 0,
         "showlegend": true,
         "type": "box",
         "x": [
          0,
          2,
          3,
          6,
          7,
          8,
          10,
          12,
          15,
          16,
          18,
          21,
          23,
          25,
          26,
          28,
          29,
          30,
          31,
          32,
          33,
          36,
          39,
          40,
          41,
          45,
          46,
          47,
          48,
          50,
          51,
          53,
          55,
          56,
          58,
          59,
          61,
          63,
          64,
          66,
          67,
          68,
          70,
          71,
          72,
          73,
          74,
          76,
          79,
          80,
          82,
          84,
          85,
          87,
          88,
          90,
          94,
          95,
          96,
          97,
          98,
          99,
          102,
          103,
          104,
          106,
          107,
          110,
          112,
          113,
          115,
          119,
          122,
          126,
          127,
          131,
          134,
          139,
          140,
          141,
          143,
          146,
          152,
          153,
          154,
          155,
          156,
          157,
          158,
          160,
          162,
          163,
          164,
          167,
          168,
          169,
          170,
          171,
          177,
          178,
          181,
          182,
          183,
          184
         ],
         "x0": " ",
         "xaxis": "x",
         "y": [
          -0.9999402761459351,
          -0.9999181628227234,
          -0.9999093413352966,
          -0.9998748302459717,
          -0.9998738169670105,
          -0.9998614192008972,
          -0.9998496174812317,
          -0.9998431205749512,
          -0.9998006820678711,
          -0.9997982382774353,
          -0.9996761679649353,
          -0.9995324611663818,
          -0.9995114803314209,
          -0.9994546175003052,
          -0.9994471073150635,
          -0.9993103742599487,
          -0.9993072748184204,
          -0.9991725087165833,
          -0.9991551637649536,
          -0.999016284942627,
          -0.9989978671073914,
          -0.9982335567474365,
          -0.9973602294921875,
          -0.9972420930862427,
          -0.9969638586044312,
          -0.9960792660713196,
          -0.9956708550453186,
          -0.9953751564025879,
          -0.9946402907371521,
          -0.993768572807312,
          -0.9935525059700012,
          -0.988175630569458,
          -0.9854958057403564,
          -0.9842044711112976,
          -0.980724573135376,
          -0.9800102114677429,
          -0.9731752276420593,
          -0.9714896082878113,
          -0.9699157476425171,
          -0.9549598097801208,
          -0.9518516659736633,
          -0.951524555683136,
          -0.9351556301116943,
          -0.9192218780517578,
          -0.9167947769165039,
          -0.9158185124397278,
          -0.9152022004127502,
          -0.899008572101593,
          -0.8392716646194458,
          -0.8333549499511719,
          -0.7822330594062805,
          -0.6661417484283447,
          -0.649501621723175,
          -0.6312074065208435,
          -0.5783460736274719,
          -0.4931463599205017,
          -0.38217228651046753,
          -0.24503743648529053,
          -0.18791712820529938,
          0.03867945820093155,
          0.09168416261672974,
          0.12251129746437073,
          0.23652492463588715,
          0.3835652768611908,
          0.4562588036060333,
          0.5596478581428528,
          0.5724608898162842,
          0.802596390247345,
          0.8433528542518616,
          0.8928834795951843,
          0.8985875248908997,
          0.9150805473327637,
          0.9322798252105713,
          0.9366558790206909,
          0.9394899010658264,
          0.9496011137962341,
          0.9565356373786926,
          0.9633764028549194,
          0.9645890593528748,
          0.9657637476921082,
          0.9665249586105347,
          0.9726690053939819,
          0.981124997138977,
          0.9811686277389526,
          0.98137366771698,
          0.9820388555526733,
          0.9829220771789551,
          0.9829646944999695,
          0.9837837815284729,
          0.9843340516090393,
          0.9852645993232727,
          0.9853082895278931,
          0.9855920076370239,
          0.9882780313491821,
          0.9899884462356567,
          0.9902560114860535,
          0.9906414747238159,
          0.9908164739608765,
          0.9920338988304138,
          0.9925203919410706,
          0.9933450222015381,
          0.9952772855758667,
          0.9963803887367249,
          0.9963942170143127
         ],
         "y0": " ",
         "yaxis": "y"
        },
        {
         "alignmentgroup": "True",
         "boxpoints": "all",
         "customdata": [
          [
           "DO29308"
          ],
          [
           "DO28873"
          ],
          [
           "DO29820"
          ],
          [
           "AOCS_124"
          ],
          [
           "DO28053"
          ],
          [
           "DO28412"
          ],
          [
           "DO31551"
          ],
          [
           "AOCS_109"
          ],
          [
           "SHGSOC057"
          ],
          [
           "SHGSOC050"
          ],
          [
           "AOCS_059"
          ],
          [
           "SHGSOC008"
          ],
          [
           "AOCS_162"
          ],
          [
           "DO28952"
          ],
          [
           "AOCS_077"
          ],
          [
           "DO28289"
          ],
          [
           "AOCS_084"
          ],
          [
           "DO28024"
          ],
          [
           "AOCS_159"
          ],
          [
           "AOCS_060"
          ],
          [
           "DO29940"
          ],
          [
           "SHGSOC003"
          ],
          [
           "AOCS_081"
          ],
          [
           "AOCS_163"
          ],
          [
           "SHGSOC045"
          ],
          [
           "DO30550"
          ],
          [
           "SHGSOC093"
          ],
          [
           "SHGSOC019"
          ],
          [
           "SHGSOC010"
          ],
          [
           "SHGSOC020"
          ],
          [
           "AOCS_161"
          ],
          [
           "SHGSOC061"
          ],
          [
           "SHGSOC017"
          ],
          [
           "AOCS_078"
          ],
          [
           "SHGSOC081"
          ],
          [
           "AOCS_165"
          ],
          [
           "AOCS_170"
          ],
          [
           "SHGSOC101"
          ],
          [
           "SHGSOC082"
          ],
          [
           "DO31150"
          ]
         ],
         "fillcolor": "rgba(255,255,255,0)",
         "hoverlabel": {
          "namelength": 0
         },
         "hoveron": "points",
         "hovertemplate": "Sample type=Proficient<br>counter=%{x}<br>prediction=%{y}<br>sample=%{customdata[0]}",
         "legendgroup": "Proficient",
         "line": {
          "color": "rgba(255,255,255,0)"
         },
         "marker": {
          "color": "#EF553B",
          "size": 5
         },
         "name": "Proficient",
         "offsetgroup": "Proficient",
         "orientation": "v",
         "pointpos": 0,
         "showlegend": true,
         "type": "box",
         "x": [
          1,
          4,
          5,
          9,
          11,
          13,
          14,
          17,
          19,
          20,
          22,
          24,
          27,
          34,
          35,
          37,
          38,
          42,
          43,
          44,
          49,
          52,
          54,
          57,
          60,
          62,
          65,
          69,
          77,
          78,
          81,
          83,
          86,
          89,
          91,
          92,
          93,
          100,
          101,
          147
         ],
         "x0": " ",
         "xaxis": "x",
         "y": [
          -0.9999303817749023,
          -0.9999043345451355,
          -0.9998863339424133,
          -0.9998599290847778,
          -0.9998458623886108,
          -0.9998400211334229,
          -0.9998365640640259,
          -0.999742865562439,
          -0.9996362328529358,
          -0.9995671510696411,
          -0.9995177388191223,
          -0.9994792938232422,
          -0.999380350112915,
          -0.9987437725067139,
          -0.9987318515777588,
          -0.9981765151023865,
          -0.9977938532829285,
          -0.9969251751899719,
          -0.9968557953834534,
          -0.9961018562316895,
          -0.9940418601036072,
          -0.9929296970367432,
          -0.9861220717430115,
          -0.9824081659317017,
          -0.9782021641731262,
          -0.9723734855651855,
          -0.9687594771385193,
          -0.9407978653907776,
          -0.8751764297485352,
          -0.8410861492156982,
          -0.819675624370575,
          -0.6864809989929199,
          -0.6333428621292114,
          -0.5296221971511841,
          -0.4539649188518524,
          -0.41783350706100464,
          -0.384867787361145,
          0.17300379276275635,
          0.21880629658699036,
          0.9731811285018921
         ],
         "y0": " ",
         "yaxis": "y"
        },
        {
         "alignmentgroup": "True",
         "boxpoints": "all",
         "customdata": [
          [
           "SHGSOC051"
          ],
          [
           "AOCS_105"
          ],
          [
           "SHGSOC059"
          ],
          [
           "DO32391"
          ],
          [
           "DO28119"
          ],
          [
           "AOCS_079"
          ],
          [
           "DO28521"
          ],
          [
           "AOCS_122"
          ],
          [
           "SHGSOC001"
          ],
          [
           "AOCS_147"
          ],
          [
           "AOCS_146"
          ],
          [
           "SHGSOC072"
          ],
          [
           "AOCS_088"
          ],
          [
           "AOCS_143"
          ],
          [
           "AOCS_065"
          ],
          [
           "DO32420"
          ],
          [
           "AOCS_058"
          ],
          [
           "AOCS_152"
          ],
          [
           "AOCS_131"
          ],
          [
           "DO30220"
          ],
          [
           "AOCS_104"
          ],
          [
           "SHGSOC007"
          ],
          [
           "AOCS_108"
          ],
          [
           "AOCS_171"
          ],
          [
           "AOCS_130"
          ],
          [
           "DO31869"
          ],
          [
           "DO30340"
          ],
          [
           "AOCS_149"
          ],
          [
           "AOCS_063"
          ],
          [
           "AOCS_086"
          ],
          [
           "AOCS_145"
          ],
          [
           "DO30970"
          ],
          [
           "AOCS_034"
          ],
          [
           "AOCS_095"
          ],
          [
           "DO32237"
          ],
          [
           "AOCS_139"
          ],
          [
           "SHGSOC009"
          ],
          [
           "DO28089"
          ],
          [
           "DO28273"
          ],
          [
           "SHGSOC022"
          ],
          [
           "AOCS_153"
          ],
          [
           "SHGSOC100"
          ]
         ],
         "fillcolor": "rgba(255,255,255,0)",
         "hoverlabel": {
          "namelength": 0
         },
         "hoveron": "points",
         "hovertemplate": "Sample type=Deficient<br>counter=%{x}<br>prediction=%{y}<br>sample=%{customdata[0]}",
         "legendgroup": "Deficient",
         "line": {
          "color": "rgba(255,255,255,0)"
         },
         "marker": {
          "color": "#00cc96",
          "size": 5
         },
         "name": "Deficient",
         "offsetgroup": "Deficient",
         "orientation": "v",
         "pointpos": 0,
         "showlegend": true,
         "type": "box",
         "x": [
          75,
          105,
          108,
          109,
          111,
          114,
          116,
          117,
          118,
          120,
          121,
          123,
          124,
          125,
          128,
          129,
          130,
          132,
          133,
          135,
          136,
          137,
          138,
          142,
          144,
          145,
          148,
          149,
          150,
          151,
          159,
          161,
          165,
          166,
          172,
          173,
          174,
          175,
          176,
          179,
          180,
          185
         ],
         "x0": " ",
         "xaxis": "x",
         "y": [
          -0.9054622650146484,
          0.5136337280273438,
          0.649861752986908,
          0.6789572834968567,
          0.8160479068756104,
          0.8978903889656067,
          0.9052839875221252,
          0.9085367321968079,
          0.9149322509765625,
          0.9241829514503479,
          0.9310503602027893,
          0.9341985583305359,
          0.9347293376922607,
          0.9363785982131958,
          0.9409292340278625,
          0.9450228810310364,
          0.9455605149269104,
          0.9516316056251526,
          0.9551784992218018,
          0.9572314620018005,
          0.9581784009933472,
          0.9587141871452332,
          0.9622203707695007,
          0.9660499691963196,
          0.968349814414978,
          0.9692382216453552,
          0.9754152894020081,
          0.9759248495101929,
          0.9771463871002197,
          0.9775164723396301,
          0.9840005040168762,
          0.9849500060081482,
          0.9878674745559692,
          0.9880174994468689,
          0.9909077286720276,
          0.9912930727005005,
          0.9914476871490479,
          0.9915676712989807,
          0.9918084740638733,
          0.9932371973991394,
          0.9932553768157959,
          0.9968183636665344
         ],
         "y0": " ",
         "yaxis": "y"
        },
        {
         "line": {
          "color": "orange",
          "dash": "dash",
          "width": 3
         },
         "mode": "lines",
         "name": "Margin maximization",
         "type": "scatter",
         "x": [
          0,
          185
         ],
         "y": [
          0.22196274430192248,
          0.22196274430192248
         ]
        }
       ],
       "layout": {
        "boxmode": "group",
        "legend": {
         "title": {
          "text": "Sample type"
         },
         "tracegroupgap": 0
        },
        "margin": {
         "t": 60
        },
        "template": {
         "data": {
          "bar": [
           {
            "error_x": {
             "color": "#2a3f5f"
            },
            "error_y": {
             "color": "#2a3f5f"
            },
            "marker": {
             "line": {
              "color": "#E5ECF6",
              "width": 0.5
             }
            },
            "type": "bar"
           }
          ],
          "barpolar": [
           {
            "marker": {
             "line": {
              "color": "#E5ECF6",
              "width": 0.5
             }
            },
            "type": "barpolar"
           }
          ],
          "carpet": [
           {
            "aaxis": {
             "endlinecolor": "#2a3f5f",
             "gridcolor": "white",
             "linecolor": "white",
             "minorgridcolor": "white",
             "startlinecolor": "#2a3f5f"
            },
            "baxis": {
             "endlinecolor": "#2a3f5f",
             "gridcolor": "white",
             "linecolor": "white",
             "minorgridcolor": "white",
             "startlinecolor": "#2a3f5f"
            },
            "type": "carpet"
           }
          ],
          "choropleth": [
           {
            "colorbar": {
             "outlinewidth": 0,
             "ticks": ""
            },
            "type": "choropleth"
           }
          ],
          "contour": [
           {
            "colorbar": {
             "outlinewidth": 0,
             "ticks": ""
            },
            "colorscale": [
             [
              0,
              "#0d0887"
             ],
             [
              0.1111111111111111,
              "#46039f"
             ],
             [
              0.2222222222222222,
              "#7201a8"
             ],
             [
              0.3333333333333333,
              "#9c179e"
             ],
             [
              0.4444444444444444,
              "#bd3786"
             ],
             [
              0.5555555555555556,
              "#d8576b"
             ],
             [
              0.6666666666666666,
              "#ed7953"
             ],
             [
              0.7777777777777778,
              "#fb9f3a"
             ],
             [
              0.8888888888888888,
              "#fdca26"
             ],
             [
              1,
              "#f0f921"
             ]
            ],
            "type": "contour"
           }
          ],
          "contourcarpet": [
           {
            "colorbar": {
             "outlinewidth": 0,
             "ticks": ""
            },
            "type": "contourcarpet"
           }
          ],
          "heatmap": [
           {
            "colorbar": {
             "outlinewidth": 0,
             "ticks": ""
            },
            "colorscale": [
             [
              0,
              "#0d0887"
             ],
             [
              0.1111111111111111,
              "#46039f"
             ],
             [
              0.2222222222222222,
              "#7201a8"
             ],
             [
              0.3333333333333333,
              "#9c179e"
             ],
             [
              0.4444444444444444,
              "#bd3786"
             ],
             [
              0.5555555555555556,
              "#d8576b"
             ],
             [
              0.6666666666666666,
              "#ed7953"
             ],
             [
              0.7777777777777778,
              "#fb9f3a"
             ],
             [
              0.8888888888888888,
              "#fdca26"
             ],
             [
              1,
              "#f0f921"
             ]
            ],
            "type": "heatmap"
           }
          ],
          "heatmapgl": [
           {
            "colorbar": {
             "outlinewidth": 0,
             "ticks": ""
            },
            "colorscale": [
             [
              0,
              "#0d0887"
             ],
             [
              0.1111111111111111,
              "#46039f"
             ],
             [
              0.2222222222222222,
              "#7201a8"
             ],
             [
              0.3333333333333333,
              "#9c179e"
             ],
             [
              0.4444444444444444,
              "#bd3786"
             ],
             [
              0.5555555555555556,
              "#d8576b"
             ],
             [
              0.6666666666666666,
              "#ed7953"
             ],
             [
              0.7777777777777778,
              "#fb9f3a"
             ],
             [
              0.8888888888888888,
              "#fdca26"
             ],
             [
              1,
              "#f0f921"
             ]
            ],
            "type": "heatmapgl"
           }
          ],
          "histogram": [
           {
            "marker": {
             "colorbar": {
              "outlinewidth": 0,
              "ticks": ""
             }
            },
            "type": "histogram"
           }
          ],
          "histogram2d": [
           {
            "colorbar": {
             "outlinewidth": 0,
             "ticks": ""
            },
            "colorscale": [
             [
              0,
              "#0d0887"
             ],
             [
              0.1111111111111111,
              "#46039f"
             ],
             [
              0.2222222222222222,
              "#7201a8"
             ],
             [
              0.3333333333333333,
              "#9c179e"
             ],
             [
              0.4444444444444444,
              "#bd3786"
             ],
             [
              0.5555555555555556,
              "#d8576b"
             ],
             [
              0.6666666666666666,
              "#ed7953"
             ],
             [
              0.7777777777777778,
              "#fb9f3a"
             ],
             [
              0.8888888888888888,
              "#fdca26"
             ],
             [
              1,
              "#f0f921"
             ]
            ],
            "type": "histogram2d"
           }
          ],
          "histogram2dcontour": [
           {
            "colorbar": {
             "outlinewidth": 0,
             "ticks": ""
            },
            "colorscale": [
             [
              0,
              "#0d0887"
             ],
             [
              0.1111111111111111,
              "#46039f"
             ],
             [
              0.2222222222222222,
              "#7201a8"
             ],
             [
              0.3333333333333333,
              "#9c179e"
             ],
             [
              0.4444444444444444,
              "#bd3786"
             ],
             [
              0.5555555555555556,
              "#d8576b"
             ],
             [
              0.6666666666666666,
              "#ed7953"
             ],
             [
              0.7777777777777778,
              "#fb9f3a"
             ],
             [
              0.8888888888888888,
              "#fdca26"
             ],
             [
              1,
              "#f0f921"
             ]
            ],
            "type": "histogram2dcontour"
           }
          ],
          "mesh3d": [
           {
            "colorbar": {
             "outlinewidth": 0,
             "ticks": ""
            },
            "type": "mesh3d"
           }
          ],
          "parcoords": [
           {
            "line": {
             "colorbar": {
              "outlinewidth": 0,
              "ticks": ""
             }
            },
            "type": "parcoords"
           }
          ],
          "pie": [
           {
            "automargin": true,
            "type": "pie"
           }
          ],
          "scatter": [
           {
            "marker": {
             "colorbar": {
              "outlinewidth": 0,
              "ticks": ""
             }
            },
            "type": "scatter"
           }
          ],
          "scatter3d": [
           {
            "line": {
             "colorbar": {
              "outlinewidth": 0,
              "ticks": ""
             }
            },
            "marker": {
             "colorbar": {
              "outlinewidth": 0,
              "ticks": ""
             }
            },
            "type": "scatter3d"
           }
          ],
          "scattercarpet": [
           {
            "marker": {
             "colorbar": {
              "outlinewidth": 0,
              "ticks": ""
             }
            },
            "type": "scattercarpet"
           }
          ],
          "scattergeo": [
           {
            "marker": {
             "colorbar": {
              "outlinewidth": 0,
              "ticks": ""
             }
            },
            "type": "scattergeo"
           }
          ],
          "scattergl": [
           {
            "marker": {
             "colorbar": {
              "outlinewidth": 0,
              "ticks": ""
             }
            },
            "type": "scattergl"
           }
          ],
          "scattermapbox": [
           {
            "marker": {
             "colorbar": {
              "outlinewidth": 0,
              "ticks": ""
             }
            },
            "type": "scattermapbox"
           }
          ],
          "scatterpolar": [
           {
            "marker": {
             "colorbar": {
              "outlinewidth": 0,
              "ticks": ""
             }
            },
            "type": "scatterpolar"
           }
          ],
          "scatterpolargl": [
           {
            "marker": {
             "colorbar": {
              "outlinewidth": 0,
              "ticks": ""
             }
            },
            "type": "scatterpolargl"
           }
          ],
          "scatterternary": [
           {
            "marker": {
             "colorbar": {
              "outlinewidth": 0,
              "ticks": ""
             }
            },
            "type": "scatterternary"
           }
          ],
          "surface": [
           {
            "colorbar": {
             "outlinewidth": 0,
             "ticks": ""
            },
            "colorscale": [
             [
              0,
              "#0d0887"
             ],
             [
              0.1111111111111111,
              "#46039f"
             ],
             [
              0.2222222222222222,
              "#7201a8"
             ],
             [
              0.3333333333333333,
              "#9c179e"
             ],
             [
              0.4444444444444444,
              "#bd3786"
             ],
             [
              0.5555555555555556,
              "#d8576b"
             ],
             [
              0.6666666666666666,
              "#ed7953"
             ],
             [
              0.7777777777777778,
              "#fb9f3a"
             ],
             [
              0.8888888888888888,
              "#fdca26"
             ],
             [
              1,
              "#f0f921"
             ]
            ],
            "type": "surface"
           }
          ],
          "table": [
           {
            "cells": {
             "fill": {
              "color": "#EBF0F8"
             },
             "line": {
              "color": "white"
             }
            },
            "header": {
             "fill": {
              "color": "#C8D4E3"
             },
             "line": {
              "color": "white"
             }
            },
            "type": "table"
           }
          ]
         },
         "layout": {
          "annotationdefaults": {
           "arrowcolor": "#2a3f5f",
           "arrowhead": 0,
           "arrowwidth": 1
          },
          "coloraxis": {
           "colorbar": {
            "outlinewidth": 0,
            "ticks": ""
           }
          },
          "colorscale": {
           "diverging": [
            [
             0,
             "#8e0152"
            ],
            [
             0.1,
             "#c51b7d"
            ],
            [
             0.2,
             "#de77ae"
            ],
            [
             0.3,
             "#f1b6da"
            ],
            [
             0.4,
             "#fde0ef"
            ],
            [
             0.5,
             "#f7f7f7"
            ],
            [
             0.6,
             "#e6f5d0"
            ],
            [
             0.7,
             "#b8e186"
            ],
            [
             0.8,
             "#7fbc41"
            ],
            [
             0.9,
             "#4d9221"
            ],
            [
             1,
             "#276419"
            ]
           ],
           "sequential": [
            [
             0,
             "#0d0887"
            ],
            [
             0.1111111111111111,
             "#46039f"
            ],
            [
             0.2222222222222222,
             "#7201a8"
            ],
            [
             0.3333333333333333,
             "#9c179e"
            ],
            [
             0.4444444444444444,
             "#bd3786"
            ],
            [
             0.5555555555555556,
             "#d8576b"
            ],
            [
             0.6666666666666666,
             "#ed7953"
            ],
            [
             0.7777777777777778,
             "#fb9f3a"
            ],
            [
             0.8888888888888888,
             "#fdca26"
            ],
            [
             1,
             "#f0f921"
            ]
           ],
           "sequentialminus": [
            [
             0,
             "#0d0887"
            ],
            [
             0.1111111111111111,
             "#46039f"
            ],
            [
             0.2222222222222222,
             "#7201a8"
            ],
            [
             0.3333333333333333,
             "#9c179e"
            ],
            [
             0.4444444444444444,
             "#bd3786"
            ],
            [
             0.5555555555555556,
             "#d8576b"
            ],
            [
             0.6666666666666666,
             "#ed7953"
            ],
            [
             0.7777777777777778,
             "#fb9f3a"
            ],
            [
             0.8888888888888888,
             "#fdca26"
            ],
            [
             1,
             "#f0f921"
            ]
           ]
          },
          "colorway": [
           "#636efa",
           "#EF553B",
           "#00cc96",
           "#ab63fa",
           "#FFA15A",
           "#19d3f3",
           "#FF6692",
           "#B6E880",
           "#FF97FF",
           "#FECB52"
          ],
          "font": {
           "color": "#2a3f5f"
          },
          "geo": {
           "bgcolor": "white",
           "lakecolor": "white",
           "landcolor": "#E5ECF6",
           "showlakes": true,
           "showland": true,
           "subunitcolor": "white"
          },
          "hoverlabel": {
           "align": "left"
          },
          "hovermode": "closest",
          "mapbox": {
           "style": "light"
          },
          "paper_bgcolor": "white",
          "plot_bgcolor": "#E5ECF6",
          "polar": {
           "angularaxis": {
            "gridcolor": "white",
            "linecolor": "white",
            "ticks": ""
           },
           "bgcolor": "#E5ECF6",
           "radialaxis": {
            "gridcolor": "white",
            "linecolor": "white",
            "ticks": ""
           }
          },
          "scene": {
           "xaxis": {
            "backgroundcolor": "#E5ECF6",
            "gridcolor": "white",
            "gridwidth": 2,
            "linecolor": "white",
            "showbackground": true,
            "ticks": "",
            "zerolinecolor": "white"
           },
           "yaxis": {
            "backgroundcolor": "#E5ECF6",
            "gridcolor": "white",
            "gridwidth": 2,
            "linecolor": "white",
            "showbackground": true,
            "ticks": "",
            "zerolinecolor": "white"
           },
           "zaxis": {
            "backgroundcolor": "#E5ECF6",
            "gridcolor": "white",
            "gridwidth": 2,
            "linecolor": "white",
            "showbackground": true,
            "ticks": "",
            "zerolinecolor": "white"
           }
          },
          "shapedefaults": {
           "line": {
            "color": "#2a3f5f"
           }
          },
          "ternary": {
           "aaxis": {
            "gridcolor": "white",
            "linecolor": "white",
            "ticks": ""
           },
           "baxis": {
            "gridcolor": "white",
            "linecolor": "white",
            "ticks": ""
           },
           "bgcolor": "#E5ECF6",
           "caxis": {
            "gridcolor": "white",
            "linecolor": "white",
            "ticks": ""
           }
          },
          "title": {
           "x": 0.05
          },
          "xaxis": {
           "automargin": true,
           "gridcolor": "white",
           "linecolor": "white",
           "ticks": "",
           "title": {
            "standoff": 15
           },
           "zerolinecolor": "white",
           "zerolinewidth": 2
          },
          "yaxis": {
           "automargin": true,
           "gridcolor": "white",
           "linecolor": "white",
           "ticks": "",
           "title": {
            "standoff": 15
           },
           "zerolinecolor": "white",
           "zerolinewidth": 2
          }
         }
        },
        "title": {
         "text": "MSclassifier model prediction. Model accuracy: 0.975609756097561"
        },
        "xaxis": {
         "anchor": "y",
         "domain": [
          0,
          1
         ],
         "title": {
          "text": "Samples"
         }
        },
        "yaxis": {
         "anchor": "x",
         "domain": [
          0,
          1
         ],
         "title": {
          "text": "Prediction"
         }
        }
       }
      },
      "text/html": [
       "<div>\n",
       "        \n",
       "        \n",
       "            <div id=\"a63668e2-9305-4d0c-a400-ff207fd35f64\" class=\"plotly-graph-div\" style=\"height:525px; width:100%;\"></div>\n",
       "            <script type=\"text/javascript\">\n",
       "                require([\"plotly\"], function(Plotly) {\n",
       "                    window.PLOTLYENV=window.PLOTLYENV || {};\n",
       "                    \n",
       "                if (document.getElementById(\"a63668e2-9305-4d0c-a400-ff207fd35f64\")) {\n",
       "                    Plotly.newPlot(\n",
       "                        'a63668e2-9305-4d0c-a400-ff207fd35f64',\n",
       "                        [{\"alignmentgroup\": \"True\", \"boxpoints\": \"all\", \"customdata\": [[\"AOCS_111\"], [\"DO27978\"], [\"SHGSOC092\"], [\"SHGSOC075\"], [\"AOCS_076\"], [\"SHGSOC006\"], [\"DO29970\"], [\"AOCS_002\"], [\"AOCS_097\"], [\"AOCS_057\"], [\"SHGSOC037\"], [\"DO30650\"], [\"DO32646\"], [\"SHGSOC018\"], [\"SHGSOC025\"], [\"DO28763\"], [\"SHGSOC023\"], [\"AOCS_123\"], [\"DO29980\"], [\"AOCS_085\"], [\"SHGSOC002\"], [\"DO30060\"], [\"AOCS_157\"], [\"SHGSOC085\"], [\"AOCS_166\"], [\"DO31420\"], [\"AOCS_080\"], [\"AOCS_115\"], [\"DO28823\"], [\"DO29146\"], [\"SHGSOC027\"], [\"SHGSOC084\"], [\"AOCS_005\"], [\"DO28004\"], [\"SHGSOC054\"], [\"AOCS_133\"], [\"AOCS_061\"], [\"SHGSOC016\"], [\"AOCS_160\"], [\"AOCS_092\"], [\"SHGSOC098\"], [\"AOCS_083\"], [\"AOCS_096\"], [\"DO29760\"], [\"SHGSOC078\"], [\"AOCS_132\"], [\"AOCS_113\"], [\"AOCS_169\"], [\"SHGSOC043\"], [\"SHGSOC048\"], [\"DO31729\"], [\"AOCS_004\"], [\"AOCS_090\"], [\"SHGSOC044\"], [\"DO29850\"], [\"AOCS_075\"], [\"SHGSOC015\"], [\"DO28233\"], [\"AOCS_168\"], [\"DO28093\"], [\"SHGSOC074\"], [\"SHGSOC012\"], [\"SHGSOC095\"], [\"AOCS_164\"], [\"AOCS_055\"], [\"AOCS_116\"], [\"AOCS_056\"], [\"DO30090\"], [\"AOCS_112\"], [\"SHGSOC024\"], [\"AOCS_125\"], [\"SHGSOC031\"], [\"SHGSOC062\"], [\"AOCS_114\"], [\"AOCS_094\"], [\"SHGSOC032\"], [\"AOCS_128\"], [\"AOCS_126\"], [\"AOCS_144\"], [\"SHGSOC047\"], [\"AOCS_001\"], [\"SHGSOC055\"], [\"AOCS_064\"], [\"DO29398\"], [\"AOCS_148\"], [\"SHGSOC042\"], [\"DO30750\"], [\"AOCS_091\"], [\"AOCS_158\"], [\"AOCS_107\"], [\"DO32596\"], [\"DO28962\"], [\"SHGSOC063\"], [\"SHGSOC038\"], [\"SHGSOC058\"], [\"SHGSOC087\"], [\"SHGSOC102\"], [\"DO31769\"], [\"AOCS_106\"], [\"AOCS_093\"], [\"SHGSOC026\"], [\"SHGSOC077\"], [\"SHGSOC091\"], [\"SHGSOC086\"]], \"fillcolor\": \"rgba(255,255,255,0)\", \"hoverlabel\": {\"namelength\": 0}, \"hoveron\": \"points\", \"hovertemplate\": \"Sample type=Unknown<br>counter=%{x}<br>prediction=%{y}<br>sample=%{customdata[0]}\", \"legendgroup\": \"Unknown\", \"line\": {\"color\": \"rgba(255,255,255,0)\"}, \"marker\": {\"color\": \"#636efa\", \"size\": 5}, \"name\": \"Unknown\", \"offsetgroup\": \"Unknown\", \"orientation\": \"v\", \"pointpos\": 0, \"showlegend\": true, \"type\": \"box\", \"x\": [0, 2, 3, 6, 7, 8, 10, 12, 15, 16, 18, 21, 23, 25, 26, 28, 29, 30, 31, 32, 33, 36, 39, 40, 41, 45, 46, 47, 48, 50, 51, 53, 55, 56, 58, 59, 61, 63, 64, 66, 67, 68, 70, 71, 72, 73, 74, 76, 79, 80, 82, 84, 85, 87, 88, 90, 94, 95, 96, 97, 98, 99, 102, 103, 104, 106, 107, 110, 112, 113, 115, 119, 122, 126, 127, 131, 134, 139, 140, 141, 143, 146, 152, 153, 154, 155, 156, 157, 158, 160, 162, 163, 164, 167, 168, 169, 170, 171, 177, 178, 181, 182, 183, 184], \"x0\": \" \", \"xaxis\": \"x\", \"y\": [-0.9999402761459351, -0.9999181628227234, -0.9999093413352966, -0.9998748302459717, -0.9998738169670105, -0.9998614192008972, -0.9998496174812317, -0.9998431205749512, -0.9998006820678711, -0.9997982382774353, -0.9996761679649353, -0.9995324611663818, -0.9995114803314209, -0.9994546175003052, -0.9994471073150635, -0.9993103742599487, -0.9993072748184204, -0.9991725087165833, -0.9991551637649536, -0.999016284942627, -0.9989978671073914, -0.9982335567474365, -0.9973602294921875, -0.9972420930862427, -0.9969638586044312, -0.9960792660713196, -0.9956708550453186, -0.9953751564025879, -0.9946402907371521, -0.993768572807312, -0.9935525059700012, -0.988175630569458, -0.9854958057403564, -0.9842044711112976, -0.980724573135376, -0.9800102114677429, -0.9731752276420593, -0.9714896082878113, -0.9699157476425171, -0.9549598097801208, -0.9518516659736633, -0.951524555683136, -0.9351556301116943, -0.9192218780517578, -0.9167947769165039, -0.9158185124397278, -0.9152022004127502, -0.899008572101593, -0.8392716646194458, -0.8333549499511719, -0.7822330594062805, -0.6661417484283447, -0.649501621723175, -0.6312074065208435, -0.5783460736274719, -0.4931463599205017, -0.38217228651046753, -0.24503743648529053, -0.18791712820529938, 0.03867945820093155, 0.09168416261672974, 0.12251129746437073, 0.23652492463588715, 0.3835652768611908, 0.4562588036060333, 0.5596478581428528, 0.5724608898162842, 0.802596390247345, 0.8433528542518616, 0.8928834795951843, 0.8985875248908997, 0.9150805473327637, 0.9322798252105713, 0.9366558790206909, 0.9394899010658264, 0.9496011137962341, 0.9565356373786926, 0.9633764028549194, 0.9645890593528748, 0.9657637476921082, 0.9665249586105347, 0.9726690053939819, 0.981124997138977, 0.9811686277389526, 0.98137366771698, 0.9820388555526733, 0.9829220771789551, 0.9829646944999695, 0.9837837815284729, 0.9843340516090393, 0.9852645993232727, 0.9853082895278931, 0.9855920076370239, 0.9882780313491821, 0.9899884462356567, 0.9902560114860535, 0.9906414747238159, 0.9908164739608765, 0.9920338988304138, 0.9925203919410706, 0.9933450222015381, 0.9952772855758667, 0.9963803887367249, 0.9963942170143127], \"y0\": \" \", \"yaxis\": \"y\"}, {\"alignmentgroup\": \"True\", \"boxpoints\": \"all\", \"customdata\": [[\"DO29308\"], [\"DO28873\"], [\"DO29820\"], [\"AOCS_124\"], [\"DO28053\"], [\"DO28412\"], [\"DO31551\"], [\"AOCS_109\"], [\"SHGSOC057\"], [\"SHGSOC050\"], [\"AOCS_059\"], [\"SHGSOC008\"], [\"AOCS_162\"], [\"DO28952\"], [\"AOCS_077\"], [\"DO28289\"], [\"AOCS_084\"], [\"DO28024\"], [\"AOCS_159\"], [\"AOCS_060\"], [\"DO29940\"], [\"SHGSOC003\"], [\"AOCS_081\"], [\"AOCS_163\"], [\"SHGSOC045\"], [\"DO30550\"], [\"SHGSOC093\"], [\"SHGSOC019\"], [\"SHGSOC010\"], [\"SHGSOC020\"], [\"AOCS_161\"], [\"SHGSOC061\"], [\"SHGSOC017\"], [\"AOCS_078\"], [\"SHGSOC081\"], [\"AOCS_165\"], [\"AOCS_170\"], [\"SHGSOC101\"], [\"SHGSOC082\"], [\"DO31150\"]], \"fillcolor\": \"rgba(255,255,255,0)\", \"hoverlabel\": {\"namelength\": 0}, \"hoveron\": \"points\", \"hovertemplate\": \"Sample type=Proficient<br>counter=%{x}<br>prediction=%{y}<br>sample=%{customdata[0]}\", \"legendgroup\": \"Proficient\", \"line\": {\"color\": \"rgba(255,255,255,0)\"}, \"marker\": {\"color\": \"#EF553B\", \"size\": 5}, \"name\": \"Proficient\", \"offsetgroup\": \"Proficient\", \"orientation\": \"v\", \"pointpos\": 0, \"showlegend\": true, \"type\": \"box\", \"x\": [1, 4, 5, 9, 11, 13, 14, 17, 19, 20, 22, 24, 27, 34, 35, 37, 38, 42, 43, 44, 49, 52, 54, 57, 60, 62, 65, 69, 77, 78, 81, 83, 86, 89, 91, 92, 93, 100, 101, 147], \"x0\": \" \", \"xaxis\": \"x\", \"y\": [-0.9999303817749023, -0.9999043345451355, -0.9998863339424133, -0.9998599290847778, -0.9998458623886108, -0.9998400211334229, -0.9998365640640259, -0.999742865562439, -0.9996362328529358, -0.9995671510696411, -0.9995177388191223, -0.9994792938232422, -0.999380350112915, -0.9987437725067139, -0.9987318515777588, -0.9981765151023865, -0.9977938532829285, -0.9969251751899719, -0.9968557953834534, -0.9961018562316895, -0.9940418601036072, -0.9929296970367432, -0.9861220717430115, -0.9824081659317017, -0.9782021641731262, -0.9723734855651855, -0.9687594771385193, -0.9407978653907776, -0.8751764297485352, -0.8410861492156982, -0.819675624370575, -0.6864809989929199, -0.6333428621292114, -0.5296221971511841, -0.4539649188518524, -0.41783350706100464, -0.384867787361145, 0.17300379276275635, 0.21880629658699036, 0.9731811285018921], \"y0\": \" \", \"yaxis\": \"y\"}, {\"alignmentgroup\": \"True\", \"boxpoints\": \"all\", \"customdata\": [[\"SHGSOC051\"], [\"AOCS_105\"], [\"SHGSOC059\"], [\"DO32391\"], [\"DO28119\"], [\"AOCS_079\"], [\"DO28521\"], [\"AOCS_122\"], [\"SHGSOC001\"], [\"AOCS_147\"], [\"AOCS_146\"], [\"SHGSOC072\"], [\"AOCS_088\"], [\"AOCS_143\"], [\"AOCS_065\"], [\"DO32420\"], [\"AOCS_058\"], [\"AOCS_152\"], [\"AOCS_131\"], [\"DO30220\"], [\"AOCS_104\"], [\"SHGSOC007\"], [\"AOCS_108\"], [\"AOCS_171\"], [\"AOCS_130\"], [\"DO31869\"], [\"DO30340\"], [\"AOCS_149\"], [\"AOCS_063\"], [\"AOCS_086\"], [\"AOCS_145\"], [\"DO30970\"], [\"AOCS_034\"], [\"AOCS_095\"], [\"DO32237\"], [\"AOCS_139\"], [\"SHGSOC009\"], [\"DO28089\"], [\"DO28273\"], [\"SHGSOC022\"], [\"AOCS_153\"], [\"SHGSOC100\"]], \"fillcolor\": \"rgba(255,255,255,0)\", \"hoverlabel\": {\"namelength\": 0}, \"hoveron\": \"points\", \"hovertemplate\": \"Sample type=Deficient<br>counter=%{x}<br>prediction=%{y}<br>sample=%{customdata[0]}\", \"legendgroup\": \"Deficient\", \"line\": {\"color\": \"rgba(255,255,255,0)\"}, \"marker\": {\"color\": \"#00cc96\", \"size\": 5}, \"name\": \"Deficient\", \"offsetgroup\": \"Deficient\", \"orientation\": \"v\", \"pointpos\": 0, \"showlegend\": true, \"type\": \"box\", \"x\": [75, 105, 108, 109, 111, 114, 116, 117, 118, 120, 121, 123, 124, 125, 128, 129, 130, 132, 133, 135, 136, 137, 138, 142, 144, 145, 148, 149, 150, 151, 159, 161, 165, 166, 172, 173, 174, 175, 176, 179, 180, 185], \"x0\": \" \", \"xaxis\": \"x\", \"y\": [-0.9054622650146484, 0.5136337280273438, 0.649861752986908, 0.6789572834968567, 0.8160479068756104, 0.8978903889656067, 0.9052839875221252, 0.9085367321968079, 0.9149322509765625, 0.9241829514503479, 0.9310503602027893, 0.9341985583305359, 0.9347293376922607, 0.9363785982131958, 0.9409292340278625, 0.9450228810310364, 0.9455605149269104, 0.9516316056251526, 0.9551784992218018, 0.9572314620018005, 0.9581784009933472, 0.9587141871452332, 0.9622203707695007, 0.9660499691963196, 0.968349814414978, 0.9692382216453552, 0.9754152894020081, 0.9759248495101929, 0.9771463871002197, 0.9775164723396301, 0.9840005040168762, 0.9849500060081482, 0.9878674745559692, 0.9880174994468689, 0.9909077286720276, 0.9912930727005005, 0.9914476871490479, 0.9915676712989807, 0.9918084740638733, 0.9932371973991394, 0.9932553768157959, 0.9968183636665344], \"y0\": \" \", \"yaxis\": \"y\"}, {\"line\": {\"color\": \"orange\", \"dash\": \"dash\", \"width\": 3}, \"mode\": \"lines\", \"name\": \"Margin maximization\", \"type\": \"scatter\", \"x\": [0, 185], \"y\": [0.22196274430192248, 0.22196274430192248]}],\n",
       "                        {\"boxmode\": \"group\", \"legend\": {\"title\": {\"text\": \"Sample type\"}, \"tracegroupgap\": 0}, \"margin\": {\"t\": 60}, \"template\": {\"data\": {\"bar\": [{\"error_x\": {\"color\": \"#2a3f5f\"}, \"error_y\": {\"color\": \"#2a3f5f\"}, \"marker\": {\"line\": {\"color\": \"#E5ECF6\", \"width\": 0.5}}, \"type\": \"bar\"}], \"barpolar\": [{\"marker\": {\"line\": {\"color\": \"#E5ECF6\", \"width\": 0.5}}, \"type\": \"barpolar\"}], \"carpet\": [{\"aaxis\": {\"endlinecolor\": \"#2a3f5f\", \"gridcolor\": \"white\", \"linecolor\": \"white\", \"minorgridcolor\": \"white\", \"startlinecolor\": \"#2a3f5f\"}, \"baxis\": {\"endlinecolor\": \"#2a3f5f\", \"gridcolor\": \"white\", \"linecolor\": \"white\", \"minorgridcolor\": \"white\", \"startlinecolor\": \"#2a3f5f\"}, \"type\": \"carpet\"}], \"choropleth\": [{\"colorbar\": {\"outlinewidth\": 0, \"ticks\": \"\"}, \"type\": \"choropleth\"}], \"contour\": [{\"colorbar\": {\"outlinewidth\": 0, \"ticks\": \"\"}, \"colorscale\": [[0.0, \"#0d0887\"], [0.1111111111111111, \"#46039f\"], [0.2222222222222222, \"#7201a8\"], [0.3333333333333333, \"#9c179e\"], [0.4444444444444444, \"#bd3786\"], [0.5555555555555556, \"#d8576b\"], [0.6666666666666666, \"#ed7953\"], [0.7777777777777778, \"#fb9f3a\"], [0.8888888888888888, \"#fdca26\"], [1.0, \"#f0f921\"]], \"type\": \"contour\"}], \"contourcarpet\": [{\"colorbar\": {\"outlinewidth\": 0, \"ticks\": \"\"}, \"type\": \"contourcarpet\"}], \"heatmap\": [{\"colorbar\": {\"outlinewidth\": 0, \"ticks\": \"\"}, \"colorscale\": [[0.0, \"#0d0887\"], [0.1111111111111111, \"#46039f\"], [0.2222222222222222, \"#7201a8\"], [0.3333333333333333, \"#9c179e\"], [0.4444444444444444, \"#bd3786\"], [0.5555555555555556, \"#d8576b\"], [0.6666666666666666, \"#ed7953\"], [0.7777777777777778, \"#fb9f3a\"], [0.8888888888888888, \"#fdca26\"], [1.0, \"#f0f921\"]], \"type\": \"heatmap\"}], \"heatmapgl\": [{\"colorbar\": {\"outlinewidth\": 0, \"ticks\": \"\"}, \"colorscale\": [[0.0, \"#0d0887\"], [0.1111111111111111, \"#46039f\"], [0.2222222222222222, \"#7201a8\"], [0.3333333333333333, \"#9c179e\"], [0.4444444444444444, \"#bd3786\"], [0.5555555555555556, \"#d8576b\"], [0.6666666666666666, \"#ed7953\"], [0.7777777777777778, \"#fb9f3a\"], [0.8888888888888888, \"#fdca26\"], [1.0, \"#f0f921\"]], \"type\": \"heatmapgl\"}], \"histogram\": [{\"marker\": {\"colorbar\": {\"outlinewidth\": 0, \"ticks\": \"\"}}, \"type\": \"histogram\"}], \"histogram2d\": [{\"colorbar\": {\"outlinewidth\": 0, \"ticks\": \"\"}, \"colorscale\": [[0.0, \"#0d0887\"], [0.1111111111111111, \"#46039f\"], [0.2222222222222222, \"#7201a8\"], [0.3333333333333333, \"#9c179e\"], [0.4444444444444444, \"#bd3786\"], [0.5555555555555556, \"#d8576b\"], [0.6666666666666666, \"#ed7953\"], [0.7777777777777778, \"#fb9f3a\"], [0.8888888888888888, \"#fdca26\"], [1.0, \"#f0f921\"]], \"type\": \"histogram2d\"}], \"histogram2dcontour\": [{\"colorbar\": {\"outlinewidth\": 0, \"ticks\": \"\"}, \"colorscale\": [[0.0, \"#0d0887\"], [0.1111111111111111, \"#46039f\"], [0.2222222222222222, \"#7201a8\"], [0.3333333333333333, \"#9c179e\"], [0.4444444444444444, \"#bd3786\"], [0.5555555555555556, \"#d8576b\"], [0.6666666666666666, \"#ed7953\"], [0.7777777777777778, \"#fb9f3a\"], [0.8888888888888888, \"#fdca26\"], [1.0, \"#f0f921\"]], \"type\": \"histogram2dcontour\"}], \"mesh3d\": [{\"colorbar\": {\"outlinewidth\": 0, \"ticks\": \"\"}, \"type\": \"mesh3d\"}], \"parcoords\": [{\"line\": {\"colorbar\": {\"outlinewidth\": 0, \"ticks\": \"\"}}, \"type\": \"parcoords\"}], \"pie\": [{\"automargin\": true, \"type\": \"pie\"}], \"scatter\": [{\"marker\": {\"colorbar\": {\"outlinewidth\": 0, \"ticks\": \"\"}}, \"type\": \"scatter\"}], \"scatter3d\": [{\"line\": {\"colorbar\": {\"outlinewidth\": 0, \"ticks\": \"\"}}, \"marker\": {\"colorbar\": {\"outlinewidth\": 0, \"ticks\": \"\"}}, \"type\": \"scatter3d\"}], \"scattercarpet\": [{\"marker\": {\"colorbar\": {\"outlinewidth\": 0, \"ticks\": \"\"}}, \"type\": \"scattercarpet\"}], \"scattergeo\": [{\"marker\": {\"colorbar\": {\"outlinewidth\": 0, \"ticks\": \"\"}}, \"type\": \"scattergeo\"}], \"scattergl\": [{\"marker\": {\"colorbar\": {\"outlinewidth\": 0, \"ticks\": \"\"}}, \"type\": \"scattergl\"}], \"scattermapbox\": [{\"marker\": {\"colorbar\": {\"outlinewidth\": 0, \"ticks\": \"\"}}, \"type\": \"scattermapbox\"}], \"scatterpolar\": [{\"marker\": {\"colorbar\": {\"outlinewidth\": 0, \"ticks\": \"\"}}, \"type\": \"scatterpolar\"}], \"scatterpolargl\": [{\"marker\": {\"colorbar\": {\"outlinewidth\": 0, \"ticks\": \"\"}}, \"type\": \"scatterpolargl\"}], \"scatterternary\": [{\"marker\": {\"colorbar\": {\"outlinewidth\": 0, \"ticks\": \"\"}}, \"type\": \"scatterternary\"}], \"surface\": [{\"colorbar\": {\"outlinewidth\": 0, \"ticks\": \"\"}, \"colorscale\": [[0.0, \"#0d0887\"], [0.1111111111111111, \"#46039f\"], [0.2222222222222222, \"#7201a8\"], [0.3333333333333333, \"#9c179e\"], [0.4444444444444444, \"#bd3786\"], [0.5555555555555556, \"#d8576b\"], [0.6666666666666666, \"#ed7953\"], [0.7777777777777778, \"#fb9f3a\"], [0.8888888888888888, \"#fdca26\"], [1.0, \"#f0f921\"]], \"type\": \"surface\"}], \"table\": [{\"cells\": {\"fill\": {\"color\": \"#EBF0F8\"}, \"line\": {\"color\": \"white\"}}, \"header\": {\"fill\": {\"color\": \"#C8D4E3\"}, \"line\": {\"color\": \"white\"}}, \"type\": \"table\"}]}, \"layout\": {\"annotationdefaults\": {\"arrowcolor\": \"#2a3f5f\", \"arrowhead\": 0, \"arrowwidth\": 1}, \"coloraxis\": {\"colorbar\": {\"outlinewidth\": 0, \"ticks\": \"\"}}, \"colorscale\": {\"diverging\": [[0, \"#8e0152\"], [0.1, \"#c51b7d\"], [0.2, \"#de77ae\"], [0.3, \"#f1b6da\"], [0.4, \"#fde0ef\"], [0.5, \"#f7f7f7\"], [0.6, \"#e6f5d0\"], [0.7, \"#b8e186\"], [0.8, \"#7fbc41\"], [0.9, \"#4d9221\"], [1, \"#276419\"]], \"sequential\": [[0.0, \"#0d0887\"], [0.1111111111111111, \"#46039f\"], [0.2222222222222222, \"#7201a8\"], [0.3333333333333333, \"#9c179e\"], [0.4444444444444444, \"#bd3786\"], [0.5555555555555556, \"#d8576b\"], [0.6666666666666666, \"#ed7953\"], [0.7777777777777778, \"#fb9f3a\"], [0.8888888888888888, \"#fdca26\"], [1.0, \"#f0f921\"]], \"sequentialminus\": [[0.0, \"#0d0887\"], [0.1111111111111111, \"#46039f\"], [0.2222222222222222, \"#7201a8\"], [0.3333333333333333, \"#9c179e\"], [0.4444444444444444, \"#bd3786\"], [0.5555555555555556, \"#d8576b\"], [0.6666666666666666, \"#ed7953\"], [0.7777777777777778, \"#fb9f3a\"], [0.8888888888888888, \"#fdca26\"], [1.0, \"#f0f921\"]]}, \"colorway\": [\"#636efa\", \"#EF553B\", \"#00cc96\", \"#ab63fa\", \"#FFA15A\", \"#19d3f3\", \"#FF6692\", \"#B6E880\", \"#FF97FF\", \"#FECB52\"], \"font\": {\"color\": \"#2a3f5f\"}, \"geo\": {\"bgcolor\": \"white\", \"lakecolor\": \"white\", \"landcolor\": \"#E5ECF6\", \"showlakes\": true, \"showland\": true, \"subunitcolor\": \"white\"}, \"hoverlabel\": {\"align\": \"left\"}, \"hovermode\": \"closest\", \"mapbox\": {\"style\": \"light\"}, \"paper_bgcolor\": \"white\", \"plot_bgcolor\": \"#E5ECF6\", \"polar\": {\"angularaxis\": {\"gridcolor\": \"white\", \"linecolor\": \"white\", \"ticks\": \"\"}, \"bgcolor\": \"#E5ECF6\", \"radialaxis\": {\"gridcolor\": \"white\", \"linecolor\": \"white\", \"ticks\": \"\"}}, \"scene\": {\"xaxis\": {\"backgroundcolor\": \"#E5ECF6\", \"gridcolor\": \"white\", \"gridwidth\": 2, \"linecolor\": \"white\", \"showbackground\": true, \"ticks\": \"\", \"zerolinecolor\": \"white\"}, \"yaxis\": {\"backgroundcolor\": \"#E5ECF6\", \"gridcolor\": \"white\", \"gridwidth\": 2, \"linecolor\": \"white\", \"showbackground\": true, \"ticks\": \"\", \"zerolinecolor\": \"white\"}, \"zaxis\": {\"backgroundcolor\": \"#E5ECF6\", \"gridcolor\": \"white\", \"gridwidth\": 2, \"linecolor\": \"white\", \"showbackground\": true, \"ticks\": \"\", \"zerolinecolor\": \"white\"}}, \"shapedefaults\": {\"line\": {\"color\": \"#2a3f5f\"}}, \"ternary\": {\"aaxis\": {\"gridcolor\": \"white\", \"linecolor\": \"white\", \"ticks\": \"\"}, \"baxis\": {\"gridcolor\": \"white\", \"linecolor\": \"white\", \"ticks\": \"\"}, \"bgcolor\": \"#E5ECF6\", \"caxis\": {\"gridcolor\": \"white\", \"linecolor\": \"white\", \"ticks\": \"\"}}, \"title\": {\"x\": 0.05}, \"xaxis\": {\"automargin\": true, \"gridcolor\": \"white\", \"linecolor\": \"white\", \"ticks\": \"\", \"title\": {\"standoff\": 15}, \"zerolinecolor\": \"white\", \"zerolinewidth\": 2}, \"yaxis\": {\"automargin\": true, \"gridcolor\": \"white\", \"linecolor\": \"white\", \"ticks\": \"\", \"title\": {\"standoff\": 15}, \"zerolinecolor\": \"white\", \"zerolinewidth\": 2}}}, \"title\": {\"text\": \"MSclassifier model prediction. Model accuracy: 0.975609756097561\"}, \"xaxis\": {\"anchor\": \"y\", \"domain\": [0.0, 1.0], \"title\": {\"text\": \"Samples\"}}, \"yaxis\": {\"anchor\": \"x\", \"domain\": [0.0, 1.0], \"title\": {\"text\": \"Prediction\"}}},\n",
       "                        {\"responsive\": true}\n",
       "                    ).then(function(){\n",
       "                            \n",
       "var gd = document.getElementById('a63668e2-9305-4d0c-a400-ff207fd35f64');\n",
       "var x = new MutationObserver(function (mutations, observer) {{\n",
       "        var display = window.getComputedStyle(gd).display;\n",
       "        if (!display || display === 'none') {{\n",
       "            console.log([gd, 'removed!']);\n",
       "            Plotly.purge(gd);\n",
       "            observer.disconnect();\n",
       "        }}\n",
       "}});\n",
       "\n",
       "// Listen for the removal of the full notebook cells\n",
       "var notebookContainer = gd.closest('#notebook-container');\n",
       "if (notebookContainer) {{\n",
       "    x.observe(notebookContainer, {childList: true});\n",
       "}}\n",
       "\n",
       "// Listen for the clearing of the current output cell\n",
       "var outputEl = gd.closest('.output');\n",
       "if (outputEl) {{\n",
       "    x.observe(outputEl, {childList: true});\n",
       "}}\n",
       "\n",
       "                        })\n",
       "                };\n",
       "                });\n",
       "            </script>\n",
       "        </div>"
      ]
     },
     "metadata": {},
     "output_type": "display_data"
    },
    {
     "name": "stdout",
     "output_type": "stream",
     "text": [
      "              precision    recall  f1-score   support\n",
      "\n",
      "  Proficient       0.98      0.98      0.98        42\n",
      "   Deficient       0.97      0.97      0.97        40\n",
      "\n",
      "    accuracy                           0.98        82\n",
      "   macro avg       0.98      0.98      0.98        82\n",
      "weighted avg       0.98      0.98      0.98        82\n",
      "\n"
     ]
    }
   ],
   "source": [
    "# We input use the fitted regressor\n",
    "HGSOC.model_fit(regressor)\n",
    "HGSOC.test_check()\n",
    "HGSOC.model_predict()\n",
    "HGSOC.plot.show()\n",
    "print(HGSOC.confusion_matrix)"
   ]
  },
  {
   "cell_type": "markdown",
   "metadata": {},
   "source": [
    "## Exporting and loading an MSclassifier object with a TensorFlow model\n",
    "\n",
    "Since this is a TensorFlow model, we need to export the project in two steps:"
   ]
  },
  {
   "cell_type": "code",
   "execution_count": 34,
   "metadata": {},
   "outputs": [
    {
     "name": "stdout",
     "output_type": "stream",
     "text": [
      "WARNING:tensorflow:From /home/elatorre/anaconda3/lib/python3.7/site-packages/tensorflow_core/python/ops/resource_variable_ops.py:1786: calling BaseResourceVariable.__init__ (from tensorflow.python.ops.resource_variable_ops) with constraint is deprecated and will be removed in a future version.\n",
      "Instructions for updating:\n",
      "If using Keras pass *_constraint arguments to layers.\n",
      "INFO:tensorflow:Assets written to: /home/elatorre/Desktop/HGSOC datasets/HGSOC VCF filtered/output/HGSOC_HR_tfmodel/assets\n"
     ]
    }
   ],
   "source": [
    "# step 1: export the tensorflow model\n",
    "path_to_model= path+'output/'+HGSOC.project_name + '_tfmodel'\n",
    "HGSOC.model.classifier.save(path_to_model)\n",
    "# step 2: export the MSclassifier object\n",
    "HGSOC.model.classifier=None\n",
    "HGSOC.export()"
   ]
  },
  {
   "cell_type": "markdown",
   "metadata": {},
   "source": [
    "In order load an MSclassifier that was trained with a Tensorflow model, we also need to do this is a couple of steps."
   ]
  },
  {
   "cell_type": "code",
   "execution_count": 35,
   "metadata": {},
   "outputs": [
    {
     "data": {
      "text/plain": [
       "<tensorflow.python.keras.saving.saved_model.load.Sequential at 0x7efd184f2dd0>"
      ]
     },
     "execution_count": 35,
     "metadata": {},
     "output_type": "execute_result"
    }
   ],
   "source": [
    "import pickle\n",
    "from tensorflow import keras\n",
    "\n",
    "# import the model\n",
    "model = keras.models.load_model(path_to_model)\n",
    "\n",
    "path_to_MSclassifier= path+'/output/MSclassifier_alt.p'\n",
    "HGSOC=pickle.load(open(path_to_MSclassifier,'rb'))\n",
    "HGSOC.model.classifier=model\n",
    "\n",
    "# We can now check that indeed we have loaded the model correctly\n",
    "HGSOC.model.classifier"
   ]
  },
  {
   "cell_type": "markdown",
   "metadata": {},
   "source": [
    "# Training a model on synthetic exome data\n",
    "\n",
    "Thanks to SigProfiler exome filtering capability we can easily train a model on synthetic exome data. This is achieved by simply setting exome=true in the creation of a project."
   ]
  },
  {
   "cell_type": "code",
   "execution_count": 36,
   "metadata": {},
   "outputs": [
    {
     "name": "stdout",
     "output_type": "stream",
     "text": [
      "The given input files do not appear to be in the correct vcf format. Skipping this file:  Proficient.txt\n",
      "The given input files do not appear to be in the correct vcf format. Skipping this file:  Deficient.txt\n",
      "Starting matrix generation for SNVs and DINUCs...Completed! Elapsed time: 114.94 seconds.\n",
      "Starting matrix generation for INDELs...Completed! Elapsed time: 59.62 seconds.\n",
      "Matrices generated for 188 samples with 1 errors. Total of 3303977 SNVs, 23360 DINUCs, and 313089 INDELs were successfully analyzed.\n",
      "\n",
      "************** Reported Current Memory Use: 0.7 GB *****************\n",
      "\n",
      "Normalization Cutoff is : 220\n",
      "Extracting signature 1 for mutation type 96\n",
      "process 1 continues please wait... \n",
      "process 1 continues please wait... \n",
      "process 1 continues please wait... \n",
      "execution time: 0 seconds \n",
      "execution time: 0 seconds \n",
      "process 1 continues please wait... \n",
      "execution time: 0 seconds \n",
      "\n",
      "execution time: 0 seconds \n",
      "\n",
      "\n",
      "\n",
      "process 1 continues please wait... \n",
      "execution time: 0 seconds \n",
      "process 1 continues please wait... \n",
      "\n",
      "process 1 continues please wait... \n",
      "execution time: 0 seconds \n",
      "process 1 continues please wait... \n",
      "\n",
      "execution time: 0 seconds \n",
      "execution time: 0 seconds \n",
      "\n",
      "\n",
      "Time taken to collect 8 iterations for 1 signatures is 0.58 seconds\n",
      "Optimization time is 0.1401989459991455 seconds\n",
      "The reconstruction error is 0.4125, average process stability is 1.0 and \n",
      "the minimum process stability is 1.0 for 1 signatures\n",
      "\n",
      "\n",
      "Extracting signature 2 for mutation type 96\n",
      "process 2 continues please wait... \n",
      "execution time: 0 seconds \n",
      "\n",
      "process 2 continues please wait... \n",
      "process 2 continues please wait... \n",
      "execution time: 1 seconds \n",
      "process 2 continues please wait... \n",
      "\n",
      "execution time: 1 seconds \n",
      "execution time: 1 seconds \n",
      "\n",
      "\n",
      "process 2 continues please wait... \n",
      "execution time: 1 seconds \n",
      "\n",
      "process 2 continues please wait... \n",
      "execution time: 1 seconds \n",
      "\n",
      "process 2 continues please wait... \n",
      "execution time: 1 seconds \n",
      "\n",
      "process 2 continues please wait... \n",
      "execution time: 1 seconds \n",
      "\n",
      "Time taken to collect 8 iterations for 2 signatures is 1.45 seconds\n",
      "Optimization time is 0.10458207130432129 seconds\n",
      "The reconstruction error is 0.3834, average process stability is 0.5 and \n",
      "the minimum process stability is 0.22 for 2 signatures\n",
      "\n",
      "\n",
      "Extracting signature 3 for mutation type 96\n",
      "process 3 continues please wait... \n",
      "execution time: 1 seconds \n",
      "\n",
      "process 3 continues please wait... \n",
      "execution time: 1 seconds \n",
      "\n",
      "process 3 continues please wait... \n",
      "execution time: 1 seconds \n",
      "\n",
      "process 3 continues please wait... \n",
      "execution time: 1 seconds \n",
      "\n",
      "process 3 continues please wait... \n",
      "execution time: 1 seconds \n",
      "\n",
      "process 3 continues please wait... \n",
      "execution time: 1 seconds \n",
      "\n",
      "process 3 continues please wait... \n",
      "execution time: 2 seconds \n",
      "\n",
      "process 3 continues please wait... \n",
      "execution time: 2 seconds \n",
      "\n",
      "Time taken to collect 8 iterations for 3 signatures is 2.26 seconds\n",
      "Optimization time is 0.18901443481445312 seconds\n",
      "The reconstruction error is 0.3758, average process stability is 0.32 and \n",
      "the minimum process stability is 0.15 for 3 signatures\n",
      "\n",
      "\n",
      "\n",
      "\n",
      " \n",
      "Your Job Is Successfully Completed! Thank You For Using SigProfiler Extractor.\n",
      " \n",
      "\n",
      "************** Reported Current Memory Use: 0.7 GB *****************\n",
      "\n",
      "Normalization Cutoff is : 292\n",
      "Extracting signature 1 for mutation type 96\n",
      "process 1 continues please wait... \n",
      "process 1 continues please wait... \n",
      "process 1 continues please wait... \n",
      "execution time: 0 seconds \n",
      "process 1 continues please wait... \n",
      "execution time: 0 seconds \n",
      "process 1 continues please wait... \n",
      "process 1 continues please wait... \n",
      "execution time: 0 seconds \n",
      "process 1 continues please wait... \n",
      "\n",
      "\n",
      "\n",
      "execution time: 0 seconds \n",
      "execution time: 0 seconds \n",
      "execution time: 0 seconds \n",
      "execution time: 0 seconds \n",
      "\n",
      "\n",
      "\n",
      "process 1 continues please wait... \n",
      "\n",
      "execution time: 0 seconds \n",
      "\n",
      "Time taken to collect 8 iterations for 1 signatures is 0.53 seconds\n",
      "Optimization time is 0.15710091590881348 seconds\n",
      "The reconstruction error is 0.4652, average process stability is 1.0 and \n",
      "the minimum process stability is 1.0 for 1 signatures\n",
      "\n",
      "\n",
      "Extracting signature 2 for mutation type 96\n",
      "process 2 continues please wait... \n",
      "execution time: 1 seconds \n",
      "process 2 continues please wait... \n",
      "execution time: 1 seconds \n",
      "\n",
      "\n",
      "process 2 continues please wait... \n",
      "execution time: 1 seconds \n",
      "\n",
      "process 2 continues please wait... \n",
      "execution time: 1 seconds \n",
      "\n",
      "process 2 continues please wait... \n",
      "execution time: 1 seconds \n",
      "\n",
      "process 2 continues please wait... \n",
      "execution time: 1 seconds \n",
      "\n",
      "process 2 continues please wait... \n",
      "execution time: 1 seconds \n",
      "\n",
      "process 2 continues please wait... \n",
      "execution time: 1 seconds \n",
      "\n",
      "Time taken to collect 8 iterations for 2 signatures is 1.59 seconds\n",
      "Optimization time is 0.2016744613647461 seconds\n",
      "The reconstruction error is 0.4581, average process stability is 0.34 and \n",
      "the minimum process stability is 0.3 for 2 signatures\n",
      "\n",
      "\n",
      "Extracting signature 3 for mutation type 96\n",
      "process 3 continues please wait... \n",
      "execution time: 1 seconds \n",
      "\n",
      "process 3 continues please wait... \n",
      "execution time: 1 seconds \n",
      "\n",
      "process 3 continues please wait... \n",
      "process 3 continues please wait... \n",
      "execution time: 1 seconds \n",
      "\n",
      "execution time: 1 seconds \n",
      "\n",
      "process 3 continues please wait... \n",
      "execution time: 1 seconds \n",
      "\n",
      "process 3 continues please wait... \n",
      "execution time: 1 seconds \n",
      "\n",
      "process 3 continues please wait... \n",
      "execution time: 1 seconds \n",
      "\n",
      "process 3 continues please wait... \n",
      "execution time: 2 seconds \n",
      "\n",
      "Time taken to collect 8 iterations for 3 signatures is 2.07 seconds\n",
      "Optimization time is 0.18877792358398438 seconds\n",
      "The reconstruction error is 0.442, average process stability is 0.2 and \n",
      "the minimum process stability is 0.09 for 3 signatures\n",
      "\n",
      "\n",
      "\n",
      "\n",
      " \n",
      "Your Job Is Successfully Completed! Thank You For Using SigProfiler Extractor.\n",
      " \n",
      "\n",
      "************** Reported Current Memory Use: 0.7 GB *****************\n",
      "\n",
      "Normalization Cutoff is : 29\n",
      "Extracting signature 1 for mutation type INDEL\n",
      "process 1 continues please wait... \n",
      "process 1 continues please wait... \n",
      "process 1 continues please wait... \n",
      "process 1 continues please wait... \n",
      "execution time: 0 seconds \n",
      "execution time: 0 seconds \n",
      "execution time: 0 seconds \n",
      "process 1 continues please wait... \n",
      "process 1 continues please wait... \n",
      "\n",
      "process 1 continues please wait... \n",
      "execution time: 0 seconds \n",
      "execution time: 0 seconds \n",
      "\n",
      "execution time: 0 seconds \n",
      "\n",
      "\n",
      "execution time: 0 seconds \n",
      "\n",
      "process 1 continues please wait... \n",
      "\n",
      "execution time: 0 seconds \n",
      "\n",
      "\n",
      "Time taken to collect 8 iterations for 1 signatures is 0.45 seconds\n",
      "Optimization time is 0.15059208869934082 seconds\n",
      "The reconstruction error is 0.7424, average process stability is 1.0 and \n",
      "the minimum process stability is 1.0 for 1 signatures\n",
      "\n",
      "\n",
      "Extracting signature 2 for mutation type INDEL\n",
      "process 2 continues please wait... \n",
      "execution time: 0 seconds \n",
      "\n",
      "process 2 continues please wait... \n",
      "execution time: 0 seconds \n",
      "\n",
      "process 2 continues please wait... \n",
      "execution time: 0 seconds \n",
      "process 2 continues please wait... \n",
      "\n",
      "execution time: 0 seconds \n",
      "\n",
      "process 2 continues please wait... \n",
      "execution time: 0 seconds \n",
      "process 2 continues please wait... \n",
      "\n",
      "execution time: 0 seconds \n",
      "\n",
      "process 2 continues please wait... \n",
      "execution time: 1 seconds \n",
      "\n",
      "process 2 continues please wait... \n",
      "execution time: 1 seconds \n",
      "\n",
      "Time taken to collect 8 iterations for 2 signatures is 0.77 seconds\n",
      "Optimization time is 0.1352090835571289 seconds\n",
      "The reconstruction error is 0.7064, average process stability is 0.52 and \n",
      "the minimum process stability is 0.44 for 2 signatures\n",
      "\n",
      "\n",
      "Extracting signature 3 for mutation type INDEL\n",
      "process 3 continues please wait... \n",
      "execution time: 0 seconds \n",
      "process 3 continues please wait... \n",
      "\n",
      "process 3 continues please wait... \n",
      "execution time: 0 seconds \n",
      "execution time: 0 seconds \n",
      "process 3 continues please wait... \n",
      "execution time: 0 seconds \n",
      "\n",
      "\n",
      "\n",
      "process 3 continues please wait... \n",
      "execution time: 0 seconds \n",
      "process 3 continues please wait... \n",
      "\n",
      "execution time: 0 seconds \n",
      "process 3 continues please wait... \n",
      "\n",
      "execution time: 0 seconds \n",
      "\n",
      "process 3 continues please wait... \n",
      "execution time: 0 seconds \n",
      "\n",
      "Time taken to collect 8 iterations for 3 signatures is 0.67 seconds\n",
      "Optimization time is 0.14623093605041504 seconds\n",
      "The reconstruction error is 0.6673, average process stability is 0.55 and \n",
      "the minimum process stability is 0.32 for 3 signatures\n",
      "\n",
      "\n"
     ]
    },
    {
     "name": "stdout",
     "output_type": "stream",
     "text": [
      "\n",
      "\n",
      " \n",
      "Your Job Is Successfully Completed! Thank You For Using SigProfiler Extractor.\n",
      " \n",
      "\n",
      "************** Reported Current Memory Use: 0.7 GB *****************\n",
      "\n",
      "Normalization Cutoff is : 52\n",
      "Extracting signature 1 for mutation type INDEL\n",
      "process 1 continues please wait... \n",
      "process 1 continues please wait... \n",
      "process 1 continues please wait... \n",
      "execution time: 0 seconds \n",
      "\n",
      "process 1 continues please wait... \n",
      "execution time: 0 seconds \n",
      "process 1 continues please wait... \n",
      "process 1 continues please wait... \n",
      "process 1 continues please wait... \n",
      "process 1 continues please wait... \n",
      "execution time: 0 seconds \n",
      "execution time: 0 seconds \n",
      "execution time: 0 seconds \n",
      "\n",
      "\n",
      "execution time: 0 seconds \n",
      "execution time: 0 seconds \n",
      "\n",
      "execution time: 0 seconds \n",
      "\n",
      "\n",
      "\n",
      "\n",
      "Time taken to collect 8 iterations for 1 signatures is 0.44 seconds\n",
      "Optimization time is 0.14651226997375488 seconds\n",
      "The reconstruction error is 0.5588, average process stability is 1.0 and \n",
      "the minimum process stability is 1.0 for 1 signatures\n",
      "\n",
      "\n",
      "Extracting signature 2 for mutation type INDEL\n",
      "process 2 continues please wait... \n",
      "execution time: 0 seconds \n",
      "process 2 continues please wait... \n",
      "\n",
      "process 2 continues please wait... \n",
      "execution time: 0 seconds \n",
      "process 2 continues please wait... \n",
      "execution time: 0 seconds \n",
      "\n",
      "\n",
      "execution time: 0 seconds \n",
      "process 2 continues please wait... \n",
      "execution time: 0 seconds \n",
      "\n",
      "\n",
      "process 2 continues please wait... \n",
      "execution time: 0 seconds \n",
      "\n",
      "process 2 continues please wait... \n",
      "execution time: 0 seconds \n",
      "\n",
      "process 2 continues please wait... \n",
      "execution time: 0 seconds \n",
      "\n",
      "Time taken to collect 8 iterations for 2 signatures is 0.64 seconds\n",
      "Optimization time is 0.13016152381896973 seconds\n",
      "The reconstruction error is 0.494, average process stability is 0.62 and \n",
      "the minimum process stability is 0.48 for 2 signatures\n",
      "\n",
      "\n",
      "Extracting signature 3 for mutation type INDEL\n",
      "process 3 continues please wait... \n",
      "execution time: 0 seconds \n",
      "process 3 continues please wait... \n",
      "\n",
      "execution time: 0 seconds \n",
      "\n",
      "process 3 continues please wait... \n",
      "execution time: 0 seconds \n",
      "process 3 continues please wait... \n",
      "\n",
      "execution time: 0 seconds \n",
      "\n",
      "process 3 continues please wait... \n",
      "execution time: 0 seconds \n",
      "\n",
      "process 3 continues please wait... \n",
      "execution time: 0 seconds \n",
      "\n",
      "process 3 continues please wait... \n",
      "execution time: 1 seconds \n",
      "\n",
      "process 3 continues please wait... \n",
      "execution time: 1 seconds \n",
      "\n",
      "Time taken to collect 8 iterations for 3 signatures is 0.74 seconds\n",
      "Optimization time is 0.11377310752868652 seconds\n",
      "The reconstruction error is 0.4343, average process stability is 0.58 and \n",
      "the minimum process stability is 0.36 for 3 signatures\n",
      "\n",
      "\n",
      "\n",
      "\n",
      " \n",
      "Your Job Is Successfully Completed! Thank You For Using SigProfiler Extractor.\n",
      " \n",
      "\n",
      "************** Reported Current Memory Use: 0.7 GB *****************\n",
      "\n",
      "Normalization Cutoff is : 1\n",
      "Extracting signature 1 for mutation type DINUC\n",
      "process 1 continues please wait... \n",
      "process 1 continues please wait... \n",
      "process 1 continues please wait... \n",
      "execution time: 0 seconds \n",
      "process 1 continues please wait... \n",
      "execution time: 0 seconds \n",
      "process 1 continues please wait... \n",
      "execution time: 0 seconds \n",
      "\n",
      "execution time: 0 seconds \n",
      "process 1 continues please wait... \n",
      "execution time: 0 seconds \n",
      "\n",
      "execution time: 0 seconds \n",
      "\n",
      "\n",
      "process 1 continues please wait... \n",
      "process 1 continues please wait... \n",
      "\n",
      "\n",
      "execution time: 0 seconds \n",
      "\n",
      "execution time: 0 seconds \n",
      "\n",
      "Time taken to collect 8 iterations for 1 signatures is 0.55 seconds\n",
      "Optimization time is 0.16332101821899414 seconds\n",
      "The reconstruction error is 0.9178, average process stability is 1.0 and \n",
      "the minimum process stability is 1.0 for 1 signatures\n",
      "\n",
      "\n",
      "Extracting signature 2 for mutation type DINUC\n",
      "process 2 continues please wait... \n",
      "process 2 continues please wait... \n",
      "execution time: 0 seconds \n",
      "process 2 continues please wait... \n",
      "execution time: 0 seconds \n",
      "process 2 continues please wait... \n",
      "process 2 continues please wait... \n",
      "process 2 continues please wait... \n",
      "\n",
      "\n",
      "process 2 continues please wait... \n",
      "execution time: 0 seconds \n",
      "execution time: 0 seconds \n",
      "execution time: 0 seconds \n",
      "\n",
      "execution time: 0 seconds \n",
      "execution time: 0 seconds \n",
      "\n",
      "\n",
      "\n",
      "\n",
      "process 2 continues please wait... \n",
      "execution time: 0 seconds \n",
      "\n",
      "Time taken to collect 8 iterations for 2 signatures is 0.44 seconds\n",
      "Optimization time is 0.12885808944702148 seconds\n",
      "The reconstruction error is 0.8097, average process stability is 0.36 and \n",
      "the minimum process stability is 0.33 for 2 signatures\n",
      "\n",
      "\n",
      "Extracting signature 3 for mutation type DINUC\n",
      "process 3 continues please wait... \n",
      "process 3 continues please wait... \n",
      "process 3 continues please wait... \n",
      "execution time: 0 seconds \n",
      "\n",
      "execution time: 0 seconds \n",
      "execution time: 0 seconds \n",
      "\n",
      "process 3 continues please wait... \n",
      "\n",
      "process 3 continues please wait... \n",
      "execution time: 0 seconds \n",
      "process 3 continues please wait... \n",
      "execution time: 0 seconds \n",
      "process 3 continues please wait... \n",
      "execution time: 0 seconds \n",
      "\n",
      "\n",
      "execution time: 0 seconds \n",
      "\n",
      "\n",
      "process 3 continues please wait... \n",
      "execution time: 0 seconds \n",
      "\n",
      "Time taken to collect 8 iterations for 3 signatures is 0.44 seconds\n",
      "Optimization time is 0.16149449348449707 seconds\n",
      "The reconstruction error is 0.7216, average process stability is 0.43 and \n",
      "the minimum process stability is 0.34 for 3 signatures\n",
      "\n",
      "\n",
      "\n",
      "\n",
      " \n",
      "Your Job Is Successfully Completed! Thank You For Using SigProfiler Extractor.\n",
      " \n",
      "\n",
      "************** Reported Current Memory Use: 0.7 GB *****************\n",
      "\n",
      "Normalization Cutoff is : 4\n",
      "Extracting signature 1 for mutation type DINUC\n",
      "process 1 continues please wait... \n",
      "process 1 continues please wait... \n",
      "process 1 continues please wait... \n",
      "process 1 continues please wait... \n",
      "execution time: 0 seconds \n",
      "process 1 continues please wait... \n",
      "execution time: 0 seconds \n",
      "process 1 continues please wait... \n",
      "process 1 continues please wait... \n",
      "execution time: 0 seconds \n",
      "execution time: 0 seconds \n",
      "execution time: 0 seconds \n",
      "execution time: 0 seconds \n",
      "\n",
      "\n",
      "\n",
      "\n",
      "process 1 continues please wait... \n",
      "\n",
      "execution time: 0 seconds \n",
      "execution time: 0 seconds \n",
      "\n",
      "\n",
      "\n",
      "Time taken to collect 8 iterations for 1 signatures is 0.44 seconds\n",
      "Optimization time is 0.1080470085144043 seconds\n",
      "The reconstruction error is 0.9079, average process stability is 1.0 and \n",
      "the minimum process stability is 1.0 for 1 signatures\n",
      "\n",
      "\n",
      "Extracting signature 2 for mutation type DINUC\n",
      "process 2 continues please wait... \n",
      "process 2 continues please wait... \n",
      "process 2 continues please wait... \n",
      "process 2 continues please wait... \n",
      "execution time: 0 seconds \n",
      "execution time: 0 seconds \n",
      "process 2 continues please wait... \n",
      "execution time: 0 seconds \n",
      "\n",
      "execution time: 0 seconds \n",
      "process 2 continues please wait... \n",
      "\n",
      "execution time: 0 seconds \n",
      "\n",
      "\n",
      "process 2 continues please wait... \n",
      "\n",
      "execution time: 0 seconds \n",
      "execution time: 0 seconds \n",
      "\n",
      "\n",
      "process 2 continues please wait... \n",
      "execution time: 0 seconds \n",
      "\n",
      "Time taken to collect 8 iterations for 2 signatures is 0.54 seconds\n",
      "Optimization time is 0.15390491485595703 seconds\n",
      "The reconstruction error is 0.8745, average process stability is 0.4 and \n",
      "the minimum process stability is 0.38 for 2 signatures\n",
      "\n",
      "\n",
      "Extracting signature 3 for mutation type DINUC\n",
      "process 3 continues please wait... \n",
      "process 3 continues please wait... \n",
      "process 3 continues please wait... \n",
      "execution time: 0 seconds \n",
      "execution time: 0 seconds \n",
      "execution time: 0 seconds \n",
      "\n",
      "\n",
      "process 3 continues please wait... \n",
      "\n",
      "process 3 continues please wait... \n",
      "execution time: 0 seconds \n",
      "process 3 continues please wait... \n",
      "\n",
      "process 3 continues please wait... \n",
      "execution time: 0 seconds \n",
      "execution time: 0 seconds \n",
      "\n",
      "\n",
      "execution time: 0 seconds \n",
      "\n",
      "process 3 continues please wait... \n",
      "execution time: 0 seconds \n",
      "\n",
      "Time taken to collect 8 iterations for 3 signatures is 0.55 seconds\n",
      "Optimization time is 0.1504662036895752 seconds\n",
      "The reconstruction error is 0.8061, average process stability is 0.35 and \n",
      "the minimum process stability is 0.19 for 3 signatures\n",
      "\n",
      "\n",
      "\n",
      "\n",
      " \n",
      "Your Job Is Successfully Completed! Thank You For Using SigProfiler Extractor.\n",
      " \n",
      "Best: -0.054822 using {'activation': 'tanh', 'alpha': 1e-08, 'hidden_layer_sizes': (11, 11), 'solver': 'lbfgs'}\n"
     ]
    },
    {
     "data": {
      "application/vnd.plotly.v1+json": {
       "config": {
        "plotlyServerURL": "https://plot.ly"
       },
       "data": [
        {
         "alignmentgroup": "True",
         "boxpoints": "all",
         "customdata": [
          [
           "DO28004"
          ],
          [
           "DO28093"
          ],
          [
           "AOCS_005"
          ],
          [
           "AOCS_075"
          ],
          [
           "DO27978"
          ],
          [
           "SHGSOC075"
          ],
          [
           "DO29980"
          ],
          [
           "AOCS_123"
          ],
          [
           "DO30060"
          ],
          [
           "AOCS_133"
          ],
          [
           "DO31729"
          ],
          [
           "SHGSOC025"
          ],
          [
           "DO28763"
          ],
          [
           "AOCS_076"
          ],
          [
           "AOCS_056"
          ],
          [
           "SHGSOC018"
          ],
          [
           "AOCS_096"
          ],
          [
           "SHGSOC023"
          ],
          [
           "DO29850"
          ],
          [
           "AOCS_157"
          ],
          [
           "SHGSOC085"
          ],
          [
           "AOCS_061"
          ],
          [
           "SHGSOC054"
          ],
          [
           "SHGSOC037"
          ],
          [
           "AOCS_097"
          ],
          [
           "DO32646"
          ],
          [
           "AOCS_090"
          ],
          [
           "AOCS_169"
          ],
          [
           "SHGSOC027"
          ],
          [
           "DO31420"
          ],
          [
           "SHGSOC044"
          ],
          [
           "DO29970"
          ],
          [
           "DO28823"
          ],
          [
           "AOCS_111"
          ],
          [
           "SHGSOC043"
          ],
          [
           "SHGSOC006"
          ],
          [
           "DO29760"
          ],
          [
           "AOCS_080"
          ],
          [
           "DO29146"
          ],
          [
           "SHGSOC002"
          ],
          [
           "AOCS_115"
          ],
          [
           "AOCS_166"
          ],
          [
           "SHGSOC092"
          ],
          [
           "SHGSOC078"
          ],
          [
           "AOCS_113"
          ],
          [
           "SHGSOC084"
          ],
          [
           "AOCS_116"
          ],
          [
           "DO30650"
          ],
          [
           "AOCS_132"
          ],
          [
           "SHGSOC063"
          ],
          [
           "AOCS_126"
          ],
          [
           "AOCS_128"
          ],
          [
           "AOCS_107"
          ],
          [
           "SHGSOC098"
          ],
          [
           "SHGSOC095"
          ],
          [
           "SHGSOC055"
          ],
          [
           "SHGSOC015"
          ],
          [
           "SHGSOC031"
          ],
          [
           "AOCS_092"
          ],
          [
           "SHGSOC016"
          ],
          [
           "AOCS_112"
          ],
          [
           "AOCS_004"
          ],
          [
           "AOCS_160"
          ],
          [
           "SHGSOC074"
          ],
          [
           "SHGSOC012"
          ],
          [
           "AOCS_085"
          ],
          [
           "AOCS_168"
          ],
          [
           "SHGSOC058"
          ],
          [
           "AOCS_106"
          ],
          [
           "SHGSOC024"
          ],
          [
           "AOCS_164"
          ],
          [
           "AOCS_064"
          ],
          [
           "SHGSOC091"
          ],
          [
           "DO32596"
          ],
          [
           "DO29398"
          ],
          [
           "DO28233"
          ],
          [
           "SHGSOC042"
          ],
          [
           "AOCS_091"
          ],
          [
           "AOCS_055"
          ],
          [
           "SHGSOC047"
          ],
          [
           "SHGSOC062"
          ],
          [
           "SHGSOC026"
          ],
          [
           "DO30750"
          ],
          [
           "AOCS_093"
          ],
          [
           "AOCS_001"
          ],
          [
           "SHGSOC038"
          ],
          [
           "SHGSOC102"
          ],
          [
           "AOCS_125"
          ],
          [
           "SHGSOC087"
          ],
          [
           "DO28962"
          ],
          [
           "SHGSOC077"
          ],
          [
           "AOCS_094"
          ],
          [
           "AOCS_144"
          ],
          [
           "DO30090"
          ],
          [
           "SHGSOC086"
          ],
          [
           "DO31769"
          ],
          [
           "AOCS_158"
          ],
          [
           "AOCS_148"
          ],
          [
           "AOCS_114"
          ],
          [
           "SHGSOC032"
          ],
          [
           "SHGSOC048"
          ],
          [
           "AOCS_002"
          ],
          [
           "AOCS_083"
          ],
          [
           "AOCS_057"
          ]
         ],
         "fillcolor": "rgba(255,255,255,0)",
         "hoverlabel": {
          "namelength": 0
         },
         "hoveron": "points",
         "hovertemplate": "Sample type=Unknown<br>counter=%{x}<br>prediction=%{y}<br>sample=%{customdata[0]}",
         "legendgroup": "Unknown",
         "line": {
          "color": "rgba(255,255,255,0)"
         },
         "marker": {
          "color": "#636efa",
          "size": 5
         },
         "name": "Unknown",
         "offsetgroup": "Unknown",
         "orientation": "v",
         "pointpos": 0,
         "showlegend": true,
         "type": "box",
         "x": [
          0,
          1,
          4,
          6,
          9,
          10,
          11,
          12,
          13,
          18,
          20,
          21,
          24,
          27,
          29,
          30,
          32,
          34,
          35,
          36,
          38,
          39,
          41,
          43,
          44,
          45,
          52,
          55,
          56,
          57,
          58,
          60,
          61,
          62,
          63,
          65,
          66,
          69,
          70,
          73,
          74,
          75,
          77,
          79,
          80,
          81,
          82,
          83,
          84,
          88,
          91,
          95,
          99,
          100,
          102,
          103,
          105,
          106,
          107,
          108,
          111,
          112,
          113,
          114,
          115,
          118,
          122,
          124,
          125,
          127,
          131,
          133,
          134,
          135,
          136,
          137,
          138,
          139,
          140,
          141,
          142,
          143,
          150,
          155,
          157,
          158,
          159,
          160,
          162,
          163,
          164,
          165,
          166,
          169,
          170,
          171,
          174,
          175,
          178,
          180,
          181,
          183,
          184,
          185
         ],
         "x0": " ",
         "xaxis": "x",
         "y": [
          -1.8308251524696877,
          -1.8308251524696872,
          -1.0016003689962618,
          -1.000583297438018,
          -1.0001218540751247,
          -1.0001218540751247,
          -1.0001218540751244,
          -1.0001218540751244,
          -1.0001218540751244,
          -1.0001218540751244,
          -1.0001218540751244,
          -1.0001218540751244,
          -1.0001218540751244,
          -1.0001218540751242,
          -1.0001218540750925,
          -0.9999496450880726,
          -0.999949645088071,
          -0.9999496450880709,
          -0.9999496450880709,
          -0.9999496450880709,
          -0.9999496450880709,
          -0.9999496450880709,
          -0.9999496450880709,
          -0.9999496450880709,
          -0.9999496450880709,
          -0.9999496450880709,
          -0.9996757956815926,
          -0.9996757956815925,
          -0.9996757956815925,
          -0.9996757956815925,
          -0.9996757956815925,
          -0.9996757956815925,
          -0.9996757956815924,
          -0.9996757956815924,
          -0.9996757956815924,
          -0.9996757956815924,
          -0.9996757956815923,
          -0.9996757956815923,
          -0.9996757956815923,
          -0.9996757956815923,
          -0.9996757956815923,
          -0.9996757956815923,
          -0.9996757956815923,
          -0.9996757956815923,
          -0.9996757956815923,
          -0.9996757956815923,
          -0.9996757956815923,
          -0.999675795681592,
          0.4384259635332811,
          0.9991136628942716,
          0.9991136628942716,
          0.9991136628942716,
          0.9996393941318062,
          1.0003170577095837,
          1.0003170577095843,
          1.0003170577095843,
          1.0003170577095846,
          1.0003170577095846,
          1.0003170577095846,
          1.0003170577095848,
          1.0003170577095848,
          1.0003170577095848,
          1.0003170577095848,
          1.0003170577095848,
          1.0003170577095866,
          1.0003736076552021,
          1.0003736076552023,
          1.0003736076552023,
          1.0003736076552023,
          1.0003736076552023,
          1.0003736076552026,
          1.0003736076552026,
          1.0003736076552026,
          1.0003736076552026,
          1.0003736076552026,
          1.0003736076552026,
          1.0003736076552026,
          1.0003736076552026,
          1.0003736076552026,
          1.0003736076552026,
          1.0003736076552026,
          1.0003736076552026,
          1.0003736076552026,
          1.0003736076552026,
          1.0003736076552026,
          1.0003736076552026,
          1.0003736076552026,
          1.0003736076552026,
          1.0003736076552026,
          1.0003736076552026,
          1.0003736076552026,
          1.0003736076552026,
          1.0003736076552026,
          1.0003736076552026,
          1.0003736076552026,
          1.0003736076552026,
          1.0003736076552026,
          1.0003736076552026,
          1.0003736076552026,
          1.0003736076552026,
          1.0297449415794702,
          1.0297449415794704,
          1.0297449415794704,
          1.0297449415794704
         ],
         "y0": " ",
         "yaxis": "y"
        },
        {
         "alignmentgroup": "True",
         "boxpoints": "all",
         "customdata": [
          [
           "DO30550"
          ],
          [
           "AOCS_159"
          ],
          [
           "SHGSOC010"
          ],
          [
           "AOCS_170"
          ],
          [
           "SHGSOC003"
          ],
          [
           "DO28873"
          ],
          [
           "SHGSOC017"
          ],
          [
           "SHGSOC101"
          ],
          [
           "SHGSOC093"
          ],
          [
           "SHGSOC061"
          ],
          [
           "DO31551"
          ],
          [
           "SHGSOC050"
          ],
          [
           "AOCS_109"
          ],
          [
           "DO29820"
          ],
          [
           "AOCS_081"
          ],
          [
           "DO28412"
          ],
          [
           "AOCS_162"
          ],
          [
           "DO29308"
          ],
          [
           "DO28289"
          ],
          [
           "AOCS_165"
          ],
          [
           "SHGSOC045"
          ],
          [
           "AOCS_163"
          ],
          [
           "DO29940"
          ],
          [
           "SHGSOC019"
          ],
          [
           "SHGSOC081"
          ],
          [
           "SHGSOC057"
          ],
          [
           "DO28024"
          ],
          [
           "AOCS_161"
          ],
          [
           "AOCS_124"
          ],
          [
           "SHGSOC008"
          ],
          [
           "SHGSOC082"
          ],
          [
           "DO28053"
          ],
          [
           "AOCS_060"
          ],
          [
           "AOCS_059"
          ],
          [
           "DO28952"
          ],
          [
           "AOCS_084"
          ],
          [
           "AOCS_078"
          ],
          [
           "SHGSOC020"
          ],
          [
           "DO31150"
          ],
          [
           "AOCS_077"
          ]
         ],
         "fillcolor": "rgba(255,255,255,0)",
         "hoverlabel": {
          "namelength": 0
         },
         "hoveron": "points",
         "hovertemplate": "Sample type=Proficient<br>counter=%{x}<br>prediction=%{y}<br>sample=%{customdata[0]}",
         "legendgroup": "Proficient",
         "line": {
          "color": "rgba(255,255,255,0)"
         },
         "marker": {
          "color": "#EF553B",
          "size": 5
         },
         "name": "Proficient",
         "offsetgroup": "Proficient",
         "orientation": "v",
         "pointpos": 0,
         "showlegend": true,
         "type": "box",
         "x": [
          2,
          3,
          7,
          8,
          14,
          15,
          16,
          17,
          19,
          22,
          23,
          25,
          26,
          28,
          31,
          33,
          37,
          40,
          42,
          46,
          47,
          48,
          49,
          50,
          51,
          53,
          54,
          59,
          64,
          67,
          68,
          71,
          72,
          76,
          78,
          85,
          87,
          104,
          151,
          182
         ],
         "x0": " ",
         "xaxis": "x",
         "y": [
          -1.001600368996262,
          -1.0016003689962618,
          -1.0005832974380178,
          -1.0005832974380158,
          -1.0001218540751244,
          -1.0001218540751244,
          -1.0001218540751244,
          -1.0001218540751244,
          -1.0001218540751244,
          -1.0001218540751244,
          -1.0001218540751244,
          -1.0001218540751244,
          -1.0001218540751244,
          -1.0001218540751242,
          -0.9999496450880712,
          -0.9999496450880709,
          -0.9999496450880709,
          -0.9999496450880709,
          -0.9999496450880709,
          -0.9999496450880709,
          -0.9999496450880707,
          -0.9999496450880707,
          -0.9999496450880705,
          -0.9996757956815927,
          -0.9996757956815926,
          -0.9996757956815926,
          -0.9996757956815925,
          -0.9996757956815925,
          -0.9996757956815924,
          -0.9996757956815923,
          -0.9996757956815923,
          -0.9996757956815923,
          -0.9996757956815923,
          -0.9996757956815923,
          -0.9996757956815923,
          0.43842596353328134,
          0.9991136628942716,
          1.0003170577095846,
          1.0003736076552026,
          1.0297449415794702
         ],
         "y0": " ",
         "yaxis": "y"
        },
        {
         "alignmentgroup": "True",
         "boxpoints": "all",
         "customdata": [
          [
           "SHGSOC072"
          ],
          [
           "AOCS_147"
          ],
          [
           "AOCS_086"
          ],
          [
           "AOCS_108"
          ],
          [
           "DO30340"
          ],
          [
           "AOCS_079"
          ],
          [
           "SHGSOC009"
          ],
          [
           "DO28273"
          ],
          [
           "AOCS_143"
          ],
          [
           "AOCS_095"
          ],
          [
           "SHGSOC059"
          ],
          [
           "SHGSOC051"
          ],
          [
           "DO32420"
          ],
          [
           "AOCS_063"
          ],
          [
           "SHGSOC007"
          ],
          [
           "AOCS_131"
          ],
          [
           "AOCS_171"
          ],
          [
           "AOCS_058"
          ],
          [
           "AOCS_104"
          ],
          [
           "SHGSOC100"
          ],
          [
           "DO30970"
          ],
          [
           "AOCS_149"
          ],
          [
           "AOCS_105"
          ],
          [
           "DO28119"
          ],
          [
           "AOCS_065"
          ],
          [
           "AOCS_152"
          ],
          [
           "DO31869"
          ],
          [
           "DO28521"
          ],
          [
           "SHGSOC001"
          ],
          [
           "SHGSOC022"
          ],
          [
           "DO28089"
          ],
          [
           "AOCS_034"
          ],
          [
           "DO32237"
          ],
          [
           "AOCS_145"
          ],
          [
           "AOCS_153"
          ],
          [
           "AOCS_088"
          ],
          [
           "AOCS_139"
          ],
          [
           "AOCS_146"
          ],
          [
           "DO30220"
          ],
          [
           "DO32391"
          ],
          [
           "AOCS_122"
          ],
          [
           "AOCS_130"
          ]
         ],
         "fillcolor": "rgba(255,255,255,0)",
         "hoverlabel": {
          "namelength": 0
         },
         "hoveron": "points",
         "hovertemplate": "Sample type=Deficient<br>counter=%{x}<br>prediction=%{y}<br>sample=%{customdata[0]}",
         "legendgroup": "Deficient",
         "line": {
          "color": "rgba(255,255,255,0)"
         },
         "marker": {
          "color": "#00cc96",
          "size": 5
         },
         "name": "Deficient",
         "offsetgroup": "Deficient",
         "orientation": "v",
         "pointpos": 0,
         "showlegend": true,
         "type": "box",
         "x": [
          5,
          86,
          89,
          90,
          92,
          93,
          94,
          96,
          97,
          98,
          101,
          109,
          110,
          116,
          117,
          119,
          120,
          121,
          123,
          126,
          128,
          129,
          130,
          132,
          144,
          145,
          146,
          147,
          148,
          149,
          152,
          153,
          154,
          156,
          161,
          167,
          168,
          172,
          173,
          176,
          177,
          179
         ],
         "x0": " ",
         "xaxis": "x",
         "y": [
          -1.0005832974380182,
          0.9991136628942714,
          0.9991136628942716,
          0.9991136628942716,
          0.9991136628942716,
          0.9991136628942716,
          0.9991136628942716,
          0.9996393941318062,
          0.9996393941318062,
          0.9996393941318062,
          1.0003170577095843,
          1.0003170577095848,
          1.0003170577095848,
          1.0003736076552021,
          1.0003736076552021,
          1.0003736076552023,
          1.0003736076552023,
          1.0003736076552023,
          1.0003736076552023,
          1.0003736076552023,
          1.0003736076552023,
          1.0003736076552023,
          1.0003736076552026,
          1.0003736076552026,
          1.0003736076552026,
          1.0003736076552026,
          1.0003736076552026,
          1.0003736076552026,
          1.0003736076552026,
          1.0003736076552026,
          1.0003736076552026,
          1.0003736076552026,
          1.0003736076552026,
          1.0003736076552026,
          1.0003736076552026,
          1.0003736076552026,
          1.0003736076552026,
          1.0003736076552026,
          1.0003736076552026,
          1.0003736076552026,
          1.0003736076552026,
          1.0003736076552026
         ],
         "y0": " ",
         "yaxis": "y"
        },
        {
         "line": {
          "color": "orange",
          "dash": "dash",
          "width": 3
         },
         "mode": "lines",
         "name": "Margin maximization",
         "type": "scatter",
         "x": [
          0,
          185
         ],
         "y": [
          -0.00028096711509690105,
          -0.00028096711509690105
         ]
        }
       ],
       "layout": {
        "boxmode": "group",
        "legend": {
         "title": {
          "text": "Sample type"
         },
         "tracegroupgap": 0
        },
        "margin": {
         "t": 60
        },
        "template": {
         "data": {
          "bar": [
           {
            "error_x": {
             "color": "#2a3f5f"
            },
            "error_y": {
             "color": "#2a3f5f"
            },
            "marker": {
             "line": {
              "color": "#E5ECF6",
              "width": 0.5
             }
            },
            "type": "bar"
           }
          ],
          "barpolar": [
           {
            "marker": {
             "line": {
              "color": "#E5ECF6",
              "width": 0.5
             }
            },
            "type": "barpolar"
           }
          ],
          "carpet": [
           {
            "aaxis": {
             "endlinecolor": "#2a3f5f",
             "gridcolor": "white",
             "linecolor": "white",
             "minorgridcolor": "white",
             "startlinecolor": "#2a3f5f"
            },
            "baxis": {
             "endlinecolor": "#2a3f5f",
             "gridcolor": "white",
             "linecolor": "white",
             "minorgridcolor": "white",
             "startlinecolor": "#2a3f5f"
            },
            "type": "carpet"
           }
          ],
          "choropleth": [
           {
            "colorbar": {
             "outlinewidth": 0,
             "ticks": ""
            },
            "type": "choropleth"
           }
          ],
          "contour": [
           {
            "colorbar": {
             "outlinewidth": 0,
             "ticks": ""
            },
            "colorscale": [
             [
              0,
              "#0d0887"
             ],
             [
              0.1111111111111111,
              "#46039f"
             ],
             [
              0.2222222222222222,
              "#7201a8"
             ],
             [
              0.3333333333333333,
              "#9c179e"
             ],
             [
              0.4444444444444444,
              "#bd3786"
             ],
             [
              0.5555555555555556,
              "#d8576b"
             ],
             [
              0.6666666666666666,
              "#ed7953"
             ],
             [
              0.7777777777777778,
              "#fb9f3a"
             ],
             [
              0.8888888888888888,
              "#fdca26"
             ],
             [
              1,
              "#f0f921"
             ]
            ],
            "type": "contour"
           }
          ],
          "contourcarpet": [
           {
            "colorbar": {
             "outlinewidth": 0,
             "ticks": ""
            },
            "type": "contourcarpet"
           }
          ],
          "heatmap": [
           {
            "colorbar": {
             "outlinewidth": 0,
             "ticks": ""
            },
            "colorscale": [
             [
              0,
              "#0d0887"
             ],
             [
              0.1111111111111111,
              "#46039f"
             ],
             [
              0.2222222222222222,
              "#7201a8"
             ],
             [
              0.3333333333333333,
              "#9c179e"
             ],
             [
              0.4444444444444444,
              "#bd3786"
             ],
             [
              0.5555555555555556,
              "#d8576b"
             ],
             [
              0.6666666666666666,
              "#ed7953"
             ],
             [
              0.7777777777777778,
              "#fb9f3a"
             ],
             [
              0.8888888888888888,
              "#fdca26"
             ],
             [
              1,
              "#f0f921"
             ]
            ],
            "type": "heatmap"
           }
          ],
          "heatmapgl": [
           {
            "colorbar": {
             "outlinewidth": 0,
             "ticks": ""
            },
            "colorscale": [
             [
              0,
              "#0d0887"
             ],
             [
              0.1111111111111111,
              "#46039f"
             ],
             [
              0.2222222222222222,
              "#7201a8"
             ],
             [
              0.3333333333333333,
              "#9c179e"
             ],
             [
              0.4444444444444444,
              "#bd3786"
             ],
             [
              0.5555555555555556,
              "#d8576b"
             ],
             [
              0.6666666666666666,
              "#ed7953"
             ],
             [
              0.7777777777777778,
              "#fb9f3a"
             ],
             [
              0.8888888888888888,
              "#fdca26"
             ],
             [
              1,
              "#f0f921"
             ]
            ],
            "type": "heatmapgl"
           }
          ],
          "histogram": [
           {
            "marker": {
             "colorbar": {
              "outlinewidth": 0,
              "ticks": ""
             }
            },
            "type": "histogram"
           }
          ],
          "histogram2d": [
           {
            "colorbar": {
             "outlinewidth": 0,
             "ticks": ""
            },
            "colorscale": [
             [
              0,
              "#0d0887"
             ],
             [
              0.1111111111111111,
              "#46039f"
             ],
             [
              0.2222222222222222,
              "#7201a8"
             ],
             [
              0.3333333333333333,
              "#9c179e"
             ],
             [
              0.4444444444444444,
              "#bd3786"
             ],
             [
              0.5555555555555556,
              "#d8576b"
             ],
             [
              0.6666666666666666,
              "#ed7953"
             ],
             [
              0.7777777777777778,
              "#fb9f3a"
             ],
             [
              0.8888888888888888,
              "#fdca26"
             ],
             [
              1,
              "#f0f921"
             ]
            ],
            "type": "histogram2d"
           }
          ],
          "histogram2dcontour": [
           {
            "colorbar": {
             "outlinewidth": 0,
             "ticks": ""
            },
            "colorscale": [
             [
              0,
              "#0d0887"
             ],
             [
              0.1111111111111111,
              "#46039f"
             ],
             [
              0.2222222222222222,
              "#7201a8"
             ],
             [
              0.3333333333333333,
              "#9c179e"
             ],
             [
              0.4444444444444444,
              "#bd3786"
             ],
             [
              0.5555555555555556,
              "#d8576b"
             ],
             [
              0.6666666666666666,
              "#ed7953"
             ],
             [
              0.7777777777777778,
              "#fb9f3a"
             ],
             [
              0.8888888888888888,
              "#fdca26"
             ],
             [
              1,
              "#f0f921"
             ]
            ],
            "type": "histogram2dcontour"
           }
          ],
          "mesh3d": [
           {
            "colorbar": {
             "outlinewidth": 0,
             "ticks": ""
            },
            "type": "mesh3d"
           }
          ],
          "parcoords": [
           {
            "line": {
             "colorbar": {
              "outlinewidth": 0,
              "ticks": ""
             }
            },
            "type": "parcoords"
           }
          ],
          "pie": [
           {
            "automargin": true,
            "type": "pie"
           }
          ],
          "scatter": [
           {
            "marker": {
             "colorbar": {
              "outlinewidth": 0,
              "ticks": ""
             }
            },
            "type": "scatter"
           }
          ],
          "scatter3d": [
           {
            "line": {
             "colorbar": {
              "outlinewidth": 0,
              "ticks": ""
             }
            },
            "marker": {
             "colorbar": {
              "outlinewidth": 0,
              "ticks": ""
             }
            },
            "type": "scatter3d"
           }
          ],
          "scattercarpet": [
           {
            "marker": {
             "colorbar": {
              "outlinewidth": 0,
              "ticks": ""
             }
            },
            "type": "scattercarpet"
           }
          ],
          "scattergeo": [
           {
            "marker": {
             "colorbar": {
              "outlinewidth": 0,
              "ticks": ""
             }
            },
            "type": "scattergeo"
           }
          ],
          "scattergl": [
           {
            "marker": {
             "colorbar": {
              "outlinewidth": 0,
              "ticks": ""
             }
            },
            "type": "scattergl"
           }
          ],
          "scattermapbox": [
           {
            "marker": {
             "colorbar": {
              "outlinewidth": 0,
              "ticks": ""
             }
            },
            "type": "scattermapbox"
           }
          ],
          "scatterpolar": [
           {
            "marker": {
             "colorbar": {
              "outlinewidth": 0,
              "ticks": ""
             }
            },
            "type": "scatterpolar"
           }
          ],
          "scatterpolargl": [
           {
            "marker": {
             "colorbar": {
              "outlinewidth": 0,
              "ticks": ""
             }
            },
            "type": "scatterpolargl"
           }
          ],
          "scatterternary": [
           {
            "marker": {
             "colorbar": {
              "outlinewidth": 0,
              "ticks": ""
             }
            },
            "type": "scatterternary"
           }
          ],
          "surface": [
           {
            "colorbar": {
             "outlinewidth": 0,
             "ticks": ""
            },
            "colorscale": [
             [
              0,
              "#0d0887"
             ],
             [
              0.1111111111111111,
              "#46039f"
             ],
             [
              0.2222222222222222,
              "#7201a8"
             ],
             [
              0.3333333333333333,
              "#9c179e"
             ],
             [
              0.4444444444444444,
              "#bd3786"
             ],
             [
              0.5555555555555556,
              "#d8576b"
             ],
             [
              0.6666666666666666,
              "#ed7953"
             ],
             [
              0.7777777777777778,
              "#fb9f3a"
             ],
             [
              0.8888888888888888,
              "#fdca26"
             ],
             [
              1,
              "#f0f921"
             ]
            ],
            "type": "surface"
           }
          ],
          "table": [
           {
            "cells": {
             "fill": {
              "color": "#EBF0F8"
             },
             "line": {
              "color": "white"
             }
            },
            "header": {
             "fill": {
              "color": "#C8D4E3"
             },
             "line": {
              "color": "white"
             }
            },
            "type": "table"
           }
          ]
         },
         "layout": {
          "annotationdefaults": {
           "arrowcolor": "#2a3f5f",
           "arrowhead": 0,
           "arrowwidth": 1
          },
          "coloraxis": {
           "colorbar": {
            "outlinewidth": 0,
            "ticks": ""
           }
          },
          "colorscale": {
           "diverging": [
            [
             0,
             "#8e0152"
            ],
            [
             0.1,
             "#c51b7d"
            ],
            [
             0.2,
             "#de77ae"
            ],
            [
             0.3,
             "#f1b6da"
            ],
            [
             0.4,
             "#fde0ef"
            ],
            [
             0.5,
             "#f7f7f7"
            ],
            [
             0.6,
             "#e6f5d0"
            ],
            [
             0.7,
             "#b8e186"
            ],
            [
             0.8,
             "#7fbc41"
            ],
            [
             0.9,
             "#4d9221"
            ],
            [
             1,
             "#276419"
            ]
           ],
           "sequential": [
            [
             0,
             "#0d0887"
            ],
            [
             0.1111111111111111,
             "#46039f"
            ],
            [
             0.2222222222222222,
             "#7201a8"
            ],
            [
             0.3333333333333333,
             "#9c179e"
            ],
            [
             0.4444444444444444,
             "#bd3786"
            ],
            [
             0.5555555555555556,
             "#d8576b"
            ],
            [
             0.6666666666666666,
             "#ed7953"
            ],
            [
             0.7777777777777778,
             "#fb9f3a"
            ],
            [
             0.8888888888888888,
             "#fdca26"
            ],
            [
             1,
             "#f0f921"
            ]
           ],
           "sequentialminus": [
            [
             0,
             "#0d0887"
            ],
            [
             0.1111111111111111,
             "#46039f"
            ],
            [
             0.2222222222222222,
             "#7201a8"
            ],
            [
             0.3333333333333333,
             "#9c179e"
            ],
            [
             0.4444444444444444,
             "#bd3786"
            ],
            [
             0.5555555555555556,
             "#d8576b"
            ],
            [
             0.6666666666666666,
             "#ed7953"
            ],
            [
             0.7777777777777778,
             "#fb9f3a"
            ],
            [
             0.8888888888888888,
             "#fdca26"
            ],
            [
             1,
             "#f0f921"
            ]
           ]
          },
          "colorway": [
           "#636efa",
           "#EF553B",
           "#00cc96",
           "#ab63fa",
           "#FFA15A",
           "#19d3f3",
           "#FF6692",
           "#B6E880",
           "#FF97FF",
           "#FECB52"
          ],
          "font": {
           "color": "#2a3f5f"
          },
          "geo": {
           "bgcolor": "white",
           "lakecolor": "white",
           "landcolor": "#E5ECF6",
           "showlakes": true,
           "showland": true,
           "subunitcolor": "white"
          },
          "hoverlabel": {
           "align": "left"
          },
          "hovermode": "closest",
          "mapbox": {
           "style": "light"
          },
          "paper_bgcolor": "white",
          "plot_bgcolor": "#E5ECF6",
          "polar": {
           "angularaxis": {
            "gridcolor": "white",
            "linecolor": "white",
            "ticks": ""
           },
           "bgcolor": "#E5ECF6",
           "radialaxis": {
            "gridcolor": "white",
            "linecolor": "white",
            "ticks": ""
           }
          },
          "scene": {
           "xaxis": {
            "backgroundcolor": "#E5ECF6",
            "gridcolor": "white",
            "gridwidth": 2,
            "linecolor": "white",
            "showbackground": true,
            "ticks": "",
            "zerolinecolor": "white"
           },
           "yaxis": {
            "backgroundcolor": "#E5ECF6",
            "gridcolor": "white",
            "gridwidth": 2,
            "linecolor": "white",
            "showbackground": true,
            "ticks": "",
            "zerolinecolor": "white"
           },
           "zaxis": {
            "backgroundcolor": "#E5ECF6",
            "gridcolor": "white",
            "gridwidth": 2,
            "linecolor": "white",
            "showbackground": true,
            "ticks": "",
            "zerolinecolor": "white"
           }
          },
          "shapedefaults": {
           "line": {
            "color": "#2a3f5f"
           }
          },
          "ternary": {
           "aaxis": {
            "gridcolor": "white",
            "linecolor": "white",
            "ticks": ""
           },
           "baxis": {
            "gridcolor": "white",
            "linecolor": "white",
            "ticks": ""
           },
           "bgcolor": "#E5ECF6",
           "caxis": {
            "gridcolor": "white",
            "linecolor": "white",
            "ticks": ""
           }
          },
          "title": {
           "x": 0.05
          },
          "xaxis": {
           "automargin": true,
           "gridcolor": "white",
           "linecolor": "white",
           "ticks": "",
           "title": {
            "standoff": 15
           },
           "zerolinecolor": "white",
           "zerolinewidth": 2
          },
          "yaxis": {
           "automargin": true,
           "gridcolor": "white",
           "linecolor": "white",
           "ticks": "",
           "title": {
            "standoff": 15
           },
           "zerolinecolor": "white",
           "zerolinewidth": 2
          }
         }
        },
        "title": {
         "text": "MSclassifier model prediction. Model accuracy: 0.926829268292683"
        },
        "xaxis": {
         "anchor": "y",
         "domain": [
          0,
          1
         ],
         "title": {
          "text": "Samples"
         }
        },
        "yaxis": {
         "anchor": "x",
         "domain": [
          0,
          1
         ],
         "title": {
          "text": "Prediction"
         }
        }
       }
      },
      "text/html": [
       "<div>\n",
       "        \n",
       "        \n",
       "            <div id=\"487d95e4-6fa3-4e71-8b2a-f9b8ecfa9d5d\" class=\"plotly-graph-div\" style=\"height:525px; width:100%;\"></div>\n",
       "            <script type=\"text/javascript\">\n",
       "                require([\"plotly\"], function(Plotly) {\n",
       "                    window.PLOTLYENV=window.PLOTLYENV || {};\n",
       "                    \n",
       "                if (document.getElementById(\"487d95e4-6fa3-4e71-8b2a-f9b8ecfa9d5d\")) {\n",
       "                    Plotly.newPlot(\n",
       "                        '487d95e4-6fa3-4e71-8b2a-f9b8ecfa9d5d',\n",
       "                        [{\"alignmentgroup\": \"True\", \"boxpoints\": \"all\", \"customdata\": [[\"DO28004\"], [\"DO28093\"], [\"AOCS_005\"], [\"AOCS_075\"], [\"DO27978\"], [\"SHGSOC075\"], [\"DO29980\"], [\"AOCS_123\"], [\"DO30060\"], [\"AOCS_133\"], [\"DO31729\"], [\"SHGSOC025\"], [\"DO28763\"], [\"AOCS_076\"], [\"AOCS_056\"], [\"SHGSOC018\"], [\"AOCS_096\"], [\"SHGSOC023\"], [\"DO29850\"], [\"AOCS_157\"], [\"SHGSOC085\"], [\"AOCS_061\"], [\"SHGSOC054\"], [\"SHGSOC037\"], [\"AOCS_097\"], [\"DO32646\"], [\"AOCS_090\"], [\"AOCS_169\"], [\"SHGSOC027\"], [\"DO31420\"], [\"SHGSOC044\"], [\"DO29970\"], [\"DO28823\"], [\"AOCS_111\"], [\"SHGSOC043\"], [\"SHGSOC006\"], [\"DO29760\"], [\"AOCS_080\"], [\"DO29146\"], [\"SHGSOC002\"], [\"AOCS_115\"], [\"AOCS_166\"], [\"SHGSOC092\"], [\"SHGSOC078\"], [\"AOCS_113\"], [\"SHGSOC084\"], [\"AOCS_116\"], [\"DO30650\"], [\"AOCS_132\"], [\"SHGSOC063\"], [\"AOCS_126\"], [\"AOCS_128\"], [\"AOCS_107\"], [\"SHGSOC098\"], [\"SHGSOC095\"], [\"SHGSOC055\"], [\"SHGSOC015\"], [\"SHGSOC031\"], [\"AOCS_092\"], [\"SHGSOC016\"], [\"AOCS_112\"], [\"AOCS_004\"], [\"AOCS_160\"], [\"SHGSOC074\"], [\"SHGSOC012\"], [\"AOCS_085\"], [\"AOCS_168\"], [\"SHGSOC058\"], [\"AOCS_106\"], [\"SHGSOC024\"], [\"AOCS_164\"], [\"AOCS_064\"], [\"SHGSOC091\"], [\"DO32596\"], [\"DO29398\"], [\"DO28233\"], [\"SHGSOC042\"], [\"AOCS_091\"], [\"AOCS_055\"], [\"SHGSOC047\"], [\"SHGSOC062\"], [\"SHGSOC026\"], [\"DO30750\"], [\"AOCS_093\"], [\"AOCS_001\"], [\"SHGSOC038\"], [\"SHGSOC102\"], [\"AOCS_125\"], [\"SHGSOC087\"], [\"DO28962\"], [\"SHGSOC077\"], [\"AOCS_094\"], [\"AOCS_144\"], [\"DO30090\"], [\"SHGSOC086\"], [\"DO31769\"], [\"AOCS_158\"], [\"AOCS_148\"], [\"AOCS_114\"], [\"SHGSOC032\"], [\"SHGSOC048\"], [\"AOCS_002\"], [\"AOCS_083\"], [\"AOCS_057\"]], \"fillcolor\": \"rgba(255,255,255,0)\", \"hoverlabel\": {\"namelength\": 0}, \"hoveron\": \"points\", \"hovertemplate\": \"Sample type=Unknown<br>counter=%{x}<br>prediction=%{y}<br>sample=%{customdata[0]}\", \"legendgroup\": \"Unknown\", \"line\": {\"color\": \"rgba(255,255,255,0)\"}, \"marker\": {\"color\": \"#636efa\", \"size\": 5}, \"name\": \"Unknown\", \"offsetgroup\": \"Unknown\", \"orientation\": \"v\", \"pointpos\": 0, \"showlegend\": true, \"type\": \"box\", \"x\": [0, 1, 4, 6, 9, 10, 11, 12, 13, 18, 20, 21, 24, 27, 29, 30, 32, 34, 35, 36, 38, 39, 41, 43, 44, 45, 52, 55, 56, 57, 58, 60, 61, 62, 63, 65, 66, 69, 70, 73, 74, 75, 77, 79, 80, 81, 82, 83, 84, 88, 91, 95, 99, 100, 102, 103, 105, 106, 107, 108, 111, 112, 113, 114, 115, 118, 122, 124, 125, 127, 131, 133, 134, 135, 136, 137, 138, 139, 140, 141, 142, 143, 150, 155, 157, 158, 159, 160, 162, 163, 164, 165, 166, 169, 170, 171, 174, 175, 178, 180, 181, 183, 184, 185], \"x0\": \" \", \"xaxis\": \"x\", \"y\": [-1.8308251524696877, -1.8308251524696872, -1.0016003689962618, -1.000583297438018, -1.0001218540751247, -1.0001218540751247, -1.0001218540751244, -1.0001218540751244, -1.0001218540751244, -1.0001218540751244, -1.0001218540751244, -1.0001218540751244, -1.0001218540751244, -1.0001218540751242, -1.0001218540750925, -0.9999496450880726, -0.999949645088071, -0.9999496450880709, -0.9999496450880709, -0.9999496450880709, -0.9999496450880709, -0.9999496450880709, -0.9999496450880709, -0.9999496450880709, -0.9999496450880709, -0.9999496450880709, -0.9996757956815926, -0.9996757956815925, -0.9996757956815925, -0.9996757956815925, -0.9996757956815925, -0.9996757956815925, -0.9996757956815924, -0.9996757956815924, -0.9996757956815924, -0.9996757956815924, -0.9996757956815923, -0.9996757956815923, -0.9996757956815923, -0.9996757956815923, -0.9996757956815923, -0.9996757956815923, -0.9996757956815923, -0.9996757956815923, -0.9996757956815923, -0.9996757956815923, -0.9996757956815923, -0.999675795681592, 0.4384259635332811, 0.9991136628942716, 0.9991136628942716, 0.9991136628942716, 0.9996393941318062, 1.0003170577095837, 1.0003170577095843, 1.0003170577095843, 1.0003170577095846, 1.0003170577095846, 1.0003170577095846, 1.0003170577095848, 1.0003170577095848, 1.0003170577095848, 1.0003170577095848, 1.0003170577095848, 1.0003170577095866, 1.0003736076552021, 1.0003736076552023, 1.0003736076552023, 1.0003736076552023, 1.0003736076552023, 1.0003736076552026, 1.0003736076552026, 1.0003736076552026, 1.0003736076552026, 1.0003736076552026, 1.0003736076552026, 1.0003736076552026, 1.0003736076552026, 1.0003736076552026, 1.0003736076552026, 1.0003736076552026, 1.0003736076552026, 1.0003736076552026, 1.0003736076552026, 1.0003736076552026, 1.0003736076552026, 1.0003736076552026, 1.0003736076552026, 1.0003736076552026, 1.0003736076552026, 1.0003736076552026, 1.0003736076552026, 1.0003736076552026, 1.0003736076552026, 1.0003736076552026, 1.0003736076552026, 1.0003736076552026, 1.0003736076552026, 1.0003736076552026, 1.0003736076552026, 1.0297449415794702, 1.0297449415794704, 1.0297449415794704, 1.0297449415794704], \"y0\": \" \", \"yaxis\": \"y\"}, {\"alignmentgroup\": \"True\", \"boxpoints\": \"all\", \"customdata\": [[\"DO30550\"], [\"AOCS_159\"], [\"SHGSOC010\"], [\"AOCS_170\"], [\"SHGSOC003\"], [\"DO28873\"], [\"SHGSOC017\"], [\"SHGSOC101\"], [\"SHGSOC093\"], [\"SHGSOC061\"], [\"DO31551\"], [\"SHGSOC050\"], [\"AOCS_109\"], [\"DO29820\"], [\"AOCS_081\"], [\"DO28412\"], [\"AOCS_162\"], [\"DO29308\"], [\"DO28289\"], [\"AOCS_165\"], [\"SHGSOC045\"], [\"AOCS_163\"], [\"DO29940\"], [\"SHGSOC019\"], [\"SHGSOC081\"], [\"SHGSOC057\"], [\"DO28024\"], [\"AOCS_161\"], [\"AOCS_124\"], [\"SHGSOC008\"], [\"SHGSOC082\"], [\"DO28053\"], [\"AOCS_060\"], [\"AOCS_059\"], [\"DO28952\"], [\"AOCS_084\"], [\"AOCS_078\"], [\"SHGSOC020\"], [\"DO31150\"], [\"AOCS_077\"]], \"fillcolor\": \"rgba(255,255,255,0)\", \"hoverlabel\": {\"namelength\": 0}, \"hoveron\": \"points\", \"hovertemplate\": \"Sample type=Proficient<br>counter=%{x}<br>prediction=%{y}<br>sample=%{customdata[0]}\", \"legendgroup\": \"Proficient\", \"line\": {\"color\": \"rgba(255,255,255,0)\"}, \"marker\": {\"color\": \"#EF553B\", \"size\": 5}, \"name\": \"Proficient\", \"offsetgroup\": \"Proficient\", \"orientation\": \"v\", \"pointpos\": 0, \"showlegend\": true, \"type\": \"box\", \"x\": [2, 3, 7, 8, 14, 15, 16, 17, 19, 22, 23, 25, 26, 28, 31, 33, 37, 40, 42, 46, 47, 48, 49, 50, 51, 53, 54, 59, 64, 67, 68, 71, 72, 76, 78, 85, 87, 104, 151, 182], \"x0\": \" \", \"xaxis\": \"x\", \"y\": [-1.001600368996262, -1.0016003689962618, -1.0005832974380178, -1.0005832974380158, -1.0001218540751244, -1.0001218540751244, -1.0001218540751244, -1.0001218540751244, -1.0001218540751244, -1.0001218540751244, -1.0001218540751244, -1.0001218540751244, -1.0001218540751244, -1.0001218540751242, -0.9999496450880712, -0.9999496450880709, -0.9999496450880709, -0.9999496450880709, -0.9999496450880709, -0.9999496450880709, -0.9999496450880707, -0.9999496450880707, -0.9999496450880705, -0.9996757956815927, -0.9996757956815926, -0.9996757956815926, -0.9996757956815925, -0.9996757956815925, -0.9996757956815924, -0.9996757956815923, -0.9996757956815923, -0.9996757956815923, -0.9996757956815923, -0.9996757956815923, -0.9996757956815923, 0.43842596353328134, 0.9991136628942716, 1.0003170577095846, 1.0003736076552026, 1.0297449415794702], \"y0\": \" \", \"yaxis\": \"y\"}, {\"alignmentgroup\": \"True\", \"boxpoints\": \"all\", \"customdata\": [[\"SHGSOC072\"], [\"AOCS_147\"], [\"AOCS_086\"], [\"AOCS_108\"], [\"DO30340\"], [\"AOCS_079\"], [\"SHGSOC009\"], [\"DO28273\"], [\"AOCS_143\"], [\"AOCS_095\"], [\"SHGSOC059\"], [\"SHGSOC051\"], [\"DO32420\"], [\"AOCS_063\"], [\"SHGSOC007\"], [\"AOCS_131\"], [\"AOCS_171\"], [\"AOCS_058\"], [\"AOCS_104\"], [\"SHGSOC100\"], [\"DO30970\"], [\"AOCS_149\"], [\"AOCS_105\"], [\"DO28119\"], [\"AOCS_065\"], [\"AOCS_152\"], [\"DO31869\"], [\"DO28521\"], [\"SHGSOC001\"], [\"SHGSOC022\"], [\"DO28089\"], [\"AOCS_034\"], [\"DO32237\"], [\"AOCS_145\"], [\"AOCS_153\"], [\"AOCS_088\"], [\"AOCS_139\"], [\"AOCS_146\"], [\"DO30220\"], [\"DO32391\"], [\"AOCS_122\"], [\"AOCS_130\"]], \"fillcolor\": \"rgba(255,255,255,0)\", \"hoverlabel\": {\"namelength\": 0}, \"hoveron\": \"points\", \"hovertemplate\": \"Sample type=Deficient<br>counter=%{x}<br>prediction=%{y}<br>sample=%{customdata[0]}\", \"legendgroup\": \"Deficient\", \"line\": {\"color\": \"rgba(255,255,255,0)\"}, \"marker\": {\"color\": \"#00cc96\", \"size\": 5}, \"name\": \"Deficient\", \"offsetgroup\": \"Deficient\", \"orientation\": \"v\", \"pointpos\": 0, \"showlegend\": true, \"type\": \"box\", \"x\": [5, 86, 89, 90, 92, 93, 94, 96, 97, 98, 101, 109, 110, 116, 117, 119, 120, 121, 123, 126, 128, 129, 130, 132, 144, 145, 146, 147, 148, 149, 152, 153, 154, 156, 161, 167, 168, 172, 173, 176, 177, 179], \"x0\": \" \", \"xaxis\": \"x\", \"y\": [-1.0005832974380182, 0.9991136628942714, 0.9991136628942716, 0.9991136628942716, 0.9991136628942716, 0.9991136628942716, 0.9991136628942716, 0.9996393941318062, 0.9996393941318062, 0.9996393941318062, 1.0003170577095843, 1.0003170577095848, 1.0003170577095848, 1.0003736076552021, 1.0003736076552021, 1.0003736076552023, 1.0003736076552023, 1.0003736076552023, 1.0003736076552023, 1.0003736076552023, 1.0003736076552023, 1.0003736076552023, 1.0003736076552026, 1.0003736076552026, 1.0003736076552026, 1.0003736076552026, 1.0003736076552026, 1.0003736076552026, 1.0003736076552026, 1.0003736076552026, 1.0003736076552026, 1.0003736076552026, 1.0003736076552026, 1.0003736076552026, 1.0003736076552026, 1.0003736076552026, 1.0003736076552026, 1.0003736076552026, 1.0003736076552026, 1.0003736076552026, 1.0003736076552026, 1.0003736076552026], \"y0\": \" \", \"yaxis\": \"y\"}, {\"line\": {\"color\": \"orange\", \"dash\": \"dash\", \"width\": 3}, \"mode\": \"lines\", \"name\": \"Margin maximization\", \"type\": \"scatter\", \"x\": [0, 185], \"y\": [-0.00028096711509690105, -0.00028096711509690105]}],\n",
       "                        {\"boxmode\": \"group\", \"legend\": {\"title\": {\"text\": \"Sample type\"}, \"tracegroupgap\": 0}, \"margin\": {\"t\": 60}, \"template\": {\"data\": {\"bar\": [{\"error_x\": {\"color\": \"#2a3f5f\"}, \"error_y\": {\"color\": \"#2a3f5f\"}, \"marker\": {\"line\": {\"color\": \"#E5ECF6\", \"width\": 0.5}}, \"type\": \"bar\"}], \"barpolar\": [{\"marker\": {\"line\": {\"color\": \"#E5ECF6\", \"width\": 0.5}}, \"type\": \"barpolar\"}], \"carpet\": [{\"aaxis\": {\"endlinecolor\": \"#2a3f5f\", \"gridcolor\": \"white\", \"linecolor\": \"white\", \"minorgridcolor\": \"white\", \"startlinecolor\": \"#2a3f5f\"}, \"baxis\": {\"endlinecolor\": \"#2a3f5f\", \"gridcolor\": \"white\", \"linecolor\": \"white\", \"minorgridcolor\": \"white\", \"startlinecolor\": \"#2a3f5f\"}, \"type\": \"carpet\"}], \"choropleth\": [{\"colorbar\": {\"outlinewidth\": 0, \"ticks\": \"\"}, \"type\": \"choropleth\"}], \"contour\": [{\"colorbar\": {\"outlinewidth\": 0, \"ticks\": \"\"}, \"colorscale\": [[0.0, \"#0d0887\"], [0.1111111111111111, \"#46039f\"], [0.2222222222222222, \"#7201a8\"], [0.3333333333333333, \"#9c179e\"], [0.4444444444444444, \"#bd3786\"], [0.5555555555555556, \"#d8576b\"], [0.6666666666666666, \"#ed7953\"], [0.7777777777777778, \"#fb9f3a\"], [0.8888888888888888, \"#fdca26\"], [1.0, \"#f0f921\"]], \"type\": \"contour\"}], \"contourcarpet\": [{\"colorbar\": {\"outlinewidth\": 0, \"ticks\": \"\"}, \"type\": \"contourcarpet\"}], \"heatmap\": [{\"colorbar\": {\"outlinewidth\": 0, \"ticks\": \"\"}, \"colorscale\": [[0.0, \"#0d0887\"], [0.1111111111111111, \"#46039f\"], [0.2222222222222222, \"#7201a8\"], [0.3333333333333333, \"#9c179e\"], [0.4444444444444444, \"#bd3786\"], [0.5555555555555556, \"#d8576b\"], [0.6666666666666666, \"#ed7953\"], [0.7777777777777778, \"#fb9f3a\"], [0.8888888888888888, \"#fdca26\"], [1.0, \"#f0f921\"]], \"type\": \"heatmap\"}], \"heatmapgl\": [{\"colorbar\": {\"outlinewidth\": 0, \"ticks\": \"\"}, \"colorscale\": [[0.0, \"#0d0887\"], [0.1111111111111111, \"#46039f\"], [0.2222222222222222, \"#7201a8\"], [0.3333333333333333, \"#9c179e\"], [0.4444444444444444, \"#bd3786\"], [0.5555555555555556, \"#d8576b\"], [0.6666666666666666, \"#ed7953\"], [0.7777777777777778, \"#fb9f3a\"], [0.8888888888888888, \"#fdca26\"], [1.0, \"#f0f921\"]], \"type\": \"heatmapgl\"}], \"histogram\": [{\"marker\": {\"colorbar\": {\"outlinewidth\": 0, \"ticks\": \"\"}}, \"type\": \"histogram\"}], \"histogram2d\": [{\"colorbar\": {\"outlinewidth\": 0, \"ticks\": \"\"}, \"colorscale\": [[0.0, \"#0d0887\"], [0.1111111111111111, \"#46039f\"], [0.2222222222222222, \"#7201a8\"], [0.3333333333333333, \"#9c179e\"], [0.4444444444444444, \"#bd3786\"], [0.5555555555555556, \"#d8576b\"], [0.6666666666666666, \"#ed7953\"], [0.7777777777777778, \"#fb9f3a\"], [0.8888888888888888, \"#fdca26\"], [1.0, \"#f0f921\"]], \"type\": \"histogram2d\"}], \"histogram2dcontour\": [{\"colorbar\": {\"outlinewidth\": 0, \"ticks\": \"\"}, \"colorscale\": [[0.0, \"#0d0887\"], [0.1111111111111111, \"#46039f\"], [0.2222222222222222, \"#7201a8\"], [0.3333333333333333, \"#9c179e\"], [0.4444444444444444, \"#bd3786\"], [0.5555555555555556, \"#d8576b\"], [0.6666666666666666, \"#ed7953\"], [0.7777777777777778, \"#fb9f3a\"], [0.8888888888888888, \"#fdca26\"], [1.0, \"#f0f921\"]], \"type\": \"histogram2dcontour\"}], \"mesh3d\": [{\"colorbar\": {\"outlinewidth\": 0, \"ticks\": \"\"}, \"type\": \"mesh3d\"}], \"parcoords\": [{\"line\": {\"colorbar\": {\"outlinewidth\": 0, \"ticks\": \"\"}}, \"type\": \"parcoords\"}], \"pie\": [{\"automargin\": true, \"type\": \"pie\"}], \"scatter\": [{\"marker\": {\"colorbar\": {\"outlinewidth\": 0, \"ticks\": \"\"}}, \"type\": \"scatter\"}], \"scatter3d\": [{\"line\": {\"colorbar\": {\"outlinewidth\": 0, \"ticks\": \"\"}}, \"marker\": {\"colorbar\": {\"outlinewidth\": 0, \"ticks\": \"\"}}, \"type\": \"scatter3d\"}], \"scattercarpet\": [{\"marker\": {\"colorbar\": {\"outlinewidth\": 0, \"ticks\": \"\"}}, \"type\": \"scattercarpet\"}], \"scattergeo\": [{\"marker\": {\"colorbar\": {\"outlinewidth\": 0, \"ticks\": \"\"}}, \"type\": \"scattergeo\"}], \"scattergl\": [{\"marker\": {\"colorbar\": {\"outlinewidth\": 0, \"ticks\": \"\"}}, \"type\": \"scattergl\"}], \"scattermapbox\": [{\"marker\": {\"colorbar\": {\"outlinewidth\": 0, \"ticks\": \"\"}}, \"type\": \"scattermapbox\"}], \"scatterpolar\": [{\"marker\": {\"colorbar\": {\"outlinewidth\": 0, \"ticks\": \"\"}}, \"type\": \"scatterpolar\"}], \"scatterpolargl\": [{\"marker\": {\"colorbar\": {\"outlinewidth\": 0, \"ticks\": \"\"}}, \"type\": \"scatterpolargl\"}], \"scatterternary\": [{\"marker\": {\"colorbar\": {\"outlinewidth\": 0, \"ticks\": \"\"}}, \"type\": \"scatterternary\"}], \"surface\": [{\"colorbar\": {\"outlinewidth\": 0, \"ticks\": \"\"}, \"colorscale\": [[0.0, \"#0d0887\"], [0.1111111111111111, \"#46039f\"], [0.2222222222222222, \"#7201a8\"], [0.3333333333333333, \"#9c179e\"], [0.4444444444444444, \"#bd3786\"], [0.5555555555555556, \"#d8576b\"], [0.6666666666666666, \"#ed7953\"], [0.7777777777777778, \"#fb9f3a\"], [0.8888888888888888, \"#fdca26\"], [1.0, \"#f0f921\"]], \"type\": \"surface\"}], \"table\": [{\"cells\": {\"fill\": {\"color\": \"#EBF0F8\"}, \"line\": {\"color\": \"white\"}}, \"header\": {\"fill\": {\"color\": \"#C8D4E3\"}, \"line\": {\"color\": \"white\"}}, \"type\": \"table\"}]}, \"layout\": {\"annotationdefaults\": {\"arrowcolor\": \"#2a3f5f\", \"arrowhead\": 0, \"arrowwidth\": 1}, \"coloraxis\": {\"colorbar\": {\"outlinewidth\": 0, \"ticks\": \"\"}}, \"colorscale\": {\"diverging\": [[0, \"#8e0152\"], [0.1, \"#c51b7d\"], [0.2, \"#de77ae\"], [0.3, \"#f1b6da\"], [0.4, \"#fde0ef\"], [0.5, \"#f7f7f7\"], [0.6, \"#e6f5d0\"], [0.7, \"#b8e186\"], [0.8, \"#7fbc41\"], [0.9, \"#4d9221\"], [1, \"#276419\"]], \"sequential\": [[0.0, \"#0d0887\"], [0.1111111111111111, \"#46039f\"], [0.2222222222222222, \"#7201a8\"], [0.3333333333333333, \"#9c179e\"], [0.4444444444444444, \"#bd3786\"], [0.5555555555555556, \"#d8576b\"], [0.6666666666666666, \"#ed7953\"], [0.7777777777777778, \"#fb9f3a\"], [0.8888888888888888, \"#fdca26\"], [1.0, \"#f0f921\"]], \"sequentialminus\": [[0.0, \"#0d0887\"], [0.1111111111111111, \"#46039f\"], [0.2222222222222222, \"#7201a8\"], [0.3333333333333333, \"#9c179e\"], [0.4444444444444444, \"#bd3786\"], [0.5555555555555556, \"#d8576b\"], [0.6666666666666666, \"#ed7953\"], [0.7777777777777778, \"#fb9f3a\"], [0.8888888888888888, \"#fdca26\"], [1.0, \"#f0f921\"]]}, \"colorway\": [\"#636efa\", \"#EF553B\", \"#00cc96\", \"#ab63fa\", \"#FFA15A\", \"#19d3f3\", \"#FF6692\", \"#B6E880\", \"#FF97FF\", \"#FECB52\"], \"font\": {\"color\": \"#2a3f5f\"}, \"geo\": {\"bgcolor\": \"white\", \"lakecolor\": \"white\", \"landcolor\": \"#E5ECF6\", \"showlakes\": true, \"showland\": true, \"subunitcolor\": \"white\"}, \"hoverlabel\": {\"align\": \"left\"}, \"hovermode\": \"closest\", \"mapbox\": {\"style\": \"light\"}, \"paper_bgcolor\": \"white\", \"plot_bgcolor\": \"#E5ECF6\", \"polar\": {\"angularaxis\": {\"gridcolor\": \"white\", \"linecolor\": \"white\", \"ticks\": \"\"}, \"bgcolor\": \"#E5ECF6\", \"radialaxis\": {\"gridcolor\": \"white\", \"linecolor\": \"white\", \"ticks\": \"\"}}, \"scene\": {\"xaxis\": {\"backgroundcolor\": \"#E5ECF6\", \"gridcolor\": \"white\", \"gridwidth\": 2, \"linecolor\": \"white\", \"showbackground\": true, \"ticks\": \"\", \"zerolinecolor\": \"white\"}, \"yaxis\": {\"backgroundcolor\": \"#E5ECF6\", \"gridcolor\": \"white\", \"gridwidth\": 2, \"linecolor\": \"white\", \"showbackground\": true, \"ticks\": \"\", \"zerolinecolor\": \"white\"}, \"zaxis\": {\"backgroundcolor\": \"#E5ECF6\", \"gridcolor\": \"white\", \"gridwidth\": 2, \"linecolor\": \"white\", \"showbackground\": true, \"ticks\": \"\", \"zerolinecolor\": \"white\"}}, \"shapedefaults\": {\"line\": {\"color\": \"#2a3f5f\"}}, \"ternary\": {\"aaxis\": {\"gridcolor\": \"white\", \"linecolor\": \"white\", \"ticks\": \"\"}, \"baxis\": {\"gridcolor\": \"white\", \"linecolor\": \"white\", \"ticks\": \"\"}, \"bgcolor\": \"#E5ECF6\", \"caxis\": {\"gridcolor\": \"white\", \"linecolor\": \"white\", \"ticks\": \"\"}}, \"title\": {\"x\": 0.05}, \"xaxis\": {\"automargin\": true, \"gridcolor\": \"white\", \"linecolor\": \"white\", \"ticks\": \"\", \"title\": {\"standoff\": 15}, \"zerolinecolor\": \"white\", \"zerolinewidth\": 2}, \"yaxis\": {\"automargin\": true, \"gridcolor\": \"white\", \"linecolor\": \"white\", \"ticks\": \"\", \"title\": {\"standoff\": 15}, \"zerolinecolor\": \"white\", \"zerolinewidth\": 2}}}, \"title\": {\"text\": \"MSclassifier model prediction. Model accuracy: 0.926829268292683\"}, \"xaxis\": {\"anchor\": \"y\", \"domain\": [0.0, 1.0], \"title\": {\"text\": \"Samples\"}}, \"yaxis\": {\"anchor\": \"x\", \"domain\": [0.0, 1.0], \"title\": {\"text\": \"Prediction\"}}},\n",
       "                        {\"responsive\": true}\n",
       "                    ).then(function(){\n",
       "                            \n",
       "var gd = document.getElementById('487d95e4-6fa3-4e71-8b2a-f9b8ecfa9d5d');\n",
       "var x = new MutationObserver(function (mutations, observer) {{\n",
       "        var display = window.getComputedStyle(gd).display;\n",
       "        if (!display || display === 'none') {{\n",
       "            console.log([gd, 'removed!']);\n",
       "            Plotly.purge(gd);\n",
       "            observer.disconnect();\n",
       "        }}\n",
       "}});\n",
       "\n",
       "// Listen for the removal of the full notebook cells\n",
       "var notebookContainer = gd.closest('#notebook-container');\n",
       "if (notebookContainer) {{\n",
       "    x.observe(notebookContainer, {childList: true});\n",
       "}}\n",
       "\n",
       "// Listen for the clearing of the current output cell\n",
       "var outputEl = gd.closest('.output');\n",
       "if (outputEl) {{\n",
       "    x.observe(outputEl, {childList: true});\n",
       "}}\n",
       "\n",
       "                        })\n",
       "                };\n",
       "                });\n",
       "            </script>\n",
       "        </div>"
      ]
     },
     "metadata": {},
     "output_type": "display_data"
    }
   ],
   "source": [
    "import MSclassifier\n",
    "\n",
    "path='/home/elatorre/Desktop/HGSOC datasets/HGSOC VCF filtered/'\n",
    "path_proficient = path+ 'Proficient.txt'\n",
    "path_deficient = path + 'Deficient.txt'\n",
    "\n",
    "HGSOC_exome = MSclassifier.signature_classifier (vcf=path , \n",
    "                                          positive=path_deficient, \n",
    "                                          negative=path_proficient,\n",
    "                                          exome=True,\n",
    "                                          project_name='HGSOC_exome')\n",
    "HGSOC_exome.load_vcf()\n",
    "HGSOC_exome.signature_train()\n",
    "HGSOC_exome.signature_fit()\n",
    "HGSOC_exome.model_fit()\n",
    "HGSOC_exome.model_predict()\n",
    "HGSOC_exome.plot\n",
    "HGSOC_exome.plot.write_image(path+\"output/nn_exome.svg\")"
   ]
  },
  {
   "cell_type": "markdown",
   "metadata": {},
   "source": [
    "Let us test this model on the unseen cohort."
   ]
  },
  {
   "cell_type": "code",
   "execution_count": 7,
   "metadata": {},
   "outputs": [
    {
     "name": "stdout",
     "output_type": "stream",
     "text": [
      "The given input files do not appear to be in the correct vcf format. Skipping this file:  Deficient.txt\n",
      "Starting matrix generation for SNVs and DINUCs...Completed! Elapsed time: 23.42 seconds.\n",
      "Starting matrix generation for INDELs...Completed! Elapsed time: 10.55 seconds.\n",
      "Matrices generated for 60 samples with 0 errors. Total of 569691 SNVs, 6224 DINUCs, and 50558 INDELs were successfully analyzed.\n"
     ]
    }
   ],
   "source": [
    "# First we load the trained model\n",
    "saved_model = HGSOC_exome.model\n",
    "\n",
    "path_unseen_cohort='/home/elatorre/Desktop/HGSOC datasets/VCF Canadian/'\n",
    "path_deficient_unseen_cohort = path_unseen_cohort + 'Deficient.txt'\n",
    "\n",
    "unseen_cohort_exome = MSclassifier.signature_classifier (vcf=path_unseen_cohort , \n",
    "                                          positive=path_deficient_unseen_cohort,\n",
    "                                          project_name='Unseen_Cohort_Exome_HR',\n",
    "                                          exome=True,\n",
    "                                          model=saved_model # We use the saved model as input\n",
    "                                          )\n",
    "                                         \n",
    "unseen_cohort_exome.load_vcf()\n",
    "unseen_cohort_exome.signature_fit()\n",
    "unseen_cohort_exome.model_predict()\n",
    "unseen_cohort_exome.plot.show()\n",
    "unseen_cohort_exome.plot.write_image(path_unseen_cohort+\"output/cc_exome.svg\")"
   ]
  },
  {
   "cell_type": "code",
   "execution_count": 8,
   "metadata": {},
   "outputs": [
    {
     "data": {
      "application/vnd.plotly.v1+json": {
       "config": {
        "plotlyServerURL": "https://plot.ly"
       },
       "data": [
        {
         "alignmentgroup": "True",
         "boxpoints": "all",
         "customdata": [
          [
           "DG1262"
          ],
          [
           "DG1249"
          ],
          [
           "DG1234"
          ],
          [
           "DG1264"
          ],
          [
           "DAH233"
          ],
          [
           "DG1237"
          ],
          [
           "DG1229"
          ],
          [
           "DAH890"
          ],
          [
           "DG1250"
          ],
          [
           "DG1270"
          ],
          [
           "DG1245"
          ],
          [
           "DG1266"
          ],
          [
           "DG1231"
          ],
          [
           "DG1259"
          ],
          [
           "DAH228"
          ],
          [
           "DG1251"
          ],
          [
           "DAH227"
          ],
          [
           "DG1272"
          ],
          [
           "DG1263"
          ],
          [
           "DG1261"
          ],
          [
           "DAH208"
          ],
          [
           "DAH187"
          ],
          [
           "DG1269"
          ],
          [
           "DAH485"
          ],
          [
           "DG1230"
          ],
          [
           "DG1247"
          ],
          [
           "DG1265"
          ],
          [
           "DG1253"
          ],
          [
           "DG1228"
          ],
          [
           "DG1260"
          ],
          [
           "DG1274"
          ],
          [
           "DAH183"
          ],
          [
           "DG1238"
          ],
          [
           "DAH177"
          ],
          [
           "DG1256"
          ],
          [
           "DG1271"
          ],
          [
           "DG1325"
          ],
          [
           "DG1242"
          ],
          [
           "DG1243"
          ],
          [
           "DG1235"
          ],
          [
           "DAH204"
          ],
          [
           "DG1252"
          ],
          [
           "DG1275"
          ]
         ],
         "fillcolor": "rgba(255,255,255,0)",
         "hoverlabel": {
          "namelength": 0
         },
         "hoveron": "points",
         "hovertemplate": "Sample type=Unknown<br>counter=%{x}<br>prediction=%{y}<br>sample=%{customdata[0]}",
         "legendgroup": "Unknown",
         "line": {
          "color": "rgba(255,255,255,0)"
         },
         "marker": {
          "color": "#636efa",
          "size": 5
         },
         "name": "Unknown",
         "offsetgroup": "Unknown",
         "orientation": "v",
         "pointpos": 0,
         "showlegend": true,
         "type": "box",
         "x": [
          0,
          1,
          2,
          3,
          4,
          5,
          6,
          7,
          8,
          9,
          10,
          11,
          12,
          13,
          14,
          15,
          16,
          17,
          18,
          19,
          20,
          21,
          22,
          25,
          27,
          28,
          29,
          31,
          33,
          35,
          36,
          37,
          39,
          41,
          43,
          45,
          47,
          51,
          52,
          54,
          55,
          57,
          58
         ],
         "x0": " ",
         "xaxis": "x",
         "y": [
          -1.8308251524696877,
          -1.001600368996262,
          -1.001600368996262,
          -1.0016003689962618,
          -1.0016003689962616,
          -1.0016003689962614,
          -1.000583297438017,
          -1.0001218540751249,
          -1.0001218540751249,
          -1.0001218540751244,
          -1.0001218540751244,
          -0.999949645088071,
          -0.9999496450880709,
          -0.9999496450880709,
          -0.9999496450880709,
          -0.9999496450880709,
          -0.9996757956815923,
          -0.9996757956815923,
          -0.9996757956815923,
          -0.999675795681592,
          0.438425963533281,
          0.4384259635332812,
          0.43842596353328145,
          0.9991136628942716,
          0.9991136628942716,
          0.9991136628942716,
          0.9991136628942716,
          0.9991136628942716,
          0.9991136628942716,
          0.9991136628942716,
          0.9991136628942718,
          0.999639394131806,
          1.0003170577095843,
          1.0003736076552023,
          1.0003736076552023,
          1.0003736076552026,
          1.0003736076552026,
          1.0003736076552026,
          1.0003736076552026,
          1.0003736076552026,
          1.0003736076552026,
          1.0003736076552026,
          1.0297449415794704
         ],
         "y0": " ",
         "yaxis": "y"
        },
        {
         "alignmentgroup": "True",
         "boxpoints": "all",
         "customdata": [
          [
           "DG1273"
          ],
          [
           "DG1233"
          ],
          [
           "DG1232"
          ],
          [
           "DAH182"
          ],
          [
           "DG1241"
          ],
          [
           "DG1236"
          ],
          [
           "DAH219"
          ],
          [
           "DAH499"
          ],
          [
           "DAH172"
          ],
          [
           "DAH184"
          ],
          [
           "DAH168"
          ],
          [
           "DG1255"
          ],
          [
           "DAH197"
          ],
          [
           "DG1277"
          ],
          [
           "DG1276"
          ],
          [
           "DG1254"
          ]
         ],
         "fillcolor": "rgba(255,255,255,0)",
         "hoverlabel": {
          "namelength": 0
         },
         "hoveron": "points",
         "hovertemplate": "Sample type=Deficient<br>counter=%{x}<br>prediction=%{y}<br>sample=%{customdata[0]}",
         "legendgroup": "Deficient",
         "line": {
          "color": "rgba(255,255,255,0)"
         },
         "marker": {
          "color": "#EF553B",
          "size": 5
         },
         "name": "Deficient",
         "offsetgroup": "Deficient",
         "orientation": "v",
         "pointpos": 0,
         "showlegend": true,
         "type": "box",
         "x": [
          23,
          24,
          26,
          30,
          32,
          34,
          38,
          40,
          42,
          44,
          46,
          48,
          49,
          50,
          53,
          56
         ],
         "x0": " ",
         "xaxis": "x",
         "y": [
          0.9991136628942714,
          0.9991136628942716,
          0.9991136628942716,
          0.9991136628942716,
          0.9991136628942716,
          0.9991136628942716,
          0.9996393941318062,
          1.0003736076552021,
          1.0003736076552023,
          1.0003736076552026,
          1.0003736076552026,
          1.0003736076552026,
          1.0003736076552026,
          1.0003736076552026,
          1.0003736076552026,
          1.0003736076552026
         ],
         "y0": " ",
         "yaxis": "y"
        },
        {
         "line": {
          "color": "orange",
          "dash": "dash",
          "width": 3
         },
         "mode": "lines",
         "name": "Margin maximization",
         "type": "scatter",
         "x": [
          0,
          58
         ],
         "y": [
          -0.00028096711509690105,
          -0.00028096711509690105
         ]
        }
       ],
       "layout": {
        "boxmode": "group",
        "legend": {
         "title": {
          "text": "Sample type"
         },
         "tracegroupgap": 0
        },
        "margin": {
         "t": 60
        },
        "template": {
         "data": {
          "bar": [
           {
            "error_x": {
             "color": "#2a3f5f"
            },
            "error_y": {
             "color": "#2a3f5f"
            },
            "marker": {
             "line": {
              "color": "#E5ECF6",
              "width": 0.5
             }
            },
            "type": "bar"
           }
          ],
          "barpolar": [
           {
            "marker": {
             "line": {
              "color": "#E5ECF6",
              "width": 0.5
             }
            },
            "type": "barpolar"
           }
          ],
          "carpet": [
           {
            "aaxis": {
             "endlinecolor": "#2a3f5f",
             "gridcolor": "white",
             "linecolor": "white",
             "minorgridcolor": "white",
             "startlinecolor": "#2a3f5f"
            },
            "baxis": {
             "endlinecolor": "#2a3f5f",
             "gridcolor": "white",
             "linecolor": "white",
             "minorgridcolor": "white",
             "startlinecolor": "#2a3f5f"
            },
            "type": "carpet"
           }
          ],
          "choropleth": [
           {
            "colorbar": {
             "outlinewidth": 0,
             "ticks": ""
            },
            "type": "choropleth"
           }
          ],
          "contour": [
           {
            "colorbar": {
             "outlinewidth": 0,
             "ticks": ""
            },
            "colorscale": [
             [
              0,
              "#0d0887"
             ],
             [
              0.1111111111111111,
              "#46039f"
             ],
             [
              0.2222222222222222,
              "#7201a8"
             ],
             [
              0.3333333333333333,
              "#9c179e"
             ],
             [
              0.4444444444444444,
              "#bd3786"
             ],
             [
              0.5555555555555556,
              "#d8576b"
             ],
             [
              0.6666666666666666,
              "#ed7953"
             ],
             [
              0.7777777777777778,
              "#fb9f3a"
             ],
             [
              0.8888888888888888,
              "#fdca26"
             ],
             [
              1,
              "#f0f921"
             ]
            ],
            "type": "contour"
           }
          ],
          "contourcarpet": [
           {
            "colorbar": {
             "outlinewidth": 0,
             "ticks": ""
            },
            "type": "contourcarpet"
           }
          ],
          "heatmap": [
           {
            "colorbar": {
             "outlinewidth": 0,
             "ticks": ""
            },
            "colorscale": [
             [
              0,
              "#0d0887"
             ],
             [
              0.1111111111111111,
              "#46039f"
             ],
             [
              0.2222222222222222,
              "#7201a8"
             ],
             [
              0.3333333333333333,
              "#9c179e"
             ],
             [
              0.4444444444444444,
              "#bd3786"
             ],
             [
              0.5555555555555556,
              "#d8576b"
             ],
             [
              0.6666666666666666,
              "#ed7953"
             ],
             [
              0.7777777777777778,
              "#fb9f3a"
             ],
             [
              0.8888888888888888,
              "#fdca26"
             ],
             [
              1,
              "#f0f921"
             ]
            ],
            "type": "heatmap"
           }
          ],
          "heatmapgl": [
           {
            "colorbar": {
             "outlinewidth": 0,
             "ticks": ""
            },
            "colorscale": [
             [
              0,
              "#0d0887"
             ],
             [
              0.1111111111111111,
              "#46039f"
             ],
             [
              0.2222222222222222,
              "#7201a8"
             ],
             [
              0.3333333333333333,
              "#9c179e"
             ],
             [
              0.4444444444444444,
              "#bd3786"
             ],
             [
              0.5555555555555556,
              "#d8576b"
             ],
             [
              0.6666666666666666,
              "#ed7953"
             ],
             [
              0.7777777777777778,
              "#fb9f3a"
             ],
             [
              0.8888888888888888,
              "#fdca26"
             ],
             [
              1,
              "#f0f921"
             ]
            ],
            "type": "heatmapgl"
           }
          ],
          "histogram": [
           {
            "marker": {
             "colorbar": {
              "outlinewidth": 0,
              "ticks": ""
             }
            },
            "type": "histogram"
           }
          ],
          "histogram2d": [
           {
            "colorbar": {
             "outlinewidth": 0,
             "ticks": ""
            },
            "colorscale": [
             [
              0,
              "#0d0887"
             ],
             [
              0.1111111111111111,
              "#46039f"
             ],
             [
              0.2222222222222222,
              "#7201a8"
             ],
             [
              0.3333333333333333,
              "#9c179e"
             ],
             [
              0.4444444444444444,
              "#bd3786"
             ],
             [
              0.5555555555555556,
              "#d8576b"
             ],
             [
              0.6666666666666666,
              "#ed7953"
             ],
             [
              0.7777777777777778,
              "#fb9f3a"
             ],
             [
              0.8888888888888888,
              "#fdca26"
             ],
             [
              1,
              "#f0f921"
             ]
            ],
            "type": "histogram2d"
           }
          ],
          "histogram2dcontour": [
           {
            "colorbar": {
             "outlinewidth": 0,
             "ticks": ""
            },
            "colorscale": [
             [
              0,
              "#0d0887"
             ],
             [
              0.1111111111111111,
              "#46039f"
             ],
             [
              0.2222222222222222,
              "#7201a8"
             ],
             [
              0.3333333333333333,
              "#9c179e"
             ],
             [
              0.4444444444444444,
              "#bd3786"
             ],
             [
              0.5555555555555556,
              "#d8576b"
             ],
             [
              0.6666666666666666,
              "#ed7953"
             ],
             [
              0.7777777777777778,
              "#fb9f3a"
             ],
             [
              0.8888888888888888,
              "#fdca26"
             ],
             [
              1,
              "#f0f921"
             ]
            ],
            "type": "histogram2dcontour"
           }
          ],
          "mesh3d": [
           {
            "colorbar": {
             "outlinewidth": 0,
             "ticks": ""
            },
            "type": "mesh3d"
           }
          ],
          "parcoords": [
           {
            "line": {
             "colorbar": {
              "outlinewidth": 0,
              "ticks": ""
             }
            },
            "type": "parcoords"
           }
          ],
          "pie": [
           {
            "automargin": true,
            "type": "pie"
           }
          ],
          "scatter": [
           {
            "marker": {
             "colorbar": {
              "outlinewidth": 0,
              "ticks": ""
             }
            },
            "type": "scatter"
           }
          ],
          "scatter3d": [
           {
            "line": {
             "colorbar": {
              "outlinewidth": 0,
              "ticks": ""
             }
            },
            "marker": {
             "colorbar": {
              "outlinewidth": 0,
              "ticks": ""
             }
            },
            "type": "scatter3d"
           }
          ],
          "scattercarpet": [
           {
            "marker": {
             "colorbar": {
              "outlinewidth": 0,
              "ticks": ""
             }
            },
            "type": "scattercarpet"
           }
          ],
          "scattergeo": [
           {
            "marker": {
             "colorbar": {
              "outlinewidth": 0,
              "ticks": ""
             }
            },
            "type": "scattergeo"
           }
          ],
          "scattergl": [
           {
            "marker": {
             "colorbar": {
              "outlinewidth": 0,
              "ticks": ""
             }
            },
            "type": "scattergl"
           }
          ],
          "scattermapbox": [
           {
            "marker": {
             "colorbar": {
              "outlinewidth": 0,
              "ticks": ""
             }
            },
            "type": "scattermapbox"
           }
          ],
          "scatterpolar": [
           {
            "marker": {
             "colorbar": {
              "outlinewidth": 0,
              "ticks": ""
             }
            },
            "type": "scatterpolar"
           }
          ],
          "scatterpolargl": [
           {
            "marker": {
             "colorbar": {
              "outlinewidth": 0,
              "ticks": ""
             }
            },
            "type": "scatterpolargl"
           }
          ],
          "scatterternary": [
           {
            "marker": {
             "colorbar": {
              "outlinewidth": 0,
              "ticks": ""
             }
            },
            "type": "scatterternary"
           }
          ],
          "surface": [
           {
            "colorbar": {
             "outlinewidth": 0,
             "ticks": ""
            },
            "colorscale": [
             [
              0,
              "#0d0887"
             ],
             [
              0.1111111111111111,
              "#46039f"
             ],
             [
              0.2222222222222222,
              "#7201a8"
             ],
             [
              0.3333333333333333,
              "#9c179e"
             ],
             [
              0.4444444444444444,
              "#bd3786"
             ],
             [
              0.5555555555555556,
              "#d8576b"
             ],
             [
              0.6666666666666666,
              "#ed7953"
             ],
             [
              0.7777777777777778,
              "#fb9f3a"
             ],
             [
              0.8888888888888888,
              "#fdca26"
             ],
             [
              1,
              "#f0f921"
             ]
            ],
            "type": "surface"
           }
          ],
          "table": [
           {
            "cells": {
             "fill": {
              "color": "#EBF0F8"
             },
             "line": {
              "color": "white"
             }
            },
            "header": {
             "fill": {
              "color": "#C8D4E3"
             },
             "line": {
              "color": "white"
             }
            },
            "type": "table"
           }
          ]
         },
         "layout": {
          "annotationdefaults": {
           "arrowcolor": "#2a3f5f",
           "arrowhead": 0,
           "arrowwidth": 1
          },
          "coloraxis": {
           "colorbar": {
            "outlinewidth": 0,
            "ticks": ""
           }
          },
          "colorscale": {
           "diverging": [
            [
             0,
             "#8e0152"
            ],
            [
             0.1,
             "#c51b7d"
            ],
            [
             0.2,
             "#de77ae"
            ],
            [
             0.3,
             "#f1b6da"
            ],
            [
             0.4,
             "#fde0ef"
            ],
            [
             0.5,
             "#f7f7f7"
            ],
            [
             0.6,
             "#e6f5d0"
            ],
            [
             0.7,
             "#b8e186"
            ],
            [
             0.8,
             "#7fbc41"
            ],
            [
             0.9,
             "#4d9221"
            ],
            [
             1,
             "#276419"
            ]
           ],
           "sequential": [
            [
             0,
             "#0d0887"
            ],
            [
             0.1111111111111111,
             "#46039f"
            ],
            [
             0.2222222222222222,
             "#7201a8"
            ],
            [
             0.3333333333333333,
             "#9c179e"
            ],
            [
             0.4444444444444444,
             "#bd3786"
            ],
            [
             0.5555555555555556,
             "#d8576b"
            ],
            [
             0.6666666666666666,
             "#ed7953"
            ],
            [
             0.7777777777777778,
             "#fb9f3a"
            ],
            [
             0.8888888888888888,
             "#fdca26"
            ],
            [
             1,
             "#f0f921"
            ]
           ],
           "sequentialminus": [
            [
             0,
             "#0d0887"
            ],
            [
             0.1111111111111111,
             "#46039f"
            ],
            [
             0.2222222222222222,
             "#7201a8"
            ],
            [
             0.3333333333333333,
             "#9c179e"
            ],
            [
             0.4444444444444444,
             "#bd3786"
            ],
            [
             0.5555555555555556,
             "#d8576b"
            ],
            [
             0.6666666666666666,
             "#ed7953"
            ],
            [
             0.7777777777777778,
             "#fb9f3a"
            ],
            [
             0.8888888888888888,
             "#fdca26"
            ],
            [
             1,
             "#f0f921"
            ]
           ]
          },
          "colorway": [
           "#636efa",
           "#EF553B",
           "#00cc96",
           "#ab63fa",
           "#FFA15A",
           "#19d3f3",
           "#FF6692",
           "#B6E880",
           "#FF97FF",
           "#FECB52"
          ],
          "font": {
           "color": "#2a3f5f"
          },
          "geo": {
           "bgcolor": "white",
           "lakecolor": "white",
           "landcolor": "#E5ECF6",
           "showlakes": true,
           "showland": true,
           "subunitcolor": "white"
          },
          "hoverlabel": {
           "align": "left"
          },
          "hovermode": "closest",
          "mapbox": {
           "style": "light"
          },
          "paper_bgcolor": "white",
          "plot_bgcolor": "#E5ECF6",
          "polar": {
           "angularaxis": {
            "gridcolor": "white",
            "linecolor": "white",
            "ticks": ""
           },
           "bgcolor": "#E5ECF6",
           "radialaxis": {
            "gridcolor": "white",
            "linecolor": "white",
            "ticks": ""
           }
          },
          "scene": {
           "xaxis": {
            "backgroundcolor": "#E5ECF6",
            "gridcolor": "white",
            "gridwidth": 2,
            "linecolor": "white",
            "showbackground": true,
            "ticks": "",
            "zerolinecolor": "white"
           },
           "yaxis": {
            "backgroundcolor": "#E5ECF6",
            "gridcolor": "white",
            "gridwidth": 2,
            "linecolor": "white",
            "showbackground": true,
            "ticks": "",
            "zerolinecolor": "white"
           },
           "zaxis": {
            "backgroundcolor": "#E5ECF6",
            "gridcolor": "white",
            "gridwidth": 2,
            "linecolor": "white",
            "showbackground": true,
            "ticks": "",
            "zerolinecolor": "white"
           }
          },
          "shapedefaults": {
           "line": {
            "color": "#2a3f5f"
           }
          },
          "ternary": {
           "aaxis": {
            "gridcolor": "white",
            "linecolor": "white",
            "ticks": ""
           },
           "baxis": {
            "gridcolor": "white",
            "linecolor": "white",
            "ticks": ""
           },
           "bgcolor": "#E5ECF6",
           "caxis": {
            "gridcolor": "white",
            "linecolor": "white",
            "ticks": ""
           }
          },
          "title": {
           "x": 0.05
          },
          "xaxis": {
           "automargin": true,
           "gridcolor": "white",
           "linecolor": "white",
           "ticks": "",
           "title": {
            "standoff": 15
           },
           "zerolinecolor": "white",
           "zerolinewidth": 2
          },
          "yaxis": {
           "automargin": true,
           "gridcolor": "white",
           "linecolor": "white",
           "ticks": "",
           "title": {
            "standoff": 15
           },
           "zerolinecolor": "white",
           "zerolinewidth": 2
          }
         }
        },
        "title": {
         "text": "MSclassifier model prediction."
        },
        "xaxis": {
         "anchor": "y",
         "domain": [
          0,
          1
         ],
         "title": {
          "text": "Samples"
         }
        },
        "yaxis": {
         "anchor": "x",
         "domain": [
          0,
          1
         ],
         "title": {
          "text": "Prediction"
         }
        }
       }
      },
      "text/html": [
       "<div>\n",
       "        \n",
       "        \n",
       "            <div id=\"4e4a75a0-5563-4287-aa70-574cd713c29e\" class=\"plotly-graph-div\" style=\"height:525px; width:100%;\"></div>\n",
       "            <script type=\"text/javascript\">\n",
       "                require([\"plotly\"], function(Plotly) {\n",
       "                    window.PLOTLYENV=window.PLOTLYENV || {};\n",
       "                    \n",
       "                if (document.getElementById(\"4e4a75a0-5563-4287-aa70-574cd713c29e\")) {\n",
       "                    Plotly.newPlot(\n",
       "                        '4e4a75a0-5563-4287-aa70-574cd713c29e',\n",
       "                        [{\"alignmentgroup\": \"True\", \"boxpoints\": \"all\", \"customdata\": [[\"DG1262\"], [\"DG1249\"], [\"DG1234\"], [\"DG1264\"], [\"DAH233\"], [\"DG1237\"], [\"DG1229\"], [\"DAH890\"], [\"DG1250\"], [\"DG1270\"], [\"DG1245\"], [\"DG1266\"], [\"DG1231\"], [\"DG1259\"], [\"DAH228\"], [\"DG1251\"], [\"DAH227\"], [\"DG1272\"], [\"DG1263\"], [\"DG1261\"], [\"DAH208\"], [\"DAH187\"], [\"DG1269\"], [\"DAH485\"], [\"DG1230\"], [\"DG1247\"], [\"DG1265\"], [\"DG1253\"], [\"DG1228\"], [\"DG1260\"], [\"DG1274\"], [\"DAH183\"], [\"DG1238\"], [\"DAH177\"], [\"DG1256\"], [\"DG1271\"], [\"DG1325\"], [\"DG1242\"], [\"DG1243\"], [\"DG1235\"], [\"DAH204\"], [\"DG1252\"], [\"DG1275\"]], \"fillcolor\": \"rgba(255,255,255,0)\", \"hoverlabel\": {\"namelength\": 0}, \"hoveron\": \"points\", \"hovertemplate\": \"Sample type=Unknown<br>counter=%{x}<br>prediction=%{y}<br>sample=%{customdata[0]}\", \"legendgroup\": \"Unknown\", \"line\": {\"color\": \"rgba(255,255,255,0)\"}, \"marker\": {\"color\": \"#636efa\", \"size\": 5}, \"name\": \"Unknown\", \"offsetgroup\": \"Unknown\", \"orientation\": \"v\", \"pointpos\": 0, \"showlegend\": true, \"type\": \"box\", \"x\": [0, 1, 2, 3, 4, 5, 6, 7, 8, 9, 10, 11, 12, 13, 14, 15, 16, 17, 18, 19, 20, 21, 22, 25, 27, 28, 29, 31, 33, 35, 36, 37, 39, 41, 43, 45, 47, 51, 52, 54, 55, 57, 58], \"x0\": \" \", \"xaxis\": \"x\", \"y\": [-1.8308251524696877, -1.001600368996262, -1.001600368996262, -1.0016003689962618, -1.0016003689962616, -1.0016003689962614, -1.000583297438017, -1.0001218540751249, -1.0001218540751249, -1.0001218540751244, -1.0001218540751244, -0.999949645088071, -0.9999496450880709, -0.9999496450880709, -0.9999496450880709, -0.9999496450880709, -0.9996757956815923, -0.9996757956815923, -0.9996757956815923, -0.999675795681592, 0.438425963533281, 0.4384259635332812, 0.43842596353328145, 0.9991136628942716, 0.9991136628942716, 0.9991136628942716, 0.9991136628942716, 0.9991136628942716, 0.9991136628942716, 0.9991136628942716, 0.9991136628942718, 0.999639394131806, 1.0003170577095843, 1.0003736076552023, 1.0003736076552023, 1.0003736076552026, 1.0003736076552026, 1.0003736076552026, 1.0003736076552026, 1.0003736076552026, 1.0003736076552026, 1.0003736076552026, 1.0297449415794704], \"y0\": \" \", \"yaxis\": \"y\"}, {\"alignmentgroup\": \"True\", \"boxpoints\": \"all\", \"customdata\": [[\"DG1273\"], [\"DG1233\"], [\"DG1232\"], [\"DAH182\"], [\"DG1241\"], [\"DG1236\"], [\"DAH219\"], [\"DAH499\"], [\"DAH172\"], [\"DAH184\"], [\"DAH168\"], [\"DG1255\"], [\"DAH197\"], [\"DG1277\"], [\"DG1276\"], [\"DG1254\"]], \"fillcolor\": \"rgba(255,255,255,0)\", \"hoverlabel\": {\"namelength\": 0}, \"hoveron\": \"points\", \"hovertemplate\": \"Sample type=Deficient<br>counter=%{x}<br>prediction=%{y}<br>sample=%{customdata[0]}\", \"legendgroup\": \"Deficient\", \"line\": {\"color\": \"rgba(255,255,255,0)\"}, \"marker\": {\"color\": \"#EF553B\", \"size\": 5}, \"name\": \"Deficient\", \"offsetgroup\": \"Deficient\", \"orientation\": \"v\", \"pointpos\": 0, \"showlegend\": true, \"type\": \"box\", \"x\": [23, 24, 26, 30, 32, 34, 38, 40, 42, 44, 46, 48, 49, 50, 53, 56], \"x0\": \" \", \"xaxis\": \"x\", \"y\": [0.9991136628942714, 0.9991136628942716, 0.9991136628942716, 0.9991136628942716, 0.9991136628942716, 0.9991136628942716, 0.9996393941318062, 1.0003736076552021, 1.0003736076552023, 1.0003736076552026, 1.0003736076552026, 1.0003736076552026, 1.0003736076552026, 1.0003736076552026, 1.0003736076552026, 1.0003736076552026], \"y0\": \" \", \"yaxis\": \"y\"}, {\"line\": {\"color\": \"orange\", \"dash\": \"dash\", \"width\": 3}, \"mode\": \"lines\", \"name\": \"Margin maximization\", \"type\": \"scatter\", \"x\": [0, 58], \"y\": [-0.00028096711509690105, -0.00028096711509690105]}],\n",
       "                        {\"boxmode\": \"group\", \"legend\": {\"title\": {\"text\": \"Sample type\"}, \"tracegroupgap\": 0}, \"margin\": {\"t\": 60}, \"template\": {\"data\": {\"bar\": [{\"error_x\": {\"color\": \"#2a3f5f\"}, \"error_y\": {\"color\": \"#2a3f5f\"}, \"marker\": {\"line\": {\"color\": \"#E5ECF6\", \"width\": 0.5}}, \"type\": \"bar\"}], \"barpolar\": [{\"marker\": {\"line\": {\"color\": \"#E5ECF6\", \"width\": 0.5}}, \"type\": \"barpolar\"}], \"carpet\": [{\"aaxis\": {\"endlinecolor\": \"#2a3f5f\", \"gridcolor\": \"white\", \"linecolor\": \"white\", \"minorgridcolor\": \"white\", \"startlinecolor\": \"#2a3f5f\"}, \"baxis\": {\"endlinecolor\": \"#2a3f5f\", \"gridcolor\": \"white\", \"linecolor\": \"white\", \"minorgridcolor\": \"white\", \"startlinecolor\": \"#2a3f5f\"}, \"type\": \"carpet\"}], \"choropleth\": [{\"colorbar\": {\"outlinewidth\": 0, \"ticks\": \"\"}, \"type\": \"choropleth\"}], \"contour\": [{\"colorbar\": {\"outlinewidth\": 0, \"ticks\": \"\"}, \"colorscale\": [[0.0, \"#0d0887\"], [0.1111111111111111, \"#46039f\"], [0.2222222222222222, \"#7201a8\"], [0.3333333333333333, \"#9c179e\"], [0.4444444444444444, \"#bd3786\"], [0.5555555555555556, \"#d8576b\"], [0.6666666666666666, \"#ed7953\"], [0.7777777777777778, \"#fb9f3a\"], [0.8888888888888888, \"#fdca26\"], [1.0, \"#f0f921\"]], \"type\": \"contour\"}], \"contourcarpet\": [{\"colorbar\": {\"outlinewidth\": 0, \"ticks\": \"\"}, \"type\": \"contourcarpet\"}], \"heatmap\": [{\"colorbar\": {\"outlinewidth\": 0, \"ticks\": \"\"}, \"colorscale\": [[0.0, \"#0d0887\"], [0.1111111111111111, \"#46039f\"], [0.2222222222222222, \"#7201a8\"], [0.3333333333333333, \"#9c179e\"], [0.4444444444444444, \"#bd3786\"], [0.5555555555555556, \"#d8576b\"], [0.6666666666666666, \"#ed7953\"], [0.7777777777777778, \"#fb9f3a\"], [0.8888888888888888, \"#fdca26\"], [1.0, \"#f0f921\"]], \"type\": \"heatmap\"}], \"heatmapgl\": [{\"colorbar\": {\"outlinewidth\": 0, \"ticks\": \"\"}, \"colorscale\": [[0.0, \"#0d0887\"], [0.1111111111111111, \"#46039f\"], [0.2222222222222222, \"#7201a8\"], [0.3333333333333333, \"#9c179e\"], [0.4444444444444444, \"#bd3786\"], [0.5555555555555556, \"#d8576b\"], [0.6666666666666666, \"#ed7953\"], [0.7777777777777778, \"#fb9f3a\"], [0.8888888888888888, \"#fdca26\"], [1.0, \"#f0f921\"]], \"type\": \"heatmapgl\"}], \"histogram\": [{\"marker\": {\"colorbar\": {\"outlinewidth\": 0, \"ticks\": \"\"}}, \"type\": \"histogram\"}], \"histogram2d\": [{\"colorbar\": {\"outlinewidth\": 0, \"ticks\": \"\"}, \"colorscale\": [[0.0, \"#0d0887\"], [0.1111111111111111, \"#46039f\"], [0.2222222222222222, \"#7201a8\"], [0.3333333333333333, \"#9c179e\"], [0.4444444444444444, \"#bd3786\"], [0.5555555555555556, \"#d8576b\"], [0.6666666666666666, \"#ed7953\"], [0.7777777777777778, \"#fb9f3a\"], [0.8888888888888888, \"#fdca26\"], [1.0, \"#f0f921\"]], \"type\": \"histogram2d\"}], \"histogram2dcontour\": [{\"colorbar\": {\"outlinewidth\": 0, \"ticks\": \"\"}, \"colorscale\": [[0.0, \"#0d0887\"], [0.1111111111111111, \"#46039f\"], [0.2222222222222222, \"#7201a8\"], [0.3333333333333333, \"#9c179e\"], [0.4444444444444444, \"#bd3786\"], [0.5555555555555556, \"#d8576b\"], [0.6666666666666666, \"#ed7953\"], [0.7777777777777778, \"#fb9f3a\"], [0.8888888888888888, \"#fdca26\"], [1.0, \"#f0f921\"]], \"type\": \"histogram2dcontour\"}], \"mesh3d\": [{\"colorbar\": {\"outlinewidth\": 0, \"ticks\": \"\"}, \"type\": \"mesh3d\"}], \"parcoords\": [{\"line\": {\"colorbar\": {\"outlinewidth\": 0, \"ticks\": \"\"}}, \"type\": \"parcoords\"}], \"pie\": [{\"automargin\": true, \"type\": \"pie\"}], \"scatter\": [{\"marker\": {\"colorbar\": {\"outlinewidth\": 0, \"ticks\": \"\"}}, \"type\": \"scatter\"}], \"scatter3d\": [{\"line\": {\"colorbar\": {\"outlinewidth\": 0, \"ticks\": \"\"}}, \"marker\": {\"colorbar\": {\"outlinewidth\": 0, \"ticks\": \"\"}}, \"type\": \"scatter3d\"}], \"scattercarpet\": [{\"marker\": {\"colorbar\": {\"outlinewidth\": 0, \"ticks\": \"\"}}, \"type\": \"scattercarpet\"}], \"scattergeo\": [{\"marker\": {\"colorbar\": {\"outlinewidth\": 0, \"ticks\": \"\"}}, \"type\": \"scattergeo\"}], \"scattergl\": [{\"marker\": {\"colorbar\": {\"outlinewidth\": 0, \"ticks\": \"\"}}, \"type\": \"scattergl\"}], \"scattermapbox\": [{\"marker\": {\"colorbar\": {\"outlinewidth\": 0, \"ticks\": \"\"}}, \"type\": \"scattermapbox\"}], \"scatterpolar\": [{\"marker\": {\"colorbar\": {\"outlinewidth\": 0, \"ticks\": \"\"}}, \"type\": \"scatterpolar\"}], \"scatterpolargl\": [{\"marker\": {\"colorbar\": {\"outlinewidth\": 0, \"ticks\": \"\"}}, \"type\": \"scatterpolargl\"}], \"scatterternary\": [{\"marker\": {\"colorbar\": {\"outlinewidth\": 0, \"ticks\": \"\"}}, \"type\": \"scatterternary\"}], \"surface\": [{\"colorbar\": {\"outlinewidth\": 0, \"ticks\": \"\"}, \"colorscale\": [[0.0, \"#0d0887\"], [0.1111111111111111, \"#46039f\"], [0.2222222222222222, \"#7201a8\"], [0.3333333333333333, \"#9c179e\"], [0.4444444444444444, \"#bd3786\"], [0.5555555555555556, \"#d8576b\"], [0.6666666666666666, \"#ed7953\"], [0.7777777777777778, \"#fb9f3a\"], [0.8888888888888888, \"#fdca26\"], [1.0, \"#f0f921\"]], \"type\": \"surface\"}], \"table\": [{\"cells\": {\"fill\": {\"color\": \"#EBF0F8\"}, \"line\": {\"color\": \"white\"}}, \"header\": {\"fill\": {\"color\": \"#C8D4E3\"}, \"line\": {\"color\": \"white\"}}, \"type\": \"table\"}]}, \"layout\": {\"annotationdefaults\": {\"arrowcolor\": \"#2a3f5f\", \"arrowhead\": 0, \"arrowwidth\": 1}, \"coloraxis\": {\"colorbar\": {\"outlinewidth\": 0, \"ticks\": \"\"}}, \"colorscale\": {\"diverging\": [[0, \"#8e0152\"], [0.1, \"#c51b7d\"], [0.2, \"#de77ae\"], [0.3, \"#f1b6da\"], [0.4, \"#fde0ef\"], [0.5, \"#f7f7f7\"], [0.6, \"#e6f5d0\"], [0.7, \"#b8e186\"], [0.8, \"#7fbc41\"], [0.9, \"#4d9221\"], [1, \"#276419\"]], \"sequential\": [[0.0, \"#0d0887\"], [0.1111111111111111, \"#46039f\"], [0.2222222222222222, \"#7201a8\"], [0.3333333333333333, \"#9c179e\"], [0.4444444444444444, \"#bd3786\"], [0.5555555555555556, \"#d8576b\"], [0.6666666666666666, \"#ed7953\"], [0.7777777777777778, \"#fb9f3a\"], [0.8888888888888888, \"#fdca26\"], [1.0, \"#f0f921\"]], \"sequentialminus\": [[0.0, \"#0d0887\"], [0.1111111111111111, \"#46039f\"], [0.2222222222222222, \"#7201a8\"], [0.3333333333333333, \"#9c179e\"], [0.4444444444444444, \"#bd3786\"], [0.5555555555555556, \"#d8576b\"], [0.6666666666666666, \"#ed7953\"], [0.7777777777777778, \"#fb9f3a\"], [0.8888888888888888, \"#fdca26\"], [1.0, \"#f0f921\"]]}, \"colorway\": [\"#636efa\", \"#EF553B\", \"#00cc96\", \"#ab63fa\", \"#FFA15A\", \"#19d3f3\", \"#FF6692\", \"#B6E880\", \"#FF97FF\", \"#FECB52\"], \"font\": {\"color\": \"#2a3f5f\"}, \"geo\": {\"bgcolor\": \"white\", \"lakecolor\": \"white\", \"landcolor\": \"#E5ECF6\", \"showlakes\": true, \"showland\": true, \"subunitcolor\": \"white\"}, \"hoverlabel\": {\"align\": \"left\"}, \"hovermode\": \"closest\", \"mapbox\": {\"style\": \"light\"}, \"paper_bgcolor\": \"white\", \"plot_bgcolor\": \"#E5ECF6\", \"polar\": {\"angularaxis\": {\"gridcolor\": \"white\", \"linecolor\": \"white\", \"ticks\": \"\"}, \"bgcolor\": \"#E5ECF6\", \"radialaxis\": {\"gridcolor\": \"white\", \"linecolor\": \"white\", \"ticks\": \"\"}}, \"scene\": {\"xaxis\": {\"backgroundcolor\": \"#E5ECF6\", \"gridcolor\": \"white\", \"gridwidth\": 2, \"linecolor\": \"white\", \"showbackground\": true, \"ticks\": \"\", \"zerolinecolor\": \"white\"}, \"yaxis\": {\"backgroundcolor\": \"#E5ECF6\", \"gridcolor\": \"white\", \"gridwidth\": 2, \"linecolor\": \"white\", \"showbackground\": true, \"ticks\": \"\", \"zerolinecolor\": \"white\"}, \"zaxis\": {\"backgroundcolor\": \"#E5ECF6\", \"gridcolor\": \"white\", \"gridwidth\": 2, \"linecolor\": \"white\", \"showbackground\": true, \"ticks\": \"\", \"zerolinecolor\": \"white\"}}, \"shapedefaults\": {\"line\": {\"color\": \"#2a3f5f\"}}, \"ternary\": {\"aaxis\": {\"gridcolor\": \"white\", \"linecolor\": \"white\", \"ticks\": \"\"}, \"baxis\": {\"gridcolor\": \"white\", \"linecolor\": \"white\", \"ticks\": \"\"}, \"bgcolor\": \"#E5ECF6\", \"caxis\": {\"gridcolor\": \"white\", \"linecolor\": \"white\", \"ticks\": \"\"}}, \"title\": {\"x\": 0.05}, \"xaxis\": {\"automargin\": true, \"gridcolor\": \"white\", \"linecolor\": \"white\", \"ticks\": \"\", \"title\": {\"standoff\": 15}, \"zerolinecolor\": \"white\", \"zerolinewidth\": 2}, \"yaxis\": {\"automargin\": true, \"gridcolor\": \"white\", \"linecolor\": \"white\", \"ticks\": \"\", \"title\": {\"standoff\": 15}, \"zerolinecolor\": \"white\", \"zerolinewidth\": 2}}}, \"title\": {\"text\": \"MSclassifier model prediction.\"}, \"xaxis\": {\"anchor\": \"y\", \"domain\": [0.0, 1.0], \"title\": {\"text\": \"Samples\"}}, \"yaxis\": {\"anchor\": \"x\", \"domain\": [0.0, 1.0], \"title\": {\"text\": \"Prediction\"}}},\n",
       "                        {\"responsive\": true}\n",
       "                    ).then(function(){\n",
       "                            \n",
       "var gd = document.getElementById('4e4a75a0-5563-4287-aa70-574cd713c29e');\n",
       "var x = new MutationObserver(function (mutations, observer) {{\n",
       "        var display = window.getComputedStyle(gd).display;\n",
       "        if (!display || display === 'none') {{\n",
       "            console.log([gd, 'removed!']);\n",
       "            Plotly.purge(gd);\n",
       "            observer.disconnect();\n",
       "        }}\n",
       "}});\n",
       "\n",
       "// Listen for the removal of the full notebook cells\n",
       "var notebookContainer = gd.closest('#notebook-container');\n",
       "if (notebookContainer) {{\n",
       "    x.observe(notebookContainer, {childList: true});\n",
       "}}\n",
       "\n",
       "// Listen for the clearing of the current output cell\n",
       "var outputEl = gd.closest('.output');\n",
       "if (outputEl) {{\n",
       "    x.observe(outputEl, {childList: true});\n",
       "}}\n",
       "\n",
       "                        })\n",
       "                };\n",
       "                });\n",
       "            </script>\n",
       "        </div>"
      ]
     },
     "metadata": {},
     "output_type": "display_data"
    }
   ],
   "source": [
    "unseen_cohort_exome.plot"
   ]
  }
 ],
 "metadata": {
  "kernelspec": {
   "display_name": "Python 3",
   "language": "python",
   "name": "python3"
  },
  "language_info": {
   "codemirror_mode": {
    "name": "ipython",
    "version": 3
   },
   "file_extension": ".py",
   "mimetype": "text/x-python",
   "name": "python",
   "nbconvert_exporter": "python",
   "pygments_lexer": "ipython3",
   "version": "3.7.4"
  }
 },
 "nbformat": 4,
 "nbformat_minor": 2
}
